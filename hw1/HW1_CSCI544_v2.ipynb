{
  "cells": [
    {
      "cell_type": "markdown",
      "metadata": {
        "colab_type": "text",
        "id": "view-in-github"
      },
      "source": [
        "<a href=\"https://colab.research.google.com/github/KayvanShah1/usc-csci-544-assignments-hw/blob/main/hw1/HW1_CSCI544_v2.ipynb\" target=\"_parent\"><img src=\"https://colab.research.google.com/assets/colab-badge.svg\" alt=\"Open In Colab\"/></a>"
      ]
    },
    {
      "cell_type": "markdown",
      "metadata": {
        "id": "5wMrhc8a_EjX"
      },
      "source": [
        "# Dependencies"
      ]
    },
    {
      "cell_type": "markdown",
      "metadata": {
        "id": "ChxDjnRnEJTa"
      },
      "source": [
        "## Install"
      ]
    },
    {
      "cell_type": "code",
      "execution_count": 1,
      "metadata": {
        "colab": {
          "base_uri": "https://localhost:8080/"
        },
        "id": "s0OaIevOB4ey",
        "outputId": "6c116235-96ed-4e1b-bce5-9c1bab4dd8e0"
      },
      "outputs": [
        {
          "name": "stdout",
          "output_type": "stream",
          "text": [
            "Collecting contractions\n",
            "  Downloading contractions-0.1.73-py2.py3-none-any.whl (8.7 kB)\n",
            "Collecting textsearch>=0.0.21 (from contractions)\n",
            "  Downloading textsearch-0.0.24-py2.py3-none-any.whl (7.6 kB)\n",
            "Collecting anyascii (from textsearch>=0.0.21->contractions)\n",
            "  Downloading anyascii-0.3.2-py3-none-any.whl (289 kB)\n",
            "\u001b[2K     \u001b[90m━━━━━━━━━━━━━━━━━━━━━━━━━━━━━━━━━━━━━━━\u001b[0m \u001b[32m289.9/289.9 kB\u001b[0m \u001b[31m3.9 MB/s\u001b[0m eta \u001b[36m0:00:00\u001b[0m\n",
            "\u001b[?25hCollecting pyahocorasick (from textsearch>=0.0.21->contractions)\n",
            "  Downloading pyahocorasick-2.0.0-cp310-cp310-manylinux_2_5_x86_64.manylinux1_x86_64.manylinux_2_12_x86_64.manylinux2010_x86_64.whl (110 kB)\n",
            "\u001b[2K     \u001b[90m━━━━━━━━━━━━━━━━━━━━━━━━━━━━━━━━━━━━━━━\u001b[0m \u001b[32m110.8/110.8 kB\u001b[0m \u001b[31m5.1 MB/s\u001b[0m eta \u001b[36m0:00:00\u001b[0m\n",
            "\u001b[?25hInstalling collected packages: pyahocorasick, anyascii, textsearch, contractions\n",
            "Successfully installed anyascii-0.3.2 contractions-0.1.73 pyahocorasick-2.0.0 textsearch-0.0.24\n",
            "Collecting ipython-autotime\n",
            "  Downloading ipython_autotime-0.3.1-py2.py3-none-any.whl (6.8 kB)\n",
            "Requirement already satisfied: ipython in /usr/local/lib/python3.10/dist-packages (from ipython-autotime) (7.34.0)\n",
            "Requirement already satisfied: setuptools>=18.5 in /usr/local/lib/python3.10/dist-packages (from ipython->ipython-autotime) (67.7.2)\n",
            "Collecting jedi>=0.16 (from ipython->ipython-autotime)\n",
            "  Downloading jedi-0.19.0-py2.py3-none-any.whl (1.6 MB)\n",
            "\u001b[2K     \u001b[90m━━━━━━━━━━━━━━━━━━━━━━━━━━━━━━━━━━━━━━━━\u001b[0m \u001b[32m1.6/1.6 MB\u001b[0m \u001b[31m17.8 MB/s\u001b[0m eta \u001b[36m0:00:00\u001b[0m\n",
            "\u001b[?25hRequirement already satisfied: decorator in /usr/local/lib/python3.10/dist-packages (from ipython->ipython-autotime) (4.4.2)\n",
            "Requirement already satisfied: pickleshare in /usr/local/lib/python3.10/dist-packages (from ipython->ipython-autotime) (0.7.5)\n",
            "Requirement already satisfied: traitlets>=4.2 in /usr/local/lib/python3.10/dist-packages (from ipython->ipython-autotime) (5.7.1)\n",
            "Requirement already satisfied: prompt-toolkit!=3.0.0,!=3.0.1,<3.1.0,>=2.0.0 in /usr/local/lib/python3.10/dist-packages (from ipython->ipython-autotime) (3.0.39)\n",
            "Requirement already satisfied: pygments in /usr/local/lib/python3.10/dist-packages (from ipython->ipython-autotime) (2.16.1)\n",
            "Requirement already satisfied: backcall in /usr/local/lib/python3.10/dist-packages (from ipython->ipython-autotime) (0.2.0)\n",
            "Requirement already satisfied: matplotlib-inline in /usr/local/lib/python3.10/dist-packages (from ipython->ipython-autotime) (0.1.6)\n",
            "Requirement already satisfied: pexpect>4.3 in /usr/local/lib/python3.10/dist-packages (from ipython->ipython-autotime) (4.8.0)\n",
            "Requirement already satisfied: parso<0.9.0,>=0.8.3 in /usr/local/lib/python3.10/dist-packages (from jedi>=0.16->ipython->ipython-autotime) (0.8.3)\n",
            "Requirement already satisfied: ptyprocess>=0.5 in /usr/local/lib/python3.10/dist-packages (from pexpect>4.3->ipython->ipython-autotime) (0.7.0)\n",
            "Requirement already satisfied: wcwidth in /usr/local/lib/python3.10/dist-packages (from prompt-toolkit!=3.0.0,!=3.0.1,<3.1.0,>=2.0.0->ipython->ipython-autotime) (0.2.6)\n",
            "Installing collected packages: jedi, ipython-autotime\n",
            "Successfully installed ipython-autotime-0.3.1 jedi-0.19.0\n"
          ]
        }
      ],
      "source": [
        "!pip install contractions\n",
        "!pip install ipython-autotime"
      ]
    },
    {
      "cell_type": "markdown",
      "metadata": {
        "id": "B-sgJC0wEGqF"
      },
      "source": [
        "## Imports"
      ]
    },
    {
      "cell_type": "code",
      "execution_count": 2,
      "metadata": {
        "colab": {
          "base_uri": "https://localhost:8080/"
        },
        "id": "a7kG4_ic-tfe",
        "outputId": "875ee343-f008-41d0-e5b7-91a7239b73e2"
      },
      "outputs": [
        {
          "name": "stderr",
          "output_type": "stream",
          "text": [
            "[nltk_data] Downloading package punkt to /root/nltk_data...\n",
            "[nltk_data]   Unzipping tokenizers/punkt.zip.\n",
            "[nltk_data] Downloading package wordnet to /root/nltk_data...\n",
            "[nltk_data] Downloading package stopwords to /root/nltk_data...\n",
            "[nltk_data]   Unzipping corpora/stopwords.zip.\n",
            "[nltk_data] Downloading package averaged_perceptron_tagger to\n",
            "[nltk_data]     /root/nltk_data...\n"
          ]
        },
        {
          "name": "stdout",
          "output_type": "stream",
          "text": [
            "time: 602 µs (started: 2023-09-18 04:58:29 +00:00)\n"
          ]
        },
        {
          "name": "stderr",
          "output_type": "stream",
          "text": [
            "[nltk_data]   Unzipping taggers/averaged_perceptron_tagger.zip.\n"
          ]
        }
      ],
      "source": [
        "import os\n",
        "import re\n",
        "import unicodedata\n",
        "\n",
        "import warnings\n",
        "warnings.filterwarnings(\"ignore\")\n",
        "\n",
        "import numpy as np\n",
        "import pandas as pd\n",
        "\n",
        "import nltk\n",
        "from nltk.corpus import stopwords, wordnet\n",
        "from nltk.stem import WordNetLemmatizer\n",
        "from nltk.tokenize import word_tokenize\n",
        "\n",
        "nltk.download('punkt')\n",
        "nltk.download('wordnet')\n",
        "nltk.download('stopwords')\n",
        "nltk.download('averaged_perceptron_tagger')\n",
        "\n",
        "import contractions\n",
        "\n",
        "from sklearn.model_selection import train_test_split\n",
        "from sklearn.feature_extraction.text import TfidfVectorizer, CountVectorizer\n",
        "from sklearn.metrics import precision_score, recall_score, f1_score\n",
        "\n",
        "from sklearn.linear_model import Perceptron, LogisticRegression\n",
        "from sklearn.svm import SVC, LinearSVC\n",
        "from sklearn.naive_bayes import MultinomialNB\n",
        "\n",
        "from sklearn.experimental import enable_halving_search_cv\n",
        "from sklearn.model_selection import HalvingGridSearchCV, GridSearchCV\n",
        "\n",
        "%load_ext autotime"
      ]
    },
    {
      "cell_type": "markdown",
      "metadata": {
        "id": "m5bunBbN_NWF"
      },
      "source": [
        "# Dataset Preparation"
      ]
    },
    {
      "cell_type": "code",
      "execution_count": 3,
      "metadata": {
        "colab": {
          "base_uri": "https://localhost:8080/"
        },
        "id": "wDO0dLPX-3qC",
        "outputId": "5c48e1c0-3474-4c41-edde-3fe425db8f86"
      },
      "outputs": [
        {
          "name": "stdout",
          "output_type": "stream",
          "text": [
            "time: 903 µs (started: 2023-09-18 04:58:29 +00:00)\n"
          ]
        }
      ],
      "source": [
        "class Config:\n",
        "    RANDOM_STATE = 56\n",
        "    DATA_PATH = \"amazon_reviews_us_Office_Products_v1_00.tsv.gz\"\n",
        "    TEST_SPLIT = 0.2\n",
        "    N_SAMPLES_EACH_CLASS = 50000\n",
        "    NUM_TFIDF_FEATURES = 5000\n",
        "    NUM_BOW_FEATURES = 8000"
      ]
    },
    {
      "cell_type": "markdown",
      "metadata": {
        "id": "F0UfsDPP_KNO"
      },
      "source": [
        "## Download Data"
      ]
    },
    {
      "cell_type": "code",
      "execution_count": 4,
      "metadata": {
        "colab": {
          "base_uri": "https://localhost:8080/"
        },
        "id": "7pOGvlUSCVA-",
        "outputId": "61084716-6db7-4ca0-afb6-efcaaea71865"
      },
      "outputs": [
        {
          "name": "stdout",
          "output_type": "stream",
          "text": [
            "time: 422 µs (started: 2023-09-18 04:58:29 +00:00)\n"
          ]
        }
      ],
      "source": [
        "# %%bash\n",
        "# cd \"/content/drive/MyDrive/Colab Notebooks/CSCI544/HW1\"\n",
        "# curl -o amazon_reviews_us_Office_Products_v1_00.tsv.gz \\\n",
        "# https://web.archive.org/web/20201127142707if_/https://s3.amazonaws.com/amazon-reviews-pds/tsv/amazon_reviews_us_Office_Products_v1_00.tsv.gz"
      ]
    },
    {
      "cell_type": "markdown",
      "metadata": {
        "id": "NlOdEAjv_evb"
      },
      "source": [
        "## Read Data\n",
        "\n",
        "- `sep='\\t'`: Values in the TSV file are separated by tabs\n",
        "\n",
        "- `on_bad_lines=\"skip\"`: Skip any lines in the file that are improperly formatted or contain errors.\n",
        "\n",
        "- `memory_map=True`: Maps the file obj directly to memory for direct access improving performance for large files\n",
        "\n",
        "- `nrows=10`: Limits the number of rows to read from the file to 10.\n",
        "\n",
        "- `usecols=[\"review_headline\",\"review_body\", \"star_rating\"]`: Only select subset of columns to read - faster parsing time and low memory usage."
      ]
    },
    {
      "cell_type": "code",
      "execution_count": 5,
      "metadata": {
        "colab": {
          "base_uri": "https://localhost:8080/"
        },
        "id": "NWJ4tOY0b2J9",
        "outputId": "54e24c5b-6bdc-4160-8b28-eab175cb52e1"
      },
      "outputs": [
        {
          "name": "stdout",
          "output_type": "stream",
          "text": [
            "time: 197 ms (started: 2023-09-18 04:58:29 +00:00)\n"
          ]
        }
      ],
      "source": [
        "os.chdir(\"/content/drive/MyDrive/Colab Notebooks/CSCI544/HW1\")"
      ]
    },
    {
      "cell_type": "markdown",
      "metadata": {
        "id": "WwwU37tzcNxI"
      },
      "source": [
        "Have quick look at dataset by reading 10 rows to get the column names\n",
        "\n"
      ]
    },
    {
      "cell_type": "code",
      "execution_count": 6,
      "metadata": {
        "colab": {
          "base_uri": "https://localhost:8080/"
        },
        "id": "n6mZZWGgb5Xy",
        "outputId": "14ab757f-105b-4bfb-c802-2d93276aea3d"
      },
      "outputs": [
        {
          "data": {
            "text/plain": [
              "Index(['marketplace', 'customer_id', 'review_id', 'product_id',\n",
              "       'product_parent', 'product_title', 'product_category', 'star_rating',\n",
              "       'helpful_votes', 'total_votes', 'vine', 'verified_purchase',\n",
              "       'review_headline', 'review_body', 'review_date'],\n",
              "      dtype='object')"
            ]
          },
          "execution_count": 6,
          "metadata": {},
          "output_type": "execute_result"
        },
        {
          "name": "stdout",
          "output_type": "stream",
          "text": [
            "time: 831 ms (started: 2023-09-18 04:58:30 +00:00)\n"
          ]
        }
      ],
      "source": [
        "df_small = pd.read_csv(\n",
        "    Config.DATA_PATH,\n",
        "    sep='\\t',\n",
        "    on_bad_lines=\"skip\",\n",
        "    memory_map=True,\n",
        "    nrows=10\n",
        ")\n",
        "df_small.columns"
      ]
    },
    {
      "cell_type": "code",
      "execution_count": 7,
      "metadata": {
        "colab": {
          "base_uri": "https://localhost:8080/"
        },
        "id": "XKQq3q4lgJDZ",
        "outputId": "4c7a42b9-7fe8-4097-c15a-8518126b4071"
      },
      "outputs": [
        {
          "name": "stdout",
          "output_type": "stream",
          "text": [
            "time: 661 µs (started: 2023-09-18 04:58:30 +00:00)\n"
          ]
        }
      ],
      "source": [
        "del df_small"
      ]
    },
    {
      "cell_type": "markdown",
      "metadata": {
        "id": "itlPYt2BefKs"
      },
      "source": [
        "Read the entire data"
      ]
    },
    {
      "cell_type": "code",
      "execution_count": 8,
      "metadata": {
        "colab": {
          "base_uri": "https://localhost:8080/"
        },
        "id": "VJJ13X48Dhtk",
        "outputId": "51ab4b6c-e86a-4bf5-e017-01ec6bab8c80"
      },
      "outputs": [
        {
          "name": "stdout",
          "output_type": "stream",
          "text": [
            "time: 49.9 s (started: 2023-09-18 04:58:30 +00:00)\n"
          ]
        }
      ],
      "source": [
        "df = pd.read_csv(\n",
        "    Config.DATA_PATH,\n",
        "    sep='\\t',\n",
        "    usecols=[\"review_headline\",\"review_body\", \"star_rating\"],\n",
        "    on_bad_lines=\"skip\",\n",
        "    memory_map=True,\n",
        ")"
      ]
    },
    {
      "cell_type": "code",
      "execution_count": 9,
      "metadata": {
        "colab": {
          "base_uri": "https://localhost:8080/",
          "height": 0
        },
        "id": "XU42fEGNbtgK",
        "outputId": "492a475a-ad96-42ce-8f39-9ee2179b5548"
      },
      "outputs": [
        {
          "data": {
            "text/html": [
              "\n",
              "  <div id=\"df-a554a742-357f-4985-a9c7-8266c61c36b0\" class=\"colab-df-container\">\n",
              "    <div>\n",
              "<style scoped>\n",
              "    .dataframe tbody tr th:only-of-type {\n",
              "        vertical-align: middle;\n",
              "    }\n",
              "\n",
              "    .dataframe tbody tr th {\n",
              "        vertical-align: top;\n",
              "    }\n",
              "\n",
              "    .dataframe thead th {\n",
              "        text-align: right;\n",
              "    }\n",
              "</style>\n",
              "<table border=\"1\" class=\"dataframe\">\n",
              "  <thead>\n",
              "    <tr style=\"text-align: right;\">\n",
              "      <th></th>\n",
              "      <th>star_rating</th>\n",
              "      <th>review_headline</th>\n",
              "      <th>review_body</th>\n",
              "    </tr>\n",
              "  </thead>\n",
              "  <tbody>\n",
              "    <tr>\n",
              "      <th>0</th>\n",
              "      <td>5</td>\n",
              "      <td>Five Stars</td>\n",
              "      <td>Great product.</td>\n",
              "    </tr>\n",
              "    <tr>\n",
              "      <th>1</th>\n",
              "      <td>5</td>\n",
              "      <td>Phffffffft, Phfffffft. Lots of air, and it's C...</td>\n",
              "      <td>What's to say about this commodity item except...</td>\n",
              "    </tr>\n",
              "    <tr>\n",
              "      <th>2</th>\n",
              "      <td>5</td>\n",
              "      <td>but I am sure I will like it.</td>\n",
              "      <td>Haven't used yet, but I am sure I will like it.</td>\n",
              "    </tr>\n",
              "    <tr>\n",
              "      <th>3</th>\n",
              "      <td>1</td>\n",
              "      <td>and the shredder was dirty and the bin was par...</td>\n",
              "      <td>Although this was labeled as &amp;#34;new&amp;#34; the...</td>\n",
              "    </tr>\n",
              "    <tr>\n",
              "      <th>4</th>\n",
              "      <td>4</td>\n",
              "      <td>Four Stars</td>\n",
              "      <td>Gorgeous colors and easy to use</td>\n",
              "    </tr>\n",
              "  </tbody>\n",
              "</table>\n",
              "</div>\n",
              "    <div class=\"colab-df-buttons\">\n",
              "\n",
              "  <div class=\"colab-df-container\">\n",
              "    <button class=\"colab-df-convert\" onclick=\"convertToInteractive('df-a554a742-357f-4985-a9c7-8266c61c36b0')\"\n",
              "            title=\"Convert this dataframe to an interactive table.\"\n",
              "            style=\"display:none;\">\n",
              "\n",
              "  <svg xmlns=\"http://www.w3.org/2000/svg\" height=\"24px\" viewBox=\"0 -960 960 960\">\n",
              "    <path d=\"M120-120v-720h720v720H120Zm60-500h600v-160H180v160Zm220 220h160v-160H400v160Zm0 220h160v-160H400v160ZM180-400h160v-160H180v160Zm440 0h160v-160H620v160ZM180-180h160v-160H180v160Zm440 0h160v-160H620v160Z\"/>\n",
              "  </svg>\n",
              "    </button>\n",
              "\n",
              "  <style>\n",
              "    .colab-df-container {\n",
              "      display:flex;\n",
              "      gap: 12px;\n",
              "    }\n",
              "\n",
              "    .colab-df-convert {\n",
              "      background-color: #E8F0FE;\n",
              "      border: none;\n",
              "      border-radius: 50%;\n",
              "      cursor: pointer;\n",
              "      display: none;\n",
              "      fill: #1967D2;\n",
              "      height: 32px;\n",
              "      padding: 0 0 0 0;\n",
              "      width: 32px;\n",
              "    }\n",
              "\n",
              "    .colab-df-convert:hover {\n",
              "      background-color: #E2EBFA;\n",
              "      box-shadow: 0px 1px 2px rgba(60, 64, 67, 0.3), 0px 1px 3px 1px rgba(60, 64, 67, 0.15);\n",
              "      fill: #174EA6;\n",
              "    }\n",
              "\n",
              "    .colab-df-buttons div {\n",
              "      margin-bottom: 4px;\n",
              "    }\n",
              "\n",
              "    [theme=dark] .colab-df-convert {\n",
              "      background-color: #3B4455;\n",
              "      fill: #D2E3FC;\n",
              "    }\n",
              "\n",
              "    [theme=dark] .colab-df-convert:hover {\n",
              "      background-color: #434B5C;\n",
              "      box-shadow: 0px 1px 3px 1px rgba(0, 0, 0, 0.15);\n",
              "      filter: drop-shadow(0px 1px 2px rgba(0, 0, 0, 0.3));\n",
              "      fill: #FFFFFF;\n",
              "    }\n",
              "  </style>\n",
              "\n",
              "    <script>\n",
              "      const buttonEl =\n",
              "        document.querySelector('#df-a554a742-357f-4985-a9c7-8266c61c36b0 button.colab-df-convert');\n",
              "      buttonEl.style.display =\n",
              "        google.colab.kernel.accessAllowed ? 'block' : 'none';\n",
              "\n",
              "      async function convertToInteractive(key) {\n",
              "        const element = document.querySelector('#df-a554a742-357f-4985-a9c7-8266c61c36b0');\n",
              "        const dataTable =\n",
              "          await google.colab.kernel.invokeFunction('convertToInteractive',\n",
              "                                                    [key], {});\n",
              "        if (!dataTable) return;\n",
              "\n",
              "        const docLinkHtml = 'Like what you see? Visit the ' +\n",
              "          '<a target=\"_blank\" href=https://colab.research.google.com/notebooks/data_table.ipynb>data table notebook</a>'\n",
              "          + ' to learn more about interactive tables.';\n",
              "        element.innerHTML = '';\n",
              "        dataTable['output_type'] = 'display_data';\n",
              "        await google.colab.output.renderOutput(dataTable, element);\n",
              "        const docLink = document.createElement('div');\n",
              "        docLink.innerHTML = docLinkHtml;\n",
              "        element.appendChild(docLink);\n",
              "      }\n",
              "    </script>\n",
              "  </div>\n",
              "\n",
              "\n",
              "<div id=\"df-efbb779a-a940-4d5f-a13f-7971e53bb67f\">\n",
              "  <button class=\"colab-df-quickchart\" onclick=\"quickchart('df-efbb779a-a940-4d5f-a13f-7971e53bb67f')\"\n",
              "            title=\"Suggest charts.\"\n",
              "            style=\"display:none;\">\n",
              "\n",
              "<svg xmlns=\"http://www.w3.org/2000/svg\" height=\"24px\"viewBox=\"0 0 24 24\"\n",
              "     width=\"24px\">\n",
              "    <g>\n",
              "        <path d=\"M19 3H5c-1.1 0-2 .9-2 2v14c0 1.1.9 2 2 2h14c1.1 0 2-.9 2-2V5c0-1.1-.9-2-2-2zM9 17H7v-7h2v7zm4 0h-2V7h2v10zm4 0h-2v-4h2v4z\"/>\n",
              "    </g>\n",
              "</svg>\n",
              "  </button>\n",
              "\n",
              "<style>\n",
              "  .colab-df-quickchart {\n",
              "      --bg-color: #E8F0FE;\n",
              "      --fill-color: #1967D2;\n",
              "      --hover-bg-color: #E2EBFA;\n",
              "      --hover-fill-color: #174EA6;\n",
              "      --disabled-fill-color: #AAA;\n",
              "      --disabled-bg-color: #DDD;\n",
              "  }\n",
              "\n",
              "  [theme=dark] .colab-df-quickchart {\n",
              "      --bg-color: #3B4455;\n",
              "      --fill-color: #D2E3FC;\n",
              "      --hover-bg-color: #434B5C;\n",
              "      --hover-fill-color: #FFFFFF;\n",
              "      --disabled-bg-color: #3B4455;\n",
              "      --disabled-fill-color: #666;\n",
              "  }\n",
              "\n",
              "  .colab-df-quickchart {\n",
              "    background-color: var(--bg-color);\n",
              "    border: none;\n",
              "    border-radius: 50%;\n",
              "    cursor: pointer;\n",
              "    display: none;\n",
              "    fill: var(--fill-color);\n",
              "    height: 32px;\n",
              "    padding: 0;\n",
              "    width: 32px;\n",
              "  }\n",
              "\n",
              "  .colab-df-quickchart:hover {\n",
              "    background-color: var(--hover-bg-color);\n",
              "    box-shadow: 0 1px 2px rgba(60, 64, 67, 0.3), 0 1px 3px 1px rgba(60, 64, 67, 0.15);\n",
              "    fill: var(--button-hover-fill-color);\n",
              "  }\n",
              "\n",
              "  .colab-df-quickchart-complete:disabled,\n",
              "  .colab-df-quickchart-complete:disabled:hover {\n",
              "    background-color: var(--disabled-bg-color);\n",
              "    fill: var(--disabled-fill-color);\n",
              "    box-shadow: none;\n",
              "  }\n",
              "\n",
              "  .colab-df-spinner {\n",
              "    border: 2px solid var(--fill-color);\n",
              "    border-color: transparent;\n",
              "    border-bottom-color: var(--fill-color);\n",
              "    animation:\n",
              "      spin 1s steps(1) infinite;\n",
              "  }\n",
              "\n",
              "  @keyframes spin {\n",
              "    0% {\n",
              "      border-color: transparent;\n",
              "      border-bottom-color: var(--fill-color);\n",
              "      border-left-color: var(--fill-color);\n",
              "    }\n",
              "    20% {\n",
              "      border-color: transparent;\n",
              "      border-left-color: var(--fill-color);\n",
              "      border-top-color: var(--fill-color);\n",
              "    }\n",
              "    30% {\n",
              "      border-color: transparent;\n",
              "      border-left-color: var(--fill-color);\n",
              "      border-top-color: var(--fill-color);\n",
              "      border-right-color: var(--fill-color);\n",
              "    }\n",
              "    40% {\n",
              "      border-color: transparent;\n",
              "      border-right-color: var(--fill-color);\n",
              "      border-top-color: var(--fill-color);\n",
              "    }\n",
              "    60% {\n",
              "      border-color: transparent;\n",
              "      border-right-color: var(--fill-color);\n",
              "    }\n",
              "    80% {\n",
              "      border-color: transparent;\n",
              "      border-right-color: var(--fill-color);\n",
              "      border-bottom-color: var(--fill-color);\n",
              "    }\n",
              "    90% {\n",
              "      border-color: transparent;\n",
              "      border-bottom-color: var(--fill-color);\n",
              "    }\n",
              "  }\n",
              "</style>\n",
              "\n",
              "  <script>\n",
              "    async function quickchart(key) {\n",
              "      const quickchartButtonEl =\n",
              "        document.querySelector('#' + key + ' button');\n",
              "      quickchartButtonEl.disabled = true;  // To prevent multiple clicks.\n",
              "      quickchartButtonEl.classList.add('colab-df-spinner');\n",
              "      try {\n",
              "        const charts = await google.colab.kernel.invokeFunction(\n",
              "            'suggestCharts', [key], {});\n",
              "      } catch (error) {\n",
              "        console.error('Error during call to suggestCharts:', error);\n",
              "      }\n",
              "      quickchartButtonEl.classList.remove('colab-df-spinner');\n",
              "      quickchartButtonEl.classList.add('colab-df-quickchart-complete');\n",
              "    }\n",
              "    (() => {\n",
              "      let quickchartButtonEl =\n",
              "        document.querySelector('#df-efbb779a-a940-4d5f-a13f-7971e53bb67f button');\n",
              "      quickchartButtonEl.style.display =\n",
              "        google.colab.kernel.accessAllowed ? 'block' : 'none';\n",
              "    })();\n",
              "  </script>\n",
              "</div>\n",
              "    </div>\n",
              "  </div>\n"
            ],
            "text/plain": [
              "  star_rating                                    review_headline  \\\n",
              "0           5                                         Five Stars   \n",
              "1           5  Phffffffft, Phfffffft. Lots of air, and it's C...   \n",
              "2           5                      but I am sure I will like it.   \n",
              "3           1  and the shredder was dirty and the bin was par...   \n",
              "4           4                                         Four Stars   \n",
              "\n",
              "                                         review_body  \n",
              "0                                     Great product.  \n",
              "1  What's to say about this commodity item except...  \n",
              "2    Haven't used yet, but I am sure I will like it.  \n",
              "3  Although this was labeled as &#34;new&#34; the...  \n",
              "4                    Gorgeous colors and easy to use  "
            ]
          },
          "execution_count": 9,
          "metadata": {},
          "output_type": "execute_result"
        },
        {
          "name": "stdout",
          "output_type": "stream",
          "text": [
            "time: 18.1 ms (started: 2023-09-18 04:59:20 +00:00)\n"
          ]
        }
      ],
      "source": [
        "df.head()"
      ]
    },
    {
      "cell_type": "markdown",
      "metadata": {
        "id": "gHifjEGUJERn"
      },
      "source": [
        "## Keep Reviews and Ratings"
      ]
    },
    {
      "cell_type": "code",
      "execution_count": 10,
      "metadata": {
        "colab": {
          "base_uri": "https://localhost:8080/",
          "height": 0
        },
        "id": "3j7LA6oBKVAw",
        "outputId": "16e29054-0d89-4614-e831-5c25f819c001"
      },
      "outputs": [
        {
          "data": {
            "text/html": [
              "\n",
              "  <div id=\"df-77965058-34f9-4b32-a949-f039af31dad6\" class=\"colab-df-container\">\n",
              "    <div>\n",
              "<style scoped>\n",
              "    .dataframe tbody tr th:only-of-type {\n",
              "        vertical-align: middle;\n",
              "    }\n",
              "\n",
              "    .dataframe tbody tr th {\n",
              "        vertical-align: top;\n",
              "    }\n",
              "\n",
              "    .dataframe thead th {\n",
              "        text-align: right;\n",
              "    }\n",
              "</style>\n",
              "<table border=\"1\" class=\"dataframe\">\n",
              "  <thead>\n",
              "    <tr style=\"text-align: right;\">\n",
              "      <th></th>\n",
              "      <th>review_body</th>\n",
              "      <th>star_rating</th>\n",
              "    </tr>\n",
              "  </thead>\n",
              "  <tbody>\n",
              "    <tr>\n",
              "      <th>0</th>\n",
              "      <td>Great product.</td>\n",
              "      <td>5</td>\n",
              "    </tr>\n",
              "    <tr>\n",
              "      <th>1</th>\n",
              "      <td>What's to say about this commodity item except...</td>\n",
              "      <td>5</td>\n",
              "    </tr>\n",
              "    <tr>\n",
              "      <th>2</th>\n",
              "      <td>Haven't used yet, but I am sure I will like it.</td>\n",
              "      <td>5</td>\n",
              "    </tr>\n",
              "    <tr>\n",
              "      <th>3</th>\n",
              "      <td>Although this was labeled as &amp;#34;new&amp;#34; the...</td>\n",
              "      <td>1</td>\n",
              "    </tr>\n",
              "    <tr>\n",
              "      <th>4</th>\n",
              "      <td>Gorgeous colors and easy to use</td>\n",
              "      <td>4</td>\n",
              "    </tr>\n",
              "  </tbody>\n",
              "</table>\n",
              "</div>\n",
              "    <div class=\"colab-df-buttons\">\n",
              "\n",
              "  <div class=\"colab-df-container\">\n",
              "    <button class=\"colab-df-convert\" onclick=\"convertToInteractive('df-77965058-34f9-4b32-a949-f039af31dad6')\"\n",
              "            title=\"Convert this dataframe to an interactive table.\"\n",
              "            style=\"display:none;\">\n",
              "\n",
              "  <svg xmlns=\"http://www.w3.org/2000/svg\" height=\"24px\" viewBox=\"0 -960 960 960\">\n",
              "    <path d=\"M120-120v-720h720v720H120Zm60-500h600v-160H180v160Zm220 220h160v-160H400v160Zm0 220h160v-160H400v160ZM180-400h160v-160H180v160Zm440 0h160v-160H620v160ZM180-180h160v-160H180v160Zm440 0h160v-160H620v160Z\"/>\n",
              "  </svg>\n",
              "    </button>\n",
              "\n",
              "  <style>\n",
              "    .colab-df-container {\n",
              "      display:flex;\n",
              "      gap: 12px;\n",
              "    }\n",
              "\n",
              "    .colab-df-convert {\n",
              "      background-color: #E8F0FE;\n",
              "      border: none;\n",
              "      border-radius: 50%;\n",
              "      cursor: pointer;\n",
              "      display: none;\n",
              "      fill: #1967D2;\n",
              "      height: 32px;\n",
              "      padding: 0 0 0 0;\n",
              "      width: 32px;\n",
              "    }\n",
              "\n",
              "    .colab-df-convert:hover {\n",
              "      background-color: #E2EBFA;\n",
              "      box-shadow: 0px 1px 2px rgba(60, 64, 67, 0.3), 0px 1px 3px 1px rgba(60, 64, 67, 0.15);\n",
              "      fill: #174EA6;\n",
              "    }\n",
              "\n",
              "    .colab-df-buttons div {\n",
              "      margin-bottom: 4px;\n",
              "    }\n",
              "\n",
              "    [theme=dark] .colab-df-convert {\n",
              "      background-color: #3B4455;\n",
              "      fill: #D2E3FC;\n",
              "    }\n",
              "\n",
              "    [theme=dark] .colab-df-convert:hover {\n",
              "      background-color: #434B5C;\n",
              "      box-shadow: 0px 1px 3px 1px rgba(0, 0, 0, 0.15);\n",
              "      filter: drop-shadow(0px 1px 2px rgba(0, 0, 0, 0.3));\n",
              "      fill: #FFFFFF;\n",
              "    }\n",
              "  </style>\n",
              "\n",
              "    <script>\n",
              "      const buttonEl =\n",
              "        document.querySelector('#df-77965058-34f9-4b32-a949-f039af31dad6 button.colab-df-convert');\n",
              "      buttonEl.style.display =\n",
              "        google.colab.kernel.accessAllowed ? 'block' : 'none';\n",
              "\n",
              "      async function convertToInteractive(key) {\n",
              "        const element = document.querySelector('#df-77965058-34f9-4b32-a949-f039af31dad6');\n",
              "        const dataTable =\n",
              "          await google.colab.kernel.invokeFunction('convertToInteractive',\n",
              "                                                    [key], {});\n",
              "        if (!dataTable) return;\n",
              "\n",
              "        const docLinkHtml = 'Like what you see? Visit the ' +\n",
              "          '<a target=\"_blank\" href=https://colab.research.google.com/notebooks/data_table.ipynb>data table notebook</a>'\n",
              "          + ' to learn more about interactive tables.';\n",
              "        element.innerHTML = '';\n",
              "        dataTable['output_type'] = 'display_data';\n",
              "        await google.colab.output.renderOutput(dataTable, element);\n",
              "        const docLink = document.createElement('div');\n",
              "        docLink.innerHTML = docLinkHtml;\n",
              "        element.appendChild(docLink);\n",
              "      }\n",
              "    </script>\n",
              "  </div>\n",
              "\n",
              "\n",
              "<div id=\"df-7d91fdd5-3edc-4239-b25f-0be4d06ca27d\">\n",
              "  <button class=\"colab-df-quickchart\" onclick=\"quickchart('df-7d91fdd5-3edc-4239-b25f-0be4d06ca27d')\"\n",
              "            title=\"Suggest charts.\"\n",
              "            style=\"display:none;\">\n",
              "\n",
              "<svg xmlns=\"http://www.w3.org/2000/svg\" height=\"24px\"viewBox=\"0 0 24 24\"\n",
              "     width=\"24px\">\n",
              "    <g>\n",
              "        <path d=\"M19 3H5c-1.1 0-2 .9-2 2v14c0 1.1.9 2 2 2h14c1.1 0 2-.9 2-2V5c0-1.1-.9-2-2-2zM9 17H7v-7h2v7zm4 0h-2V7h2v10zm4 0h-2v-4h2v4z\"/>\n",
              "    </g>\n",
              "</svg>\n",
              "  </button>\n",
              "\n",
              "<style>\n",
              "  .colab-df-quickchart {\n",
              "      --bg-color: #E8F0FE;\n",
              "      --fill-color: #1967D2;\n",
              "      --hover-bg-color: #E2EBFA;\n",
              "      --hover-fill-color: #174EA6;\n",
              "      --disabled-fill-color: #AAA;\n",
              "      --disabled-bg-color: #DDD;\n",
              "  }\n",
              "\n",
              "  [theme=dark] .colab-df-quickchart {\n",
              "      --bg-color: #3B4455;\n",
              "      --fill-color: #D2E3FC;\n",
              "      --hover-bg-color: #434B5C;\n",
              "      --hover-fill-color: #FFFFFF;\n",
              "      --disabled-bg-color: #3B4455;\n",
              "      --disabled-fill-color: #666;\n",
              "  }\n",
              "\n",
              "  .colab-df-quickchart {\n",
              "    background-color: var(--bg-color);\n",
              "    border: none;\n",
              "    border-radius: 50%;\n",
              "    cursor: pointer;\n",
              "    display: none;\n",
              "    fill: var(--fill-color);\n",
              "    height: 32px;\n",
              "    padding: 0;\n",
              "    width: 32px;\n",
              "  }\n",
              "\n",
              "  .colab-df-quickchart:hover {\n",
              "    background-color: var(--hover-bg-color);\n",
              "    box-shadow: 0 1px 2px rgba(60, 64, 67, 0.3), 0 1px 3px 1px rgba(60, 64, 67, 0.15);\n",
              "    fill: var(--button-hover-fill-color);\n",
              "  }\n",
              "\n",
              "  .colab-df-quickchart-complete:disabled,\n",
              "  .colab-df-quickchart-complete:disabled:hover {\n",
              "    background-color: var(--disabled-bg-color);\n",
              "    fill: var(--disabled-fill-color);\n",
              "    box-shadow: none;\n",
              "  }\n",
              "\n",
              "  .colab-df-spinner {\n",
              "    border: 2px solid var(--fill-color);\n",
              "    border-color: transparent;\n",
              "    border-bottom-color: var(--fill-color);\n",
              "    animation:\n",
              "      spin 1s steps(1) infinite;\n",
              "  }\n",
              "\n",
              "  @keyframes spin {\n",
              "    0% {\n",
              "      border-color: transparent;\n",
              "      border-bottom-color: var(--fill-color);\n",
              "      border-left-color: var(--fill-color);\n",
              "    }\n",
              "    20% {\n",
              "      border-color: transparent;\n",
              "      border-left-color: var(--fill-color);\n",
              "      border-top-color: var(--fill-color);\n",
              "    }\n",
              "    30% {\n",
              "      border-color: transparent;\n",
              "      border-left-color: var(--fill-color);\n",
              "      border-top-color: var(--fill-color);\n",
              "      border-right-color: var(--fill-color);\n",
              "    }\n",
              "    40% {\n",
              "      border-color: transparent;\n",
              "      border-right-color: var(--fill-color);\n",
              "      border-top-color: var(--fill-color);\n",
              "    }\n",
              "    60% {\n",
              "      border-color: transparent;\n",
              "      border-right-color: var(--fill-color);\n",
              "    }\n",
              "    80% {\n",
              "      border-color: transparent;\n",
              "      border-right-color: var(--fill-color);\n",
              "      border-bottom-color: var(--fill-color);\n",
              "    }\n",
              "    90% {\n",
              "      border-color: transparent;\n",
              "      border-bottom-color: var(--fill-color);\n",
              "    }\n",
              "  }\n",
              "</style>\n",
              "\n",
              "  <script>\n",
              "    async function quickchart(key) {\n",
              "      const quickchartButtonEl =\n",
              "        document.querySelector('#' + key + ' button');\n",
              "      quickchartButtonEl.disabled = true;  // To prevent multiple clicks.\n",
              "      quickchartButtonEl.classList.add('colab-df-spinner');\n",
              "      try {\n",
              "        const charts = await google.colab.kernel.invokeFunction(\n",
              "            'suggestCharts', [key], {});\n",
              "      } catch (error) {\n",
              "        console.error('Error during call to suggestCharts:', error);\n",
              "      }\n",
              "      quickchartButtonEl.classList.remove('colab-df-spinner');\n",
              "      quickchartButtonEl.classList.add('colab-df-quickchart-complete');\n",
              "    }\n",
              "    (() => {\n",
              "      let quickchartButtonEl =\n",
              "        document.querySelector('#df-7d91fdd5-3edc-4239-b25f-0be4d06ca27d button');\n",
              "      quickchartButtonEl.style.display =\n",
              "        google.colab.kernel.accessAllowed ? 'block' : 'none';\n",
              "    })();\n",
              "  </script>\n",
              "</div>\n",
              "    </div>\n",
              "  </div>\n"
            ],
            "text/plain": [
              "                                         review_body star_rating\n",
              "0                                     Great product.           5\n",
              "1  What's to say about this commodity item except...           5\n",
              "2    Haven't used yet, but I am sure I will like it.           5\n",
              "3  Although this was labeled as &#34;new&#34; the...           1\n",
              "4                    Gorgeous colors and easy to use           4"
            ]
          },
          "execution_count": 10,
          "metadata": {},
          "output_type": "execute_result"
        },
        {
          "name": "stdout",
          "output_type": "stream",
          "text": [
            "time: 139 ms (started: 2023-09-18 04:59:20 +00:00)\n"
          ]
        }
      ],
      "source": [
        "# Select columns by name\n",
        "df_filtered = df.loc[:,['review_body', 'star_rating']]\n",
        "df_filtered.head()"
      ]
    },
    {
      "cell_type": "markdown",
      "metadata": {
        "id": "xaBLKkAjJKze"
      },
      "source": [
        "## Create Binary Classification Problem\n",
        "We form two classes and select 50000 reviews randomly from each class.\n",
        "\n",
        "### Handling the inconsistencies `star_rating` columns:\n",
        "- **Converting 'star_rating' to Numeric:**\n",
        "   - The 'star_rating' column likely contains numerical values, but they might be stored as strings or in a format which can cause issues for further analysis or modeling.\n",
        "   - Convert the column to numeric, and replace non-convertible with NaN.\n",
        "\n",
        "2. **Handling Missing Values:**\n",
        "   - After converting to numeric, there might be rows with missing or non-convertible values, which are now represented as NaN.\n",
        "   - Drop the rows with NaN values\n",
        "\n",
        "3. **Classification of Ratings:**\n",
        "   - The task requires binary classification based on the ratings, where ratings 1, 2, and 3 form one class (class 1), and ratings 4 and 5 form another class (class 2).\n",
        "   - We apply the mapping as per requirements."
      ]
    },
    {
      "cell_type": "code",
      "execution_count": 11,
      "metadata": {
        "colab": {
          "base_uri": "https://localhost:8080/"
        },
        "id": "spnSLua_Ny19",
        "outputId": "5fd14007-3387-47e1-f8e8-67d40168e7ab"
      },
      "outputs": [
        {
          "data": {
            "text/plain": [
              "array([5, 1, 4, 2, 3, '5', '1', '3', '4', '2', '2015-06-05', '2015-02-11',\n",
              "       nan, '2014-02-14'], dtype=object)"
            ]
          },
          "execution_count": 11,
          "metadata": {},
          "output_type": "execute_result"
        },
        {
          "name": "stdout",
          "output_type": "stream",
          "text": [
            "time: 175 ms (started: 2023-09-18 04:59:20 +00:00)\n"
          ]
        }
      ],
      "source": [
        "# Check incosistencies in star_rating column\n",
        "df['star_rating'].unique()"
      ]
    },
    {
      "cell_type": "code",
      "execution_count": 12,
      "metadata": {
        "colab": {
          "base_uri": "https://localhost:8080/",
          "height": 0
        },
        "id": "bk_EDOlAbbVi",
        "outputId": "0ef8e61e-a0d2-4c66-8db2-104d3fc3c547"
      },
      "outputs": [
        {
          "name": "stdout",
          "output_type": "stream",
          "text": [
            "Shape of unfiltered dataframe: (2640352, 3)\n",
            "Shape of filtered dataframe: (2640335, 3)\n"
          ]
        },
        {
          "data": {
            "text/html": [
              "\n",
              "  <div id=\"df-63187d5e-6079-441e-8c95-0f7876a8d3b9\" class=\"colab-df-container\">\n",
              "    <div>\n",
              "<style scoped>\n",
              "    .dataframe tbody tr th:only-of-type {\n",
              "        vertical-align: middle;\n",
              "    }\n",
              "\n",
              "    .dataframe tbody tr th {\n",
              "        vertical-align: top;\n",
              "    }\n",
              "\n",
              "    .dataframe thead th {\n",
              "        text-align: right;\n",
              "    }\n",
              "</style>\n",
              "<table border=\"1\" class=\"dataframe\">\n",
              "  <thead>\n",
              "    <tr style=\"text-align: right;\">\n",
              "      <th></th>\n",
              "      <th>review_body</th>\n",
              "      <th>star_rating</th>\n",
              "      <th>sentiment</th>\n",
              "    </tr>\n",
              "  </thead>\n",
              "  <tbody>\n",
              "    <tr>\n",
              "      <th>0</th>\n",
              "      <td>Great product.</td>\n",
              "      <td>5.0</td>\n",
              "      <td>2</td>\n",
              "    </tr>\n",
              "    <tr>\n",
              "      <th>1</th>\n",
              "      <td>What's to say about this commodity item except...</td>\n",
              "      <td>5.0</td>\n",
              "      <td>2</td>\n",
              "    </tr>\n",
              "    <tr>\n",
              "      <th>2</th>\n",
              "      <td>Haven't used yet, but I am sure I will like it.</td>\n",
              "      <td>5.0</td>\n",
              "      <td>2</td>\n",
              "    </tr>\n",
              "    <tr>\n",
              "      <th>3</th>\n",
              "      <td>Although this was labeled as &amp;#34;new&amp;#34; the...</td>\n",
              "      <td>1.0</td>\n",
              "      <td>1</td>\n",
              "    </tr>\n",
              "    <tr>\n",
              "      <th>4</th>\n",
              "      <td>Gorgeous colors and easy to use</td>\n",
              "      <td>4.0</td>\n",
              "      <td>2</td>\n",
              "    </tr>\n",
              "  </tbody>\n",
              "</table>\n",
              "</div>\n",
              "    <div class=\"colab-df-buttons\">\n",
              "\n",
              "  <div class=\"colab-df-container\">\n",
              "    <button class=\"colab-df-convert\" onclick=\"convertToInteractive('df-63187d5e-6079-441e-8c95-0f7876a8d3b9')\"\n",
              "            title=\"Convert this dataframe to an interactive table.\"\n",
              "            style=\"display:none;\">\n",
              "\n",
              "  <svg xmlns=\"http://www.w3.org/2000/svg\" height=\"24px\" viewBox=\"0 -960 960 960\">\n",
              "    <path d=\"M120-120v-720h720v720H120Zm60-500h600v-160H180v160Zm220 220h160v-160H400v160Zm0 220h160v-160H400v160ZM180-400h160v-160H180v160Zm440 0h160v-160H620v160ZM180-180h160v-160H180v160Zm440 0h160v-160H620v160Z\"/>\n",
              "  </svg>\n",
              "    </button>\n",
              "\n",
              "  <style>\n",
              "    .colab-df-container {\n",
              "      display:flex;\n",
              "      gap: 12px;\n",
              "    }\n",
              "\n",
              "    .colab-df-convert {\n",
              "      background-color: #E8F0FE;\n",
              "      border: none;\n",
              "      border-radius: 50%;\n",
              "      cursor: pointer;\n",
              "      display: none;\n",
              "      fill: #1967D2;\n",
              "      height: 32px;\n",
              "      padding: 0 0 0 0;\n",
              "      width: 32px;\n",
              "    }\n",
              "\n",
              "    .colab-df-convert:hover {\n",
              "      background-color: #E2EBFA;\n",
              "      box-shadow: 0px 1px 2px rgba(60, 64, 67, 0.3), 0px 1px 3px 1px rgba(60, 64, 67, 0.15);\n",
              "      fill: #174EA6;\n",
              "    }\n",
              "\n",
              "    .colab-df-buttons div {\n",
              "      margin-bottom: 4px;\n",
              "    }\n",
              "\n",
              "    [theme=dark] .colab-df-convert {\n",
              "      background-color: #3B4455;\n",
              "      fill: #D2E3FC;\n",
              "    }\n",
              "\n",
              "    [theme=dark] .colab-df-convert:hover {\n",
              "      background-color: #434B5C;\n",
              "      box-shadow: 0px 1px 3px 1px rgba(0, 0, 0, 0.15);\n",
              "      filter: drop-shadow(0px 1px 2px rgba(0, 0, 0, 0.3));\n",
              "      fill: #FFFFFF;\n",
              "    }\n",
              "  </style>\n",
              "\n",
              "    <script>\n",
              "      const buttonEl =\n",
              "        document.querySelector('#df-63187d5e-6079-441e-8c95-0f7876a8d3b9 button.colab-df-convert');\n",
              "      buttonEl.style.display =\n",
              "        google.colab.kernel.accessAllowed ? 'block' : 'none';\n",
              "\n",
              "      async function convertToInteractive(key) {\n",
              "        const element = document.querySelector('#df-63187d5e-6079-441e-8c95-0f7876a8d3b9');\n",
              "        const dataTable =\n",
              "          await google.colab.kernel.invokeFunction('convertToInteractive',\n",
              "                                                    [key], {});\n",
              "        if (!dataTable) return;\n",
              "\n",
              "        const docLinkHtml = 'Like what you see? Visit the ' +\n",
              "          '<a target=\"_blank\" href=https://colab.research.google.com/notebooks/data_table.ipynb>data table notebook</a>'\n",
              "          + ' to learn more about interactive tables.';\n",
              "        element.innerHTML = '';\n",
              "        dataTable['output_type'] = 'display_data';\n",
              "        await google.colab.output.renderOutput(dataTable, element);\n",
              "        const docLink = document.createElement('div');\n",
              "        docLink.innerHTML = docLinkHtml;\n",
              "        element.appendChild(docLink);\n",
              "      }\n",
              "    </script>\n",
              "  </div>\n",
              "\n",
              "\n",
              "<div id=\"df-b7cb6223-bff3-46aa-9bc3-b4a51412d879\">\n",
              "  <button class=\"colab-df-quickchart\" onclick=\"quickchart('df-b7cb6223-bff3-46aa-9bc3-b4a51412d879')\"\n",
              "            title=\"Suggest charts.\"\n",
              "            style=\"display:none;\">\n",
              "\n",
              "<svg xmlns=\"http://www.w3.org/2000/svg\" height=\"24px\"viewBox=\"0 0 24 24\"\n",
              "     width=\"24px\">\n",
              "    <g>\n",
              "        <path d=\"M19 3H5c-1.1 0-2 .9-2 2v14c0 1.1.9 2 2 2h14c1.1 0 2-.9 2-2V5c0-1.1-.9-2-2-2zM9 17H7v-7h2v7zm4 0h-2V7h2v10zm4 0h-2v-4h2v4z\"/>\n",
              "    </g>\n",
              "</svg>\n",
              "  </button>\n",
              "\n",
              "<style>\n",
              "  .colab-df-quickchart {\n",
              "      --bg-color: #E8F0FE;\n",
              "      --fill-color: #1967D2;\n",
              "      --hover-bg-color: #E2EBFA;\n",
              "      --hover-fill-color: #174EA6;\n",
              "      --disabled-fill-color: #AAA;\n",
              "      --disabled-bg-color: #DDD;\n",
              "  }\n",
              "\n",
              "  [theme=dark] .colab-df-quickchart {\n",
              "      --bg-color: #3B4455;\n",
              "      --fill-color: #D2E3FC;\n",
              "      --hover-bg-color: #434B5C;\n",
              "      --hover-fill-color: #FFFFFF;\n",
              "      --disabled-bg-color: #3B4455;\n",
              "      --disabled-fill-color: #666;\n",
              "  }\n",
              "\n",
              "  .colab-df-quickchart {\n",
              "    background-color: var(--bg-color);\n",
              "    border: none;\n",
              "    border-radius: 50%;\n",
              "    cursor: pointer;\n",
              "    display: none;\n",
              "    fill: var(--fill-color);\n",
              "    height: 32px;\n",
              "    padding: 0;\n",
              "    width: 32px;\n",
              "  }\n",
              "\n",
              "  .colab-df-quickchart:hover {\n",
              "    background-color: var(--hover-bg-color);\n",
              "    box-shadow: 0 1px 2px rgba(60, 64, 67, 0.3), 0 1px 3px 1px rgba(60, 64, 67, 0.15);\n",
              "    fill: var(--button-hover-fill-color);\n",
              "  }\n",
              "\n",
              "  .colab-df-quickchart-complete:disabled,\n",
              "  .colab-df-quickchart-complete:disabled:hover {\n",
              "    background-color: var(--disabled-bg-color);\n",
              "    fill: var(--disabled-fill-color);\n",
              "    box-shadow: none;\n",
              "  }\n",
              "\n",
              "  .colab-df-spinner {\n",
              "    border: 2px solid var(--fill-color);\n",
              "    border-color: transparent;\n",
              "    border-bottom-color: var(--fill-color);\n",
              "    animation:\n",
              "      spin 1s steps(1) infinite;\n",
              "  }\n",
              "\n",
              "  @keyframes spin {\n",
              "    0% {\n",
              "      border-color: transparent;\n",
              "      border-bottom-color: var(--fill-color);\n",
              "      border-left-color: var(--fill-color);\n",
              "    }\n",
              "    20% {\n",
              "      border-color: transparent;\n",
              "      border-left-color: var(--fill-color);\n",
              "      border-top-color: var(--fill-color);\n",
              "    }\n",
              "    30% {\n",
              "      border-color: transparent;\n",
              "      border-left-color: var(--fill-color);\n",
              "      border-top-color: var(--fill-color);\n",
              "      border-right-color: var(--fill-color);\n",
              "    }\n",
              "    40% {\n",
              "      border-color: transparent;\n",
              "      border-right-color: var(--fill-color);\n",
              "      border-top-color: var(--fill-color);\n",
              "    }\n",
              "    60% {\n",
              "      border-color: transparent;\n",
              "      border-right-color: var(--fill-color);\n",
              "    }\n",
              "    80% {\n",
              "      border-color: transparent;\n",
              "      border-right-color: var(--fill-color);\n",
              "      border-bottom-color: var(--fill-color);\n",
              "    }\n",
              "    90% {\n",
              "      border-color: transparent;\n",
              "      border-bottom-color: var(--fill-color);\n",
              "    }\n",
              "  }\n",
              "</style>\n",
              "\n",
              "  <script>\n",
              "    async function quickchart(key) {\n",
              "      const quickchartButtonEl =\n",
              "        document.querySelector('#' + key + ' button');\n",
              "      quickchartButtonEl.disabled = true;  // To prevent multiple clicks.\n",
              "      quickchartButtonEl.classList.add('colab-df-spinner');\n",
              "      try {\n",
              "        const charts = await google.colab.kernel.invokeFunction(\n",
              "            'suggestCharts', [key], {});\n",
              "      } catch (error) {\n",
              "        console.error('Error during call to suggestCharts:', error);\n",
              "      }\n",
              "      quickchartButtonEl.classList.remove('colab-df-spinner');\n",
              "      quickchartButtonEl.classList.add('colab-df-quickchart-complete');\n",
              "    }\n",
              "    (() => {\n",
              "      let quickchartButtonEl =\n",
              "        document.querySelector('#df-b7cb6223-bff3-46aa-9bc3-b4a51412d879 button');\n",
              "      quickchartButtonEl.style.display =\n",
              "        google.colab.kernel.accessAllowed ? 'block' : 'none';\n",
              "    })();\n",
              "  </script>\n",
              "</div>\n",
              "    </div>\n",
              "  </div>\n"
            ],
            "text/plain": [
              "                                         review_body  star_rating  sentiment\n",
              "0                                     Great product.          5.0          2\n",
              "1  What's to say about this commodity item except...          5.0          2\n",
              "2    Haven't used yet, but I am sure I will like it.          5.0          2\n",
              "3  Although this was labeled as &#34;new&#34; the...          1.0          1\n",
              "4                    Gorgeous colors and easy to use          4.0          2"
            ]
          },
          "execution_count": 12,
          "metadata": {},
          "output_type": "execute_result"
        },
        {
          "name": "stdout",
          "output_type": "stream",
          "text": [
            "time: 2.38 s (started: 2023-09-18 04:59:21 +00:00)\n"
          ]
        }
      ],
      "source": [
        "# Convert the 'star_rating' column to numeric, coerce errors to NaN\n",
        "df_filtered['star_rating'] = pd.to_numeric(df['star_rating'], errors='coerce')\n",
        "\n",
        "# Drop NaN values from `star_rating`\n",
        "df_filtered.dropna(subset=[\"star_rating\"], inplace=True)\n",
        "\n",
        "# Classify ratings as 1, 2, or 3 into class 1, and ratings 4 and 5 into class 2\n",
        "df_filtered['sentiment'] = df_filtered['star_rating'].apply(\n",
        "    lambda x: 1 if x <= 3 else 2\n",
        ")\n",
        "\n",
        "print(\"Shape of unfiltered dataframe:\", df.shape)\n",
        "print(\"Shape of filtered dataframe:\", df_filtered.shape)\n",
        "\n",
        "df_filtered.head()"
      ]
    },
    {
      "cell_type": "markdown",
      "metadata": {
        "id": "7XHIYGmjqabx"
      },
      "source": [
        "### Sampling data\n",
        "- Find indices of each class\n",
        "- Choose random 50000 values using `sample` function for each class\n",
        "- Resample for shuffling"
      ]
    },
    {
      "cell_type": "code",
      "execution_count": 13,
      "metadata": {
        "colab": {
          "base_uri": "https://localhost:8080/",
          "height": 0
        },
        "id": "qf6s4YSrkh0f",
        "outputId": "d7a5965f-8f07-441f-a55f-da887551d60a"
      },
      "outputs": [
        {
          "data": {
            "text/html": [
              "\n",
              "  <div id=\"df-68992db9-311a-4a49-bd4a-7e50b78dffc2\" class=\"colab-df-container\">\n",
              "    <div>\n",
              "<style scoped>\n",
              "    .dataframe tbody tr th:only-of-type {\n",
              "        vertical-align: middle;\n",
              "    }\n",
              "\n",
              "    .dataframe tbody tr th {\n",
              "        vertical-align: top;\n",
              "    }\n",
              "\n",
              "    .dataframe thead th {\n",
              "        text-align: right;\n",
              "    }\n",
              "</style>\n",
              "<table border=\"1\" class=\"dataframe\">\n",
              "  <thead>\n",
              "    <tr style=\"text-align: right;\">\n",
              "      <th></th>\n",
              "      <th>review_body</th>\n",
              "      <th>sentiment</th>\n",
              "    </tr>\n",
              "  </thead>\n",
              "  <tbody>\n",
              "    <tr>\n",
              "      <th>7527</th>\n",
              "      <td>Agree with other posters in that these worked ...</td>\n",
              "      <td>1</td>\n",
              "    </tr>\n",
              "    <tr>\n",
              "      <th>84247</th>\n",
              "      <td>These are a little smaller than the ones I had...</td>\n",
              "      <td>2</td>\n",
              "    </tr>\n",
              "    <tr>\n",
              "      <th>79106</th>\n",
              "      <td>Well made, plenty of card pockets, and I like ...</td>\n",
              "      <td>2</td>\n",
              "    </tr>\n",
              "    <tr>\n",
              "      <th>37339</th>\n",
              "      <td>In the same year, I bought a new HP laptop and...</td>\n",
              "      <td>1</td>\n",
              "    </tr>\n",
              "    <tr>\n",
              "      <th>33018</th>\n",
              "      <td>I bought this on Jan 2011 as a gift. I turned ...</td>\n",
              "      <td>1</td>\n",
              "    </tr>\n",
              "  </tbody>\n",
              "</table>\n",
              "</div>\n",
              "    <div class=\"colab-df-buttons\">\n",
              "\n",
              "  <div class=\"colab-df-container\">\n",
              "    <button class=\"colab-df-convert\" onclick=\"convertToInteractive('df-68992db9-311a-4a49-bd4a-7e50b78dffc2')\"\n",
              "            title=\"Convert this dataframe to an interactive table.\"\n",
              "            style=\"display:none;\">\n",
              "\n",
              "  <svg xmlns=\"http://www.w3.org/2000/svg\" height=\"24px\" viewBox=\"0 -960 960 960\">\n",
              "    <path d=\"M120-120v-720h720v720H120Zm60-500h600v-160H180v160Zm220 220h160v-160H400v160Zm0 220h160v-160H400v160ZM180-400h160v-160H180v160Zm440 0h160v-160H620v160ZM180-180h160v-160H180v160Zm440 0h160v-160H620v160Z\"/>\n",
              "  </svg>\n",
              "    </button>\n",
              "\n",
              "  <style>\n",
              "    .colab-df-container {\n",
              "      display:flex;\n",
              "      gap: 12px;\n",
              "    }\n",
              "\n",
              "    .colab-df-convert {\n",
              "      background-color: #E8F0FE;\n",
              "      border: none;\n",
              "      border-radius: 50%;\n",
              "      cursor: pointer;\n",
              "      display: none;\n",
              "      fill: #1967D2;\n",
              "      height: 32px;\n",
              "      padding: 0 0 0 0;\n",
              "      width: 32px;\n",
              "    }\n",
              "\n",
              "    .colab-df-convert:hover {\n",
              "      background-color: #E2EBFA;\n",
              "      box-shadow: 0px 1px 2px rgba(60, 64, 67, 0.3), 0px 1px 3px 1px rgba(60, 64, 67, 0.15);\n",
              "      fill: #174EA6;\n",
              "    }\n",
              "\n",
              "    .colab-df-buttons div {\n",
              "      margin-bottom: 4px;\n",
              "    }\n",
              "\n",
              "    [theme=dark] .colab-df-convert {\n",
              "      background-color: #3B4455;\n",
              "      fill: #D2E3FC;\n",
              "    }\n",
              "\n",
              "    [theme=dark] .colab-df-convert:hover {\n",
              "      background-color: #434B5C;\n",
              "      box-shadow: 0px 1px 3px 1px rgba(0, 0, 0, 0.15);\n",
              "      filter: drop-shadow(0px 1px 2px rgba(0, 0, 0, 0.3));\n",
              "      fill: #FFFFFF;\n",
              "    }\n",
              "  </style>\n",
              "\n",
              "    <script>\n",
              "      const buttonEl =\n",
              "        document.querySelector('#df-68992db9-311a-4a49-bd4a-7e50b78dffc2 button.colab-df-convert');\n",
              "      buttonEl.style.display =\n",
              "        google.colab.kernel.accessAllowed ? 'block' : 'none';\n",
              "\n",
              "      async function convertToInteractive(key) {\n",
              "        const element = document.querySelector('#df-68992db9-311a-4a49-bd4a-7e50b78dffc2');\n",
              "        const dataTable =\n",
              "          await google.colab.kernel.invokeFunction('convertToInteractive',\n",
              "                                                    [key], {});\n",
              "        if (!dataTable) return;\n",
              "\n",
              "        const docLinkHtml = 'Like what you see? Visit the ' +\n",
              "          '<a target=\"_blank\" href=https://colab.research.google.com/notebooks/data_table.ipynb>data table notebook</a>'\n",
              "          + ' to learn more about interactive tables.';\n",
              "        element.innerHTML = '';\n",
              "        dataTable['output_type'] = 'display_data';\n",
              "        await google.colab.output.renderOutput(dataTable, element);\n",
              "        const docLink = document.createElement('div');\n",
              "        docLink.innerHTML = docLinkHtml;\n",
              "        element.appendChild(docLink);\n",
              "      }\n",
              "    </script>\n",
              "  </div>\n",
              "\n",
              "\n",
              "<div id=\"df-494ed53d-7a01-4c68-9aec-d61f54963b84\">\n",
              "  <button class=\"colab-df-quickchart\" onclick=\"quickchart('df-494ed53d-7a01-4c68-9aec-d61f54963b84')\"\n",
              "            title=\"Suggest charts.\"\n",
              "            style=\"display:none;\">\n",
              "\n",
              "<svg xmlns=\"http://www.w3.org/2000/svg\" height=\"24px\"viewBox=\"0 0 24 24\"\n",
              "     width=\"24px\">\n",
              "    <g>\n",
              "        <path d=\"M19 3H5c-1.1 0-2 .9-2 2v14c0 1.1.9 2 2 2h14c1.1 0 2-.9 2-2V5c0-1.1-.9-2-2-2zM9 17H7v-7h2v7zm4 0h-2V7h2v10zm4 0h-2v-4h2v4z\"/>\n",
              "    </g>\n",
              "</svg>\n",
              "  </button>\n",
              "\n",
              "<style>\n",
              "  .colab-df-quickchart {\n",
              "      --bg-color: #E8F0FE;\n",
              "      --fill-color: #1967D2;\n",
              "      --hover-bg-color: #E2EBFA;\n",
              "      --hover-fill-color: #174EA6;\n",
              "      --disabled-fill-color: #AAA;\n",
              "      --disabled-bg-color: #DDD;\n",
              "  }\n",
              "\n",
              "  [theme=dark] .colab-df-quickchart {\n",
              "      --bg-color: #3B4455;\n",
              "      --fill-color: #D2E3FC;\n",
              "      --hover-bg-color: #434B5C;\n",
              "      --hover-fill-color: #FFFFFF;\n",
              "      --disabled-bg-color: #3B4455;\n",
              "      --disabled-fill-color: #666;\n",
              "  }\n",
              "\n",
              "  .colab-df-quickchart {\n",
              "    background-color: var(--bg-color);\n",
              "    border: none;\n",
              "    border-radius: 50%;\n",
              "    cursor: pointer;\n",
              "    display: none;\n",
              "    fill: var(--fill-color);\n",
              "    height: 32px;\n",
              "    padding: 0;\n",
              "    width: 32px;\n",
              "  }\n",
              "\n",
              "  .colab-df-quickchart:hover {\n",
              "    background-color: var(--hover-bg-color);\n",
              "    box-shadow: 0 1px 2px rgba(60, 64, 67, 0.3), 0 1px 3px 1px rgba(60, 64, 67, 0.15);\n",
              "    fill: var(--button-hover-fill-color);\n",
              "  }\n",
              "\n",
              "  .colab-df-quickchart-complete:disabled,\n",
              "  .colab-df-quickchart-complete:disabled:hover {\n",
              "    background-color: var(--disabled-bg-color);\n",
              "    fill: var(--disabled-fill-color);\n",
              "    box-shadow: none;\n",
              "  }\n",
              "\n",
              "  .colab-df-spinner {\n",
              "    border: 2px solid var(--fill-color);\n",
              "    border-color: transparent;\n",
              "    border-bottom-color: var(--fill-color);\n",
              "    animation:\n",
              "      spin 1s steps(1) infinite;\n",
              "  }\n",
              "\n",
              "  @keyframes spin {\n",
              "    0% {\n",
              "      border-color: transparent;\n",
              "      border-bottom-color: var(--fill-color);\n",
              "      border-left-color: var(--fill-color);\n",
              "    }\n",
              "    20% {\n",
              "      border-color: transparent;\n",
              "      border-left-color: var(--fill-color);\n",
              "      border-top-color: var(--fill-color);\n",
              "    }\n",
              "    30% {\n",
              "      border-color: transparent;\n",
              "      border-left-color: var(--fill-color);\n",
              "      border-top-color: var(--fill-color);\n",
              "      border-right-color: var(--fill-color);\n",
              "    }\n",
              "    40% {\n",
              "      border-color: transparent;\n",
              "      border-right-color: var(--fill-color);\n",
              "      border-top-color: var(--fill-color);\n",
              "    }\n",
              "    60% {\n",
              "      border-color: transparent;\n",
              "      border-right-color: var(--fill-color);\n",
              "    }\n",
              "    80% {\n",
              "      border-color: transparent;\n",
              "      border-right-color: var(--fill-color);\n",
              "      border-bottom-color: var(--fill-color);\n",
              "    }\n",
              "    90% {\n",
              "      border-color: transparent;\n",
              "      border-bottom-color: var(--fill-color);\n",
              "    }\n",
              "  }\n",
              "</style>\n",
              "\n",
              "  <script>\n",
              "    async function quickchart(key) {\n",
              "      const quickchartButtonEl =\n",
              "        document.querySelector('#' + key + ' button');\n",
              "      quickchartButtonEl.disabled = true;  // To prevent multiple clicks.\n",
              "      quickchartButtonEl.classList.add('colab-df-spinner');\n",
              "      try {\n",
              "        const charts = await google.colab.kernel.invokeFunction(\n",
              "            'suggestCharts', [key], {});\n",
              "      } catch (error) {\n",
              "        console.error('Error during call to suggestCharts:', error);\n",
              "      }\n",
              "      quickchartButtonEl.classList.remove('colab-df-spinner');\n",
              "      quickchartButtonEl.classList.add('colab-df-quickchart-complete');\n",
              "    }\n",
              "    (() => {\n",
              "      let quickchartButtonEl =\n",
              "        document.querySelector('#df-494ed53d-7a01-4c68-9aec-d61f54963b84 button');\n",
              "      quickchartButtonEl.style.display =\n",
              "        google.colab.kernel.accessAllowed ? 'block' : 'none';\n",
              "    })();\n",
              "  </script>\n",
              "</div>\n",
              "    </div>\n",
              "  </div>\n"
            ],
            "text/plain": [
              "                                             review_body  sentiment\n",
              "7527   Agree with other posters in that these worked ...          1\n",
              "84247  These are a little smaller than the ones I had...          2\n",
              "79106  Well made, plenty of card pockets, and I like ...          2\n",
              "37339  In the same year, I bought a new HP laptop and...          1\n",
              "33018  I bought this on Jan 2011 as a gift. I turned ...          1"
            ]
          },
          "execution_count": 13,
          "metadata": {},
          "output_type": "execute_result"
        },
        {
          "name": "stdout",
          "output_type": "stream",
          "text": [
            "time: 464 ms (started: 2023-09-18 04:59:23 +00:00)\n"
          ]
        }
      ],
      "source": [
        "# Create a new DataFrame with sampled data\n",
        "balanced_df = pd.concat(\n",
        "    [\n",
        "        df_filtered.query('sentiment==1').sample(\n",
        "            n=Config.N_SAMPLES_EACH_CLASS, random_state=Config.RANDOM_STATE\n",
        "        ),\n",
        "        df_filtered.query('sentiment==2').sample(\n",
        "            n=Config.N_SAMPLES_EACH_CLASS, random_state=Config.RANDOM_STATE\n",
        "        )\n",
        "    ],\n",
        "    ignore_index=True\n",
        ").sample(frac=1, random_state=Config.RANDOM_STATE)\n",
        "\n",
        "balanced_df.drop(columns=[\"star_rating\"], inplace=True)\n",
        "\n",
        "# Handling non-string values in Reviews\n",
        "balanced_df[\"review_body\"] = balanced_df[\"review_body\"].astype(str)\n",
        "\n",
        "balanced_df.head()"
      ]
    },
    {
      "cell_type": "markdown",
      "metadata": {
        "id": "Q1Sh_WQC_02d"
      },
      "source": [
        "# Data Cleaning\n",
        "- Using regex expressions to match and replace the below with with empty strings\n",
        "    - emails\n",
        "    - URLs\n",
        "    - HTML tags\n",
        "    - punctautions\n",
        "    - extra spaces\n",
        "    - non-alphabetical characters\n",
        "- We use contractions to expand contractions like `I'll` to `I will`\n",
        "    - This also reduces the of words in the vocabulary\n",
        "    - The expanded forms of contraction may or may not fit into the context of sentence\n",
        "\n",
        "> Vectorize the `clean_text` function for better performance"
      ]
    },
    {
      "cell_type": "code",
      "execution_count": 14,
      "metadata": {
        "colab": {
          "base_uri": "https://localhost:8080/"
        },
        "id": "GUN3Fdvyi1bZ",
        "outputId": "6acbcda6-6b6b-474d-89cd-f088c0f1b1f8"
      },
      "outputs": [
        {
          "name": "stdout",
          "output_type": "stream",
          "text": [
            "time: 965 µs (started: 2023-09-18 04:59:24 +00:00)\n"
          ]
        }
      ],
      "source": [
        "def unicode_to_ascii(s):\n",
        "  return ''.join(c for c in unicodedata.normalize('NFD', s)\n",
        "      if unicodedata.category(c) != 'Mn')\n",
        "\n",
        "def expand_contractions(text):\n",
        "    return contractions.fix(text)\n",
        "\n",
        "def clean_text(text):\n",
        "    text = unicode_to_ascii(text.lower().strip())\n",
        "\n",
        "    # replacing email addresses with empty string\n",
        "    text = re.sub(\n",
        "        r\"[a-zA-Z0-9_\\-\\.]+@[a-zA-Z0-9_\\-\\.]+\\.[a-zA-Z]{2,5}\", \" \", text\n",
        "    )\n",
        "\n",
        "    # replacing urls with empty string\n",
        "    text = re.sub(\n",
        "        r\"\\bhttps?:\\/\\/\\S+|www\\.\\S+\", \" \", text\n",
        "    )\n",
        "\n",
        "    # Remove HTML tags with empty string\n",
        "    text = re.sub(r\"<.*?>\", \"\", text)\n",
        "\n",
        "    # Expand contraction for eg., wouldn't => would not\n",
        "    text = expand_contractions(text)\n",
        "\n",
        "    # creating a space between a word and the punctuation following it\n",
        "    text = re.sub(r\"([?.!,¿])\", r\" \\1 \", text)\n",
        "    text = re.sub(r'[\" \"]+', \" \", text)\n",
        "\n",
        "    # removes all non-alphabetical characters\n",
        "    text = re.sub(r\"[^a-zA-Z\\s]+\", \"\", text)\n",
        "\n",
        "    # remove extra spaces\n",
        "    text = re.sub(\" +\", \" \", text)\n",
        "\n",
        "    text = text.strip()\n",
        "    return text\n",
        "\n",
        "clean_text_vect = np.vectorize(clean_text)"
      ]
    },
    {
      "cell_type": "code",
      "execution_count": 15,
      "metadata": {
        "colab": {
          "base_uri": "https://localhost:8080/"
        },
        "id": "MsnmN9wGvj8R",
        "outputId": "4caaa0d4-b2b1-463d-a21c-073ae59a6b70"
      },
      "outputs": [
        {
          "name": "stdout",
          "output_type": "stream",
          "text": [
            "Avg. Length of Reviews Before Cleaning: 314.91 characters\n",
            "Avg. Length of Reviews After Cleaning: 299.82 characters\n",
            "time: 50.5 s (started: 2023-09-18 04:59:24 +00:00)\n"
          ]
        }
      ],
      "source": [
        "# Calculate average length of reviews before cleaning\n",
        "avg_len_before_clean = balanced_df[\"review_body\"].apply(len).mean()\n",
        "\n",
        "balanced_df[\"review_body\"] = balanced_df[\"review_body\"].apply(clean_text_vect)\n",
        "\n",
        "# Drop rows with empty review_body\n",
        "balanced_df = balanced_df.loc[balanced_df[\"review_body\"].str.strip() != \"\"]\n",
        "\n",
        "# Calculate average length of reviews after cleaning\n",
        "avg_len_after_clean = balanced_df[\"review_body\"].apply(len).mean()\n",
        "\n",
        "print(f'Avg. Length of Reviews Before Cleaning: {avg_len_before_clean:.2f} characters')\n",
        "print(f'Avg. Length of Reviews After Cleaning: {avg_len_after_clean:.2f} characters')"
      ]
    },
    {
      "cell_type": "markdown",
      "metadata": {
        "id": "JB3yNEJ4_3on"
      },
      "source": [
        "# Pre-processing\n",
        "\n",
        "- Remove the stopwords\n",
        "    - Do not exclude negative stopwords\n",
        "- Lemmatize words after tokenization\n",
        "    - with Pos Tagging\n",
        "        - Boosts the precision and comprehensibility of textual information by converting words to their fundamental forms\n",
        "        - Considers their grammatical functions within sentences\n",
        "    - without Pos Tagging\n",
        "\n",
        "> Vectorize the `preprocess_text` function for better performance"
      ]
    },
    {
      "cell_type": "code",
      "execution_count": 28,
      "metadata": {
        "colab": {
          "base_uri": "https://localhost:8080/"
        },
        "id": "6sRxkdk9tTIO",
        "outputId": "238d9049-e4c7-4c3b-ca6b-54d8ccd51c41"
      },
      "outputs": [
        {
          "name": "stdout",
          "output_type": "stream",
          "text": [
            "time: 4.02 ms (started: 2023-09-18 05:24:11 +00:00)\n"
          ]
        }
      ],
      "source": [
        "# Stopword list\n",
        "og_stopwords = set(stopwords.words('english'))\n",
        "# Define a list of negative words to remove\n",
        "neg_words = ['no', 'not', 'nor', 'neither', 'none', 'never', 'nobody', 'nowhere']\n",
        "custom_stopwords = [word for word in og_stopwords if word not in neg_words]\n",
        "\n",
        "pattern = re.compile(r'\\b('+r'|'.join(custom_stopwords)+r')\\b\\s*')\n",
        "\n",
        "lemmatizer = WordNetLemmatizer()\n",
        "\n",
        "def pos_tagger(nltk_tag):\n",
        "    if nltk_tag.startswith('J'):\n",
        "        return wordnet.ADJ\n",
        "    elif nltk_tag.startswith('V'):\n",
        "        return wordnet.VERB\n",
        "    elif nltk_tag.startswith('N'):\n",
        "        return wordnet.NOUN\n",
        "    elif nltk_tag.startswith('R'):\n",
        "        return wordnet.ADV\n",
        "    else:\n",
        "        return None\n",
        "\n",
        "def lemmatize_text_with_pos_tagging(text):\n",
        "    words = nltk.pos_tag(word_tokenize(text))\n",
        "    words = map(lambda x: (x[0], pos_tagger(x[1])), words)\n",
        "    lemmatized_words = [\n",
        "        lemmatizer.lemmatize(word, tag)\n",
        "        if tag else word\n",
        "        for word, tag in words\n",
        "    ]\n",
        "    return ' '.join(lemmatized_words)\n",
        "\n",
        "def lemmatize_text(text):\n",
        "    words = word_tokenize(text)\n",
        "    lemmatized_words = [lemmatizer.lemmatize(word) for word in words]\n",
        "    return ' '.join(lemmatized_words)\n",
        "\n",
        "def preprocess_text(text):\n",
        "    # replacing all the stopwords\n",
        "    text = pattern.sub('',text)\n",
        "    text = lemmatize_text(text)\n",
        "    return text\n",
        "\n",
        "def preprocess_text_with_pos_tagging(text):\n",
        "    # replacing all the stopwords\n",
        "    text = pattern.sub('',text)\n",
        "    text = lemmatize_text_with_pos_tagging(text)\n",
        "    return text\n",
        "\n",
        "preprocess_text_vect = np.vectorize(preprocess_text)\n",
        "preprocess_text_vect_pos_tag = np.vectorize(preprocess_text_with_pos_tagging)"
      ]
    },
    {
      "cell_type": "markdown",
      "metadata": {
        "id": "yXAxeMUvvj-B"
      },
      "source": [
        "## Without Pos Tag"
      ]
    },
    {
      "cell_type": "code",
      "execution_count": 17,
      "metadata": {
        "colab": {
          "base_uri": "https://localhost:8080/"
        },
        "id": "toc_UbvixjUM",
        "outputId": "d38ab3b6-38ad-4a6b-b7c9-7ba2542886fd"
      },
      "outputs": [
        {
          "name": "stdout",
          "output_type": "stream",
          "text": [
            "Avg. Length of Reviews Before Preprocessing: 299.82 characters\n",
            "Avg. Length of Reviews After Preprocessing: 189.75 characters\n",
            "time: 1min 34s (started: 2023-09-18 05:00:14 +00:00)\n"
          ]
        }
      ],
      "source": [
        "# Calculate average length of reviews before cleaning\n",
        "avg_len_before_preprocess = avg_len_after_clean\n",
        "\n",
        "balanced_df[\"review_body\"] = balanced_df[\"review_body\"].apply(preprocess_text_vect)\n",
        "\n",
        "# Drop rows with empty review_body\n",
        "balanced_df = balanced_df.loc[balanced_df[\"review_body\"].str.strip() != \"\"]\n",
        "\n",
        "# Calculate average length of reviews after cleaning\n",
        "avg_len_after_preprocess = balanced_df[\"review_body\"].apply(len).mean()\n",
        "\n",
        "print(f'Avg. Length of Reviews Before Preprocessing: {avg_len_before_preprocess:.2f} characters')\n",
        "print(f'Avg. Length of Reviews After Preprocessing: {avg_len_after_preprocess:.2f} characters')"
      ]
    },
    {
      "cell_type": "markdown",
      "metadata": {
        "id": "1cum4FY1vqyA"
      },
      "source": [
        "## With Pos Tag"
      ]
    },
    {
      "cell_type": "code",
      "execution_count": 29,
      "metadata": {
        "colab": {
          "base_uri": "https://localhost:8080/"
        },
        "id": "O_XqI9L7vuXb",
        "outputId": "2127e3e1-f5e3-4d83-842f-3364eccff38a"
      },
      "outputs": [
        {
          "name": "stdout",
          "output_type": "stream",
          "text": [
            "Avg. Length of Reviews Before Preprocessing: 299.82 characters\n",
            "Avg. Length of Reviews After Preprocessing: 182.71 characters\n",
            "time: 10min 35s (started: 2023-09-18 05:27:15 +00:00)\n"
          ]
        }
      ],
      "source": [
        "balanced_df_pos_tag = balanced_df.copy(deep=True)\n",
        "balanced_df_pos_tag[\"review_body\"] = balanced_df_pos_tag[\"review_body\"].apply(preprocess_text_vect_pos_tag)\n",
        "\n",
        "# Drop rows with empty review_body\n",
        "balanced_df_pos_tag = balanced_df_pos_tag.loc[balanced_df[\"review_body\"].str.strip() != \"\"]\n",
        "\n",
        "# Calculate average length of reviews after cleaning\n",
        "avg_len_after_preprocess_pos_tag = balanced_df_pos_tag[\"review_body\"].apply(len).mean()\n",
        "\n",
        "print(f'Avg. Length of Reviews Before Preprocessing: {avg_len_before_preprocess:.2f} characters')\n",
        "print(f'Avg. Length of Reviews After Preprocessing: {avg_len_after_preprocess_pos_tag:.2f} characters')"
      ]
    },
    {
      "cell_type": "markdown",
      "metadata": {
        "id": "VmamXshzsJSj"
      },
      "source": [
        "## Train and Test Split"
      ]
    },
    {
      "cell_type": "code",
      "execution_count": 30,
      "metadata": {
        "colab": {
          "base_uri": "https://localhost:8080/"
        },
        "id": "ZGjLAQInsOEU",
        "outputId": "e7fb307a-b07c-4f2f-baed-dc605ed9f5fd"
      },
      "outputs": [
        {
          "name": "stdout",
          "output_type": "stream",
          "text": [
            "time: 51.1 ms (started: 2023-09-18 05:39:02 +00:00)\n"
          ]
        }
      ],
      "source": [
        "# Without Pos Tagging lem\n",
        "X_train, X_test, y_train, y_test = train_test_split(\n",
        "    balanced_df['review_body'],\n",
        "    balanced_df['sentiment'],\n",
        "    test_size=Config.TEST_SPLIT,\n",
        "    random_state=Config.RANDOM_STATE\n",
        ")\n",
        "\n",
        "# With Pos tagging lem\n",
        "X_train_pt, X_test_pt, y_train_pt, y_test_pt = train_test_split(\n",
        "    balanced_df_pos_tag['review_body'],\n",
        "    balanced_df_pos_tag['sentiment'],\n",
        "    test_size=Config.TEST_SPLIT,\n",
        "    random_state=Config.RANDOM_STATE\n",
        ")"
      ]
    },
    {
      "cell_type": "markdown",
      "metadata": {
        "id": "EnpWQAJq_8zO"
      },
      "source": [
        "# Feature Extraction"
      ]
    },
    {
      "cell_type": "markdown",
      "metadata": {
        "id": "lOXxy-sXAX8m"
      },
      "source": [
        "## TF-IDF"
      ]
    },
    {
      "cell_type": "code",
      "execution_count": 32,
      "metadata": {
        "colab": {
          "base_uri": "https://localhost:8080/"
        },
        "id": "dJx1JExDJy8F",
        "outputId": "7c4d7390-09d6-45a6-841f-cbd4af2f0352"
      },
      "outputs": [
        {
          "name": "stdout",
          "output_type": "stream",
          "text": [
            "time: 16.9 s (started: 2023-09-18 05:39:36 +00:00)\n"
          ]
        }
      ],
      "source": [
        "# Without Pos Tagging lem\n",
        "tfidf_vectorizer = TfidfVectorizer(max_features=Config.NUM_TFIDF_FEATURES)\n",
        "X_train_tfidf = tfidf_vectorizer.fit_transform(X_train)\n",
        "X_test_tfidf = tfidf_vectorizer.transform(X_test)\n",
        "\n",
        "# With Pos tagging lem\n",
        "tfidf_vectorizer_pt = TfidfVectorizer(max_features=Config.NUM_TFIDF_FEATURES)\n",
        "X_train_tfidf_pt = tfidf_vectorizer_pt.fit_transform(X_train_pt)\n",
        "X_test_tfidf_pt = tfidf_vectorizer_pt.transform(X_test_pt)"
      ]
    },
    {
      "cell_type": "markdown",
      "metadata": {
        "id": "X2VXSIhDAa5q"
      },
      "source": [
        "## Bag of words"
      ]
    },
    {
      "cell_type": "code",
      "execution_count": 33,
      "metadata": {
        "colab": {
          "base_uri": "https://localhost:8080/"
        },
        "id": "bD2DJ6ftJ9gh",
        "outputId": "321f9b1f-4cc2-4771-d361-10f6dcf3ef29"
      },
      "outputs": [
        {
          "name": "stdout",
          "output_type": "stream",
          "text": [
            "time: 5.99 s (started: 2023-09-18 05:39:56 +00:00)\n"
          ]
        }
      ],
      "source": [
        "count_vectorizer = CountVectorizer(max_features=Config.NUM_BOW_FEATURES)\n",
        "X_train_bow = count_vectorizer.fit_transform(X_train)\n",
        "X_test_bow = count_vectorizer.transform(X_test)\n",
        "\n",
        "count_vectorizer_pt = CountVectorizer(max_features=Config.NUM_BOW_FEATURES)\n",
        "X_train_bow_pt = count_vectorizer_pt.fit_transform(X_train_pt)\n",
        "X_test_bow_pt = count_vectorizer_pt.transform(X_test_pt)"
      ]
    },
    {
      "cell_type": "markdown",
      "metadata": {
        "id": "MPIl93_mADkt"
      },
      "source": [
        "# ML Modeling"
      ]
    },
    {
      "cell_type": "code",
      "execution_count": 34,
      "metadata": {
        "colab": {
          "base_uri": "https://localhost:8080/"
        },
        "id": "OYjL5b6FRvHE",
        "outputId": "01fcf731-96db-445b-e74e-54305011bcef"
      },
      "outputs": [
        {
          "name": "stdout",
          "output_type": "stream",
          "text": [
            "time: 1.31 ms (started: 2023-09-18 05:40:02 +00:00)\n"
          ]
        }
      ],
      "source": [
        "def evaluate_model(model, X_test, y_test):\n",
        "    # Predict on the test set\n",
        "    y_pred = model.predict(X_test)\n",
        "\n",
        "    # Calculate evaluation metrics\n",
        "    precision = precision_score(y_test, y_pred, average='binary')\n",
        "    recall = recall_score(y_test, y_pred, average='binary')\n",
        "    f1 = f1_score(y_test, y_pred, average='binary')\n",
        "\n",
        "    return precision, recall, f1\n",
        "\n",
        "\n",
        "def train_and_evaluate_model(model_class, X_train, y_train, X_test, y_test, **model_params):\n",
        "    # Initialize model\n",
        "    model = model_class(**model_params)\n",
        "\n",
        "    # Train the model\n",
        "    model.fit(X_train, y_train)\n",
        "\n",
        "    # Evaluate model\n",
        "    precision, recall, f1 = evaluate_model(model, X_test, y_test)\n",
        "    return precision, recall, f1"
      ]
    },
    {
      "cell_type": "markdown",
      "metadata": {
        "id": "7_WcbM6mAdwT"
      },
      "source": [
        "## Perceptron Using Both Features\n",
        "\n",
        "\n",
        "\n"
      ]
    },
    {
      "cell_type": "markdown",
      "metadata": {
        "id": "zyGsBy_J3EES"
      },
      "source": [
        "### Grid Search\n",
        "\n",
        "Performed Grid search changing hyperparameters\n",
        "- `max_iter` - number of epochs\n",
        "- `penalty` - regularization function\n",
        "- `tol` - loss to stop the iteration"
      ]
    },
    {
      "cell_type": "code",
      "execution_count": 38,
      "metadata": {
        "colab": {
          "base_uri": "https://localhost:8080/"
        },
        "id": "QmiZ6RIqpcPh",
        "outputId": "4e5d639d-cfbc-483b-f20a-093c16be3849"
      },
      "outputs": [
        {
          "name": "stdout",
          "output_type": "stream",
          "text": [
            "Fitting 5 folds for each of 90 candidates, totalling 450 fits\n",
            "Best Parameters (BoW): {'max_iter': 1000, 'penalty': 'l1', 'tol': 0.01}\n",
            "Precision Recall F1 (Perceptron, BoW): 0.8521 0.7558 0.8011\n",
            "time: 3min 55s (started: 2023-09-18 05:44:36 +00:00)\n"
          ]
        }
      ],
      "source": [
        "# Define the parameter grid to search\n",
        "param_grid = {\n",
        "    'max_iter': [1000, 2000, 4000, 8000, 10000, 12000],\n",
        "    'tol': [1e-1, 1e-2, 1e-3, 1e-4, 1e-5],\n",
        "    'penalty': ['l2','l1','elasticnet']\n",
        "}\n",
        "\n",
        "# Initialize Perceptron model\n",
        "perceptron = Perceptron()\n",
        "\n",
        "# Grid search for BoW features\n",
        "grid_search_bow = GridSearchCV(\n",
        "    estimator=perceptron,\n",
        "    param_grid=param_grid,\n",
        "    scoring='f1',\n",
        "    cv=5,  # Number of cross-validation folds\n",
        "    n_jobs=-1,\n",
        "    verbose=2\n",
        ")\n",
        "\n",
        "grid_search_bow.fit(X_train_bow, y_train)\n",
        "\n",
        "# Get the best parameters and model for BoW\n",
        "best_params_bow = grid_search_bow.best_params_\n",
        "best_model_bow = grid_search_bow.best_estimator_\n",
        "\n",
        "# Evaluate the best model for BoW\n",
        "precision_perceptron_bow, recall_perceptron_bow, f1_perceptron_bow = evaluate_model(best_model_bow, X_test_bow, y_test)\n",
        "\n",
        "# Print the results for BoW\n",
        "print(f'Best Parameters (BoW): {best_params_bow}')\n",
        "print(f'Precision Recall F1 (Perceptron, BoW): {precision_perceptron_bow:.4f} {recall_perceptron_bow:.4f} {f1_perceptron_bow:.4f}')"
      ]
    },
    {
      "cell_type": "code",
      "execution_count": 40,
      "metadata": {
        "colab": {
          "base_uri": "https://localhost:8080/"
        },
        "id": "39zPjoRxptBm",
        "outputId": "b32fa52c-0992-474b-a903-21f7025cefec"
      },
      "outputs": [
        {
          "name": "stdout",
          "output_type": "stream",
          "text": [
            "Fitting 5 folds for each of 90 candidates, totalling 450 fits\n",
            "Best Parameters (TF-IDF): {'max_iter': 1000, 'penalty': 'elasticnet', 'tol': 0.01}\n",
            "Precision Recall F1 (Perceptron, TF-IDF): 0.8440 0.7018 0.7663\n",
            "time: 1min 56s (started: 2023-09-18 05:55:19 +00:00)\n"
          ]
        }
      ],
      "source": [
        "# Grid search for TF-IDF features\n",
        "grid_search_tfidf = GridSearchCV(\n",
        "    estimator=perceptron,\n",
        "    param_grid=param_grid,\n",
        "    scoring='f1',\n",
        "    cv=5,  # Number of cross-validation folds\n",
        "    n_jobs=-1,\n",
        "    verbose=4\n",
        ")\n",
        "\n",
        "grid_search_tfidf.fit(X_train_tfidf, y_train)\n",
        "\n",
        "# Get the best parameters and model for TF-IDF\n",
        "best_params_tfidf = grid_search_tfidf.best_params_\n",
        "best_model_tfidf = grid_search_tfidf.best_estimator_\n",
        "\n",
        "# Evaluate the best model for TF-IDF\n",
        "precision_perceptron_tfidf, recall_perceptron_tfidf, f1_perceptron_tfidf = evaluate_model(best_model_tfidf, X_test_tfidf, y_test)\n",
        "\n",
        "# Print the results for TF-IDF\n",
        "print(f'Best Parameters (TF-IDF): {best_params_tfidf}')\n",
        "print(f'Precision Recall F1 (Perceptron, TF-IDF): {precision_perceptron_tfidf:.4f} {recall_perceptron_tfidf:.4f} {f1_perceptron_tfidf:.4f}')"
      ]
    },
    {
      "cell_type": "markdown",
      "metadata": {
        "id": "y2FAGWPl39kU"
      },
      "source": [
        "### Without Pos Tag Lem"
      ]
    },
    {
      "cell_type": "code",
      "execution_count": 39,
      "metadata": {
        "colab": {
          "base_uri": "https://localhost:8080/"
        },
        "id": "OrBKdzMoq9PL",
        "outputId": "10b1eec4-f6db-4994-c280-3532edef4d76"
      },
      "outputs": [
        {
          "name": "stdout",
          "output_type": "stream",
          "text": [
            "Precision Recall F1 (BoW): 0.7989 0.8290 0.8137\n",
            "Precision Recall F1 (TF-IDF): 0.8213 0.8153 0.8183\n",
            "time: 2.15 s (started: 2023-09-18 05:54:12 +00:00)\n"
          ]
        }
      ],
      "source": [
        "# Train and evaluate Perceptron model using BoW features\n",
        "precision_perceptron_bow, recall_perceptron_bow, f1_perceptron_bow = train_and_evaluate_model(\n",
        "    Perceptron,\n",
        "    X_train_bow, y_train, X_test_bow, y_test,\n",
        "    max_iter=1000\n",
        ")\n",
        "\n",
        "# Train and evaluate Perceptron model using TF-IDF features\n",
        "precision_perceptron_tfidf, recall_perceptron_tfidf, f1_perceptron_tfidf = train_and_evaluate_model(\n",
        "    Perceptron,\n",
        "    X_train_tfidf, y_train, X_test_tfidf, y_test,\n",
        "    max_iter=1000\n",
        ")\n",
        "\n",
        "# Print the results\n",
        "print(f'Precision Recall F1 (BoW): {precision_perceptron_bow:.4f} {recall_perceptron_bow:.4f} {f1_perceptron_bow:.4f}')\n",
        "print(f'Precision Recall F1 (TF-IDF): {precision_perceptron_tfidf:.4f} {recall_perceptron_tfidf:.4f} {f1_perceptron_tfidf:.4f}')"
      ]
    },
    {
      "cell_type": "markdown",
      "metadata": {
        "id": "O_-pWfNB4E2e"
      },
      "source": [
        "### With Pos Tag Lem"
      ]
    },
    {
      "cell_type": "code",
      "execution_count": 41,
      "metadata": {
        "colab": {
          "base_uri": "https://localhost:8080/"
        },
        "id": "bKc422Cy3CQz",
        "outputId": "30057835-edad-4bf0-f5e5-24fd666c3737"
      },
      "outputs": [
        {
          "name": "stdout",
          "output_type": "stream",
          "text": [
            "Precision Recall F1 (BoW): 0.8412 0.7556 0.7961\n",
            "Precision Recall F1 (TF-IDF): 0.8053 0.8120 0.8087\n",
            "time: 1.17 s (started: 2023-09-18 05:59:15 +00:00)\n"
          ]
        }
      ],
      "source": [
        "# Train and evaluate Perceptron model using BoW features\n",
        "precision_perceptron_bow_pt, recall_perceptron_bow_pt, f1_perceptron_bow_pt = train_and_evaluate_model(\n",
        "    Perceptron,\n",
        "    X_train_bow_pt, y_train, X_test_bow_pt, y_test,\n",
        "    max_iter=1000\n",
        ")\n",
        "\n",
        "# Train and evaluate Perceptron model using TF-IDF features\n",
        "precision_perceptron_tfidf_pt, recall_perceptron_tfidf_pt, f1_perceptron_tfidf_pt = train_and_evaluate_model(\n",
        "    Perceptron,\n",
        "    X_train_tfidf_pt, y_train, X_test_tfidf_pt, y_test,\n",
        "    max_iter=1000\n",
        ")\n",
        "\n",
        "# Print the results\n",
        "print(f'Precision Recall F1 (BoW): {precision_perceptron_bow_pt:.4f} {recall_perceptron_bow_pt:.4f} {f1_perceptron_bow_pt:.4f}')\n",
        "print(f'Precision Recall F1 (TF-IDF): {precision_perceptron_tfidf_pt:.4f} {recall_perceptron_tfidf_pt:.4f} {f1_perceptron_tfidf_pt:.4f}')"
      ]
    },
    {
      "cell_type": "markdown",
      "metadata": {
        "id": "izS1D_v3AgKu"
      },
      "source": [
        "## SVM Using Both Features"
      ]
    },
    {
      "cell_type": "markdown",
      "metadata": {
        "id": "ysx715n_4VcR"
      },
      "source": [
        "### Without Pos Tag Lem"
      ]
    },
    {
      "cell_type": "code",
      "execution_count": 44,
      "metadata": {
        "colab": {
          "base_uri": "https://localhost:8080/"
        },
        "id": "RIlCoJHHT5XT",
        "outputId": "6e0a1cdb-aa5f-451f-e08d-620ad9deccd7"
      },
      "outputs": [
        {
          "name": "stdout",
          "output_type": "stream",
          "text": [
            "Precision Recall F1 (SVM, BoW): 0.8591 0.8224 0.8403\n",
            "Precision Recall F1 (SVM, TF-IDF): 0.8597 0.8577 0.8587\n",
            "time: 43 s (started: 2023-09-18 06:11:13 +00:00)\n"
          ]
        }
      ],
      "source": [
        "# Train and evaluate SVM model using BoW features\n",
        "precision_svm_bow, recall_svm_bow, f1_svm_bow = train_and_evaluate_model(\n",
        "    LinearSVC,\n",
        "    X_train_bow, y_train, X_test_bow, y_test,\n",
        "    max_iter=2000\n",
        ")\n",
        "\n",
        "# Train and evaluate SVM model using TF-IDF features\n",
        "precision_svm_tfidf, recall_svm_tfidf, f1_svm_tfidf = train_and_evaluate_model(\n",
        "    LinearSVC,\n",
        "    X_train_tfidf, y_train, X_test_tfidf, y_test,\n",
        "    max_iter=2000\n",
        ")\n",
        "\n",
        "# Print the results\n",
        "print(f'Precision Recall F1 (SVM, BoW): {precision_svm_bow:.4f} {recall_svm_bow:.4f} {f1_svm_bow:.4f}')\n",
        "print(f'Precision Recall F1 (SVM, TF-IDF): {precision_svm_tfidf:.4f} {recall_svm_tfidf:.4f} {f1_svm_tfidf:.4f}')"
      ]
    },
    {
      "cell_type": "markdown",
      "metadata": {
        "id": "glQ5N9nM4g1c"
      },
      "source": [
        "### With Pos Tag Lem"
      ]
    },
    {
      "cell_type": "code",
      "execution_count": 42,
      "metadata": {
        "colab": {
          "base_uri": "https://localhost:8080/"
        },
        "id": "a3nhvObK33yx",
        "outputId": "3d0a8ece-e496-4ac2-b0cb-d573ed5f12c9"
      },
      "outputs": [
        {
          "name": "stdout",
          "output_type": "stream",
          "text": [
            "Precision Recall F1 (SVM, BoW): 0.8538 0.8186 0.8358\n",
            "Precision Recall F1 (SVM, TF-IDF): 0.8564 0.8544 0.8554\n",
            "time: 47.1 s (started: 2023-09-18 06:03:37 +00:00)\n"
          ]
        }
      ],
      "source": [
        "# Train and evaluate SVM model using BoW features\n",
        "precision_svm_bow, recall_svm_bow, f1_svm_bow = train_and_evaluate_model(\n",
        "    LinearSVC,\n",
        "    X_train_bow_pt, y_train, X_test_bow_pt, y_test,\n",
        "    max_iter=2000\n",
        ")\n",
        "\n",
        "# Train and evaluate SVM model using TF-IDF features\n",
        "precision_svm_tfidf, recall_svm_tfidf, f1_svm_tfidf = train_and_evaluate_model(\n",
        "    LinearSVC,\n",
        "    X_train_tfidf_pt, y_train, X_test_tfidf_pt, y_test,\n",
        "    max_iter=2000\n",
        ")\n",
        "\n",
        "# Print the results\n",
        "print(f'Precision Recall F1 (SVM, BoW): {precision_svm_bow:.4f} {recall_svm_bow:.4f} {f1_svm_bow:.4f}')\n",
        "print(f'Precision Recall F1 (SVM, TF-IDF): {precision_svm_tfidf:.4f} {recall_svm_tfidf:.4f} {f1_svm_tfidf:.4f}')"
      ]
    },
    {
      "cell_type": "markdown",
      "metadata": {
        "id": "SJmEj5uZAjo6"
      },
      "source": [
        "## Logistic Regression Using Both Features"
      ]
    },
    {
      "cell_type": "markdown",
      "metadata": {
        "id": "IwsgrEep4XH-"
      },
      "source": [
        "### Without Pos Tag Lem"
      ]
    },
    {
      "cell_type": "code",
      "execution_count": 48,
      "metadata": {
        "colab": {
          "base_uri": "https://localhost:8080/"
        },
        "id": "UE_srzJ-VF9h",
        "outputId": "6ed486e4-2c47-41be-f5b6-787c7318c02a"
      },
      "outputs": [
        {
          "name": "stdout",
          "output_type": "stream",
          "text": [
            "Precision Recall F1 (Logistic Regression, BoW): 0.8694 0.8358 0.8523\n",
            "Precision Recall F1 (Logistic Regression, TF-IDF): 0.8582 0.8641 0.8611\n",
            "time: 8.34 s (started: 2023-09-18 06:15:55 +00:00)\n"
          ]
        }
      ],
      "source": [
        "# Train and evaluate Logistic Regression model using BoW features\n",
        "precision_lr_bow, recall_lr_bow, f1_lr_bow = train_and_evaluate_model(\n",
        "    LogisticRegression,\n",
        "    X_train_bow, y_train, X_test_bow, y_test,\n",
        "    max_iter=2000\n",
        ")\n",
        "\n",
        "# Train and evaluate Logistic Regression model using TF-IDF features\n",
        "precision_lr_tfidf, recall_lr_tfidf, f1_lr_tfidf = train_and_evaluate_model(\n",
        "    LogisticRegression,\n",
        "    X_train_tfidf, y_train, X_test_tfidf, y_test,\n",
        "    max_iter=2000\n",
        ")\n",
        "\n",
        "# Print the results\n",
        "print(f'Precision Recall F1 (Logistic Regression, BoW): {precision_lr_bow:.4f} {recall_lr_bow:.4f} {f1_lr_bow:.4f}')\n",
        "print(f'Precision Recall F1 (Logistic Regression, TF-IDF): {precision_lr_tfidf:.4f} {recall_lr_tfidf:.4f} {f1_lr_tfidf:.4f}')"
      ]
    },
    {
      "cell_type": "markdown",
      "metadata": {
        "id": "ItS_0KH-4mQs"
      },
      "source": [
        "### With Pos Tag Lem"
      ]
    },
    {
      "cell_type": "code",
      "execution_count": 49,
      "metadata": {
        "colab": {
          "base_uri": "https://localhost:8080/"
        },
        "id": "TUAGdvyd7TMS",
        "outputId": "804836fc-f5a2-407a-a268-d92311547a0c"
      },
      "outputs": [
        {
          "name": "stdout",
          "output_type": "stream",
          "text": [
            "Precision Recall F1 (Logistic Regression, BoW): 0.8657 0.8307 0.8478\n",
            "Precision Recall F1 (Logistic Regression, TF-IDF): 0.8562 0.8606 0.8584\n",
            "time: 7.83 s (started: 2023-09-18 06:16:09 +00:00)\n"
          ]
        }
      ],
      "source": [
        "# Train and evaluate Logistic Regression model using BoW features\n",
        "precision_lr_bow, recall_lr_bow, f1_lr_bow = train_and_evaluate_model(\n",
        "    LogisticRegression,\n",
        "    X_train_bow_pt, y_train, X_test_bow_pt, y_test,\n",
        "    max_iter=2000\n",
        ")\n",
        "\n",
        "# Train and evaluate Logistic Regression model using TF-IDF features\n",
        "precision_lr_tfidf, recall_lr_tfidf, f1_lr_tfidf = train_and_evaluate_model(\n",
        "    LogisticRegression,\n",
        "    X_train_tfidf_pt, y_train, X_test_tfidf_pt, y_test,\n",
        "    max_iter=2000\n",
        ")\n",
        "\n",
        "# Print the results\n",
        "print(f'Precision Recall F1 (Logistic Regression, BoW): {precision_lr_bow:.4f} {recall_lr_bow:.4f} {f1_lr_bow:.4f}')\n",
        "print(f'Precision Recall F1 (Logistic Regression, TF-IDF): {precision_lr_tfidf:.4f} {recall_lr_tfidf:.4f} {f1_lr_tfidf:.4f}')"
      ]
    },
    {
      "cell_type": "markdown",
      "metadata": {
        "id": "CaMHKE74AniD"
      },
      "source": [
        "## Naive Bayes Using Both Features"
      ]
    },
    {
      "cell_type": "markdown",
      "metadata": {
        "id": "NsBmVdpt4be5"
      },
      "source": [
        "### Without Pos Tag Lem"
      ]
    },
    {
      "cell_type": "code",
      "execution_count": 51,
      "metadata": {
        "colab": {
          "base_uri": "https://localhost:8080/"
        },
        "id": "o-Mg7JzAVgP5",
        "outputId": "d21daa0c-8b18-4d5d-e891-7966b952cc59"
      },
      "outputs": [
        {
          "name": "stdout",
          "output_type": "stream",
          "text": [
            "Precision Recall F1 (Naive Bayes, BoW): 0.8496 0.7718 0.8089\n",
            "Precision Recall F1 (Naive Bayes, TF-IDF): 0.8284 0.8279 0.8281\n",
            "time: 224 ms (started: 2023-09-18 06:17:30 +00:00)\n"
          ]
        }
      ],
      "source": [
        "# Train and evaluate Naive Bayes model using BoW features\n",
        "precision_nb_bow, recall_nb_bow, f1_nb_bow = train_and_evaluate_model(\n",
        "    MultinomialNB,\n",
        "    X_train_bow, y_train, X_test_bow, y_test\n",
        ")\n",
        "\n",
        "# Train and evaluate Naive Bayes model using TF-IDF features\n",
        "precision_nb_tfidf, recall_nb_tfidf, f1_nb_tfidf = train_and_evaluate_model(\n",
        "    MultinomialNB,\n",
        "    X_train_tfidf, y_train, X_test_tfidf, y_test\n",
        ")\n",
        "\n",
        "# Print the results\n",
        "print(f'Precision Recall F1 (Naive Bayes, BoW): {precision_nb_bow:.4f} {recall_nb_bow:.4f} {f1_nb_bow:.4f}')\n",
        "print(f'Precision Recall F1 (Naive Bayes, TF-IDF): {precision_nb_tfidf:.4f} {recall_nb_tfidf:.4f} {f1_nb_tfidf:.4f}')"
      ]
    },
    {
      "cell_type": "markdown",
      "metadata": {
        "id": "LwQiik464m2e"
      },
      "source": [
        "### With Pos Tag Lem"
      ]
    },
    {
      "cell_type": "code",
      "execution_count": 52,
      "metadata": {
        "colab": {
          "base_uri": "https://localhost:8080/"
        },
        "id": "3GSh_nIk74Dy",
        "outputId": "c816495f-e4fe-457e-f99e-fcf768824aa7"
      },
      "outputs": [
        {
          "name": "stdout",
          "output_type": "stream",
          "text": [
            "Precision Recall F1 (Naive Bayes, BoW): 0.8456 0.7678 0.8048\n",
            "Precision Recall F1 (Naive Bayes, TF-IDF): 0.8234 0.8242 0.8238\n",
            "time: 127 ms (started: 2023-09-18 06:17:32 +00:00)\n"
          ]
        }
      ],
      "source": [
        "# Train and evaluate Naive Bayes model using BoW features\n",
        "precision_nb_bow, recall_nb_bow, f1_nb_bow = train_and_evaluate_model(\n",
        "    MultinomialNB,\n",
        "    X_train_bow_pt, y_train, X_test_bow_pt, y_test\n",
        ")\n",
        "\n",
        "# Train and evaluate Naive Bayes model using TF-IDF features\n",
        "precision_nb_tfidf, recall_nb_tfidf, f1_nb_tfidf = train_and_evaluate_model(\n",
        "    MultinomialNB,\n",
        "    X_train_tfidf_pt, y_train, X_test_tfidf_pt, y_test\n",
        ")\n",
        "\n",
        "# Print the results\n",
        "print(f'Precision Recall F1 (Naive Bayes, BoW): {precision_nb_bow:.4f} {recall_nb_bow:.4f} {f1_nb_bow:.4f}')\n",
        "print(f'Precision Recall F1 (Naive Bayes, TF-IDF): {precision_nb_tfidf:.4f} {recall_nb_tfidf:.4f} {f1_nb_tfidf:.4f}')"
      ]
    },
    {
      "cell_type": "markdown",
      "metadata": {
        "id": "ovSEpcoOTcDG"
      },
      "source": [
        "# Convert to Python File"
      ]
    },
    {
      "cell_type": "code",
      "execution_count": 53,
      "metadata": {
        "colab": {
          "base_uri": "https://localhost:8080/"
        },
        "id": "7WCFZoK_0YB4",
        "outputId": "0bb94737-72d1-4691-89b7-d9c768bd1189"
      },
      "outputs": [
        {
          "name": "stdout",
          "output_type": "stream",
          "text": [
            "Python 3.10.12\n",
            "time: 108 ms (started: 2023-09-18 06:17:46 +00:00)\n"
          ]
        }
      ],
      "source": [
        "!python --version"
      ]
    },
    {
      "cell_type": "markdown",
      "metadata": {
        "id": "tbIRqGyKCZO1"
      },
      "source": [
        "## With negative stopwords"
      ]
    },
    {
      "cell_type": "code",
      "execution_count": 54,
      "metadata": {
        "colab": {
          "base_uri": "https://localhost:8080/"
        },
        "id": "TSg_8fyiTfni",
        "outputId": "79f52b61-80f7-42f1-964e-6f353a913eff"
      },
      "outputs": [
        {
          "name": "stdout",
          "output_type": "stream",
          "text": [
            "Writing HW1-CSCI544-w-neg-sw.py\n",
            "time: 15.9 ms (started: 2023-09-18 06:50:31 +00:00)\n"
          ]
        }
      ],
      "source": [
        "%%writefile HW1-CSCI544-w-neg-sw.py\n",
        "# Python Version: 3.10.12\n",
        "\n",
        "# Python Version: 3.10.12\n",
        "\n",
        "import re\n",
        "import unicodedata\n",
        "\n",
        "import warnings\n",
        "\n",
        "warnings.filterwarnings(\"ignore\")\n",
        "\n",
        "import numpy as np\n",
        "import pandas as pd\n",
        "\n",
        "import nltk\n",
        "from nltk.corpus import stopwords, wordnet\n",
        "from nltk.stem import WordNetLemmatizer\n",
        "from nltk.tokenize import word_tokenize\n",
        "\n",
        "nltk.download(\"punkt\", quiet=True)\n",
        "nltk.download(\"wordnet\", quiet=True)\n",
        "nltk.download(\"stopwords\", quiet=True)\n",
        "nltk.download(\"averaged_perceptron_tagger\", quiet=True)\n",
        "\n",
        "import contractions\n",
        "\n",
        "from sklearn.model_selection import train_test_split\n",
        "from sklearn.feature_extraction.text import TfidfVectorizer, CountVectorizer\n",
        "from sklearn.metrics import precision_score, recall_score, f1_score\n",
        "\n",
        "from sklearn.linear_model import Perceptron, LogisticRegression\n",
        "from sklearn.svm import LinearSVC\n",
        "from sklearn.naive_bayes import MultinomialNB\n",
        "\n",
        "\n",
        "class Config:\n",
        "    RANDOM_STATE = 56\n",
        "    DATA_PATH = \"amazon_reviews_us_Office_Products_v1_00.tsv.gz\"\n",
        "    TEST_SPLIT = 0.2\n",
        "    N_SAMPLES_EACH_CLASS = 50000\n",
        "    NUM_TFIDF_FEATURES = 5000\n",
        "    NUM_BOW_FEATURES = 5000\n",
        "\n",
        "\n",
        "class DataLoader:\n",
        "    @staticmethod\n",
        "    def load_data(path):\n",
        "        df = pd.read_csv(\n",
        "            path,\n",
        "            sep=\"\\t\",\n",
        "            usecols=[\"review_headline\", \"review_body\", \"star_rating\"],\n",
        "            on_bad_lines=\"skip\",\n",
        "            memory_map=True,\n",
        "        )\n",
        "        return df\n",
        "\n",
        "\n",
        "class DataProcessor:\n",
        "    @staticmethod\n",
        "    def filter_columns(df):\n",
        "        return df.loc[:, [\"review_body\", \"star_rating\"]]\n",
        "\n",
        "    @staticmethod\n",
        "    def convert_star_rating(df):\n",
        "        df[\"star_rating\"] = pd.to_numeric(df[\"star_rating\"], errors=\"coerce\")\n",
        "        df.dropna(subset=[\"star_rating\"], inplace=True)\n",
        "        return df\n",
        "\n",
        "    @staticmethod\n",
        "    def classify_sentiment(df):\n",
        "        df[\"sentiment\"] = df[\"star_rating\"].apply(lambda x: 1 if x <= 3 else 2)\n",
        "        return df\n",
        "\n",
        "    @staticmethod\n",
        "    def sample_data(df, n_samples, random_state):\n",
        "        sampled_df = pd.concat(\n",
        "            [\n",
        "                df.query(\"sentiment==1\").sample(n=n_samples, random_state=random_state),\n",
        "                df.query(\"sentiment==2\").sample(n=n_samples, random_state=random_state),\n",
        "            ],\n",
        "            ignore_index=True,\n",
        "        ).sample(frac=1, random_state=random_state)\n",
        "\n",
        "        sampled_df.drop(columns=[\"star_rating\"], inplace=True)\n",
        "        return sampled_df\n",
        "\n",
        "\n",
        "class TextCleaner:\n",
        "    @staticmethod\n",
        "    def unicode_to_ascii(s):\n",
        "        return \"\".join(\n",
        "            c for c in unicodedata.normalize(\"NFD\", s) if unicodedata.category(c) != \"Mn\"\n",
        "        )\n",
        "\n",
        "    @staticmethod\n",
        "    def expand_contractions(text):\n",
        "        return contractions.fix(text)\n",
        "\n",
        "    @staticmethod\n",
        "    def remove_email_addresses(text):\n",
        "        return re.sub(r\"[a-zA-Z0-9_\\-\\.]+@[a-zA-Z0-9_\\-\\.]+\\.[a-zA-Z]{2,5}\", \" \", text)\n",
        "\n",
        "    @staticmethod\n",
        "    def remove_urls(text):\n",
        "        return re.sub(r\"\\bhttps?:\\/\\/\\S+|www\\.\\S+\", \" \", text)\n",
        "\n",
        "    @staticmethod\n",
        "    def remove_html_tags(text):\n",
        "        return re.sub(r\"<.*?>\", \"\", text)\n",
        "\n",
        "    @staticmethod\n",
        "    def clean_text(text):\n",
        "        text = TextCleaner.unicode_to_ascii(text.lower().strip())\n",
        "        # replacing email addresses with empty string\n",
        "        text = TextCleaner.remove_email_addresses(text)\n",
        "        # replacing urls with empty string\n",
        "        text = TextCleaner.remove_urls(text)\n",
        "        # Remove HTML tags\n",
        "        text = TextCleaner.remove_html_tags(text)\n",
        "        # Expand contraction for eg., wouldn't => would not\n",
        "        text = TextCleaner.expand_contractions(text)\n",
        "        # creating a space between a word and the punctuation following it\n",
        "        text = re.sub(r\"([?.!,¿])\", r\" \\1 \", text)\n",
        "        text = re.sub(r'[\" \"]+', \" \", text)\n",
        "        # removes all non-alphabetical characters\n",
        "        text = re.sub(r\"[^a-zA-Z\\s]+\", \"\", text)\n",
        "        # remove extra spaces\n",
        "        text = re.sub(\" +\", \" \", text)\n",
        "        text = text.strip()\n",
        "        return text\n",
        "\n",
        "\n",
        "class TextPreprocessor:\n",
        "    lemmatizer = WordNetLemmatizer()\n",
        "\n",
        "    @staticmethod\n",
        "    def get_stopwords_pattern():\n",
        "        # Stopword list\n",
        "        og_stopwords = set(stopwords.words(\"english\"))\n",
        "\n",
        "        # Define a list of negative words to remove\n",
        "        # neg_words = [\"no\", \"not\", \"nor\", \"neither\", \"none\", \"never\", \"nobody\", \"nowhere\"]\n",
        "        # custom_stopwords = [word for word in og_stopwords if word not in neg_words]\n",
        "        pattern = re.compile(r\"\\b(\" + r\"|\".join(og_stopwords) + r\")\\b\\s*\")\n",
        "        return pattern\n",
        "\n",
        "    @staticmethod\n",
        "    def pos_tagger(tag):\n",
        "        if tag.startswith(\"J\"):\n",
        "            return wordnet.ADJ\n",
        "        elif tag.startswith(\"V\"):\n",
        "            return wordnet.VERB\n",
        "        elif tag.startswith(\"N\"):\n",
        "            return wordnet.NOUN\n",
        "        elif tag.startswith(\"R\"):\n",
        "            return wordnet.ADV\n",
        "        else:\n",
        "            return None\n",
        "\n",
        "    @staticmethod\n",
        "    def lemmatize_text_using_pos_tags(text):\n",
        "        words = nltk.pos_tag(word_tokenize(text))\n",
        "        words = map(lambda x: (x[0], TextPreprocessor.pos_tagger(x[1])), words)\n",
        "        lemmatized_words = [\n",
        "            TextPreprocessor.lemmatizer.lemmatize(word, tag) if tag else word for word, tag in words\n",
        "        ]\n",
        "        return \" \".join(lemmatized_words)\n",
        "\n",
        "    @staticmethod\n",
        "    def lemmatize_text(text):\n",
        "        words = word_tokenize(text)\n",
        "        lemmatized_words = [TextPreprocessor.lemmatizer.lemmatize(word) for word in words]\n",
        "        return \" \".join(lemmatized_words)\n",
        "\n",
        "    pattern = get_stopwords_pattern()\n",
        "\n",
        "    @staticmethod\n",
        "    def preprocess_text(text):\n",
        "        # replacing all the stopwords\n",
        "        text = TextPreprocessor.pattern.sub(\"\", text)\n",
        "        text = TextPreprocessor.lemmatize_text(text)\n",
        "        return text\n",
        "\n",
        "\n",
        "clean_text_vect = np.vectorize(TextCleaner.clean_text)\n",
        "preprocess_text_vect = np.vectorize(TextPreprocessor.preprocess_text)\n",
        "\n",
        "\n",
        "def clean_and_process_data(path):\n",
        "    df = DataLoader.load_data(path)\n",
        "    df_filtered = DataProcessor.filter_columns(df)\n",
        "    df_filtered = DataProcessor.convert_star_rating(df_filtered)\n",
        "    df_filtered = DataProcessor.classify_sentiment(df_filtered)\n",
        "\n",
        "    balanced_df = DataProcessor.sample_data(\n",
        "        df_filtered, Config.N_SAMPLES_EACH_CLASS, Config.RANDOM_STATE\n",
        "    )\n",
        "\n",
        "    balanced_df[\"review_body\"] = balanced_df[\"review_body\"].astype(str)\n",
        "\n",
        "    # Clean data\n",
        "    avg_len_before_clean = balanced_df[\"review_body\"].apply(len).mean()\n",
        "    balanced_df[\"review_body\"] = balanced_df[\"review_body\"].apply(clean_text_vect)\n",
        "    # Drop reviews that are empty\n",
        "    balanced_df = balanced_df.loc[balanced_df[\"review_body\"].str.strip() != \"\"]\n",
        "    avg_len_after_clean = balanced_df[\"review_body\"].apply(len).mean()\n",
        "\n",
        "    # Preprocess data\n",
        "    avg_len_before_preprocess = avg_len_after_clean\n",
        "    balanced_df[\"review_body\"] = balanced_df[\"review_body\"].apply(preprocess_text_vect)\n",
        "    avg_len_after_preprocess = balanced_df[\"review_body\"].apply(len).mean()\n",
        "\n",
        "    # Print Results\n",
        "    print(f\"{avg_len_before_clean:.2f}, {avg_len_after_clean:.2f}\")\n",
        "    print(f\"{avg_len_before_preprocess:.2f}, {avg_len_after_preprocess:.2f}\")\n",
        "\n",
        "    return balanced_df\n",
        "\n",
        "\n",
        "def evaluate_model(model, X_test, y_test):\n",
        "    # Predict on the test set\n",
        "    y_pred = model.predict(X_test)\n",
        "\n",
        "    # Calculate evaluation metrics\n",
        "    precision = precision_score(y_test, y_pred, average=\"binary\")\n",
        "    recall = recall_score(y_test, y_pred, average=\"binary\")\n",
        "    f1 = f1_score(y_test, y_pred, average=\"binary\")\n",
        "\n",
        "    return precision, recall, f1\n",
        "\n",
        "\n",
        "def train_and_evaluate_model(model_class, X_train, y_train, X_test, y_test, **model_params):\n",
        "    # Initialize model\n",
        "    model = model_class(**model_params)\n",
        "\n",
        "    # Train the model\n",
        "    model.fit(X_train, y_train)\n",
        "\n",
        "    # Evaluate model\n",
        "    precision, recall, f1 = evaluate_model(model, X_test, y_test)\n",
        "    return model, precision, recall, f1\n",
        "\n",
        "\n",
        "def main():\n",
        "    balanced_df = clean_and_process_data(Config.DATA_PATH)\n",
        "\n",
        "    # Splitting the reviews dataset\n",
        "    X_train, X_test, y_train, y_test = train_test_split(\n",
        "        balanced_df[\"review_body\"],\n",
        "        balanced_df[\"sentiment\"],\n",
        "        test_size=Config.TEST_SPLIT,\n",
        "        random_state=Config.RANDOM_STATE,\n",
        "    )\n",
        "\n",
        "    # Feature Extraction\n",
        "    tfidf_vectorizer = TfidfVectorizer(max_features=Config.NUM_TFIDF_FEATURES)\n",
        "    X_train_tfidf = tfidf_vectorizer.fit_transform(X_train)\n",
        "    X_test_tfidf = tfidf_vectorizer.transform(X_test)\n",
        "\n",
        "    count_vectorizer = CountVectorizer(max_features=Config.NUM_BOW_FEATURES)\n",
        "    X_train_bow = count_vectorizer.fit_transform(X_train)\n",
        "    X_test_bow = count_vectorizer.transform(X_test)\n",
        "\n",
        "    # Train and evaluate Perceptron model using BoW features\n",
        "    (\n",
        "        _,\n",
        "        precision_perceptron_bow,\n",
        "        recall_perceptron_bow,\n",
        "        f1_perceptron_bow,\n",
        "    ) = train_and_evaluate_model(\n",
        "        Perceptron, X_train_bow, y_train, X_test_bow, y_test, max_iter=4000\n",
        "    )\n",
        "\n",
        "    # Train and evaluate Perceptron model using TF-IDF features\n",
        "    (\n",
        "        _,\n",
        "        precision_perceptron_tfidf,\n",
        "        recall_perceptron_tfidf,\n",
        "        f1_perceptron_tfidf,\n",
        "    ) = train_and_evaluate_model(\n",
        "        Perceptron, X_train_tfidf, y_train, X_test_tfidf, y_test, max_iter=4000\n",
        "    )\n",
        "\n",
        "    # Train and evaluate SVM model using BoW features\n",
        "    _, precision_svm_bow, recall_svm_bow, f1_svm_bow = train_and_evaluate_model(\n",
        "        LinearSVC, X_train_bow, y_train, X_test_bow, y_test, max_iter=2500\n",
        "    )\n",
        "\n",
        "    # Train and evaluate SVM model using TF-IDF features\n",
        "    _, precision_svm_tfidf, recall_svm_tfidf, f1_svm_tfidf = train_and_evaluate_model(\n",
        "        LinearSVC, X_train_tfidf, y_train, X_test_tfidf, y_test, max_iter=2500\n",
        "    )\n",
        "\n",
        "    # Train and evaluate Logistic Regression model using BoW features\n",
        "    _, precision_lr_bow, recall_lr_bow, f1_lr_bow = train_and_evaluate_model(\n",
        "        LogisticRegression, X_train_bow, y_train, X_test_bow, y_test, max_iter=4000\n",
        "    )\n",
        "\n",
        "    # Train and evaluate Logistic Regression model using TF-IDF features\n",
        "    _, precision_lr_tfidf, recall_lr_tfidf, f1_lr_tfidf = train_and_evaluate_model(\n",
        "        LogisticRegression, X_train_tfidf, y_train, X_test_tfidf, y_test, max_iter=4000\n",
        "    )\n",
        "\n",
        "    # Train and evaluate Naive Bayes model using BoW features\n",
        "    _, precision_nb_bow, recall_nb_bow, f1_nb_bow = train_and_evaluate_model(\n",
        "        MultinomialNB, X_train_bow, y_train, X_test_bow, y_test\n",
        "    )\n",
        "\n",
        "    # Train and evaluate Naive Bayes model using TF-IDF features\n",
        "    _, precision_nb_tfidf, recall_nb_tfidf, f1_nb_tfidf = train_and_evaluate_model(\n",
        "        MultinomialNB, X_train_tfidf, y_train, X_test_tfidf, y_test\n",
        "    )\n",
        "\n",
        "    # Print the results\n",
        "    print(f\"{precision_perceptron_bow:.4f} {recall_perceptron_bow:.4f} {f1_perceptron_bow:.4f}\")\n",
        "    print(\n",
        "        f\"{precision_perceptron_tfidf:.4f} {recall_perceptron_tfidf:.4f} {f1_perceptron_tfidf:.4f}\"\n",
        "    )\n",
        "\n",
        "    print(f\"{precision_svm_bow:.4f} {recall_svm_bow:.4f} {f1_svm_bow:.4f}\")\n",
        "    print(f\"{precision_svm_tfidf:.4f} {recall_svm_tfidf:.4f} {f1_svm_tfidf:.4f}\")\n",
        "\n",
        "    print(f\"{precision_lr_bow:.4f} {recall_lr_bow:.4f} {f1_lr_bow:.4f}\")\n",
        "    print(f\"{precision_lr_tfidf:.4f} {recall_lr_tfidf:.4f} {f1_lr_tfidf:.4f}\")\n",
        "\n",
        "    print(f\"{precision_nb_bow:.4f} {recall_nb_bow:.4f} {f1_nb_bow:.4f}\")\n",
        "    print(f\"{precision_nb_tfidf:.4f} {recall_nb_tfidf:.4f} {f1_nb_tfidf:.4f}\")\n",
        "\n",
        "\n",
        "if __name__ == \"__main__\":\n",
        "    main()\n"
      ]
    },
    {
      "cell_type": "markdown",
      "metadata": {
        "id": "5KfPHWDaCgJL"
      },
      "source": [
        "## Without negative stopwords"
      ]
    },
    {
      "cell_type": "code",
      "execution_count": 55,
      "metadata": {
        "colab": {
          "base_uri": "https://localhost:8080/"
        },
        "id": "xGGjHoFoCmxM",
        "outputId": "428fadd6-a6a8-4bba-af06-5b734f158fa5"
      },
      "outputs": [
        {
          "name": "stdout",
          "output_type": "stream",
          "text": [
            "Writing HW1-CSCI544-wo-neg-sw.py\n",
            "time: 9.04 ms (started: 2023-09-18 06:50:34 +00:00)\n"
          ]
        }
      ],
      "source": [
        "%%writefile HW1-CSCI544-wo-neg-sw.py\n",
        "# Python Version: 3.10.12\n",
        "\n",
        "import re\n",
        "import unicodedata\n",
        "\n",
        "import warnings\n",
        "\n",
        "warnings.filterwarnings(\"ignore\")\n",
        "\n",
        "import numpy as np\n",
        "import pandas as pd\n",
        "\n",
        "import nltk\n",
        "from nltk.corpus import stopwords, wordnet\n",
        "from nltk.stem import WordNetLemmatizer\n",
        "from nltk.tokenize import word_tokenize\n",
        "\n",
        "nltk.download(\"punkt\", quiet=True)\n",
        "nltk.download(\"wordnet\", quiet=True)\n",
        "nltk.download(\"stopwords\", quiet=True)\n",
        "nltk.download(\"averaged_perceptron_tagger\", quiet=True)\n",
        "\n",
        "import contractions\n",
        "\n",
        "from sklearn.model_selection import train_test_split\n",
        "from sklearn.feature_extraction.text import TfidfVectorizer, CountVectorizer\n",
        "from sklearn.metrics import precision_score, recall_score, f1_score\n",
        "\n",
        "from sklearn.linear_model import Perceptron, LogisticRegression\n",
        "from sklearn.svm import LinearSVC\n",
        "from sklearn.naive_bayes import MultinomialNB\n",
        "\n",
        "\n",
        "class Config:\n",
        "    RANDOM_STATE = 56\n",
        "    DATA_PATH = \"amazon_reviews_us_Office_Products_v1_00.tsv.gz\"\n",
        "    TEST_SPLIT = 0.2\n",
        "    N_SAMPLES_EACH_CLASS = 50000\n",
        "    NUM_TFIDF_FEATURES = 5000\n",
        "    NUM_BOW_FEATURES = 5000\n",
        "\n",
        "\n",
        "class DataLoader:\n",
        "    @staticmethod\n",
        "    def load_data(path):\n",
        "        df = pd.read_csv(\n",
        "            path,\n",
        "            sep=\"\\t\",\n",
        "            usecols=[\"review_headline\", \"review_body\", \"star_rating\"],\n",
        "            on_bad_lines=\"skip\",\n",
        "            memory_map=True,\n",
        "        )\n",
        "        return df\n",
        "\n",
        "\n",
        "class DataProcessor:\n",
        "    @staticmethod\n",
        "    def filter_columns(df):\n",
        "        return df.loc[:, [\"review_body\", \"star_rating\"]]\n",
        "\n",
        "    @staticmethod\n",
        "    def convert_star_rating(df):\n",
        "        df[\"star_rating\"] = pd.to_numeric(df[\"star_rating\"], errors=\"coerce\")\n",
        "        df.dropna(subset=[\"star_rating\"], inplace=True)\n",
        "        return df\n",
        "\n",
        "    @staticmethod\n",
        "    def classify_sentiment(df):\n",
        "        df[\"sentiment\"] = df[\"star_rating\"].apply(lambda x: 1 if x <= 3 else 2)\n",
        "        return df\n",
        "\n",
        "    @staticmethod\n",
        "    def sample_data(df, n_samples, random_state):\n",
        "        sampled_df = pd.concat(\n",
        "            [\n",
        "                df.query(\"sentiment==1\").sample(n=n_samples, random_state=random_state),\n",
        "                df.query(\"sentiment==2\").sample(n=n_samples, random_state=random_state),\n",
        "            ],\n",
        "            ignore_index=True,\n",
        "        ).sample(frac=1, random_state=random_state)\n",
        "\n",
        "        sampled_df.drop(columns=[\"star_rating\"], inplace=True)\n",
        "        return sampled_df\n",
        "\n",
        "\n",
        "class TextCleaner:\n",
        "    @staticmethod\n",
        "    def unicode_to_ascii(s):\n",
        "        return \"\".join(\n",
        "            c for c in unicodedata.normalize(\"NFD\", s) if unicodedata.category(c) != \"Mn\"\n",
        "        )\n",
        "\n",
        "    @staticmethod\n",
        "    def expand_contractions(text):\n",
        "        return contractions.fix(text)\n",
        "\n",
        "    @staticmethod\n",
        "    def remove_email_addresses(text):\n",
        "        return re.sub(r\"[a-zA-Z0-9_\\-\\.]+@[a-zA-Z0-9_\\-\\.]+\\.[a-zA-Z]{2,5}\", \" \", text)\n",
        "\n",
        "    @staticmethod\n",
        "    def remove_urls(text):\n",
        "        return re.sub(r\"\\bhttps?:\\/\\/\\S+|www\\.\\S+\", \" \", text)\n",
        "\n",
        "    @staticmethod\n",
        "    def remove_html_tags(text):\n",
        "        return re.sub(r\"<.*?>\", \"\", text)\n",
        "\n",
        "    @staticmethod\n",
        "    def clean_text(text):\n",
        "        text = TextCleaner.unicode_to_ascii(text.lower().strip())\n",
        "        # replacing email addresses with empty string\n",
        "        text = TextCleaner.remove_email_addresses(text)\n",
        "        # replacing urls with empty string\n",
        "        text = TextCleaner.remove_urls(text)\n",
        "        # Remove HTML tags\n",
        "        text = TextCleaner.remove_html_tags(text)\n",
        "        # Expand contraction for eg., wouldn't => would not\n",
        "        text = TextCleaner.expand_contractions(text)\n",
        "        # creating a space between a word and the punctuation following it\n",
        "        text = re.sub(r\"([?.!,¿])\", r\" \\1 \", text)\n",
        "        text = re.sub(r'[\" \"]+', \" \", text)\n",
        "        # removes all non-alphabetical characters\n",
        "        text = re.sub(r\"[^a-zA-Z\\s]+\", \"\", text)\n",
        "        # remove extra spaces\n",
        "        text = re.sub(\" +\", \" \", text)\n",
        "        text = text.strip()\n",
        "        return text\n",
        "\n",
        "\n",
        "class TextPreprocessor:\n",
        "    lemmatizer = WordNetLemmatizer()\n",
        "\n",
        "    @staticmethod\n",
        "    def get_stopwords_pattern():\n",
        "        # Stopword list\n",
        "        og_stopwords = set(stopwords.words(\"english\"))\n",
        "\n",
        "        # Define a list of negative words to remove\n",
        "        neg_words = [\"no\", \"not\", \"nor\", \"neither\", \"none\", \"never\", \"nobody\", \"nowhere\"]\n",
        "        custom_stopwords = [word for word in og_stopwords if word not in neg_words]\n",
        "        pattern = re.compile(r\"\\b(\" + r\"|\".join(custom_stopwords) + r\")\\b\\s*\")\n",
        "        return pattern\n",
        "\n",
        "    @staticmethod\n",
        "    def pos_tagger(tag):\n",
        "        if tag.startswith(\"J\"):\n",
        "            return wordnet.ADJ\n",
        "        elif tag.startswith(\"V\"):\n",
        "            return wordnet.VERB\n",
        "        elif tag.startswith(\"N\"):\n",
        "            return wordnet.NOUN\n",
        "        elif tag.startswith(\"R\"):\n",
        "            return wordnet.ADV\n",
        "        else:\n",
        "            return None\n",
        "\n",
        "    @staticmethod\n",
        "    def lemmatize_text_using_pos_tags(text):\n",
        "        words = nltk.pos_tag(word_tokenize(text))\n",
        "        words = map(lambda x: (x[0], TextPreprocessor.pos_tagger(x[1])), words)\n",
        "        lemmatized_words = [\n",
        "            TextPreprocessor.lemmatizer.lemmatize(word, tag) if tag else word for word, tag in words\n",
        "        ]\n",
        "        return \" \".join(lemmatized_words)\n",
        "\n",
        "    @staticmethod\n",
        "    def lemmatize_text(text):\n",
        "        words = word_tokenize(text)\n",
        "        lemmatized_words = [TextPreprocessor.lemmatizer.lemmatize(word) for word in words]\n",
        "        return \" \".join(lemmatized_words)\n",
        "\n",
        "    pattern = get_stopwords_pattern()\n",
        "\n",
        "    @staticmethod\n",
        "    def preprocess_text(text):\n",
        "        # replacing all the stopwords\n",
        "        text = TextPreprocessor.pattern.sub(\"\", text)\n",
        "        text = TextPreprocessor.lemmatize_text(text)\n",
        "        return text\n",
        "\n",
        "\n",
        "clean_text_vect = np.vectorize(TextCleaner.clean_text)\n",
        "preprocess_text_vect = np.vectorize(TextPreprocessor.preprocess_text)\n",
        "\n",
        "\n",
        "def clean_and_process_data(path):\n",
        "    df = DataLoader.load_data(path)\n",
        "    df_filtered = DataProcessor.filter_columns(df)\n",
        "    df_filtered = DataProcessor.convert_star_rating(df_filtered)\n",
        "    df_filtered = DataProcessor.classify_sentiment(df_filtered)\n",
        "\n",
        "    balanced_df = DataProcessor.sample_data(\n",
        "        df_filtered, Config.N_SAMPLES_EACH_CLASS, Config.RANDOM_STATE\n",
        "    )\n",
        "\n",
        "    balanced_df[\"review_body\"] = balanced_df[\"review_body\"].astype(str)\n",
        "\n",
        "    # Clean data\n",
        "    avg_len_before_clean = balanced_df[\"review_body\"].apply(len).mean()\n",
        "    balanced_df[\"review_body\"] = balanced_df[\"review_body\"].apply(clean_text_vect)\n",
        "    # Drop reviews that are empty\n",
        "    balanced_df = balanced_df.loc[balanced_df[\"review_body\"].str.strip() != \"\"]\n",
        "    avg_len_after_clean = balanced_df[\"review_body\"].apply(len).mean()\n",
        "\n",
        "    # Preprocess data\n",
        "    avg_len_before_preprocess = avg_len_after_clean\n",
        "    balanced_df[\"review_body\"] = balanced_df[\"review_body\"].apply(preprocess_text_vect)\n",
        "    avg_len_after_preprocess = balanced_df[\"review_body\"].apply(len).mean()\n",
        "\n",
        "    # Print Results\n",
        "    print(f\"{avg_len_before_clean:.2f}, {avg_len_after_clean:.2f}\")\n",
        "    print(f\"{avg_len_before_preprocess:.2f}, {avg_len_after_preprocess:.2f}\")\n",
        "\n",
        "    return balanced_df\n",
        "\n",
        "\n",
        "def evaluate_model(model, X_test, y_test):\n",
        "    # Predict on the test set\n",
        "    y_pred = model.predict(X_test)\n",
        "\n",
        "    # Calculate evaluation metrics\n",
        "    precision = precision_score(y_test, y_pred, average=\"binary\")\n",
        "    recall = recall_score(y_test, y_pred, average=\"binary\")\n",
        "    f1 = f1_score(y_test, y_pred, average=\"binary\")\n",
        "\n",
        "    return precision, recall, f1\n",
        "\n",
        "\n",
        "def train_and_evaluate_model(model_class, X_train, y_train, X_test, y_test, **model_params):\n",
        "    # Initialize model\n",
        "    model = model_class(**model_params)\n",
        "\n",
        "    # Train the model\n",
        "    model.fit(X_train, y_train)\n",
        "\n",
        "    # Evaluate model\n",
        "    precision, recall, f1 = evaluate_model(model, X_test, y_test)\n",
        "    return model, precision, recall, f1\n",
        "\n",
        "\n",
        "def main():\n",
        "    balanced_df = clean_and_process_data(Config.DATA_PATH)\n",
        "\n",
        "    # Splitting the reviews dataset\n",
        "    X_train, X_test, y_train, y_test = train_test_split(\n",
        "        balanced_df[\"review_body\"],\n",
        "        balanced_df[\"sentiment\"],\n",
        "        test_size=Config.TEST_SPLIT,\n",
        "        random_state=Config.RANDOM_STATE,\n",
        "    )\n",
        "\n",
        "    # Feature Extraction\n",
        "    tfidf_vectorizer = TfidfVectorizer(max_features=Config.NUM_TFIDF_FEATURES)\n",
        "    X_train_tfidf = tfidf_vectorizer.fit_transform(X_train)\n",
        "    X_test_tfidf = tfidf_vectorizer.transform(X_test)\n",
        "\n",
        "    count_vectorizer = CountVectorizer(max_features=Config.NUM_BOW_FEATURES)\n",
        "    X_train_bow = count_vectorizer.fit_transform(X_train)\n",
        "    X_test_bow = count_vectorizer.transform(X_test)\n",
        "\n",
        "    # Train and evaluate Perceptron model using BoW features\n",
        "    (\n",
        "        _,\n",
        "        precision_perceptron_bow,\n",
        "        recall_perceptron_bow,\n",
        "        f1_perceptron_bow,\n",
        "    ) = train_and_evaluate_model(\n",
        "        Perceptron, X_train_bow, y_train, X_test_bow, y_test, max_iter=4000\n",
        "    )\n",
        "\n",
        "    # Train and evaluate Perceptron model using TF-IDF features\n",
        "    (\n",
        "        _,\n",
        "        precision_perceptron_tfidf,\n",
        "        recall_perceptron_tfidf,\n",
        "        f1_perceptron_tfidf,\n",
        "    ) = train_and_evaluate_model(\n",
        "        Perceptron, X_train_tfidf, y_train, X_test_tfidf, y_test, max_iter=4000\n",
        "    )\n",
        "\n",
        "    # Train and evaluate SVM model using BoW features\n",
        "    _, precision_svm_bow, recall_svm_bow, f1_svm_bow = train_and_evaluate_model(\n",
        "        LinearSVC, X_train_bow, y_train, X_test_bow, y_test, max_iter=2500\n",
        "    )\n",
        "\n",
        "    # Train and evaluate SVM model using TF-IDF features\n",
        "    _, precision_svm_tfidf, recall_svm_tfidf, f1_svm_tfidf = train_and_evaluate_model(\n",
        "        LinearSVC, X_train_tfidf, y_train, X_test_tfidf, y_test, max_iter=2500\n",
        "    )\n",
        "\n",
        "    # Train and evaluate Logistic Regression model using BoW features\n",
        "    _, precision_lr_bow, recall_lr_bow, f1_lr_bow = train_and_evaluate_model(\n",
        "        LogisticRegression, X_train_bow, y_train, X_test_bow, y_test, max_iter=4000\n",
        "    )\n",
        "\n",
        "    # Train and evaluate Logistic Regression model using TF-IDF features\n",
        "    _, precision_lr_tfidf, recall_lr_tfidf, f1_lr_tfidf = train_and_evaluate_model(\n",
        "        LogisticRegression, X_train_tfidf, y_train, X_test_tfidf, y_test, max_iter=4000\n",
        "    )\n",
        "\n",
        "    # Train and evaluate Naive Bayes model using BoW features\n",
        "    _, precision_nb_bow, recall_nb_bow, f1_nb_bow = train_and_evaluate_model(\n",
        "        MultinomialNB, X_train_bow, y_train, X_test_bow, y_test\n",
        "    )\n",
        "\n",
        "    # Train and evaluate Naive Bayes model using TF-IDF features\n",
        "    _, precision_nb_tfidf, recall_nb_tfidf, f1_nb_tfidf = train_and_evaluate_model(\n",
        "        MultinomialNB, X_train_tfidf, y_train, X_test_tfidf, y_test\n",
        "    )\n",
        "\n",
        "    # Print the results\n",
        "    print(f\"{precision_perceptron_bow:.4f} {recall_perceptron_bow:.4f} {f1_perceptron_bow:.4f}\")\n",
        "    print(\n",
        "        f\"{precision_perceptron_tfidf:.4f} {recall_perceptron_tfidf:.4f} {f1_perceptron_tfidf:.4f}\"\n",
        "    )\n",
        "\n",
        "    print(f\"{precision_svm_bow:.4f} {recall_svm_bow:.4f} {f1_svm_bow:.4f}\")\n",
        "    print(f\"{precision_svm_tfidf:.4f} {recall_svm_tfidf:.4f} {f1_svm_tfidf:.4f}\")\n",
        "\n",
        "    print(f\"{precision_lr_bow:.4f} {recall_lr_bow:.4f} {f1_lr_bow:.4f}\")\n",
        "    print(f\"{precision_lr_tfidf:.4f} {recall_lr_tfidf:.4f} {f1_lr_tfidf:.4f}\")\n",
        "\n",
        "    print(f\"{precision_nb_bow:.4f} {recall_nb_bow:.4f} {f1_nb_bow:.4f}\")\n",
        "    print(f\"{precision_nb_tfidf:.4f} {recall_nb_tfidf:.4f} {f1_nb_tfidf:.4f}\")\n",
        "\n",
        "\n",
        "if __name__ == \"__main__\":\n",
        "    main()\n"
      ]
    },
    {
      "cell_type": "markdown",
      "metadata": {
        "id": "kN-JjrxsGhih"
      },
      "source": [
        "## Comparing Results"
      ]
    },
    {
      "cell_type": "code",
      "execution_count": 56,
      "metadata": {
        "colab": {
          "base_uri": "https://localhost:8080/"
        },
        "id": "A2yNcL_EyArv",
        "outputId": "b1574791-75e1-4864-b6de-572e610a8e4b"
      },
      "outputs": [
        {
          "name": "stdout",
          "output_type": "stream",
          "text": [
            "314.91, 299.82\n",
            "299.82, 185.41\n",
            "0.8007 0.7659 0.7829\n",
            "0.7655 0.8360 0.7992\n",
            "0.8521 0.8111 0.8311\n",
            "0.8454 0.8442 0.8448\n",
            "0.8525 0.8214 0.8367\n",
            "0.8461 0.8572 0.8516\n",
            "0.8467 0.7488 0.7947\n",
            "0.8291 0.8189 0.8240\n",
            "time: 4min 11s (started: 2023-09-18 06:50:52 +00:00)\n"
          ]
        }
      ],
      "source": [
        "!python HW1-CSCI544-w-neg-sw.py"
      ]
    },
    {
      "cell_type": "code",
      "execution_count": 58,
      "metadata": {
        "colab": {
          "base_uri": "https://localhost:8080/"
        },
        "id": "aupT9X6NDbWx",
        "outputId": "4d89eca2-8fc6-4c19-cc8d-a94ba230a03e"
      },
      "outputs": [
        {
          "name": "stdout",
          "output_type": "stream",
          "text": [
            "314.91, 299.82\n",
            "299.82, 189.65\n",
            "0.8368 0.7812 0.8080\n",
            "0.7637 0.8702 0.8135\n",
            "0.8649 0.8284 0.8463\n",
            "0.8573 0.8602 0.8588\n",
            "0.8680 0.8343 0.8508\n",
            "0.8574 0.8674 0.8624\n",
            "0.8527 0.7718 0.8102\n",
            "0.8334 0.8291 0.8312\n",
            "time: 4min 33s (started: 2023-09-18 06:58:06 +00:00)\n"
          ]
        }
      ],
      "source": [
        "!python HW1-CSCI544-wo-neg-sw.py"
      ]
    },
    {
      "cell_type": "markdown",
      "metadata": {
        "id": "eG4JsEKV-DTD"
      },
      "source": [
        "# Conclusions\n",
        "- Performance models improved after removing negative stopwords from stopwords list\n",
        "- Performance of models was almost same when trained with dataset with and without pos tagging\n",
        "- Exploration using Grid search found list to parameters same as the default ones with best estimator performing the same as the default model"
      ]
    },
    {
      "cell_type": "markdown",
      "metadata": {
        "id": "_PVfRip9BlPo"
      },
      "source": [
        "# THE END"
      ]
    }
  ],
  "metadata": {
    "colab": {
      "authorship_tag": "ABX9TyNlIlBEzQRUb0B/LZr+yfUC",
      "include_colab_link": true,
      "mount_file_id": "1mKrNDo6A2NvY-ZUDMLszwVjzGKd1fjnb",
      "provenance": []
    },
    "kernelspec": {
      "display_name": "Python 3",
      "name": "python3"
    },
    "language_info": {
      "name": "python",
      "version": "3.10.10"
    }
  },
  "nbformat": 4,
  "nbformat_minor": 0
}
