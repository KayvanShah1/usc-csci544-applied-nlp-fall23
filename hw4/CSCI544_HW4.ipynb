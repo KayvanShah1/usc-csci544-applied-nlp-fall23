{
  "nbformat": 4,
  "nbformat_minor": 0,
  "metadata": {
    "colab": {
      "provenance": [],
      "gpuType": "T4",
      "mount_file_id": "1BfzjmYoAKH2BxGsBESx71mRSalel3ovY",
      "authorship_tag": "ABX9TyPwiuFBDtv9VMUQtr12NMv/",
      "include_colab_link": true
    },
    "kernelspec": {
      "name": "python3",
      "display_name": "Python 3"
    },
    "language_info": {
      "name": "python"
    },
    "accelerator": "GPU",
    "widgets": {
      "application/vnd.jupyter.widget-state+json": {
        "e1c6dab0d4f94bcdbcbecebfd27c32f8": {
          "model_module": "@jupyter-widgets/controls",
          "model_name": "HBoxModel",
          "model_module_version": "1.5.0",
          "state": {
            "_dom_classes": [],
            "_model_module": "@jupyter-widgets/controls",
            "_model_module_version": "1.5.0",
            "_model_name": "HBoxModel",
            "_view_count": null,
            "_view_module": "@jupyter-widgets/controls",
            "_view_module_version": "1.5.0",
            "_view_name": "HBoxView",
            "box_style": "",
            "children": [
              "IPY_MODEL_bd742a020b5745a88a2f014e354e6817",
              "IPY_MODEL_abcea84fafc14513b6378d84fbbfca24",
              "IPY_MODEL_2c74206e76e54a1bb7dffba656008a08"
            ],
            "layout": "IPY_MODEL_21b4c33e57394ee892d34f6c21435ba8"
          }
        },
        "bd742a020b5745a88a2f014e354e6817": {
          "model_module": "@jupyter-widgets/controls",
          "model_name": "HTMLModel",
          "model_module_version": "1.5.0",
          "state": {
            "_dom_classes": [],
            "_model_module": "@jupyter-widgets/controls",
            "_model_module_version": "1.5.0",
            "_model_name": "HTMLModel",
            "_view_count": null,
            "_view_module": "@jupyter-widgets/controls",
            "_view_module_version": "1.5.0",
            "_view_name": "HTMLView",
            "description": "",
            "description_tooltip": null,
            "layout": "IPY_MODEL_668c103c8b0442928f037212780fc03b",
            "placeholder": "​",
            "style": "IPY_MODEL_b80997762e454fd888220cc4d017e24e",
            "value": "Downloading builder script: 100%"
          }
        },
        "abcea84fafc14513b6378d84fbbfca24": {
          "model_module": "@jupyter-widgets/controls",
          "model_name": "FloatProgressModel",
          "model_module_version": "1.5.0",
          "state": {
            "_dom_classes": [],
            "_model_module": "@jupyter-widgets/controls",
            "_model_module_version": "1.5.0",
            "_model_name": "FloatProgressModel",
            "_view_count": null,
            "_view_module": "@jupyter-widgets/controls",
            "_view_module_version": "1.5.0",
            "_view_name": "ProgressView",
            "bar_style": "success",
            "description": "",
            "description_tooltip": null,
            "layout": "IPY_MODEL_d0b0f7071d3e42eda96e8a4c8f9c79d7",
            "max": 9570,
            "min": 0,
            "orientation": "horizontal",
            "style": "IPY_MODEL_b452ff1ac8a3498f966ad94479b8a483",
            "value": 9570
          }
        },
        "2c74206e76e54a1bb7dffba656008a08": {
          "model_module": "@jupyter-widgets/controls",
          "model_name": "HTMLModel",
          "model_module_version": "1.5.0",
          "state": {
            "_dom_classes": [],
            "_model_module": "@jupyter-widgets/controls",
            "_model_module_version": "1.5.0",
            "_model_name": "HTMLModel",
            "_view_count": null,
            "_view_module": "@jupyter-widgets/controls",
            "_view_module_version": "1.5.0",
            "_view_name": "HTMLView",
            "description": "",
            "description_tooltip": null,
            "layout": "IPY_MODEL_7706e6c5b0e147d896f87b90f00e9f02",
            "placeholder": "​",
            "style": "IPY_MODEL_78b5a97249d740f0a0364e414025e786",
            "value": " 9.57k/9.57k [00:00&lt;00:00, 469kB/s]"
          }
        },
        "21b4c33e57394ee892d34f6c21435ba8": {
          "model_module": "@jupyter-widgets/base",
          "model_name": "LayoutModel",
          "model_module_version": "1.2.0",
          "state": {
            "_model_module": "@jupyter-widgets/base",
            "_model_module_version": "1.2.0",
            "_model_name": "LayoutModel",
            "_view_count": null,
            "_view_module": "@jupyter-widgets/base",
            "_view_module_version": "1.2.0",
            "_view_name": "LayoutView",
            "align_content": null,
            "align_items": null,
            "align_self": null,
            "border": null,
            "bottom": null,
            "display": null,
            "flex": null,
            "flex_flow": null,
            "grid_area": null,
            "grid_auto_columns": null,
            "grid_auto_flow": null,
            "grid_auto_rows": null,
            "grid_column": null,
            "grid_gap": null,
            "grid_row": null,
            "grid_template_areas": null,
            "grid_template_columns": null,
            "grid_template_rows": null,
            "height": null,
            "justify_content": null,
            "justify_items": null,
            "left": null,
            "margin": null,
            "max_height": null,
            "max_width": null,
            "min_height": null,
            "min_width": null,
            "object_fit": null,
            "object_position": null,
            "order": null,
            "overflow": null,
            "overflow_x": null,
            "overflow_y": null,
            "padding": null,
            "right": null,
            "top": null,
            "visibility": null,
            "width": null
          }
        },
        "668c103c8b0442928f037212780fc03b": {
          "model_module": "@jupyter-widgets/base",
          "model_name": "LayoutModel",
          "model_module_version": "1.2.0",
          "state": {
            "_model_module": "@jupyter-widgets/base",
            "_model_module_version": "1.2.0",
            "_model_name": "LayoutModel",
            "_view_count": null,
            "_view_module": "@jupyter-widgets/base",
            "_view_module_version": "1.2.0",
            "_view_name": "LayoutView",
            "align_content": null,
            "align_items": null,
            "align_self": null,
            "border": null,
            "bottom": null,
            "display": null,
            "flex": null,
            "flex_flow": null,
            "grid_area": null,
            "grid_auto_columns": null,
            "grid_auto_flow": null,
            "grid_auto_rows": null,
            "grid_column": null,
            "grid_gap": null,
            "grid_row": null,
            "grid_template_areas": null,
            "grid_template_columns": null,
            "grid_template_rows": null,
            "height": null,
            "justify_content": null,
            "justify_items": null,
            "left": null,
            "margin": null,
            "max_height": null,
            "max_width": null,
            "min_height": null,
            "min_width": null,
            "object_fit": null,
            "object_position": null,
            "order": null,
            "overflow": null,
            "overflow_x": null,
            "overflow_y": null,
            "padding": null,
            "right": null,
            "top": null,
            "visibility": null,
            "width": null
          }
        },
        "b80997762e454fd888220cc4d017e24e": {
          "model_module": "@jupyter-widgets/controls",
          "model_name": "DescriptionStyleModel",
          "model_module_version": "1.5.0",
          "state": {
            "_model_module": "@jupyter-widgets/controls",
            "_model_module_version": "1.5.0",
            "_model_name": "DescriptionStyleModel",
            "_view_count": null,
            "_view_module": "@jupyter-widgets/base",
            "_view_module_version": "1.2.0",
            "_view_name": "StyleView",
            "description_width": ""
          }
        },
        "d0b0f7071d3e42eda96e8a4c8f9c79d7": {
          "model_module": "@jupyter-widgets/base",
          "model_name": "LayoutModel",
          "model_module_version": "1.2.0",
          "state": {
            "_model_module": "@jupyter-widgets/base",
            "_model_module_version": "1.2.0",
            "_model_name": "LayoutModel",
            "_view_count": null,
            "_view_module": "@jupyter-widgets/base",
            "_view_module_version": "1.2.0",
            "_view_name": "LayoutView",
            "align_content": null,
            "align_items": null,
            "align_self": null,
            "border": null,
            "bottom": null,
            "display": null,
            "flex": null,
            "flex_flow": null,
            "grid_area": null,
            "grid_auto_columns": null,
            "grid_auto_flow": null,
            "grid_auto_rows": null,
            "grid_column": null,
            "grid_gap": null,
            "grid_row": null,
            "grid_template_areas": null,
            "grid_template_columns": null,
            "grid_template_rows": null,
            "height": null,
            "justify_content": null,
            "justify_items": null,
            "left": null,
            "margin": null,
            "max_height": null,
            "max_width": null,
            "min_height": null,
            "min_width": null,
            "object_fit": null,
            "object_position": null,
            "order": null,
            "overflow": null,
            "overflow_x": null,
            "overflow_y": null,
            "padding": null,
            "right": null,
            "top": null,
            "visibility": null,
            "width": null
          }
        },
        "b452ff1ac8a3498f966ad94479b8a483": {
          "model_module": "@jupyter-widgets/controls",
          "model_name": "ProgressStyleModel",
          "model_module_version": "1.5.0",
          "state": {
            "_model_module": "@jupyter-widgets/controls",
            "_model_module_version": "1.5.0",
            "_model_name": "ProgressStyleModel",
            "_view_count": null,
            "_view_module": "@jupyter-widgets/base",
            "_view_module_version": "1.2.0",
            "_view_name": "StyleView",
            "bar_color": null,
            "description_width": ""
          }
        },
        "7706e6c5b0e147d896f87b90f00e9f02": {
          "model_module": "@jupyter-widgets/base",
          "model_name": "LayoutModel",
          "model_module_version": "1.2.0",
          "state": {
            "_model_module": "@jupyter-widgets/base",
            "_model_module_version": "1.2.0",
            "_model_name": "LayoutModel",
            "_view_count": null,
            "_view_module": "@jupyter-widgets/base",
            "_view_module_version": "1.2.0",
            "_view_name": "LayoutView",
            "align_content": null,
            "align_items": null,
            "align_self": null,
            "border": null,
            "bottom": null,
            "display": null,
            "flex": null,
            "flex_flow": null,
            "grid_area": null,
            "grid_auto_columns": null,
            "grid_auto_flow": null,
            "grid_auto_rows": null,
            "grid_column": null,
            "grid_gap": null,
            "grid_row": null,
            "grid_template_areas": null,
            "grid_template_columns": null,
            "grid_template_rows": null,
            "height": null,
            "justify_content": null,
            "justify_items": null,
            "left": null,
            "margin": null,
            "max_height": null,
            "max_width": null,
            "min_height": null,
            "min_width": null,
            "object_fit": null,
            "object_position": null,
            "order": null,
            "overflow": null,
            "overflow_x": null,
            "overflow_y": null,
            "padding": null,
            "right": null,
            "top": null,
            "visibility": null,
            "width": null
          }
        },
        "78b5a97249d740f0a0364e414025e786": {
          "model_module": "@jupyter-widgets/controls",
          "model_name": "DescriptionStyleModel",
          "model_module_version": "1.5.0",
          "state": {
            "_model_module": "@jupyter-widgets/controls",
            "_model_module_version": "1.5.0",
            "_model_name": "DescriptionStyleModel",
            "_view_count": null,
            "_view_module": "@jupyter-widgets/base",
            "_view_module_version": "1.2.0",
            "_view_name": "StyleView",
            "description_width": ""
          }
        },
        "6499c0528d2a4126a7703fe3f12c00f8": {
          "model_module": "@jupyter-widgets/controls",
          "model_name": "HBoxModel",
          "model_module_version": "1.5.0",
          "state": {
            "_dom_classes": [],
            "_model_module": "@jupyter-widgets/controls",
            "_model_module_version": "1.5.0",
            "_model_name": "HBoxModel",
            "_view_count": null,
            "_view_module": "@jupyter-widgets/controls",
            "_view_module_version": "1.5.0",
            "_view_name": "HBoxView",
            "box_style": "",
            "children": [
              "IPY_MODEL_9fa7bd5766f04b2690a9a5d336ad0545",
              "IPY_MODEL_f0f97231168e482f8da97271d14c8b59",
              "IPY_MODEL_9a28500eb60844ac9a0beeecd2947974"
            ],
            "layout": "IPY_MODEL_ae8b7086e99746ea9981f1a3d544fa1e"
          }
        },
        "9fa7bd5766f04b2690a9a5d336ad0545": {
          "model_module": "@jupyter-widgets/controls",
          "model_name": "HTMLModel",
          "model_module_version": "1.5.0",
          "state": {
            "_dom_classes": [],
            "_model_module": "@jupyter-widgets/controls",
            "_model_module_version": "1.5.0",
            "_model_name": "HTMLModel",
            "_view_count": null,
            "_view_module": "@jupyter-widgets/controls",
            "_view_module_version": "1.5.0",
            "_view_name": "HTMLView",
            "description": "",
            "description_tooltip": null,
            "layout": "IPY_MODEL_103b8c4eeb6946f7897f4f1021d42cd3",
            "placeholder": "​",
            "style": "IPY_MODEL_b037620e463846438b2e6801c7521826",
            "value": "Downloading metadata: 100%"
          }
        },
        "f0f97231168e482f8da97271d14c8b59": {
          "model_module": "@jupyter-widgets/controls",
          "model_name": "FloatProgressModel",
          "model_module_version": "1.5.0",
          "state": {
            "_dom_classes": [],
            "_model_module": "@jupyter-widgets/controls",
            "_model_module_version": "1.5.0",
            "_model_name": "FloatProgressModel",
            "_view_count": null,
            "_view_module": "@jupyter-widgets/controls",
            "_view_module_version": "1.5.0",
            "_view_name": "ProgressView",
            "bar_style": "success",
            "description": "",
            "description_tooltip": null,
            "layout": "IPY_MODEL_ad9ec6b01ed84dc0bf7f86cff98dfdfb",
            "max": 3735,
            "min": 0,
            "orientation": "horizontal",
            "style": "IPY_MODEL_cada16f5f87a460fa455a06b880420fb",
            "value": 3735
          }
        },
        "9a28500eb60844ac9a0beeecd2947974": {
          "model_module": "@jupyter-widgets/controls",
          "model_name": "HTMLModel",
          "model_module_version": "1.5.0",
          "state": {
            "_dom_classes": [],
            "_model_module": "@jupyter-widgets/controls",
            "_model_module_version": "1.5.0",
            "_model_name": "HTMLModel",
            "_view_count": null,
            "_view_module": "@jupyter-widgets/controls",
            "_view_module_version": "1.5.0",
            "_view_name": "HTMLView",
            "description": "",
            "description_tooltip": null,
            "layout": "IPY_MODEL_2cdfa30a83fd49e29704ad4256605ece",
            "placeholder": "​",
            "style": "IPY_MODEL_d509345097684741ae0a2d3818ce0ee8",
            "value": " 3.73k/3.73k [00:00&lt;00:00, 228kB/s]"
          }
        },
        "ae8b7086e99746ea9981f1a3d544fa1e": {
          "model_module": "@jupyter-widgets/base",
          "model_name": "LayoutModel",
          "model_module_version": "1.2.0",
          "state": {
            "_model_module": "@jupyter-widgets/base",
            "_model_module_version": "1.2.0",
            "_model_name": "LayoutModel",
            "_view_count": null,
            "_view_module": "@jupyter-widgets/base",
            "_view_module_version": "1.2.0",
            "_view_name": "LayoutView",
            "align_content": null,
            "align_items": null,
            "align_self": null,
            "border": null,
            "bottom": null,
            "display": null,
            "flex": null,
            "flex_flow": null,
            "grid_area": null,
            "grid_auto_columns": null,
            "grid_auto_flow": null,
            "grid_auto_rows": null,
            "grid_column": null,
            "grid_gap": null,
            "grid_row": null,
            "grid_template_areas": null,
            "grid_template_columns": null,
            "grid_template_rows": null,
            "height": null,
            "justify_content": null,
            "justify_items": null,
            "left": null,
            "margin": null,
            "max_height": null,
            "max_width": null,
            "min_height": null,
            "min_width": null,
            "object_fit": null,
            "object_position": null,
            "order": null,
            "overflow": null,
            "overflow_x": null,
            "overflow_y": null,
            "padding": null,
            "right": null,
            "top": null,
            "visibility": null,
            "width": null
          }
        },
        "103b8c4eeb6946f7897f4f1021d42cd3": {
          "model_module": "@jupyter-widgets/base",
          "model_name": "LayoutModel",
          "model_module_version": "1.2.0",
          "state": {
            "_model_module": "@jupyter-widgets/base",
            "_model_module_version": "1.2.0",
            "_model_name": "LayoutModel",
            "_view_count": null,
            "_view_module": "@jupyter-widgets/base",
            "_view_module_version": "1.2.0",
            "_view_name": "LayoutView",
            "align_content": null,
            "align_items": null,
            "align_self": null,
            "border": null,
            "bottom": null,
            "display": null,
            "flex": null,
            "flex_flow": null,
            "grid_area": null,
            "grid_auto_columns": null,
            "grid_auto_flow": null,
            "grid_auto_rows": null,
            "grid_column": null,
            "grid_gap": null,
            "grid_row": null,
            "grid_template_areas": null,
            "grid_template_columns": null,
            "grid_template_rows": null,
            "height": null,
            "justify_content": null,
            "justify_items": null,
            "left": null,
            "margin": null,
            "max_height": null,
            "max_width": null,
            "min_height": null,
            "min_width": null,
            "object_fit": null,
            "object_position": null,
            "order": null,
            "overflow": null,
            "overflow_x": null,
            "overflow_y": null,
            "padding": null,
            "right": null,
            "top": null,
            "visibility": null,
            "width": null
          }
        },
        "b037620e463846438b2e6801c7521826": {
          "model_module": "@jupyter-widgets/controls",
          "model_name": "DescriptionStyleModel",
          "model_module_version": "1.5.0",
          "state": {
            "_model_module": "@jupyter-widgets/controls",
            "_model_module_version": "1.5.0",
            "_model_name": "DescriptionStyleModel",
            "_view_count": null,
            "_view_module": "@jupyter-widgets/base",
            "_view_module_version": "1.2.0",
            "_view_name": "StyleView",
            "description_width": ""
          }
        },
        "ad9ec6b01ed84dc0bf7f86cff98dfdfb": {
          "model_module": "@jupyter-widgets/base",
          "model_name": "LayoutModel",
          "model_module_version": "1.2.0",
          "state": {
            "_model_module": "@jupyter-widgets/base",
            "_model_module_version": "1.2.0",
            "_model_name": "LayoutModel",
            "_view_count": null,
            "_view_module": "@jupyter-widgets/base",
            "_view_module_version": "1.2.0",
            "_view_name": "LayoutView",
            "align_content": null,
            "align_items": null,
            "align_self": null,
            "border": null,
            "bottom": null,
            "display": null,
            "flex": null,
            "flex_flow": null,
            "grid_area": null,
            "grid_auto_columns": null,
            "grid_auto_flow": null,
            "grid_auto_rows": null,
            "grid_column": null,
            "grid_gap": null,
            "grid_row": null,
            "grid_template_areas": null,
            "grid_template_columns": null,
            "grid_template_rows": null,
            "height": null,
            "justify_content": null,
            "justify_items": null,
            "left": null,
            "margin": null,
            "max_height": null,
            "max_width": null,
            "min_height": null,
            "min_width": null,
            "object_fit": null,
            "object_position": null,
            "order": null,
            "overflow": null,
            "overflow_x": null,
            "overflow_y": null,
            "padding": null,
            "right": null,
            "top": null,
            "visibility": null,
            "width": null
          }
        },
        "cada16f5f87a460fa455a06b880420fb": {
          "model_module": "@jupyter-widgets/controls",
          "model_name": "ProgressStyleModel",
          "model_module_version": "1.5.0",
          "state": {
            "_model_module": "@jupyter-widgets/controls",
            "_model_module_version": "1.5.0",
            "_model_name": "ProgressStyleModel",
            "_view_count": null,
            "_view_module": "@jupyter-widgets/base",
            "_view_module_version": "1.2.0",
            "_view_name": "StyleView",
            "bar_color": null,
            "description_width": ""
          }
        },
        "2cdfa30a83fd49e29704ad4256605ece": {
          "model_module": "@jupyter-widgets/base",
          "model_name": "LayoutModel",
          "model_module_version": "1.2.0",
          "state": {
            "_model_module": "@jupyter-widgets/base",
            "_model_module_version": "1.2.0",
            "_model_name": "LayoutModel",
            "_view_count": null,
            "_view_module": "@jupyter-widgets/base",
            "_view_module_version": "1.2.0",
            "_view_name": "LayoutView",
            "align_content": null,
            "align_items": null,
            "align_self": null,
            "border": null,
            "bottom": null,
            "display": null,
            "flex": null,
            "flex_flow": null,
            "grid_area": null,
            "grid_auto_columns": null,
            "grid_auto_flow": null,
            "grid_auto_rows": null,
            "grid_column": null,
            "grid_gap": null,
            "grid_row": null,
            "grid_template_areas": null,
            "grid_template_columns": null,
            "grid_template_rows": null,
            "height": null,
            "justify_content": null,
            "justify_items": null,
            "left": null,
            "margin": null,
            "max_height": null,
            "max_width": null,
            "min_height": null,
            "min_width": null,
            "object_fit": null,
            "object_position": null,
            "order": null,
            "overflow": null,
            "overflow_x": null,
            "overflow_y": null,
            "padding": null,
            "right": null,
            "top": null,
            "visibility": null,
            "width": null
          }
        },
        "d509345097684741ae0a2d3818ce0ee8": {
          "model_module": "@jupyter-widgets/controls",
          "model_name": "DescriptionStyleModel",
          "model_module_version": "1.5.0",
          "state": {
            "_model_module": "@jupyter-widgets/controls",
            "_model_module_version": "1.5.0",
            "_model_name": "DescriptionStyleModel",
            "_view_count": null,
            "_view_module": "@jupyter-widgets/base",
            "_view_module_version": "1.2.0",
            "_view_name": "StyleView",
            "description_width": ""
          }
        },
        "afd0c62daf054246b5744cd72cb06704": {
          "model_module": "@jupyter-widgets/controls",
          "model_name": "HBoxModel",
          "model_module_version": "1.5.0",
          "state": {
            "_dom_classes": [],
            "_model_module": "@jupyter-widgets/controls",
            "_model_module_version": "1.5.0",
            "_model_name": "HBoxModel",
            "_view_count": null,
            "_view_module": "@jupyter-widgets/controls",
            "_view_module_version": "1.5.0",
            "_view_name": "HBoxView",
            "box_style": "",
            "children": [
              "IPY_MODEL_2baa759c2c974c27b22cc08f43727c78",
              "IPY_MODEL_3691b15c6fe743da8e1e1cfe56b453af",
              "IPY_MODEL_7f3cce52a31d480fa166d430198f8561"
            ],
            "layout": "IPY_MODEL_84e1ac34f6b6461f9922bdbda08b2669"
          }
        },
        "2baa759c2c974c27b22cc08f43727c78": {
          "model_module": "@jupyter-widgets/controls",
          "model_name": "HTMLModel",
          "model_module_version": "1.5.0",
          "state": {
            "_dom_classes": [],
            "_model_module": "@jupyter-widgets/controls",
            "_model_module_version": "1.5.0",
            "_model_name": "HTMLModel",
            "_view_count": null,
            "_view_module": "@jupyter-widgets/controls",
            "_view_module_version": "1.5.0",
            "_view_name": "HTMLView",
            "description": "",
            "description_tooltip": null,
            "layout": "IPY_MODEL_69df3d573e15476a907de948ba48e123",
            "placeholder": "​",
            "style": "IPY_MODEL_1e58dc694b8844ed98953f237b6dbeb9",
            "value": "Downloading readme: 100%"
          }
        },
        "3691b15c6fe743da8e1e1cfe56b453af": {
          "model_module": "@jupyter-widgets/controls",
          "model_name": "FloatProgressModel",
          "model_module_version": "1.5.0",
          "state": {
            "_dom_classes": [],
            "_model_module": "@jupyter-widgets/controls",
            "_model_module_version": "1.5.0",
            "_model_name": "FloatProgressModel",
            "_view_count": null,
            "_view_module": "@jupyter-widgets/controls",
            "_view_module_version": "1.5.0",
            "_view_name": "ProgressView",
            "bar_style": "success",
            "description": "",
            "description_tooltip": null,
            "layout": "IPY_MODEL_0ccf32fcce464799ae8b710c305a021b",
            "max": 12330,
            "min": 0,
            "orientation": "horizontal",
            "style": "IPY_MODEL_6dee6bcd34394e8b96fa5da409456f40",
            "value": 12330
          }
        },
        "7f3cce52a31d480fa166d430198f8561": {
          "model_module": "@jupyter-widgets/controls",
          "model_name": "HTMLModel",
          "model_module_version": "1.5.0",
          "state": {
            "_dom_classes": [],
            "_model_module": "@jupyter-widgets/controls",
            "_model_module_version": "1.5.0",
            "_model_name": "HTMLModel",
            "_view_count": null,
            "_view_module": "@jupyter-widgets/controls",
            "_view_module_version": "1.5.0",
            "_view_name": "HTMLView",
            "description": "",
            "description_tooltip": null,
            "layout": "IPY_MODEL_7d3cfdb41ff44e4abcc97645b067cc3e",
            "placeholder": "​",
            "style": "IPY_MODEL_064eba102bf944f79bb278f3b8a8a209",
            "value": " 12.3k/12.3k [00:00&lt;00:00, 1.15MB/s]"
          }
        },
        "84e1ac34f6b6461f9922bdbda08b2669": {
          "model_module": "@jupyter-widgets/base",
          "model_name": "LayoutModel",
          "model_module_version": "1.2.0",
          "state": {
            "_model_module": "@jupyter-widgets/base",
            "_model_module_version": "1.2.0",
            "_model_name": "LayoutModel",
            "_view_count": null,
            "_view_module": "@jupyter-widgets/base",
            "_view_module_version": "1.2.0",
            "_view_name": "LayoutView",
            "align_content": null,
            "align_items": null,
            "align_self": null,
            "border": null,
            "bottom": null,
            "display": null,
            "flex": null,
            "flex_flow": null,
            "grid_area": null,
            "grid_auto_columns": null,
            "grid_auto_flow": null,
            "grid_auto_rows": null,
            "grid_column": null,
            "grid_gap": null,
            "grid_row": null,
            "grid_template_areas": null,
            "grid_template_columns": null,
            "grid_template_rows": null,
            "height": null,
            "justify_content": null,
            "justify_items": null,
            "left": null,
            "margin": null,
            "max_height": null,
            "max_width": null,
            "min_height": null,
            "min_width": null,
            "object_fit": null,
            "object_position": null,
            "order": null,
            "overflow": null,
            "overflow_x": null,
            "overflow_y": null,
            "padding": null,
            "right": null,
            "top": null,
            "visibility": null,
            "width": null
          }
        },
        "69df3d573e15476a907de948ba48e123": {
          "model_module": "@jupyter-widgets/base",
          "model_name": "LayoutModel",
          "model_module_version": "1.2.0",
          "state": {
            "_model_module": "@jupyter-widgets/base",
            "_model_module_version": "1.2.0",
            "_model_name": "LayoutModel",
            "_view_count": null,
            "_view_module": "@jupyter-widgets/base",
            "_view_module_version": "1.2.0",
            "_view_name": "LayoutView",
            "align_content": null,
            "align_items": null,
            "align_self": null,
            "border": null,
            "bottom": null,
            "display": null,
            "flex": null,
            "flex_flow": null,
            "grid_area": null,
            "grid_auto_columns": null,
            "grid_auto_flow": null,
            "grid_auto_rows": null,
            "grid_column": null,
            "grid_gap": null,
            "grid_row": null,
            "grid_template_areas": null,
            "grid_template_columns": null,
            "grid_template_rows": null,
            "height": null,
            "justify_content": null,
            "justify_items": null,
            "left": null,
            "margin": null,
            "max_height": null,
            "max_width": null,
            "min_height": null,
            "min_width": null,
            "object_fit": null,
            "object_position": null,
            "order": null,
            "overflow": null,
            "overflow_x": null,
            "overflow_y": null,
            "padding": null,
            "right": null,
            "top": null,
            "visibility": null,
            "width": null
          }
        },
        "1e58dc694b8844ed98953f237b6dbeb9": {
          "model_module": "@jupyter-widgets/controls",
          "model_name": "DescriptionStyleModel",
          "model_module_version": "1.5.0",
          "state": {
            "_model_module": "@jupyter-widgets/controls",
            "_model_module_version": "1.5.0",
            "_model_name": "DescriptionStyleModel",
            "_view_count": null,
            "_view_module": "@jupyter-widgets/base",
            "_view_module_version": "1.2.0",
            "_view_name": "StyleView",
            "description_width": ""
          }
        },
        "0ccf32fcce464799ae8b710c305a021b": {
          "model_module": "@jupyter-widgets/base",
          "model_name": "LayoutModel",
          "model_module_version": "1.2.0",
          "state": {
            "_model_module": "@jupyter-widgets/base",
            "_model_module_version": "1.2.0",
            "_model_name": "LayoutModel",
            "_view_count": null,
            "_view_module": "@jupyter-widgets/base",
            "_view_module_version": "1.2.0",
            "_view_name": "LayoutView",
            "align_content": null,
            "align_items": null,
            "align_self": null,
            "border": null,
            "bottom": null,
            "display": null,
            "flex": null,
            "flex_flow": null,
            "grid_area": null,
            "grid_auto_columns": null,
            "grid_auto_flow": null,
            "grid_auto_rows": null,
            "grid_column": null,
            "grid_gap": null,
            "grid_row": null,
            "grid_template_areas": null,
            "grid_template_columns": null,
            "grid_template_rows": null,
            "height": null,
            "justify_content": null,
            "justify_items": null,
            "left": null,
            "margin": null,
            "max_height": null,
            "max_width": null,
            "min_height": null,
            "min_width": null,
            "object_fit": null,
            "object_position": null,
            "order": null,
            "overflow": null,
            "overflow_x": null,
            "overflow_y": null,
            "padding": null,
            "right": null,
            "top": null,
            "visibility": null,
            "width": null
          }
        },
        "6dee6bcd34394e8b96fa5da409456f40": {
          "model_module": "@jupyter-widgets/controls",
          "model_name": "ProgressStyleModel",
          "model_module_version": "1.5.0",
          "state": {
            "_model_module": "@jupyter-widgets/controls",
            "_model_module_version": "1.5.0",
            "_model_name": "ProgressStyleModel",
            "_view_count": null,
            "_view_module": "@jupyter-widgets/base",
            "_view_module_version": "1.2.0",
            "_view_name": "StyleView",
            "bar_color": null,
            "description_width": ""
          }
        },
        "7d3cfdb41ff44e4abcc97645b067cc3e": {
          "model_module": "@jupyter-widgets/base",
          "model_name": "LayoutModel",
          "model_module_version": "1.2.0",
          "state": {
            "_model_module": "@jupyter-widgets/base",
            "_model_module_version": "1.2.0",
            "_model_name": "LayoutModel",
            "_view_count": null,
            "_view_module": "@jupyter-widgets/base",
            "_view_module_version": "1.2.0",
            "_view_name": "LayoutView",
            "align_content": null,
            "align_items": null,
            "align_self": null,
            "border": null,
            "bottom": null,
            "display": null,
            "flex": null,
            "flex_flow": null,
            "grid_area": null,
            "grid_auto_columns": null,
            "grid_auto_flow": null,
            "grid_auto_rows": null,
            "grid_column": null,
            "grid_gap": null,
            "grid_row": null,
            "grid_template_areas": null,
            "grid_template_columns": null,
            "grid_template_rows": null,
            "height": null,
            "justify_content": null,
            "justify_items": null,
            "left": null,
            "margin": null,
            "max_height": null,
            "max_width": null,
            "min_height": null,
            "min_width": null,
            "object_fit": null,
            "object_position": null,
            "order": null,
            "overflow": null,
            "overflow_x": null,
            "overflow_y": null,
            "padding": null,
            "right": null,
            "top": null,
            "visibility": null,
            "width": null
          }
        },
        "064eba102bf944f79bb278f3b8a8a209": {
          "model_module": "@jupyter-widgets/controls",
          "model_name": "DescriptionStyleModel",
          "model_module_version": "1.5.0",
          "state": {
            "_model_module": "@jupyter-widgets/controls",
            "_model_module_version": "1.5.0",
            "_model_name": "DescriptionStyleModel",
            "_view_count": null,
            "_view_module": "@jupyter-widgets/base",
            "_view_module_version": "1.2.0",
            "_view_name": "StyleView",
            "description_width": ""
          }
        },
        "6240e761ea2d4025b45a4e3f9bbd7e50": {
          "model_module": "@jupyter-widgets/controls",
          "model_name": "HBoxModel",
          "model_module_version": "1.5.0",
          "state": {
            "_dom_classes": [],
            "_model_module": "@jupyter-widgets/controls",
            "_model_module_version": "1.5.0",
            "_model_name": "HBoxModel",
            "_view_count": null,
            "_view_module": "@jupyter-widgets/controls",
            "_view_module_version": "1.5.0",
            "_view_name": "HBoxView",
            "box_style": "",
            "children": [
              "IPY_MODEL_eabeb5cbb9b640aca9c4c49df551e33e",
              "IPY_MODEL_8e3f7c9002a2461788f6a057c8958dc8",
              "IPY_MODEL_4afd5db688c74e9880c28688e37b8b53"
            ],
            "layout": "IPY_MODEL_2e43c5ebd8124f70b1959eb08e4054c0"
          }
        },
        "eabeb5cbb9b640aca9c4c49df551e33e": {
          "model_module": "@jupyter-widgets/controls",
          "model_name": "HTMLModel",
          "model_module_version": "1.5.0",
          "state": {
            "_dom_classes": [],
            "_model_module": "@jupyter-widgets/controls",
            "_model_module_version": "1.5.0",
            "_model_name": "HTMLModel",
            "_view_count": null,
            "_view_module": "@jupyter-widgets/controls",
            "_view_module_version": "1.5.0",
            "_view_name": "HTMLView",
            "description": "",
            "description_tooltip": null,
            "layout": "IPY_MODEL_a9ea847e7aaf4b8cb9f19f227d278fa1",
            "placeholder": "​",
            "style": "IPY_MODEL_de14c83488c34cd48508cd60e8c3a497",
            "value": "Downloading data: 100%"
          }
        },
        "8e3f7c9002a2461788f6a057c8958dc8": {
          "model_module": "@jupyter-widgets/controls",
          "model_name": "FloatProgressModel",
          "model_module_version": "1.5.0",
          "state": {
            "_dom_classes": [],
            "_model_module": "@jupyter-widgets/controls",
            "_model_module_version": "1.5.0",
            "_model_name": "FloatProgressModel",
            "_view_count": null,
            "_view_module": "@jupyter-widgets/controls",
            "_view_module_version": "1.5.0",
            "_view_name": "ProgressView",
            "bar_style": "success",
            "description": "",
            "description_tooltip": null,
            "layout": "IPY_MODEL_8f9e13b20ced420fbf8e4138915a0c77",
            "max": 982975,
            "min": 0,
            "orientation": "horizontal",
            "style": "IPY_MODEL_ebb622fdd29e471ca7aea917484c2259",
            "value": 982975
          }
        },
        "4afd5db688c74e9880c28688e37b8b53": {
          "model_module": "@jupyter-widgets/controls",
          "model_name": "HTMLModel",
          "model_module_version": "1.5.0",
          "state": {
            "_dom_classes": [],
            "_model_module": "@jupyter-widgets/controls",
            "_model_module_version": "1.5.0",
            "_model_name": "HTMLModel",
            "_view_count": null,
            "_view_module": "@jupyter-widgets/controls",
            "_view_module_version": "1.5.0",
            "_view_name": "HTMLView",
            "description": "",
            "description_tooltip": null,
            "layout": "IPY_MODEL_81e81f604acc4761bb8292f57841c9c7",
            "placeholder": "​",
            "style": "IPY_MODEL_ad3048b88c9a4787b01d1d23d23b69e6",
            "value": " 983k/983k [00:00&lt;00:00, 4.44MB/s]"
          }
        },
        "2e43c5ebd8124f70b1959eb08e4054c0": {
          "model_module": "@jupyter-widgets/base",
          "model_name": "LayoutModel",
          "model_module_version": "1.2.0",
          "state": {
            "_model_module": "@jupyter-widgets/base",
            "_model_module_version": "1.2.0",
            "_model_name": "LayoutModel",
            "_view_count": null,
            "_view_module": "@jupyter-widgets/base",
            "_view_module_version": "1.2.0",
            "_view_name": "LayoutView",
            "align_content": null,
            "align_items": null,
            "align_self": null,
            "border": null,
            "bottom": null,
            "display": null,
            "flex": null,
            "flex_flow": null,
            "grid_area": null,
            "grid_auto_columns": null,
            "grid_auto_flow": null,
            "grid_auto_rows": null,
            "grid_column": null,
            "grid_gap": null,
            "grid_row": null,
            "grid_template_areas": null,
            "grid_template_columns": null,
            "grid_template_rows": null,
            "height": null,
            "justify_content": null,
            "justify_items": null,
            "left": null,
            "margin": null,
            "max_height": null,
            "max_width": null,
            "min_height": null,
            "min_width": null,
            "object_fit": null,
            "object_position": null,
            "order": null,
            "overflow": null,
            "overflow_x": null,
            "overflow_y": null,
            "padding": null,
            "right": null,
            "top": null,
            "visibility": null,
            "width": null
          }
        },
        "a9ea847e7aaf4b8cb9f19f227d278fa1": {
          "model_module": "@jupyter-widgets/base",
          "model_name": "LayoutModel",
          "model_module_version": "1.2.0",
          "state": {
            "_model_module": "@jupyter-widgets/base",
            "_model_module_version": "1.2.0",
            "_model_name": "LayoutModel",
            "_view_count": null,
            "_view_module": "@jupyter-widgets/base",
            "_view_module_version": "1.2.0",
            "_view_name": "LayoutView",
            "align_content": null,
            "align_items": null,
            "align_self": null,
            "border": null,
            "bottom": null,
            "display": null,
            "flex": null,
            "flex_flow": null,
            "grid_area": null,
            "grid_auto_columns": null,
            "grid_auto_flow": null,
            "grid_auto_rows": null,
            "grid_column": null,
            "grid_gap": null,
            "grid_row": null,
            "grid_template_areas": null,
            "grid_template_columns": null,
            "grid_template_rows": null,
            "height": null,
            "justify_content": null,
            "justify_items": null,
            "left": null,
            "margin": null,
            "max_height": null,
            "max_width": null,
            "min_height": null,
            "min_width": null,
            "object_fit": null,
            "object_position": null,
            "order": null,
            "overflow": null,
            "overflow_x": null,
            "overflow_y": null,
            "padding": null,
            "right": null,
            "top": null,
            "visibility": null,
            "width": null
          }
        },
        "de14c83488c34cd48508cd60e8c3a497": {
          "model_module": "@jupyter-widgets/controls",
          "model_name": "DescriptionStyleModel",
          "model_module_version": "1.5.0",
          "state": {
            "_model_module": "@jupyter-widgets/controls",
            "_model_module_version": "1.5.0",
            "_model_name": "DescriptionStyleModel",
            "_view_count": null,
            "_view_module": "@jupyter-widgets/base",
            "_view_module_version": "1.2.0",
            "_view_name": "StyleView",
            "description_width": ""
          }
        },
        "8f9e13b20ced420fbf8e4138915a0c77": {
          "model_module": "@jupyter-widgets/base",
          "model_name": "LayoutModel",
          "model_module_version": "1.2.0",
          "state": {
            "_model_module": "@jupyter-widgets/base",
            "_model_module_version": "1.2.0",
            "_model_name": "LayoutModel",
            "_view_count": null,
            "_view_module": "@jupyter-widgets/base",
            "_view_module_version": "1.2.0",
            "_view_name": "LayoutView",
            "align_content": null,
            "align_items": null,
            "align_self": null,
            "border": null,
            "bottom": null,
            "display": null,
            "flex": null,
            "flex_flow": null,
            "grid_area": null,
            "grid_auto_columns": null,
            "grid_auto_flow": null,
            "grid_auto_rows": null,
            "grid_column": null,
            "grid_gap": null,
            "grid_row": null,
            "grid_template_areas": null,
            "grid_template_columns": null,
            "grid_template_rows": null,
            "height": null,
            "justify_content": null,
            "justify_items": null,
            "left": null,
            "margin": null,
            "max_height": null,
            "max_width": null,
            "min_height": null,
            "min_width": null,
            "object_fit": null,
            "object_position": null,
            "order": null,
            "overflow": null,
            "overflow_x": null,
            "overflow_y": null,
            "padding": null,
            "right": null,
            "top": null,
            "visibility": null,
            "width": null
          }
        },
        "ebb622fdd29e471ca7aea917484c2259": {
          "model_module": "@jupyter-widgets/controls",
          "model_name": "ProgressStyleModel",
          "model_module_version": "1.5.0",
          "state": {
            "_model_module": "@jupyter-widgets/controls",
            "_model_module_version": "1.5.0",
            "_model_name": "ProgressStyleModel",
            "_view_count": null,
            "_view_module": "@jupyter-widgets/base",
            "_view_module_version": "1.2.0",
            "_view_name": "StyleView",
            "bar_color": null,
            "description_width": ""
          }
        },
        "81e81f604acc4761bb8292f57841c9c7": {
          "model_module": "@jupyter-widgets/base",
          "model_name": "LayoutModel",
          "model_module_version": "1.2.0",
          "state": {
            "_model_module": "@jupyter-widgets/base",
            "_model_module_version": "1.2.0",
            "_model_name": "LayoutModel",
            "_view_count": null,
            "_view_module": "@jupyter-widgets/base",
            "_view_module_version": "1.2.0",
            "_view_name": "LayoutView",
            "align_content": null,
            "align_items": null,
            "align_self": null,
            "border": null,
            "bottom": null,
            "display": null,
            "flex": null,
            "flex_flow": null,
            "grid_area": null,
            "grid_auto_columns": null,
            "grid_auto_flow": null,
            "grid_auto_rows": null,
            "grid_column": null,
            "grid_gap": null,
            "grid_row": null,
            "grid_template_areas": null,
            "grid_template_columns": null,
            "grid_template_rows": null,
            "height": null,
            "justify_content": null,
            "justify_items": null,
            "left": null,
            "margin": null,
            "max_height": null,
            "max_width": null,
            "min_height": null,
            "min_width": null,
            "object_fit": null,
            "object_position": null,
            "order": null,
            "overflow": null,
            "overflow_x": null,
            "overflow_y": null,
            "padding": null,
            "right": null,
            "top": null,
            "visibility": null,
            "width": null
          }
        },
        "ad3048b88c9a4787b01d1d23d23b69e6": {
          "model_module": "@jupyter-widgets/controls",
          "model_name": "DescriptionStyleModel",
          "model_module_version": "1.5.0",
          "state": {
            "_model_module": "@jupyter-widgets/controls",
            "_model_module_version": "1.5.0",
            "_model_name": "DescriptionStyleModel",
            "_view_count": null,
            "_view_module": "@jupyter-widgets/base",
            "_view_module_version": "1.2.0",
            "_view_name": "StyleView",
            "description_width": ""
          }
        },
        "2fb5252f9ca443d0a539f3fa1c5f83ff": {
          "model_module": "@jupyter-widgets/controls",
          "model_name": "HBoxModel",
          "model_module_version": "1.5.0",
          "state": {
            "_dom_classes": [],
            "_model_module": "@jupyter-widgets/controls",
            "_model_module_version": "1.5.0",
            "_model_name": "HBoxModel",
            "_view_count": null,
            "_view_module": "@jupyter-widgets/controls",
            "_view_module_version": "1.5.0",
            "_view_name": "HBoxView",
            "box_style": "",
            "children": [
              "IPY_MODEL_3379e39613d2429a9dbe57512f92eb36",
              "IPY_MODEL_17218197513e40b2843ddec24aba7d9f",
              "IPY_MODEL_73b614f3c2a04fcf8af609d1b28faf24"
            ],
            "layout": "IPY_MODEL_59705a47cb86437d94aa1c3f4398e62e"
          }
        },
        "3379e39613d2429a9dbe57512f92eb36": {
          "model_module": "@jupyter-widgets/controls",
          "model_name": "HTMLModel",
          "model_module_version": "1.5.0",
          "state": {
            "_dom_classes": [],
            "_model_module": "@jupyter-widgets/controls",
            "_model_module_version": "1.5.0",
            "_model_name": "HTMLModel",
            "_view_count": null,
            "_view_module": "@jupyter-widgets/controls",
            "_view_module_version": "1.5.0",
            "_view_name": "HTMLView",
            "description": "",
            "description_tooltip": null,
            "layout": "IPY_MODEL_1ca633dee2504d35b8db6c62461600ca",
            "placeholder": "​",
            "style": "IPY_MODEL_24de365757a64cac91a2c8a50e41ed78",
            "value": "Generating train split: 100%"
          }
        },
        "17218197513e40b2843ddec24aba7d9f": {
          "model_module": "@jupyter-widgets/controls",
          "model_name": "FloatProgressModel",
          "model_module_version": "1.5.0",
          "state": {
            "_dom_classes": [],
            "_model_module": "@jupyter-widgets/controls",
            "_model_module_version": "1.5.0",
            "_model_name": "FloatProgressModel",
            "_view_count": null,
            "_view_module": "@jupyter-widgets/controls",
            "_view_module_version": "1.5.0",
            "_view_name": "ProgressView",
            "bar_style": "success",
            "description": "",
            "description_tooltip": null,
            "layout": "IPY_MODEL_6882486549f247e1af898bbe0b9127f3",
            "max": 14041,
            "min": 0,
            "orientation": "horizontal",
            "style": "IPY_MODEL_b66b3cc7915a4ed1af1e748a9e44714b",
            "value": 14041
          }
        },
        "73b614f3c2a04fcf8af609d1b28faf24": {
          "model_module": "@jupyter-widgets/controls",
          "model_name": "HTMLModel",
          "model_module_version": "1.5.0",
          "state": {
            "_dom_classes": [],
            "_model_module": "@jupyter-widgets/controls",
            "_model_module_version": "1.5.0",
            "_model_name": "HTMLModel",
            "_view_count": null,
            "_view_module": "@jupyter-widgets/controls",
            "_view_module_version": "1.5.0",
            "_view_name": "HTMLView",
            "description": "",
            "description_tooltip": null,
            "layout": "IPY_MODEL_250f5c27bef646579fdbdab0b8289a8e",
            "placeholder": "​",
            "style": "IPY_MODEL_934dd1574699417dad633a7565ded039",
            "value": " 14041/14041 [00:03&lt;00:00, 4313.99 examples/s]"
          }
        },
        "59705a47cb86437d94aa1c3f4398e62e": {
          "model_module": "@jupyter-widgets/base",
          "model_name": "LayoutModel",
          "model_module_version": "1.2.0",
          "state": {
            "_model_module": "@jupyter-widgets/base",
            "_model_module_version": "1.2.0",
            "_model_name": "LayoutModel",
            "_view_count": null,
            "_view_module": "@jupyter-widgets/base",
            "_view_module_version": "1.2.0",
            "_view_name": "LayoutView",
            "align_content": null,
            "align_items": null,
            "align_self": null,
            "border": null,
            "bottom": null,
            "display": null,
            "flex": null,
            "flex_flow": null,
            "grid_area": null,
            "grid_auto_columns": null,
            "grid_auto_flow": null,
            "grid_auto_rows": null,
            "grid_column": null,
            "grid_gap": null,
            "grid_row": null,
            "grid_template_areas": null,
            "grid_template_columns": null,
            "grid_template_rows": null,
            "height": null,
            "justify_content": null,
            "justify_items": null,
            "left": null,
            "margin": null,
            "max_height": null,
            "max_width": null,
            "min_height": null,
            "min_width": null,
            "object_fit": null,
            "object_position": null,
            "order": null,
            "overflow": null,
            "overflow_x": null,
            "overflow_y": null,
            "padding": null,
            "right": null,
            "top": null,
            "visibility": null,
            "width": null
          }
        },
        "1ca633dee2504d35b8db6c62461600ca": {
          "model_module": "@jupyter-widgets/base",
          "model_name": "LayoutModel",
          "model_module_version": "1.2.0",
          "state": {
            "_model_module": "@jupyter-widgets/base",
            "_model_module_version": "1.2.0",
            "_model_name": "LayoutModel",
            "_view_count": null,
            "_view_module": "@jupyter-widgets/base",
            "_view_module_version": "1.2.0",
            "_view_name": "LayoutView",
            "align_content": null,
            "align_items": null,
            "align_self": null,
            "border": null,
            "bottom": null,
            "display": null,
            "flex": null,
            "flex_flow": null,
            "grid_area": null,
            "grid_auto_columns": null,
            "grid_auto_flow": null,
            "grid_auto_rows": null,
            "grid_column": null,
            "grid_gap": null,
            "grid_row": null,
            "grid_template_areas": null,
            "grid_template_columns": null,
            "grid_template_rows": null,
            "height": null,
            "justify_content": null,
            "justify_items": null,
            "left": null,
            "margin": null,
            "max_height": null,
            "max_width": null,
            "min_height": null,
            "min_width": null,
            "object_fit": null,
            "object_position": null,
            "order": null,
            "overflow": null,
            "overflow_x": null,
            "overflow_y": null,
            "padding": null,
            "right": null,
            "top": null,
            "visibility": null,
            "width": null
          }
        },
        "24de365757a64cac91a2c8a50e41ed78": {
          "model_module": "@jupyter-widgets/controls",
          "model_name": "DescriptionStyleModel",
          "model_module_version": "1.5.0",
          "state": {
            "_model_module": "@jupyter-widgets/controls",
            "_model_module_version": "1.5.0",
            "_model_name": "DescriptionStyleModel",
            "_view_count": null,
            "_view_module": "@jupyter-widgets/base",
            "_view_module_version": "1.2.0",
            "_view_name": "StyleView",
            "description_width": ""
          }
        },
        "6882486549f247e1af898bbe0b9127f3": {
          "model_module": "@jupyter-widgets/base",
          "model_name": "LayoutModel",
          "model_module_version": "1.2.0",
          "state": {
            "_model_module": "@jupyter-widgets/base",
            "_model_module_version": "1.2.0",
            "_model_name": "LayoutModel",
            "_view_count": null,
            "_view_module": "@jupyter-widgets/base",
            "_view_module_version": "1.2.0",
            "_view_name": "LayoutView",
            "align_content": null,
            "align_items": null,
            "align_self": null,
            "border": null,
            "bottom": null,
            "display": null,
            "flex": null,
            "flex_flow": null,
            "grid_area": null,
            "grid_auto_columns": null,
            "grid_auto_flow": null,
            "grid_auto_rows": null,
            "grid_column": null,
            "grid_gap": null,
            "grid_row": null,
            "grid_template_areas": null,
            "grid_template_columns": null,
            "grid_template_rows": null,
            "height": null,
            "justify_content": null,
            "justify_items": null,
            "left": null,
            "margin": null,
            "max_height": null,
            "max_width": null,
            "min_height": null,
            "min_width": null,
            "object_fit": null,
            "object_position": null,
            "order": null,
            "overflow": null,
            "overflow_x": null,
            "overflow_y": null,
            "padding": null,
            "right": null,
            "top": null,
            "visibility": null,
            "width": null
          }
        },
        "b66b3cc7915a4ed1af1e748a9e44714b": {
          "model_module": "@jupyter-widgets/controls",
          "model_name": "ProgressStyleModel",
          "model_module_version": "1.5.0",
          "state": {
            "_model_module": "@jupyter-widgets/controls",
            "_model_module_version": "1.5.0",
            "_model_name": "ProgressStyleModel",
            "_view_count": null,
            "_view_module": "@jupyter-widgets/base",
            "_view_module_version": "1.2.0",
            "_view_name": "StyleView",
            "bar_color": null,
            "description_width": ""
          }
        },
        "250f5c27bef646579fdbdab0b8289a8e": {
          "model_module": "@jupyter-widgets/base",
          "model_name": "LayoutModel",
          "model_module_version": "1.2.0",
          "state": {
            "_model_module": "@jupyter-widgets/base",
            "_model_module_version": "1.2.0",
            "_model_name": "LayoutModel",
            "_view_count": null,
            "_view_module": "@jupyter-widgets/base",
            "_view_module_version": "1.2.0",
            "_view_name": "LayoutView",
            "align_content": null,
            "align_items": null,
            "align_self": null,
            "border": null,
            "bottom": null,
            "display": null,
            "flex": null,
            "flex_flow": null,
            "grid_area": null,
            "grid_auto_columns": null,
            "grid_auto_flow": null,
            "grid_auto_rows": null,
            "grid_column": null,
            "grid_gap": null,
            "grid_row": null,
            "grid_template_areas": null,
            "grid_template_columns": null,
            "grid_template_rows": null,
            "height": null,
            "justify_content": null,
            "justify_items": null,
            "left": null,
            "margin": null,
            "max_height": null,
            "max_width": null,
            "min_height": null,
            "min_width": null,
            "object_fit": null,
            "object_position": null,
            "order": null,
            "overflow": null,
            "overflow_x": null,
            "overflow_y": null,
            "padding": null,
            "right": null,
            "top": null,
            "visibility": null,
            "width": null
          }
        },
        "934dd1574699417dad633a7565ded039": {
          "model_module": "@jupyter-widgets/controls",
          "model_name": "DescriptionStyleModel",
          "model_module_version": "1.5.0",
          "state": {
            "_model_module": "@jupyter-widgets/controls",
            "_model_module_version": "1.5.0",
            "_model_name": "DescriptionStyleModel",
            "_view_count": null,
            "_view_module": "@jupyter-widgets/base",
            "_view_module_version": "1.2.0",
            "_view_name": "StyleView",
            "description_width": ""
          }
        },
        "424400fed0dc422bbddc6ee8dc0bc02b": {
          "model_module": "@jupyter-widgets/controls",
          "model_name": "HBoxModel",
          "model_module_version": "1.5.0",
          "state": {
            "_dom_classes": [],
            "_model_module": "@jupyter-widgets/controls",
            "_model_module_version": "1.5.0",
            "_model_name": "HBoxModel",
            "_view_count": null,
            "_view_module": "@jupyter-widgets/controls",
            "_view_module_version": "1.5.0",
            "_view_name": "HBoxView",
            "box_style": "",
            "children": [
              "IPY_MODEL_9a208d50c63a4bf38ff23e88b72cb756",
              "IPY_MODEL_f9af840740734f76893cf2e887bdf2aa",
              "IPY_MODEL_85509f138af148279beb8d43c7196fee"
            ],
            "layout": "IPY_MODEL_8c809bf683d44d49b52d599bcef2f56d"
          }
        },
        "9a208d50c63a4bf38ff23e88b72cb756": {
          "model_module": "@jupyter-widgets/controls",
          "model_name": "HTMLModel",
          "model_module_version": "1.5.0",
          "state": {
            "_dom_classes": [],
            "_model_module": "@jupyter-widgets/controls",
            "_model_module_version": "1.5.0",
            "_model_name": "HTMLModel",
            "_view_count": null,
            "_view_module": "@jupyter-widgets/controls",
            "_view_module_version": "1.5.0",
            "_view_name": "HTMLView",
            "description": "",
            "description_tooltip": null,
            "layout": "IPY_MODEL_9977b0980bd8405884bdc4dd472c50e6",
            "placeholder": "​",
            "style": "IPY_MODEL_9e36c10aeb124f8c80e43ff7e79887fa",
            "value": "Generating validation split: 100%"
          }
        },
        "f9af840740734f76893cf2e887bdf2aa": {
          "model_module": "@jupyter-widgets/controls",
          "model_name": "FloatProgressModel",
          "model_module_version": "1.5.0",
          "state": {
            "_dom_classes": [],
            "_model_module": "@jupyter-widgets/controls",
            "_model_module_version": "1.5.0",
            "_model_name": "FloatProgressModel",
            "_view_count": null,
            "_view_module": "@jupyter-widgets/controls",
            "_view_module_version": "1.5.0",
            "_view_name": "ProgressView",
            "bar_style": "success",
            "description": "",
            "description_tooltip": null,
            "layout": "IPY_MODEL_9b450216320d4ef1bb03753a11a41169",
            "max": 3250,
            "min": 0,
            "orientation": "horizontal",
            "style": "IPY_MODEL_680c088d78d14f9da6a5726b48f5cde2",
            "value": 3250
          }
        },
        "85509f138af148279beb8d43c7196fee": {
          "model_module": "@jupyter-widgets/controls",
          "model_name": "HTMLModel",
          "model_module_version": "1.5.0",
          "state": {
            "_dom_classes": [],
            "_model_module": "@jupyter-widgets/controls",
            "_model_module_version": "1.5.0",
            "_model_name": "HTMLModel",
            "_view_count": null,
            "_view_module": "@jupyter-widgets/controls",
            "_view_module_version": "1.5.0",
            "_view_name": "HTMLView",
            "description": "",
            "description_tooltip": null,
            "layout": "IPY_MODEL_94b6970c1769443e85e89d853dfb8cae",
            "placeholder": "​",
            "style": "IPY_MODEL_d290c9faccc34058b71b5b9d6a406b3e",
            "value": " 3250/3250 [00:00&lt;00:00, 4527.68 examples/s]"
          }
        },
        "8c809bf683d44d49b52d599bcef2f56d": {
          "model_module": "@jupyter-widgets/base",
          "model_name": "LayoutModel",
          "model_module_version": "1.2.0",
          "state": {
            "_model_module": "@jupyter-widgets/base",
            "_model_module_version": "1.2.0",
            "_model_name": "LayoutModel",
            "_view_count": null,
            "_view_module": "@jupyter-widgets/base",
            "_view_module_version": "1.2.0",
            "_view_name": "LayoutView",
            "align_content": null,
            "align_items": null,
            "align_self": null,
            "border": null,
            "bottom": null,
            "display": null,
            "flex": null,
            "flex_flow": null,
            "grid_area": null,
            "grid_auto_columns": null,
            "grid_auto_flow": null,
            "grid_auto_rows": null,
            "grid_column": null,
            "grid_gap": null,
            "grid_row": null,
            "grid_template_areas": null,
            "grid_template_columns": null,
            "grid_template_rows": null,
            "height": null,
            "justify_content": null,
            "justify_items": null,
            "left": null,
            "margin": null,
            "max_height": null,
            "max_width": null,
            "min_height": null,
            "min_width": null,
            "object_fit": null,
            "object_position": null,
            "order": null,
            "overflow": null,
            "overflow_x": null,
            "overflow_y": null,
            "padding": null,
            "right": null,
            "top": null,
            "visibility": null,
            "width": null
          }
        },
        "9977b0980bd8405884bdc4dd472c50e6": {
          "model_module": "@jupyter-widgets/base",
          "model_name": "LayoutModel",
          "model_module_version": "1.2.0",
          "state": {
            "_model_module": "@jupyter-widgets/base",
            "_model_module_version": "1.2.0",
            "_model_name": "LayoutModel",
            "_view_count": null,
            "_view_module": "@jupyter-widgets/base",
            "_view_module_version": "1.2.0",
            "_view_name": "LayoutView",
            "align_content": null,
            "align_items": null,
            "align_self": null,
            "border": null,
            "bottom": null,
            "display": null,
            "flex": null,
            "flex_flow": null,
            "grid_area": null,
            "grid_auto_columns": null,
            "grid_auto_flow": null,
            "grid_auto_rows": null,
            "grid_column": null,
            "grid_gap": null,
            "grid_row": null,
            "grid_template_areas": null,
            "grid_template_columns": null,
            "grid_template_rows": null,
            "height": null,
            "justify_content": null,
            "justify_items": null,
            "left": null,
            "margin": null,
            "max_height": null,
            "max_width": null,
            "min_height": null,
            "min_width": null,
            "object_fit": null,
            "object_position": null,
            "order": null,
            "overflow": null,
            "overflow_x": null,
            "overflow_y": null,
            "padding": null,
            "right": null,
            "top": null,
            "visibility": null,
            "width": null
          }
        },
        "9e36c10aeb124f8c80e43ff7e79887fa": {
          "model_module": "@jupyter-widgets/controls",
          "model_name": "DescriptionStyleModel",
          "model_module_version": "1.5.0",
          "state": {
            "_model_module": "@jupyter-widgets/controls",
            "_model_module_version": "1.5.0",
            "_model_name": "DescriptionStyleModel",
            "_view_count": null,
            "_view_module": "@jupyter-widgets/base",
            "_view_module_version": "1.2.0",
            "_view_name": "StyleView",
            "description_width": ""
          }
        },
        "9b450216320d4ef1bb03753a11a41169": {
          "model_module": "@jupyter-widgets/base",
          "model_name": "LayoutModel",
          "model_module_version": "1.2.0",
          "state": {
            "_model_module": "@jupyter-widgets/base",
            "_model_module_version": "1.2.0",
            "_model_name": "LayoutModel",
            "_view_count": null,
            "_view_module": "@jupyter-widgets/base",
            "_view_module_version": "1.2.0",
            "_view_name": "LayoutView",
            "align_content": null,
            "align_items": null,
            "align_self": null,
            "border": null,
            "bottom": null,
            "display": null,
            "flex": null,
            "flex_flow": null,
            "grid_area": null,
            "grid_auto_columns": null,
            "grid_auto_flow": null,
            "grid_auto_rows": null,
            "grid_column": null,
            "grid_gap": null,
            "grid_row": null,
            "grid_template_areas": null,
            "grid_template_columns": null,
            "grid_template_rows": null,
            "height": null,
            "justify_content": null,
            "justify_items": null,
            "left": null,
            "margin": null,
            "max_height": null,
            "max_width": null,
            "min_height": null,
            "min_width": null,
            "object_fit": null,
            "object_position": null,
            "order": null,
            "overflow": null,
            "overflow_x": null,
            "overflow_y": null,
            "padding": null,
            "right": null,
            "top": null,
            "visibility": null,
            "width": null
          }
        },
        "680c088d78d14f9da6a5726b48f5cde2": {
          "model_module": "@jupyter-widgets/controls",
          "model_name": "ProgressStyleModel",
          "model_module_version": "1.5.0",
          "state": {
            "_model_module": "@jupyter-widgets/controls",
            "_model_module_version": "1.5.0",
            "_model_name": "ProgressStyleModel",
            "_view_count": null,
            "_view_module": "@jupyter-widgets/base",
            "_view_module_version": "1.2.0",
            "_view_name": "StyleView",
            "bar_color": null,
            "description_width": ""
          }
        },
        "94b6970c1769443e85e89d853dfb8cae": {
          "model_module": "@jupyter-widgets/base",
          "model_name": "LayoutModel",
          "model_module_version": "1.2.0",
          "state": {
            "_model_module": "@jupyter-widgets/base",
            "_model_module_version": "1.2.0",
            "_model_name": "LayoutModel",
            "_view_count": null,
            "_view_module": "@jupyter-widgets/base",
            "_view_module_version": "1.2.0",
            "_view_name": "LayoutView",
            "align_content": null,
            "align_items": null,
            "align_self": null,
            "border": null,
            "bottom": null,
            "display": null,
            "flex": null,
            "flex_flow": null,
            "grid_area": null,
            "grid_auto_columns": null,
            "grid_auto_flow": null,
            "grid_auto_rows": null,
            "grid_column": null,
            "grid_gap": null,
            "grid_row": null,
            "grid_template_areas": null,
            "grid_template_columns": null,
            "grid_template_rows": null,
            "height": null,
            "justify_content": null,
            "justify_items": null,
            "left": null,
            "margin": null,
            "max_height": null,
            "max_width": null,
            "min_height": null,
            "min_width": null,
            "object_fit": null,
            "object_position": null,
            "order": null,
            "overflow": null,
            "overflow_x": null,
            "overflow_y": null,
            "padding": null,
            "right": null,
            "top": null,
            "visibility": null,
            "width": null
          }
        },
        "d290c9faccc34058b71b5b9d6a406b3e": {
          "model_module": "@jupyter-widgets/controls",
          "model_name": "DescriptionStyleModel",
          "model_module_version": "1.5.0",
          "state": {
            "_model_module": "@jupyter-widgets/controls",
            "_model_module_version": "1.5.0",
            "_model_name": "DescriptionStyleModel",
            "_view_count": null,
            "_view_module": "@jupyter-widgets/base",
            "_view_module_version": "1.2.0",
            "_view_name": "StyleView",
            "description_width": ""
          }
        },
        "ea6ede18fcfa4060a709216c4ca230fa": {
          "model_module": "@jupyter-widgets/controls",
          "model_name": "HBoxModel",
          "model_module_version": "1.5.0",
          "state": {
            "_dom_classes": [],
            "_model_module": "@jupyter-widgets/controls",
            "_model_module_version": "1.5.0",
            "_model_name": "HBoxModel",
            "_view_count": null,
            "_view_module": "@jupyter-widgets/controls",
            "_view_module_version": "1.5.0",
            "_view_name": "HBoxView",
            "box_style": "",
            "children": [
              "IPY_MODEL_ddfa4c3e558f498c9b041cfbb32818de",
              "IPY_MODEL_d9dccdb63cd94c8b82113043bc5d1ada",
              "IPY_MODEL_f3e60a6bf14143df8c85c8b3bba5dc18"
            ],
            "layout": "IPY_MODEL_96c13ec40074457fad19f2aed6a49c1e"
          }
        },
        "ddfa4c3e558f498c9b041cfbb32818de": {
          "model_module": "@jupyter-widgets/controls",
          "model_name": "HTMLModel",
          "model_module_version": "1.5.0",
          "state": {
            "_dom_classes": [],
            "_model_module": "@jupyter-widgets/controls",
            "_model_module_version": "1.5.0",
            "_model_name": "HTMLModel",
            "_view_count": null,
            "_view_module": "@jupyter-widgets/controls",
            "_view_module_version": "1.5.0",
            "_view_name": "HTMLView",
            "description": "",
            "description_tooltip": null,
            "layout": "IPY_MODEL_d71b72565ab74388b82f8690db183c42",
            "placeholder": "​",
            "style": "IPY_MODEL_c7fb79ceb571498ab7fdd8c2c640ae89",
            "value": "Generating test split: 100%"
          }
        },
        "d9dccdb63cd94c8b82113043bc5d1ada": {
          "model_module": "@jupyter-widgets/controls",
          "model_name": "FloatProgressModel",
          "model_module_version": "1.5.0",
          "state": {
            "_dom_classes": [],
            "_model_module": "@jupyter-widgets/controls",
            "_model_module_version": "1.5.0",
            "_model_name": "FloatProgressModel",
            "_view_count": null,
            "_view_module": "@jupyter-widgets/controls",
            "_view_module_version": "1.5.0",
            "_view_name": "ProgressView",
            "bar_style": "success",
            "description": "",
            "description_tooltip": null,
            "layout": "IPY_MODEL_3896499281ac4ad6b4d6977b367151de",
            "max": 3453,
            "min": 0,
            "orientation": "horizontal",
            "style": "IPY_MODEL_5b11f5ff2b24481aa514e897148b3505",
            "value": 3453
          }
        },
        "f3e60a6bf14143df8c85c8b3bba5dc18": {
          "model_module": "@jupyter-widgets/controls",
          "model_name": "HTMLModel",
          "model_module_version": "1.5.0",
          "state": {
            "_dom_classes": [],
            "_model_module": "@jupyter-widgets/controls",
            "_model_module_version": "1.5.0",
            "_model_name": "HTMLModel",
            "_view_count": null,
            "_view_module": "@jupyter-widgets/controls",
            "_view_module_version": "1.5.0",
            "_view_name": "HTMLView",
            "description": "",
            "description_tooltip": null,
            "layout": "IPY_MODEL_2e14ab31bc024af4b5eefa1798ae141b",
            "placeholder": "​",
            "style": "IPY_MODEL_4caa36929c9943c189dd363a74785c62",
            "value": " 3453/3453 [00:01&lt;00:00, 2966.05 examples/s]"
          }
        },
        "96c13ec40074457fad19f2aed6a49c1e": {
          "model_module": "@jupyter-widgets/base",
          "model_name": "LayoutModel",
          "model_module_version": "1.2.0",
          "state": {
            "_model_module": "@jupyter-widgets/base",
            "_model_module_version": "1.2.0",
            "_model_name": "LayoutModel",
            "_view_count": null,
            "_view_module": "@jupyter-widgets/base",
            "_view_module_version": "1.2.0",
            "_view_name": "LayoutView",
            "align_content": null,
            "align_items": null,
            "align_self": null,
            "border": null,
            "bottom": null,
            "display": null,
            "flex": null,
            "flex_flow": null,
            "grid_area": null,
            "grid_auto_columns": null,
            "grid_auto_flow": null,
            "grid_auto_rows": null,
            "grid_column": null,
            "grid_gap": null,
            "grid_row": null,
            "grid_template_areas": null,
            "grid_template_columns": null,
            "grid_template_rows": null,
            "height": null,
            "justify_content": null,
            "justify_items": null,
            "left": null,
            "margin": null,
            "max_height": null,
            "max_width": null,
            "min_height": null,
            "min_width": null,
            "object_fit": null,
            "object_position": null,
            "order": null,
            "overflow": null,
            "overflow_x": null,
            "overflow_y": null,
            "padding": null,
            "right": null,
            "top": null,
            "visibility": null,
            "width": null
          }
        },
        "d71b72565ab74388b82f8690db183c42": {
          "model_module": "@jupyter-widgets/base",
          "model_name": "LayoutModel",
          "model_module_version": "1.2.0",
          "state": {
            "_model_module": "@jupyter-widgets/base",
            "_model_module_version": "1.2.0",
            "_model_name": "LayoutModel",
            "_view_count": null,
            "_view_module": "@jupyter-widgets/base",
            "_view_module_version": "1.2.0",
            "_view_name": "LayoutView",
            "align_content": null,
            "align_items": null,
            "align_self": null,
            "border": null,
            "bottom": null,
            "display": null,
            "flex": null,
            "flex_flow": null,
            "grid_area": null,
            "grid_auto_columns": null,
            "grid_auto_flow": null,
            "grid_auto_rows": null,
            "grid_column": null,
            "grid_gap": null,
            "grid_row": null,
            "grid_template_areas": null,
            "grid_template_columns": null,
            "grid_template_rows": null,
            "height": null,
            "justify_content": null,
            "justify_items": null,
            "left": null,
            "margin": null,
            "max_height": null,
            "max_width": null,
            "min_height": null,
            "min_width": null,
            "object_fit": null,
            "object_position": null,
            "order": null,
            "overflow": null,
            "overflow_x": null,
            "overflow_y": null,
            "padding": null,
            "right": null,
            "top": null,
            "visibility": null,
            "width": null
          }
        },
        "c7fb79ceb571498ab7fdd8c2c640ae89": {
          "model_module": "@jupyter-widgets/controls",
          "model_name": "DescriptionStyleModel",
          "model_module_version": "1.5.0",
          "state": {
            "_model_module": "@jupyter-widgets/controls",
            "_model_module_version": "1.5.0",
            "_model_name": "DescriptionStyleModel",
            "_view_count": null,
            "_view_module": "@jupyter-widgets/base",
            "_view_module_version": "1.2.0",
            "_view_name": "StyleView",
            "description_width": ""
          }
        },
        "3896499281ac4ad6b4d6977b367151de": {
          "model_module": "@jupyter-widgets/base",
          "model_name": "LayoutModel",
          "model_module_version": "1.2.0",
          "state": {
            "_model_module": "@jupyter-widgets/base",
            "_model_module_version": "1.2.0",
            "_model_name": "LayoutModel",
            "_view_count": null,
            "_view_module": "@jupyter-widgets/base",
            "_view_module_version": "1.2.0",
            "_view_name": "LayoutView",
            "align_content": null,
            "align_items": null,
            "align_self": null,
            "border": null,
            "bottom": null,
            "display": null,
            "flex": null,
            "flex_flow": null,
            "grid_area": null,
            "grid_auto_columns": null,
            "grid_auto_flow": null,
            "grid_auto_rows": null,
            "grid_column": null,
            "grid_gap": null,
            "grid_row": null,
            "grid_template_areas": null,
            "grid_template_columns": null,
            "grid_template_rows": null,
            "height": null,
            "justify_content": null,
            "justify_items": null,
            "left": null,
            "margin": null,
            "max_height": null,
            "max_width": null,
            "min_height": null,
            "min_width": null,
            "object_fit": null,
            "object_position": null,
            "order": null,
            "overflow": null,
            "overflow_x": null,
            "overflow_y": null,
            "padding": null,
            "right": null,
            "top": null,
            "visibility": null,
            "width": null
          }
        },
        "5b11f5ff2b24481aa514e897148b3505": {
          "model_module": "@jupyter-widgets/controls",
          "model_name": "ProgressStyleModel",
          "model_module_version": "1.5.0",
          "state": {
            "_model_module": "@jupyter-widgets/controls",
            "_model_module_version": "1.5.0",
            "_model_name": "ProgressStyleModel",
            "_view_count": null,
            "_view_module": "@jupyter-widgets/base",
            "_view_module_version": "1.2.0",
            "_view_name": "StyleView",
            "bar_color": null,
            "description_width": ""
          }
        },
        "2e14ab31bc024af4b5eefa1798ae141b": {
          "model_module": "@jupyter-widgets/base",
          "model_name": "LayoutModel",
          "model_module_version": "1.2.0",
          "state": {
            "_model_module": "@jupyter-widgets/base",
            "_model_module_version": "1.2.0",
            "_model_name": "LayoutModel",
            "_view_count": null,
            "_view_module": "@jupyter-widgets/base",
            "_view_module_version": "1.2.0",
            "_view_name": "LayoutView",
            "align_content": null,
            "align_items": null,
            "align_self": null,
            "border": null,
            "bottom": null,
            "display": null,
            "flex": null,
            "flex_flow": null,
            "grid_area": null,
            "grid_auto_columns": null,
            "grid_auto_flow": null,
            "grid_auto_rows": null,
            "grid_column": null,
            "grid_gap": null,
            "grid_row": null,
            "grid_template_areas": null,
            "grid_template_columns": null,
            "grid_template_rows": null,
            "height": null,
            "justify_content": null,
            "justify_items": null,
            "left": null,
            "margin": null,
            "max_height": null,
            "max_width": null,
            "min_height": null,
            "min_width": null,
            "object_fit": null,
            "object_position": null,
            "order": null,
            "overflow": null,
            "overflow_x": null,
            "overflow_y": null,
            "padding": null,
            "right": null,
            "top": null,
            "visibility": null,
            "width": null
          }
        },
        "4caa36929c9943c189dd363a74785c62": {
          "model_module": "@jupyter-widgets/controls",
          "model_name": "DescriptionStyleModel",
          "model_module_version": "1.5.0",
          "state": {
            "_model_module": "@jupyter-widgets/controls",
            "_model_module_version": "1.5.0",
            "_model_name": "DescriptionStyleModel",
            "_view_count": null,
            "_view_module": "@jupyter-widgets/base",
            "_view_module_version": "1.2.0",
            "_view_name": "StyleView",
            "description_width": ""
          }
        }
      }
    }
  },
  "cells": [
    {
      "cell_type": "markdown",
      "metadata": {
        "id": "view-in-github",
        "colab_type": "text"
      },
      "source": [
        "<a href=\"https://colab.research.google.com/github/KayvanShah1/usc-csci-544-assignments-hw/blob/main/hw4/CSCI544_HW4.ipynb\" target=\"_parent\"><img src=\"https://colab.research.google.com/assets/colab-badge.svg\" alt=\"Open In Colab\"/></a>"
      ]
    },
    {
      "cell_type": "markdown",
      "source": [
        "# Dependencies"
      ],
      "metadata": {
        "id": "2AkrwC4_DxGj"
      }
    },
    {
      "cell_type": "markdown",
      "source": [
        "## Installation"
      ],
      "metadata": {
        "id": "bv7G1DH1D1mT"
      }
    },
    {
      "cell_type": "code",
      "source": [
        "!pip install transformers datasets accelerate\n",
        "!pip install ipython-autotime"
      ],
      "metadata": {
        "colab": {
          "base_uri": "https://localhost:8080/"
        },
        "id": "Wj2innD8D8-P",
        "outputId": "485e1bf4-c585-4d30-c5e7-69f35c315654"
      },
      "execution_count": 1,
      "outputs": [
        {
          "output_type": "stream",
          "name": "stdout",
          "text": [
            "Collecting transformers\n",
            "  Downloading transformers-4.35.0-py3-none-any.whl (7.9 MB)\n",
            "\u001b[2K     \u001b[90m━━━━━━━━━━━━━━━━━━━━━━━━━━━━━━━━━━━━━━━━\u001b[0m \u001b[32m7.9/7.9 MB\u001b[0m \u001b[31m16.1 MB/s\u001b[0m eta \u001b[36m0:00:00\u001b[0m\n",
            "\u001b[?25hCollecting datasets\n",
            "  Downloading datasets-2.14.6-py3-none-any.whl (493 kB)\n",
            "\u001b[2K     \u001b[90m━━━━━━━━━━━━━━━━━━━━━━━━━━━━━━━━━━━━━━━━\u001b[0m \u001b[32m493.7/493.7 kB\u001b[0m \u001b[31m22.3 MB/s\u001b[0m eta \u001b[36m0:00:00\u001b[0m\n",
            "\u001b[?25hCollecting accelerate\n",
            "  Downloading accelerate-0.24.1-py3-none-any.whl (261 kB)\n",
            "\u001b[2K     \u001b[90m━━━━━━━━━━━━━━━━━━━━━━━━━━━━━━━━━━━━━━━━\u001b[0m \u001b[32m261.4/261.4 kB\u001b[0m \u001b[31m33.9 MB/s\u001b[0m eta \u001b[36m0:00:00\u001b[0m\n",
            "\u001b[?25hRequirement already satisfied: filelock in /usr/local/lib/python3.10/dist-packages (from transformers) (3.13.1)\n",
            "Collecting huggingface-hub<1.0,>=0.16.4 (from transformers)\n",
            "  Downloading huggingface_hub-0.19.0-py3-none-any.whl (311 kB)\n",
            "\u001b[2K     \u001b[90m━━━━━━━━━━━━━━━━━━━━━━━━━━━━━━━━━━━━━━━━\u001b[0m \u001b[32m311.2/311.2 kB\u001b[0m \u001b[31m34.4 MB/s\u001b[0m eta \u001b[36m0:00:00\u001b[0m\n",
            "\u001b[?25hRequirement already satisfied: numpy>=1.17 in /usr/local/lib/python3.10/dist-packages (from transformers) (1.23.5)\n",
            "Requirement already satisfied: packaging>=20.0 in /usr/local/lib/python3.10/dist-packages (from transformers) (23.2)\n",
            "Requirement already satisfied: pyyaml>=5.1 in /usr/local/lib/python3.10/dist-packages (from transformers) (6.0.1)\n",
            "Requirement already satisfied: regex!=2019.12.17 in /usr/local/lib/python3.10/dist-packages (from transformers) (2023.6.3)\n",
            "Requirement already satisfied: requests in /usr/local/lib/python3.10/dist-packages (from transformers) (2.31.0)\n",
            "Collecting tokenizers<0.15,>=0.14 (from transformers)\n",
            "  Downloading tokenizers-0.14.1-cp310-cp310-manylinux_2_17_x86_64.manylinux2014_x86_64.whl (3.8 MB)\n",
            "\u001b[2K     \u001b[90m━━━━━━━━━━━━━━━━━━━━━━━━━━━━━━━━━━━━━━━━\u001b[0m \u001b[32m3.8/3.8 MB\u001b[0m \u001b[31m41.0 MB/s\u001b[0m eta \u001b[36m0:00:00\u001b[0m\n",
            "\u001b[?25hCollecting safetensors>=0.3.1 (from transformers)\n",
            "  Downloading safetensors-0.4.0-cp310-cp310-manylinux_2_17_x86_64.manylinux2014_x86_64.whl (1.3 MB)\n",
            "\u001b[2K     \u001b[90m━━━━━━━━━━━━━━━━━━━━━━━━━━━━━━━━━━━━━━━━\u001b[0m \u001b[32m1.3/1.3 MB\u001b[0m \u001b[31m40.3 MB/s\u001b[0m eta \u001b[36m0:00:00\u001b[0m\n",
            "\u001b[?25hRequirement already satisfied: tqdm>=4.27 in /usr/local/lib/python3.10/dist-packages (from transformers) (4.66.1)\n",
            "Requirement already satisfied: pyarrow>=8.0.0 in /usr/local/lib/python3.10/dist-packages (from datasets) (9.0.0)\n",
            "Collecting dill<0.3.8,>=0.3.0 (from datasets)\n",
            "  Downloading dill-0.3.7-py3-none-any.whl (115 kB)\n",
            "\u001b[2K     \u001b[90m━━━━━━━━━━━━━━━━━━━━━━━━━━━━━━━━━━━━━━━━\u001b[0m \u001b[32m115.3/115.3 kB\u001b[0m \u001b[31m17.0 MB/s\u001b[0m eta \u001b[36m0:00:00\u001b[0m\n",
            "\u001b[?25hRequirement already satisfied: pandas in /usr/local/lib/python3.10/dist-packages (from datasets) (1.5.3)\n",
            "Requirement already satisfied: xxhash in /usr/local/lib/python3.10/dist-packages (from datasets) (3.4.1)\n",
            "Collecting multiprocess (from datasets)\n",
            "  Downloading multiprocess-0.70.15-py310-none-any.whl (134 kB)\n",
            "\u001b[2K     \u001b[90m━━━━━━━━━━━━━━━━━━━━━━━━━━━━━━━━━━━━━━━━\u001b[0m \u001b[32m134.8/134.8 kB\u001b[0m \u001b[31m20.4 MB/s\u001b[0m eta \u001b[36m0:00:00\u001b[0m\n",
            "\u001b[?25hRequirement already satisfied: fsspec[http]<=2023.10.0,>=2023.1.0 in /usr/local/lib/python3.10/dist-packages (from datasets) (2023.6.0)\n",
            "Requirement already satisfied: aiohttp in /usr/local/lib/python3.10/dist-packages (from datasets) (3.8.6)\n",
            "Requirement already satisfied: psutil in /usr/local/lib/python3.10/dist-packages (from accelerate) (5.9.5)\n",
            "Requirement already satisfied: torch>=1.10.0 in /usr/local/lib/python3.10/dist-packages (from accelerate) (2.1.0+cu118)\n",
            "Requirement already satisfied: attrs>=17.3.0 in /usr/local/lib/python3.10/dist-packages (from aiohttp->datasets) (23.1.0)\n",
            "Requirement already satisfied: charset-normalizer<4.0,>=2.0 in /usr/local/lib/python3.10/dist-packages (from aiohttp->datasets) (3.3.2)\n",
            "Requirement already satisfied: multidict<7.0,>=4.5 in /usr/local/lib/python3.10/dist-packages (from aiohttp->datasets) (6.0.4)\n",
            "Requirement already satisfied: async-timeout<5.0,>=4.0.0a3 in /usr/local/lib/python3.10/dist-packages (from aiohttp->datasets) (4.0.3)\n",
            "Requirement already satisfied: yarl<2.0,>=1.0 in /usr/local/lib/python3.10/dist-packages (from aiohttp->datasets) (1.9.2)\n",
            "Requirement already satisfied: frozenlist>=1.1.1 in /usr/local/lib/python3.10/dist-packages (from aiohttp->datasets) (1.4.0)\n",
            "Requirement already satisfied: aiosignal>=1.1.2 in /usr/local/lib/python3.10/dist-packages (from aiohttp->datasets) (1.3.1)\n",
            "Requirement already satisfied: typing-extensions>=3.7.4.3 in /usr/local/lib/python3.10/dist-packages (from huggingface-hub<1.0,>=0.16.4->transformers) (4.5.0)\n",
            "Requirement already satisfied: idna<4,>=2.5 in /usr/local/lib/python3.10/dist-packages (from requests->transformers) (3.4)\n",
            "Requirement already satisfied: urllib3<3,>=1.21.1 in /usr/local/lib/python3.10/dist-packages (from requests->transformers) (2.0.7)\n",
            "Requirement already satisfied: certifi>=2017.4.17 in /usr/local/lib/python3.10/dist-packages (from requests->transformers) (2023.7.22)\n",
            "Collecting huggingface-hub<1.0,>=0.16.4 (from transformers)\n",
            "  Downloading huggingface_hub-0.17.3-py3-none-any.whl (295 kB)\n",
            "\u001b[2K     \u001b[90m━━━━━━━━━━━━━━━━━━━━━━━━━━━━━━━━━━━━━━━━\u001b[0m \u001b[32m295.0/295.0 kB\u001b[0m \u001b[31m33.2 MB/s\u001b[0m eta \u001b[36m0:00:00\u001b[0m\n",
            "\u001b[?25hRequirement already satisfied: sympy in /usr/local/lib/python3.10/dist-packages (from torch>=1.10.0->accelerate) (1.12)\n",
            "Requirement already satisfied: networkx in /usr/local/lib/python3.10/dist-packages (from torch>=1.10.0->accelerate) (3.2.1)\n",
            "Requirement already satisfied: jinja2 in /usr/local/lib/python3.10/dist-packages (from torch>=1.10.0->accelerate) (3.1.2)\n",
            "Requirement already satisfied: triton==2.1.0 in /usr/local/lib/python3.10/dist-packages (from torch>=1.10.0->accelerate) (2.1.0)\n",
            "Requirement already satisfied: python-dateutil>=2.8.1 in /usr/local/lib/python3.10/dist-packages (from pandas->datasets) (2.8.2)\n",
            "Requirement already satisfied: pytz>=2020.1 in /usr/local/lib/python3.10/dist-packages (from pandas->datasets) (2023.3.post1)\n",
            "Requirement already satisfied: six>=1.5 in /usr/local/lib/python3.10/dist-packages (from python-dateutil>=2.8.1->pandas->datasets) (1.16.0)\n",
            "Requirement already satisfied: MarkupSafe>=2.0 in /usr/local/lib/python3.10/dist-packages (from jinja2->torch>=1.10.0->accelerate) (2.1.3)\n",
            "Requirement already satisfied: mpmath>=0.19 in /usr/local/lib/python3.10/dist-packages (from sympy->torch>=1.10.0->accelerate) (1.3.0)\n",
            "Installing collected packages: safetensors, dill, multiprocess, huggingface-hub, tokenizers, accelerate, transformers, datasets\n",
            "Successfully installed accelerate-0.24.1 datasets-2.14.6 dill-0.3.7 huggingface-hub-0.17.3 multiprocess-0.70.15 safetensors-0.4.0 tokenizers-0.14.1 transformers-4.35.0\n",
            "Collecting ipython-autotime\n",
            "  Downloading ipython_autotime-0.3.2-py2.py3-none-any.whl (7.0 kB)\n",
            "Requirement already satisfied: ipython in /usr/local/lib/python3.10/dist-packages (from ipython-autotime) (7.34.0)\n",
            "Requirement already satisfied: setuptools>=18.5 in /usr/local/lib/python3.10/dist-packages (from ipython->ipython-autotime) (67.7.2)\n",
            "Collecting jedi>=0.16 (from ipython->ipython-autotime)\n",
            "  Downloading jedi-0.19.1-py2.py3-none-any.whl (1.6 MB)\n",
            "\u001b[2K     \u001b[90m━━━━━━━━━━━━━━━━━━━━━━━━━━━━━━━━━━━━━━━━\u001b[0m \u001b[32m1.6/1.6 MB\u001b[0m \u001b[31m7.0 MB/s\u001b[0m eta \u001b[36m0:00:00\u001b[0m\n",
            "\u001b[?25hRequirement already satisfied: decorator in /usr/local/lib/python3.10/dist-packages (from ipython->ipython-autotime) (4.4.2)\n",
            "Requirement already satisfied: pickleshare in /usr/local/lib/python3.10/dist-packages (from ipython->ipython-autotime) (0.7.5)\n",
            "Requirement already satisfied: traitlets>=4.2 in /usr/local/lib/python3.10/dist-packages (from ipython->ipython-autotime) (5.7.1)\n",
            "Requirement already satisfied: prompt-toolkit!=3.0.0,!=3.0.1,<3.1.0,>=2.0.0 in /usr/local/lib/python3.10/dist-packages (from ipython->ipython-autotime) (3.0.39)\n",
            "Requirement already satisfied: pygments in /usr/local/lib/python3.10/dist-packages (from ipython->ipython-autotime) (2.16.1)\n",
            "Requirement already satisfied: backcall in /usr/local/lib/python3.10/dist-packages (from ipython->ipython-autotime) (0.2.0)\n",
            "Requirement already satisfied: matplotlib-inline in /usr/local/lib/python3.10/dist-packages (from ipython->ipython-autotime) (0.1.6)\n",
            "Requirement already satisfied: pexpect>4.3 in /usr/local/lib/python3.10/dist-packages (from ipython->ipython-autotime) (4.8.0)\n",
            "Requirement already satisfied: parso<0.9.0,>=0.8.3 in /usr/local/lib/python3.10/dist-packages (from jedi>=0.16->ipython->ipython-autotime) (0.8.3)\n",
            "Requirement already satisfied: ptyprocess>=0.5 in /usr/local/lib/python3.10/dist-packages (from pexpect>4.3->ipython->ipython-autotime) (0.7.0)\n",
            "Requirement already satisfied: wcwidth in /usr/local/lib/python3.10/dist-packages (from prompt-toolkit!=3.0.0,!=3.0.1,<3.1.0,>=2.0.0->ipython->ipython-autotime) (0.2.9)\n",
            "Installing collected packages: jedi, ipython-autotime\n",
            "Successfully installed ipython-autotime-0.3.2 jedi-0.19.1\n"
          ]
        }
      ]
    },
    {
      "cell_type": "markdown",
      "source": [
        "## Imports"
      ],
      "metadata": {
        "id": "kyoG8-IyD6OZ"
      }
    },
    {
      "cell_type": "code",
      "source": [
        "import os\n",
        "import shutil\n",
        "from typing import List, Tuple, Dict\n",
        "\n",
        "import itertools\n",
        "from collections import Counter\n",
        "\n",
        "from tqdm import tqdm\n",
        "\n",
        "import warnings\n",
        "warnings.filterwarnings(\"ignore\")\n",
        "\n",
        "import csv\n",
        "import numpy as np\n",
        "import pandas as pd\n",
        "\n",
        "from sklearn.metrics import precision_score, recall_score, f1_score, accuracy_score\n",
        "\n",
        "import torch\n",
        "import torch.nn as nn\n",
        "import torch.optim as optim\n",
        "from torch.utils.data import Dataset, DataLoader\n",
        "\n",
        "from datasets import load_dataset\n",
        "import transformers\n",
        "\n",
        "from dataclasses import dataclass\n",
        "\n",
        "%load_ext autotime"
      ],
      "metadata": {
        "colab": {
          "base_uri": "https://localhost:8080/"
        },
        "id": "Z2rw_Xi0EG7r",
        "outputId": "61dd4b79-36d5-40bf-804a-c99d66e48db4"
      },
      "execution_count": 2,
      "outputs": [
        {
          "output_type": "stream",
          "name": "stdout",
          "text": [
            "time: 408 µs (started: 2023-11-10 11:16:28 +00:00)\n"
          ]
        }
      ]
    },
    {
      "cell_type": "markdown",
      "source": [
        "# Config"
      ],
      "metadata": {
        "id": "B547f0ajEHkT"
      }
    },
    {
      "cell_type": "code",
      "source": [
        "os.environ[\"CUDA_LAUNCH_BLOCKING\"] = \"1\"\n",
        "\n",
        "# Set the current working directory\n",
        "try:\n",
        "    os.chdir(\"/content/drive/MyDrive/Colab Notebooks/CSCI544/HW4\")\n",
        "except:\n",
        "    pass\n",
        "\n",
        "\n",
        "class PathConfig:\n",
        "    # Get the current dir\n",
        "    CURRENT_DIR = os.getcwd()\n",
        "\n",
        "    # Glove embedding path\n",
        "    GLOVE_100d_File = os.path.join(CURRENT_DIR, \"glove.6B.100d.txt\")\n",
        "\n",
        "\n",
        "class DatasetConfig:\n",
        "    # General Info\n",
        "    name = \"conll2003\"\n",
        "\n",
        "    # Processing\n",
        "    cols_to_drop =  [\"id\", \"pos_tags\", \"chunk_tags\"]\n",
        "    rename_cols = {\"ner_tags\": \"labels\"}\n",
        "\n",
        "    # Preprocessing\n",
        "    THRESHOLD = 3\n",
        "    PAD_TOKEN = \"<pad>\"\n",
        "    UNKNOWN_TOKEN = \"<unk>\"\n",
        "    embedding_size = 100\n",
        "\n",
        "    # NER Tags list and converter dictionaries\n",
        "    ner_tag2idx = {'O': 0, 'B-PER': 1, 'I-PER': 2, 'B-ORG': 3, 'I-ORG': 4, 'B-LOC': 5, 'I-LOC': 6, 'B-MISC': 7, 'I-MISC': 8}\n",
        "    ner_idx2tag = {v: k for k, v in ner_tag2idx.items()}\n",
        "\n",
        "    NUM_NER_TAGS = len(ner_tag2idx)\n",
        "    SPECIAL_TOKEN_TAG = -100"
      ],
      "metadata": {
        "colab": {
          "base_uri": "https://localhost:8080/"
        },
        "id": "X6p7EpRyE6eH",
        "outputId": "207b1126-2704-4f6c-e1ec-f4c1ab1ca71d"
      },
      "execution_count": 3,
      "outputs": [
        {
          "output_type": "stream",
          "name": "stdout",
          "text": [
            "time: 190 ms (started: 2023-11-10 11:16:28 +00:00)\n"
          ]
        }
      ]
    },
    {
      "cell_type": "markdown",
      "source": [
        "# Helper Functions & Support Scripts"
      ],
      "metadata": {
        "id": "ODDWajPdZCwy"
      }
    },
    {
      "cell_type": "markdown",
      "source": [
        "## Accelarator Configuration"
      ],
      "metadata": {
        "id": "TpVH-EQtX91O"
      }
    },
    {
      "cell_type": "code",
      "source": [
        "def get_device():\n",
        "    if torch.cuda.is_available():\n",
        "        # Check if GPU is available\n",
        "        return torch.device(\"cuda\")\n",
        "    else:\n",
        "        # Use CPU if no GPU or TPU is available\n",
        "        return torch.device(\"cpu\")\n",
        "\n",
        "device = get_device()\n",
        "device"
      ],
      "metadata": {
        "colab": {
          "base_uri": "https://localhost:8080/"
        },
        "id": "zuqzDOD3X80M",
        "outputId": "4dab2272-142b-4a89-e410-840d33eaa25d"
      },
      "execution_count": 4,
      "outputs": [
        {
          "output_type": "execute_result",
          "data": {
            "text/plain": [
              "device(type='cuda')"
            ]
          },
          "metadata": {},
          "execution_count": 4
        },
        {
          "output_type": "stream",
          "name": "stdout",
          "text": [
            "time: 91.9 ms (started: 2023-11-10 11:16:29 +00:00)\n"
          ]
        }
      ]
    },
    {
      "cell_type": "markdown",
      "source": [
        "## CoNLL evaluation functions"
      ],
      "metadata": {
        "id": "GMraWiRMnQ-W"
      }
    },
    {
      "cell_type": "code",
      "source": [
        "%%bash\n",
        "if [ ! -f conlleval.py ]; then\n",
        "    echo \"Downloading conlleval.py ...\"\n",
        "    wget https://raw.githubusercontent.com/sighsmile/conlleval/master/conlleval.py\n",
        "else\n",
        "    echo \"File conlleval.py already exists\"\n",
        "fi"
      ],
      "metadata": {
        "colab": {
          "base_uri": "https://localhost:8080/"
        },
        "id": "tJ5Hq9vRZGVt",
        "outputId": "dd4b7034-88ba-430b-cf4e-cbf0cded2b8e"
      },
      "execution_count": 5,
      "outputs": [
        {
          "output_type": "stream",
          "name": "stdout",
          "text": [
            "File conlleval.py already exists\n",
            "time: 179 ms (started: 2023-11-10 11:16:29 +00:00)\n"
          ]
        }
      ]
    },
    {
      "cell_type": "code",
      "source": [
        "from conlleval import evaluate"
      ],
      "metadata": {
        "colab": {
          "base_uri": "https://localhost:8080/"
        },
        "id": "w9_-1YkXmDh-",
        "outputId": "8c506894-8cf1-4cb6-d449-0e64bbd94a9d"
      },
      "execution_count": 6,
      "outputs": [
        {
          "output_type": "stream",
          "name": "stdout",
          "text": [
            "time: 330 ms (started: 2023-11-10 11:16:29 +00:00)\n"
          ]
        }
      ]
    },
    {
      "cell_type": "markdown",
      "source": [
        "## Helper functions"
      ],
      "metadata": {
        "id": "Q0HizaxKclhf"
      }
    },
    {
      "cell_type": "code",
      "source": [
        "# Load glove embeddings to dictionary\n",
        "def load_glove_embeddings(path):\n",
        "    \"\"\"\n",
        "    glove_emb_dict = load_glove_embeddings(PathConfig.GLOVE_100d_File)\n",
        "    \"\"\"\n",
        "    embeddings = pd.read_csv(\n",
        "        PathConfig.GLOVE_100d_File, sep=\" \", quoting=csv.QUOTE_NONE, header=None, index_col=0\n",
        "    )\n",
        "    embeddings = {key: val.values for key, val in embeddings.T.items()}\n",
        "\n",
        "    # Generate word-to-index mapper\n",
        "    word2idx = {word: index for index, word in enumerate(embeddings.keys(), start=2)}\n",
        "\n",
        "    # Add Special token vectors\n",
        "    embeddings[DatasetConfig.UNKNOWN_TOKEN] = np.mean(np.vstack(list(embeddings.values())), axis=0)\n",
        "    embeddings[DatasetConfig.PAD_TOKEN] = np.zeros(DatasetConfig.embedding_size, dtype=\"float64\")\n",
        "\n",
        "    # Add Special token keys to word-to-index mapper\n",
        "    word2idx[DatasetConfig.PAD_TOKEN] = 0\n",
        "    word2idx[DatasetConfig.UNKNOWN_TOKEN] = 1\n",
        "\n",
        "    return word2idx, embeddings"
      ],
      "metadata": {
        "colab": {
          "base_uri": "https://localhost:8080/"
        },
        "id": "AK1QjQLKcuQ7",
        "outputId": "1c13b6ed-6a90-4019-9949-6f854769279c"
      },
      "execution_count": 7,
      "outputs": [
        {
          "output_type": "stream",
          "name": "stdout",
          "text": [
            "time: 1.06 ms (started: 2023-11-10 11:16:29 +00:00)\n"
          ]
        }
      ]
    },
    {
      "cell_type": "markdown",
      "source": [
        "# Download Glove Embeddings"
      ],
      "metadata": {
        "id": "jDp6kDOfVKaQ"
      }
    },
    {
      "cell_type": "code",
      "source": [
        "%%bash\n",
        "if [ ! -f glove.6B.zip ]; then\n",
        "    echo \"Downloading glove.6B.zip...\"\n",
        "    wget http://nlp.stanford.edu/data/glove.6B.zip -y\n",
        "    unzip -o glove.6B.zip\n",
        "else\n",
        "    echo \"File glove.6B.zip already exists\"\n",
        "fi"
      ],
      "metadata": {
        "colab": {
          "base_uri": "https://localhost:8080/"
        },
        "id": "xXkfhi8_tdWf",
        "outputId": "f6bb589e-2b88-4c72-b1f8-a0240eb9bc98"
      },
      "execution_count": 8,
      "outputs": [
        {
          "output_type": "stream",
          "name": "stdout",
          "text": [
            "File glove.6B.zip already exists\n",
            "time: 7.66 ms (started: 2023-11-10 11:16:29 +00:00)\n"
          ]
        }
      ]
    },
    {
      "cell_type": "code",
      "source": [
        "glove_word2idx, glove_emb_dict = load_glove_embeddings(PathConfig.GLOVE_100d_File)"
      ],
      "metadata": {
        "colab": {
          "base_uri": "https://localhost:8080/"
        },
        "id": "26U5H5pOH8t1",
        "outputId": "66600c7e-f28e-4cb9-c0da-79a237e22a4d"
      },
      "execution_count": 9,
      "outputs": [
        {
          "output_type": "stream",
          "name": "stdout",
          "text": [
            "time: 26 s (started: 2023-11-10 11:16:29 +00:00)\n"
          ]
        }
      ]
    },
    {
      "cell_type": "markdown",
      "source": [
        "# Dataset Preparation"
      ],
      "metadata": {
        "id": "XjsFAWbytX-Y"
      }
    },
    {
      "cell_type": "markdown",
      "source": [
        "## Process Data"
      ],
      "metadata": {
        "id": "HQqlzL7N6SNY"
      }
    },
    {
      "cell_type": "code",
      "execution_count": 10,
      "metadata": {
        "colab": {
          "base_uri": "https://localhost:8080/",
          "height": 258,
          "referenced_widgets": [
            "e1c6dab0d4f94bcdbcbecebfd27c32f8",
            "bd742a020b5745a88a2f014e354e6817",
            "abcea84fafc14513b6378d84fbbfca24",
            "2c74206e76e54a1bb7dffba656008a08",
            "21b4c33e57394ee892d34f6c21435ba8",
            "668c103c8b0442928f037212780fc03b",
            "b80997762e454fd888220cc4d017e24e",
            "d0b0f7071d3e42eda96e8a4c8f9c79d7",
            "b452ff1ac8a3498f966ad94479b8a483",
            "7706e6c5b0e147d896f87b90f00e9f02",
            "78b5a97249d740f0a0364e414025e786",
            "6499c0528d2a4126a7703fe3f12c00f8",
            "9fa7bd5766f04b2690a9a5d336ad0545",
            "f0f97231168e482f8da97271d14c8b59",
            "9a28500eb60844ac9a0beeecd2947974",
            "ae8b7086e99746ea9981f1a3d544fa1e",
            "103b8c4eeb6946f7897f4f1021d42cd3",
            "b037620e463846438b2e6801c7521826",
            "ad9ec6b01ed84dc0bf7f86cff98dfdfb",
            "cada16f5f87a460fa455a06b880420fb",
            "2cdfa30a83fd49e29704ad4256605ece",
            "d509345097684741ae0a2d3818ce0ee8",
            "afd0c62daf054246b5744cd72cb06704",
            "2baa759c2c974c27b22cc08f43727c78",
            "3691b15c6fe743da8e1e1cfe56b453af",
            "7f3cce52a31d480fa166d430198f8561",
            "84e1ac34f6b6461f9922bdbda08b2669",
            "69df3d573e15476a907de948ba48e123",
            "1e58dc694b8844ed98953f237b6dbeb9",
            "0ccf32fcce464799ae8b710c305a021b",
            "6dee6bcd34394e8b96fa5da409456f40",
            "7d3cfdb41ff44e4abcc97645b067cc3e",
            "064eba102bf944f79bb278f3b8a8a209",
            "6240e761ea2d4025b45a4e3f9bbd7e50",
            "eabeb5cbb9b640aca9c4c49df551e33e",
            "8e3f7c9002a2461788f6a057c8958dc8",
            "4afd5db688c74e9880c28688e37b8b53",
            "2e43c5ebd8124f70b1959eb08e4054c0",
            "a9ea847e7aaf4b8cb9f19f227d278fa1",
            "de14c83488c34cd48508cd60e8c3a497",
            "8f9e13b20ced420fbf8e4138915a0c77",
            "ebb622fdd29e471ca7aea917484c2259",
            "81e81f604acc4761bb8292f57841c9c7",
            "ad3048b88c9a4787b01d1d23d23b69e6",
            "2fb5252f9ca443d0a539f3fa1c5f83ff",
            "3379e39613d2429a9dbe57512f92eb36",
            "17218197513e40b2843ddec24aba7d9f",
            "73b614f3c2a04fcf8af609d1b28faf24",
            "59705a47cb86437d94aa1c3f4398e62e",
            "1ca633dee2504d35b8db6c62461600ca",
            "24de365757a64cac91a2c8a50e41ed78",
            "6882486549f247e1af898bbe0b9127f3",
            "b66b3cc7915a4ed1af1e748a9e44714b",
            "250f5c27bef646579fdbdab0b8289a8e",
            "934dd1574699417dad633a7565ded039",
            "424400fed0dc422bbddc6ee8dc0bc02b",
            "9a208d50c63a4bf38ff23e88b72cb756",
            "f9af840740734f76893cf2e887bdf2aa",
            "85509f138af148279beb8d43c7196fee",
            "8c809bf683d44d49b52d599bcef2f56d",
            "9977b0980bd8405884bdc4dd472c50e6",
            "9e36c10aeb124f8c80e43ff7e79887fa",
            "9b450216320d4ef1bb03753a11a41169",
            "680c088d78d14f9da6a5726b48f5cde2",
            "94b6970c1769443e85e89d853dfb8cae",
            "d290c9faccc34058b71b5b9d6a406b3e",
            "ea6ede18fcfa4060a709216c4ca230fa",
            "ddfa4c3e558f498c9b041cfbb32818de",
            "d9dccdb63cd94c8b82113043bc5d1ada",
            "f3e60a6bf14143df8c85c8b3bba5dc18",
            "96c13ec40074457fad19f2aed6a49c1e",
            "d71b72565ab74388b82f8690db183c42",
            "c7fb79ceb571498ab7fdd8c2c640ae89",
            "3896499281ac4ad6b4d6977b367151de",
            "5b11f5ff2b24481aa514e897148b3505",
            "2e14ab31bc024af4b5eefa1798ae141b",
            "4caa36929c9943c189dd363a74785c62"
          ]
        },
        "id": "J-2f98y7ykQj",
        "outputId": "9aeaaa5a-8c2f-4f66-f2cd-ced29ce0d07e"
      },
      "outputs": [
        {
          "output_type": "display_data",
          "data": {
            "text/plain": [
              "Downloading builder script:   0%|          | 0.00/9.57k [00:00<?, ?B/s]"
            ],
            "application/vnd.jupyter.widget-view+json": {
              "version_major": 2,
              "version_minor": 0,
              "model_id": "e1c6dab0d4f94bcdbcbecebfd27c32f8"
            }
          },
          "metadata": {}
        },
        {
          "output_type": "display_data",
          "data": {
            "text/plain": [
              "Downloading metadata:   0%|          | 0.00/3.73k [00:00<?, ?B/s]"
            ],
            "application/vnd.jupyter.widget-view+json": {
              "version_major": 2,
              "version_minor": 0,
              "model_id": "6499c0528d2a4126a7703fe3f12c00f8"
            }
          },
          "metadata": {}
        },
        {
          "output_type": "display_data",
          "data": {
            "text/plain": [
              "Downloading readme:   0%|          | 0.00/12.3k [00:00<?, ?B/s]"
            ],
            "application/vnd.jupyter.widget-view+json": {
              "version_major": 2,
              "version_minor": 0,
              "model_id": "afd0c62daf054246b5744cd72cb06704"
            }
          },
          "metadata": {}
        },
        {
          "output_type": "display_data",
          "data": {
            "text/plain": [
              "Downloading data:   0%|          | 0.00/983k [00:00<?, ?B/s]"
            ],
            "application/vnd.jupyter.widget-view+json": {
              "version_major": 2,
              "version_minor": 0,
              "model_id": "6240e761ea2d4025b45a4e3f9bbd7e50"
            }
          },
          "metadata": {}
        },
        {
          "output_type": "display_data",
          "data": {
            "text/plain": [
              "Generating train split:   0%|          | 0/14041 [00:00<?, ? examples/s]"
            ],
            "application/vnd.jupyter.widget-view+json": {
              "version_major": 2,
              "version_minor": 0,
              "model_id": "2fb5252f9ca443d0a539f3fa1c5f83ff"
            }
          },
          "metadata": {}
        },
        {
          "output_type": "display_data",
          "data": {
            "text/plain": [
              "Generating validation split:   0%|          | 0/3250 [00:00<?, ? examples/s]"
            ],
            "application/vnd.jupyter.widget-view+json": {
              "version_major": 2,
              "version_minor": 0,
              "model_id": "424400fed0dc422bbddc6ee8dc0bc02b"
            }
          },
          "metadata": {}
        },
        {
          "output_type": "display_data",
          "data": {
            "text/plain": [
              "Generating test split:   0%|          | 0/3453 [00:00<?, ? examples/s]"
            ],
            "application/vnd.jupyter.widget-view+json": {
              "version_major": 2,
              "version_minor": 0,
              "model_id": "ea6ede18fcfa4060a709216c4ca230fa"
            }
          },
          "metadata": {}
        },
        {
          "output_type": "stream",
          "name": "stdout",
          "text": [
            "time: 7.64 s (started: 2023-11-10 11:16:55 +00:00)\n"
          ]
        }
      ],
      "source": [
        "dataset = load_dataset(\"conll2003\")\n",
        "dataset = dataset.remove_columns(DatasetConfig.cols_to_drop)\n",
        "for old_name, new_name in DatasetConfig.rename_cols.items():\n",
        "    dataset = dataset.rename_column(old_name, new_name)"
      ]
    },
    {
      "cell_type": "code",
      "source": [
        "dataset"
      ],
      "metadata": {
        "colab": {
          "base_uri": "https://localhost:8080/"
        },
        "id": "WYJdzmshD2hK",
        "outputId": "1306c6f4-dfd3-43f3-d5ee-77ffc6c9ee60"
      },
      "execution_count": 11,
      "outputs": [
        {
          "output_type": "execute_result",
          "data": {
            "text/plain": [
              "DatasetDict({\n",
              "    train: Dataset({\n",
              "        features: ['tokens', 'labels'],\n",
              "        num_rows: 14041\n",
              "    })\n",
              "    validation: Dataset({\n",
              "        features: ['tokens', 'labels'],\n",
              "        num_rows: 3250\n",
              "    })\n",
              "    test: Dataset({\n",
              "        features: ['tokens', 'labels'],\n",
              "        num_rows: 3453\n",
              "    })\n",
              "})"
            ]
          },
          "metadata": {},
          "execution_count": 11
        },
        {
          "output_type": "stream",
          "name": "stdout",
          "text": [
            "time: 1.96 ms (started: 2023-11-10 11:17:03 +00:00)\n"
          ]
        }
      ]
    },
    {
      "cell_type": "markdown",
      "source": [
        "## EDA"
      ],
      "metadata": {
        "id": "GRmhYX4TC8jP"
      }
    },
    {
      "cell_type": "code",
      "source": [
        "df = pd.DataFrame(dataset[\"train\"])\n",
        "df.head()"
      ],
      "metadata": {
        "colab": {
          "base_uri": "https://localhost:8080/",
          "height": 224
        },
        "id": "7qzvcU3fC1jY",
        "outputId": "813b8af0-b610-4d4c-b4bb-a56ed19e3e01"
      },
      "execution_count": 12,
      "outputs": [
        {
          "output_type": "execute_result",
          "data": {
            "text/plain": [
              "                                              tokens  \\\n",
              "0  [EU, rejects, German, call, to, boycott, Briti...   \n",
              "1                                 [Peter, Blackburn]   \n",
              "2                             [BRUSSELS, 1996-08-22]   \n",
              "3  [The, European, Commission, said, on, Thursday...   \n",
              "4  [Germany, 's, representative, to, the, Europea...   \n",
              "\n",
              "                                              labels  \n",
              "0                        [3, 0, 7, 0, 0, 0, 7, 0, 0]  \n",
              "1                                             [1, 2]  \n",
              "2                                             [5, 0]  \n",
              "3  [0, 3, 4, 0, 0, 0, 0, 0, 0, 7, 0, 0, 0, 0, 0, ...  \n",
              "4  [5, 0, 0, 0, 0, 3, 4, 0, 0, 0, 1, 2, 0, 0, 0, ...  "
            ],
            "text/html": [
              "\n",
              "  <div id=\"df-8d4e715f-2d44-454f-a9ab-39209bf99743\" class=\"colab-df-container\">\n",
              "    <div>\n",
              "<style scoped>\n",
              "    .dataframe tbody tr th:only-of-type {\n",
              "        vertical-align: middle;\n",
              "    }\n",
              "\n",
              "    .dataframe tbody tr th {\n",
              "        vertical-align: top;\n",
              "    }\n",
              "\n",
              "    .dataframe thead th {\n",
              "        text-align: right;\n",
              "    }\n",
              "</style>\n",
              "<table border=\"1\" class=\"dataframe\">\n",
              "  <thead>\n",
              "    <tr style=\"text-align: right;\">\n",
              "      <th></th>\n",
              "      <th>tokens</th>\n",
              "      <th>labels</th>\n",
              "    </tr>\n",
              "  </thead>\n",
              "  <tbody>\n",
              "    <tr>\n",
              "      <th>0</th>\n",
              "      <td>[EU, rejects, German, call, to, boycott, Briti...</td>\n",
              "      <td>[3, 0, 7, 0, 0, 0, 7, 0, 0]</td>\n",
              "    </tr>\n",
              "    <tr>\n",
              "      <th>1</th>\n",
              "      <td>[Peter, Blackburn]</td>\n",
              "      <td>[1, 2]</td>\n",
              "    </tr>\n",
              "    <tr>\n",
              "      <th>2</th>\n",
              "      <td>[BRUSSELS, 1996-08-22]</td>\n",
              "      <td>[5, 0]</td>\n",
              "    </tr>\n",
              "    <tr>\n",
              "      <th>3</th>\n",
              "      <td>[The, European, Commission, said, on, Thursday...</td>\n",
              "      <td>[0, 3, 4, 0, 0, 0, 0, 0, 0, 7, 0, 0, 0, 0, 0, ...</td>\n",
              "    </tr>\n",
              "    <tr>\n",
              "      <th>4</th>\n",
              "      <td>[Germany, 's, representative, to, the, Europea...</td>\n",
              "      <td>[5, 0, 0, 0, 0, 3, 4, 0, 0, 0, 1, 2, 0, 0, 0, ...</td>\n",
              "    </tr>\n",
              "  </tbody>\n",
              "</table>\n",
              "</div>\n",
              "    <div class=\"colab-df-buttons\">\n",
              "      \n",
              "  <div class=\"colab-df-container\">\n",
              "    <button class=\"colab-df-convert\" onclick=\"convertToInteractive('df-8d4e715f-2d44-454f-a9ab-39209bf99743')\"\n",
              "            title=\"Convert this dataframe to an interactive table.\"\n",
              "            style=\"display:none;\">\n",
              "      \n",
              "  <svg xmlns=\"http://www.w3.org/2000/svg\" height=\"24px\" viewBox=\"0 -960 960 960\">\n",
              "    <path d=\"M120-120v-720h720v720H120Zm60-500h600v-160H180v160Zm220 220h160v-160H400v160Zm0 220h160v-160H400v160ZM180-400h160v-160H180v160Zm440 0h160v-160H620v160ZM180-180h160v-160H180v160Zm440 0h160v-160H620v160Z\"/>\n",
              "  </svg>\n",
              "    </button>\n",
              "    \n",
              "  <style>\n",
              "    .colab-df-container {\n",
              "      display:flex;\n",
              "      gap: 12px;\n",
              "    }\n",
              "\n",
              "    .colab-df-convert {\n",
              "      background-color: #E8F0FE;\n",
              "      border: none;\n",
              "      border-radius: 50%;\n",
              "      cursor: pointer;\n",
              "      display: none;\n",
              "      fill: #1967D2;\n",
              "      height: 32px;\n",
              "      padding: 0 0 0 0;\n",
              "      width: 32px;\n",
              "    }\n",
              "\n",
              "    .colab-df-convert:hover {\n",
              "      background-color: #E2EBFA;\n",
              "      box-shadow: 0px 1px 2px rgba(60, 64, 67, 0.3), 0px 1px 3px 1px rgba(60, 64, 67, 0.15);\n",
              "      fill: #174EA6;\n",
              "    }\n",
              "\n",
              "    .colab-df-buttons div {\n",
              "      margin-bottom: 4px;\n",
              "    }\n",
              "\n",
              "    [theme=dark] .colab-df-convert {\n",
              "      background-color: #3B4455;\n",
              "      fill: #D2E3FC;\n",
              "    }\n",
              "\n",
              "    [theme=dark] .colab-df-convert:hover {\n",
              "      background-color: #434B5C;\n",
              "      box-shadow: 0px 1px 3px 1px rgba(0, 0, 0, 0.15);\n",
              "      filter: drop-shadow(0px 1px 2px rgba(0, 0, 0, 0.3));\n",
              "      fill: #FFFFFF;\n",
              "    }\n",
              "  </style>\n",
              "\n",
              "    <script>\n",
              "      const buttonEl =\n",
              "        document.querySelector('#df-8d4e715f-2d44-454f-a9ab-39209bf99743 button.colab-df-convert');\n",
              "      buttonEl.style.display =\n",
              "        google.colab.kernel.accessAllowed ? 'block' : 'none';\n",
              "\n",
              "      async function convertToInteractive(key) {\n",
              "        const element = document.querySelector('#df-8d4e715f-2d44-454f-a9ab-39209bf99743');\n",
              "        const dataTable =\n",
              "          await google.colab.kernel.invokeFunction('convertToInteractive',\n",
              "                                                    [key], {});\n",
              "        if (!dataTable) return;\n",
              "\n",
              "        const docLinkHtml = 'Like what you see? Visit the ' +\n",
              "          '<a target=\"_blank\" href=https://colab.research.google.com/notebooks/data_table.ipynb>data table notebook</a>'\n",
              "          + ' to learn more about interactive tables.';\n",
              "        element.innerHTML = '';\n",
              "        dataTable['output_type'] = 'display_data';\n",
              "        await google.colab.output.renderOutput(dataTable, element);\n",
              "        const docLink = document.createElement('div');\n",
              "        docLink.innerHTML = docLinkHtml;\n",
              "        element.appendChild(docLink);\n",
              "      }\n",
              "    </script>\n",
              "  </div>\n",
              "  \n",
              "    </div>\n",
              "  </div>\n",
              "  "
            ]
          },
          "metadata": {},
          "execution_count": 12
        },
        {
          "output_type": "stream",
          "name": "stdout",
          "text": [
            "time: 1.16 s (started: 2023-11-10 11:17:03 +00:00)\n"
          ]
        }
      ]
    },
    {
      "cell_type": "markdown",
      "source": [
        "## Word to index mapper"
      ],
      "metadata": {
        "id": "-Wg34IRRGAEV"
      }
    },
    {
      "cell_type": "code",
      "source": [
        "def generate_word_indexing(dataset, threshold):\n",
        "    # Count occurences of the words using itertools and Counter\n",
        "    word_frequency = Counter(itertools.chain(*dataset))\n",
        "\n",
        "    # Discard words with frequency below threshold\n",
        "    word_frequency = {\n",
        "        word: freq\n",
        "        for word, freq in word_frequency.items()\n",
        "        if freq >= threshold\n",
        "    }\n",
        "\n",
        "    # Generate indexes\n",
        "    word2idx = {\n",
        "        word: index\n",
        "        for index, word in enumerate(word_frequency.keys(), start=2)\n",
        "    }\n",
        "\n",
        "    # Add special tokens\n",
        "    word2idx[DatasetConfig.PAD_TOKEN] = 0\n",
        "    word2idx[DatasetConfig.UNKNOWN_TOKEN] = 1\n",
        "\n",
        "    return word2idx\n",
        "\n",
        "word2idx = generate_word_indexing(dataset['train']['tokens'], threshold=DatasetConfig.THRESHOLD)"
      ],
      "metadata": {
        "colab": {
          "base_uri": "https://localhost:8080/"
        },
        "id": "0ut-q0pXy8Rv",
        "outputId": "b8138661-0b96-4e3c-827c-b89b92557a99"
      },
      "execution_count": 13,
      "outputs": [
        {
          "output_type": "stream",
          "name": "stdout",
          "text": [
            "time: 602 ms (started: 2023-11-10 11:17:04 +00:00)\n"
          ]
        }
      ]
    },
    {
      "cell_type": "markdown",
      "source": [
        "## Create GloVe Embeddings Matrix"
      ],
      "metadata": {
        "id": "zg0MRz2_osQh"
      }
    },
    {
      "cell_type": "code",
      "source": [
        "def create_glove_embedding_matrix(word2idx, glove_emb_dict, embedding_dim):\n",
        "    embedding_matrix = np.zeros((len(word2idx), embedding_dim))\n",
        "\n",
        "    for word, idx in word2idx.items():\n",
        "        if word in glove_emb_dict:\n",
        "            embedding_matrix[idx] = glove_emb_dict[word]\n",
        "        else:\n",
        "            embedding_matrix[idx] = glove_emb_dict[DatasetConfig.UNKNOWN_TOKEN]\n",
        "\n",
        "    return embedding_matrix\n",
        "\n",
        "glove_embedding_matrix = create_glove_embedding_matrix(glove_word2idx, glove_emb_dict, DatasetConfig.embedding_size)"
      ],
      "metadata": {
        "colab": {
          "base_uri": "https://localhost:8080/"
        },
        "id": "KS3onGc-nxyL",
        "outputId": "f9da634a-b29e-408e-dedf-ae482fe8d0e7"
      },
      "execution_count": 14,
      "outputs": [
        {
          "output_type": "stream",
          "name": "stdout",
          "text": [
            "time: 794 ms (started: 2023-11-10 11:17:05 +00:00)\n"
          ]
        }
      ]
    },
    {
      "cell_type": "markdown",
      "source": [
        "# Create a Pytorch dataset"
      ],
      "metadata": {
        "id": "lA4f4wc-6oto"
      }
    },
    {
      "cell_type": "code",
      "source": [
        "@dataclass\n",
        "class DatasetItem:\n",
        "    embeddings: torch.Tensor\n",
        "    targets: torch.Tensor\n",
        "    original_length: int\n",
        "\n",
        "\n",
        "class NERDatasetCustom(Dataset):\n",
        "    def __init__(self, dataset, split, tokenizer, embedding_type=\"custom\"):\n",
        "        self.name = DatasetConfig.name\n",
        "        self.dataset = dataset[split]\n",
        "        self.tokenizer = tokenizer\n",
        "\n",
        "        # Options: [custom, glove, transformer]\n",
        "        self.embedding_type = embedding_type\n",
        "\n",
        "    def __len__(self):\n",
        "        return self.dataset.num_rows\n",
        "\n",
        "    def tokenize(self, tokens):\n",
        "        \"\"\"\n",
        "        Code to convert all tokens to their respective indexes\n",
        "        \"\"\"\n",
        "        if self.embedding_type == \"glove\":\n",
        "            return [\n",
        "                self.tokenizer.get(token.lower(), self.tokenizer[DatasetConfig.UNKNOWN_TOKEN])\n",
        "                for token in tokens\n",
        "            ]\n",
        "        return [\n",
        "            self.tokenizer.get(token, self.tokenizer[DatasetConfig.UNKNOWN_TOKEN])\n",
        "            for token in tokens\n",
        "        ]\n",
        "\n",
        "    def __getitem__(self, idx):\n",
        "        if idx >= self.__len__():\n",
        "            raise IndexError\n",
        "\n",
        "        item = self.dataset[idx]\n",
        "\n",
        "        item[\"input_ids\"] = self.tokenize(item[\"tokens\"])\n",
        "\n",
        "        embeddings = item[\"input_ids\"]\n",
        "        targets = item[\"labels\"]\n",
        "        seq_len = len(targets)\n",
        "\n",
        "        return DatasetItem(\n",
        "            torch.tensor(embeddings, dtype=torch.long),\n",
        "            torch.tensor(targets, dtype=torch.long),\n",
        "            seq_len\n",
        "        )"
      ],
      "metadata": {
        "colab": {
          "base_uri": "https://localhost:8080/"
        },
        "id": "6ZMndSSCCYKI",
        "outputId": "3f2589b9-4dca-479f-b50b-925b1f2789d8"
      },
      "execution_count": 15,
      "outputs": [
        {
          "output_type": "stream",
          "name": "stdout",
          "text": [
            "time: 6.39 ms (started: 2023-11-10 11:17:06 +00:00)\n"
          ]
        }
      ]
    },
    {
      "cell_type": "code",
      "source": [
        "def collate_fn(data: DatasetItem, tokenizer: dict):\n",
        "    embeddings, targets, og_len = [], [], []\n",
        "\n",
        "    for item in data:\n",
        "        embeddings.append(item.embeddings)\n",
        "        targets.append(item.targets)\n",
        "        og_len.append(item.original_length)\n",
        "\n",
        "    # Pad the embeddings sequence\n",
        "    embeddings = nn.utils.rnn.pad_sequence(\n",
        "        embeddings, batch_first=True, padding_value=tokenizer[DatasetConfig.PAD_TOKEN]\n",
        "    )\n",
        "    # Pad the targets sequence\n",
        "    targets = nn.utils.rnn.pad_sequence(\n",
        "        targets, batch_first=True, padding_value=DatasetConfig.SPECIAL_TOKEN_TAG\n",
        "    )\n",
        "\n",
        "    return {\"embeddings\": embeddings, \"targets\": targets, \"original_length\": og_len}"
      ],
      "metadata": {
        "colab": {
          "base_uri": "https://localhost:8080/"
        },
        "id": "dHmM5TkEKDiV",
        "outputId": "0a592f5b-cd76-4e3e-a7e2-75774d16df98"
      },
      "execution_count": 16,
      "outputs": [
        {
          "output_type": "stream",
          "name": "stdout",
          "text": [
            "time: 762 µs (started: 2023-11-10 11:17:06 +00:00)\n"
          ]
        }
      ]
    },
    {
      "cell_type": "markdown",
      "source": [
        "# Training & Evaluation loop"
      ],
      "metadata": {
        "id": "3C0qbxhsTfyR"
      }
    },
    {
      "cell_type": "code",
      "source": [
        "def train_and_evaluate(\n",
        "    model,\n",
        "    train_data_loader, valid_data_loader,\n",
        "    optimizer, loss_fn,\n",
        "    device,\n",
        "    num_epochs,\n",
        "    checkpoint=False,\n",
        "    path=\"model.pt\",\n",
        "    early_stopping_patience=5\n",
        "):\n",
        "    \"\"\"\n",
        "    Trains and evaluates the model.\n",
        "\n",
        "    Args:\n",
        "        model (nn.Module): The neural network model.\n",
        "        train_data_loader (DataLoader): The DataLoader for training data.\n",
        "        valid_data_loader (DataLoader): The DataLoader for validation data.\n",
        "        optimizer (torch.optim): The optimizer for updating model weights.\n",
        "        loss_fn: The loss function.\n",
        "        device (torch.device): The device to perform computations.\n",
        "        num_epochs (int): The number of epochs.\n",
        "        checkpoint (bool, optional): Whether to save model checkpoints.\n",
        "        path (str, optional): The path to save the model.\n",
        "        early_stopping_patience (int, optional): Number of epochs to wait before early stopping.\n",
        "\n",
        "    Returns:\n",
        "        nn.Module: The best model.\n",
        "\n",
        "    \"\"\"\n",
        "    # Create directory for saving checkpoint model states\n",
        "    if checkpoint:\n",
        "        dirname = path.split(\".\")[0]\n",
        "        checkpoint_path = os.path.join(dirname)\n",
        "        if os.path.exists(checkpoint_path):\n",
        "            shutil.rmtree(checkpoint_path)\n",
        "        os.makedirs(dirname)\n",
        "\n",
        "    best_loss = float('inf')\n",
        "    no_improvement_count = 0\n",
        "    best_model = None\n",
        "\n",
        "    for epoch in range(num_epochs):\n",
        "        # Train Step\n",
        "        model.train()\n",
        "        train_loss = 0.0\n",
        "\n",
        "        progress_bar = tqdm(train_data_loader, desc=f'Epoch {epoch+1}/{num_epochs}')\n",
        "\n",
        "        for batch in progress_bar:\n",
        "            embeddings = batch['embeddings'].to(device, dtype=torch.long, non_blocking=True)\n",
        "            labels = batch['targets'].to(device, dtype=torch.long, non_blocking=True)\n",
        "            seq_lengths = batch[\"original_length\"]\n",
        "\n",
        "            optimizer.zero_grad()\n",
        "\n",
        "            outputs = model(embeddings, seq_lengths)\n",
        "\n",
        "            outputs = outputs.view(-1, outputs.shape[-1])\n",
        "            labels = labels.view(-1)\n",
        "            loss = loss_fn(outputs, labels)\n",
        "\n",
        "            loss.backward()\n",
        "            # Apply gradient clipping\n",
        "            torch.nn.utils.clip_grad_norm_(model.parameters(), max_norm=1)\n",
        "\n",
        "            optimizer.step()\n",
        "\n",
        "            train_loss += loss.item() * embeddings.size(1)\n",
        "\n",
        "        train_loss /= len(train_data_loader.dataset)\n",
        "\n",
        "        # Validation Step\n",
        "        model.eval()\n",
        "        valid_loss = 0.0\n",
        "\n",
        "        with torch.no_grad():\n",
        "            for batch in valid_data_loader:\n",
        "                embeddings = batch['embeddings'].to(device, dtype=torch.long, non_blocking=True)\n",
        "                labels = batch['targets'].to(device, dtype=torch.long, non_blocking=True)\n",
        "                seq_lengths = batch[\"original_length\"]\n",
        "\n",
        "                outputs = model(embeddings, seq_lengths)\n",
        "\n",
        "                outputs = outputs.view(-1, outputs.shape[-1])\n",
        "                labels = labels.view(-1)\n",
        "                loss = loss_fn(outputs, labels)\n",
        "\n",
        "                valid_loss += loss.item() * embeddings.size(1)\n",
        "\n",
        "            valid_loss /= len(valid_data_loader.dataset)\n",
        "\n",
        "        epoch_log = (\n",
        "            f\"Train Loss : {round(train_loss, 4)},\"\n",
        "            f\" Validation Loss: {round(valid_loss, 4)}\"\n",
        "        )\n",
        "        print(epoch_log)\n",
        "\n",
        "        # Check for improvement in validation loss\n",
        "        if valid_loss < best_loss:\n",
        "            # Save checkpoint if needed\n",
        "            if checkpoint:\n",
        "                cp = os.path.join(checkpoint_path, f\"{dirname}_epoch{epoch}_loss{valid_loss:.4f}.pt\")\n",
        "                torch.save(model.state_dict(), cp)\n",
        "                print(f\"Validation loss improved from {best_loss:.4f}--->{valid_loss:.4f}\")\n",
        "                print(f\"Saved Checkpoint to '{cp}'\")\n",
        "\n",
        "            best_loss = valid_loss\n",
        "            best_model = model\n",
        "            no_improvement_count = 0\n",
        "        else:\n",
        "            no_improvement_count += 1\n",
        "\n",
        "            # Early stopping condition\n",
        "            if no_improvement_count >= early_stopping_patience:\n",
        "                print(f\"No improvement for {early_stopping_patience} epochs. Stopping early.\")\n",
        "                break\n",
        "\n",
        "    if checkpoint:\n",
        "        # Save the best model\n",
        "        best_model_path = os.path.join(checkpoint_path, f\"{dirname}-best.pt\")\n",
        "        torch.save(best_model.state_dict(), best_model_path)\n",
        "        print(f\"Saved best model to '{os.path.relpath(best_model_path)}'\")\n",
        "\n",
        "    # Save current model\n",
        "    torch.save(model.state_dict(), path)\n",
        "\n",
        "    return best_model\n",
        "\n",
        "\n",
        "def evaluate_model(model, data_loader, device):\n",
        "    all_preds = []\n",
        "    all_labels = []\n",
        "\n",
        "    model.eval()\n",
        "\n",
        "    with torch.no_grad():\n",
        "        for batch in tqdm(data_loader):\n",
        "            embeddings = batch['embeddings'].to(device, dtype=torch.long, non_blocking=True)\n",
        "            labels = batch['targets'].to(device, dtype=torch.long, non_blocking=True)\n",
        "            seq_lengths = batch[\"original_length\"]\n",
        "\n",
        "            outputs = model(embeddings, seq_lengths)\n",
        "\n",
        "            preds = torch.argmax(outputs, dim=2)\n",
        "\n",
        "            preds = preds.detach().cpu().numpy()\n",
        "            labels = labels.detach().cpu().numpy()\n",
        "\n",
        "            for pred, label, length in zip(preds, labels, seq_lengths):\n",
        "                pred = [DatasetConfig.ner_idx2tag.get(p, 'O') for p in pred[:length]]\n",
        "                label = [DatasetConfig.ner_idx2tag.get(l, 'O') for l in label[:length]]\n",
        "                all_preds.append(pred)\n",
        "                all_labels.append(label)\n",
        "\n",
        "    # Evaluate using conlleval\n",
        "    precision, recall, f1 = evaluate(\n",
        "        itertools.chain(*all_labels), itertools.chain(*all_preds)\n",
        "    )\n",
        "\n",
        "    return precision, recall, f1"
      ],
      "metadata": {
        "colab": {
          "base_uri": "https://localhost:8080/"
        },
        "id": "nt-4lai_TrCw",
        "outputId": "b0faa0c0-d791-40c0-f25b-5b015a0c1baa"
      },
      "execution_count": 17,
      "outputs": [
        {
          "output_type": "stream",
          "name": "stdout",
          "text": [
            "time: 6.37 ms (started: 2023-11-10 11:17:06 +00:00)\n"
          ]
        }
      ]
    },
    {
      "cell_type": "markdown",
      "source": [
        "# Training Config"
      ],
      "metadata": {
        "id": "jDOeDp4mTivQ"
      }
    },
    {
      "cell_type": "code",
      "source": [
        "TRAIN_BATCH_SIZE = 256\n",
        "VALID_BATCH_SIZE = 64\n",
        "TEST_BATCH_SIZE = 32\n",
        "NUM_EPOCHS = 5"
      ],
      "metadata": {
        "colab": {
          "base_uri": "https://localhost:8080/"
        },
        "id": "a0OfzGznuSuw",
        "outputId": "d1a0ecfa-c8a7-406b-89a0-f1982ae0aedc"
      },
      "execution_count": 18,
      "outputs": [
        {
          "output_type": "stream",
          "name": "stdout",
          "text": [
            "time: 488 µs (started: 2023-11-10 11:17:06 +00:00)\n"
          ]
        }
      ]
    },
    {
      "cell_type": "markdown",
      "source": [
        "# Bidirectional LSTM model"
      ],
      "metadata": {
        "id": "XOErqbHrUhJh"
      }
    },
    {
      "cell_type": "code",
      "source": [
        "class BiLSTM(nn.Module):\n",
        "    def __init__(\n",
        "        self, vocab_size, embedding_dim, num_tags,\n",
        "        hidden_size, num_layers, lstm_output_size, dropout_val,\n",
        "        embeddings_matrix = None\n",
        "\n",
        "    ):\n",
        "        \"\"\"\n",
        "        Recurrent Neural Network (RNN) model for sequence data processing.\n",
        "\n",
        "        Args:\n",
        "            vocab_size (int): Size of vocabulary\n",
        "            embedding_dim (int): Dimension of the input features.\n",
        "            num_tags (int): Number of output classes.\n",
        "            hidden_size (int): Number of units in the hidden layers.\n",
        "            num_layers (int): Number of recurrent layers.\n",
        "            lstm_output_size (int): Size of the output from the LSTM layer.\n",
        "            dropout_val (float): Dropout probability.\n",
        "            embeddings_matrix (np.array): Pretrained embeddings matrix. Default is None\n",
        "\n",
        "        \"\"\"\n",
        "        super(BiLSTM, self).__init__()\n",
        "\n",
        "        # Model Attributes\n",
        "        self.hidden_size = hidden_size\n",
        "        self.num_layers = num_layers\n",
        "\n",
        "        # Model Layer Definition\n",
        "        if embeddings_matrix is not None:\n",
        "            self.embedding = nn.Embedding.from_pretrained(\n",
        "                torch.from_numpy(embeddings_matrix).float(),\n",
        "                freeze=True\n",
        "            )\n",
        "        else:\n",
        "            self.embedding = nn.Embedding(vocab_size, embedding_dim)\n",
        "\n",
        "        self.lstm = nn.LSTM(\n",
        "            embedding_dim, hidden_size, num_layers, batch_first=True, bidirectional=True\n",
        "        )\n",
        "\n",
        "        self.fc = nn.Linear(hidden_size * 2, lstm_output_size)\n",
        "        self.dropout = nn.Dropout(dropout_val)\n",
        "        self.elu = nn.ELU(alpha=0.01)\n",
        "        self.classifier = nn.Linear(lstm_output_size, num_tags)\n",
        "\n",
        "    def init_hidden(self, batch_size):\n",
        "        hidden = (\n",
        "            torch.zeros(self.num_layers * 2, batch_size, self.hidden_size).to(device),\n",
        "            torch.zeros(self.num_layers * 2, batch_size, self.hidden_size).to(device)\n",
        "        )\n",
        "        return hidden\n",
        "\n",
        "    def forward(self, x, seq_len):\n",
        "        batch_size = x.size(0)\n",
        "        hidden = self.init_hidden(batch_size)\n",
        "\n",
        "        # Embedding Layer\n",
        "        embeds = self.embedding(x).float()\n",
        "\n",
        "        # LSTM layer\n",
        "        packed_embeds = nn.utils.rnn.pack_padded_sequence(\n",
        "            embeds, seq_len, batch_first=True, enforce_sorted=False\n",
        "        )\n",
        "        out, _ = self.lstm(packed_embeds, hidden)\n",
        "        out, _ = nn.utils.rnn.pad_packed_sequence(out, batch_first=True)\n",
        "\n",
        "        # Apply fully connected layer for final prediction\n",
        "        out = self.dropout(out)\n",
        "        out = self.fc(out)\n",
        "        out = self.elu(out)\n",
        "        out = self.classifier(out)\n",
        "\n",
        "        return out"
      ],
      "metadata": {
        "colab": {
          "base_uri": "https://localhost:8080/"
        },
        "id": "jFIWWqElUqfm",
        "outputId": "80a5e845-f684-475b-b5eb-b616e775e960"
      },
      "execution_count": 19,
      "outputs": [
        {
          "output_type": "stream",
          "name": "stdout",
          "text": [
            "time: 1.41 ms (started: 2023-11-10 11:17:06 +00:00)\n"
          ]
        }
      ]
    },
    {
      "cell_type": "markdown",
      "source": [
        "# Bidirectional LSTM model + Custom Embeddings"
      ],
      "metadata": {
        "id": "j40FSCKwfnLu"
      }
    },
    {
      "cell_type": "code",
      "source": [
        "train_dataset = NERDatasetCustom(\n",
        "    dataset = dataset,\n",
        "    split='train',\n",
        "    tokenizer = word2idx,\n",
        "    embedding_type=\"default\",\n",
        ")\n",
        "\n",
        "valid_dataset = NERDatasetCustom(\n",
        "    dataset = dataset,\n",
        "    split='validation',\n",
        "    tokenizer = word2idx,\n",
        "    embedding_type=\"default\",\n",
        ")\n",
        "\n",
        "test_dataset = NERDatasetCustom(\n",
        "    dataset = dataset,\n",
        "    split='test',\n",
        "    tokenizer = word2idx,\n",
        "    embedding_type=\"default\",\n",
        ")\n",
        "\n",
        "train_data_loader = DataLoader(\n",
        "    train_dataset,\n",
        "    batch_size=TRAIN_BATCH_SIZE,\n",
        "    drop_last=True,\n",
        "    shuffle=True,\n",
        "    collate_fn=lambda x: collate_fn(x, word2idx)\n",
        ")\n",
        "\n",
        "valid_data_loader = DataLoader(\n",
        "    valid_dataset,\n",
        "    batch_size=VALID_BATCH_SIZE,\n",
        "    drop_last=False,\n",
        "    shuffle=True,\n",
        "    collate_fn=lambda x: collate_fn(x, word2idx)\n",
        ")\n",
        "\n",
        "test_data_loader = DataLoader(\n",
        "    test_dataset,\n",
        "    batch_size=TEST_BATCH_SIZE,\n",
        "    drop_last=False,\n",
        "    shuffle=False,\n",
        "    collate_fn=lambda x: collate_fn(x, word2idx)\n",
        ")"
      ],
      "metadata": {
        "colab": {
          "base_uri": "https://localhost:8080/"
        },
        "id": "hN9kBFgmBhQj",
        "outputId": "3670c20f-6675-4927-af96-9c9e675c3e68"
      },
      "execution_count": 20,
      "outputs": [
        {
          "output_type": "stream",
          "name": "stdout",
          "text": [
            "time: 1.47 ms (started: 2023-11-10 11:17:06 +00:00)\n"
          ]
        }
      ]
    },
    {
      "cell_type": "code",
      "source": [
        "vocab_size = len(word2idx)\n",
        "embedding_dim = 100\n",
        "hidden_size = 256\n",
        "output_size = 128\n",
        "num_layers = 1\n",
        "dropout_val = 0.33\n",
        "num_tags = DatasetConfig.NUM_NER_TAGS\n",
        "\n",
        "net = BiLSTM(\n",
        "    vocab_size, embedding_dim, num_tags,\n",
        "    hidden_size, num_layers, output_size, dropout_val\n",
        ").to(device)\n",
        "\n",
        "criterion = nn.CrossEntropyLoss(ignore_index=DatasetConfig.SPECIAL_TOKEN_TAG).to(device)\n",
        "# optimizer = optim.Adam(net.parameters(), lr=0.001)\n",
        "# optimizer = optim.SGD(net.parameters(), lr=0.001)\n",
        "optimizer = optim.AdamW(net.parameters(), lr=0.001)\n",
        "# scheduler = torch.optim.lr_scheduler.()\n",
        "\n",
        "best_model = train_and_evaluate(\n",
        "    model=net,\n",
        "    train_data_loader=train_data_loader,\n",
        "    valid_data_loader=valid_data_loader,\n",
        "    optimizer=optimizer,\n",
        "    loss_fn=criterion,\n",
        "    device=device,\n",
        "    num_epochs=50,\n",
        "    checkpoint=True,\n",
        "    path=\"bilstm_custom_embeddings_v7.pt\",\n",
        "    early_stopping_patience=15\n",
        ")"
      ],
      "metadata": {
        "id": "YQH3n55nu2y9",
        "colab": {
          "base_uri": "https://localhost:8080/"
        },
        "outputId": "2124ed7f-4f66-42c3-c81f-aa7f01128f41"
      },
      "execution_count": 21,
      "outputs": [
        {
          "output_type": "stream",
          "name": "stderr",
          "text": [
            "Epoch 1/50: 100%|██████████| 54/54 [00:07<00:00,  7.43it/s]\n"
          ]
        },
        {
          "output_type": "stream",
          "name": "stdout",
          "text": [
            "Train Loss : 0.1927, Validation Loss: 0.5405\n",
            "Validation loss improved from inf--->0.5405\n",
            "Saved Checkpoint to 'bilstm_custom_embeddings_v7/bilstm_custom_embeddings_v7_epoch0_loss0.5405.pt'\n"
          ]
        },
        {
          "output_type": "stream",
          "name": "stderr",
          "text": [
            "Epoch 2/50: 100%|██████████| 54/54 [00:04<00:00, 11.41it/s]\n"
          ]
        },
        {
          "output_type": "stream",
          "name": "stdout",
          "text": [
            "Train Loss : 0.1216, Validation Loss: 0.4226\n",
            "Validation loss improved from 0.5405--->0.4226\n",
            "Saved Checkpoint to 'bilstm_custom_embeddings_v7/bilstm_custom_embeddings_v7_epoch1_loss0.4226.pt'\n"
          ]
        },
        {
          "output_type": "stream",
          "name": "stderr",
          "text": [
            "Epoch 3/50: 100%|██████████| 54/54 [00:04<00:00, 11.80it/s]\n"
          ]
        },
        {
          "output_type": "stream",
          "name": "stdout",
          "text": [
            "Train Loss : 0.0915, Validation Loss: 0.3165\n",
            "Validation loss improved from 0.4226--->0.3165\n",
            "Saved Checkpoint to 'bilstm_custom_embeddings_v7/bilstm_custom_embeddings_v7_epoch2_loss0.3165.pt'\n"
          ]
        },
        {
          "output_type": "stream",
          "name": "stderr",
          "text": [
            "Epoch 4/50: 100%|██████████| 54/54 [00:05<00:00,  9.00it/s]\n"
          ]
        },
        {
          "output_type": "stream",
          "name": "stdout",
          "text": [
            "Train Loss : 0.0654, Validation Loss: 0.2354\n",
            "Validation loss improved from 0.3165--->0.2354\n",
            "Saved Checkpoint to 'bilstm_custom_embeddings_v7/bilstm_custom_embeddings_v7_epoch3_loss0.2354.pt'\n"
          ]
        },
        {
          "output_type": "stream",
          "name": "stderr",
          "text": [
            "Epoch 5/50: 100%|██████████| 54/54 [00:04<00:00, 11.79it/s]\n"
          ]
        },
        {
          "output_type": "stream",
          "name": "stdout",
          "text": [
            "Train Loss : 0.0479, Validation Loss: 0.1927\n",
            "Validation loss improved from 0.2354--->0.1927\n",
            "Saved Checkpoint to 'bilstm_custom_embeddings_v7/bilstm_custom_embeddings_v7_epoch4_loss0.1927.pt'\n"
          ]
        },
        {
          "output_type": "stream",
          "name": "stderr",
          "text": [
            "Epoch 6/50: 100%|██████████| 54/54 [00:05<00:00,  9.25it/s]\n"
          ]
        },
        {
          "output_type": "stream",
          "name": "stdout",
          "text": [
            "Train Loss : 0.0362, Validation Loss: 0.1682\n",
            "Validation loss improved from 0.1927--->0.1682\n",
            "Saved Checkpoint to 'bilstm_custom_embeddings_v7/bilstm_custom_embeddings_v7_epoch5_loss0.1682.pt'\n"
          ]
        },
        {
          "output_type": "stream",
          "name": "stderr",
          "text": [
            "Epoch 7/50: 100%|██████████| 54/54 [00:04<00:00, 11.42it/s]\n"
          ]
        },
        {
          "output_type": "stream",
          "name": "stdout",
          "text": [
            "Train Loss : 0.0283, Validation Loss: 0.1525\n",
            "Validation loss improved from 0.1682--->0.1525\n",
            "Saved Checkpoint to 'bilstm_custom_embeddings_v7/bilstm_custom_embeddings_v7_epoch6_loss0.1525.pt'\n"
          ]
        },
        {
          "output_type": "stream",
          "name": "stderr",
          "text": [
            "Epoch 8/50: 100%|██████████| 54/54 [00:04<00:00, 11.59it/s]\n"
          ]
        },
        {
          "output_type": "stream",
          "name": "stdout",
          "text": [
            "Train Loss : 0.0222, Validation Loss: 0.1517\n",
            "Validation loss improved from 0.1525--->0.1517\n",
            "Saved Checkpoint to 'bilstm_custom_embeddings_v7/bilstm_custom_embeddings_v7_epoch7_loss0.1517.pt'\n"
          ]
        },
        {
          "output_type": "stream",
          "name": "stderr",
          "text": [
            "Epoch 9/50: 100%|██████████| 54/54 [00:07<00:00,  7.59it/s]\n"
          ]
        },
        {
          "output_type": "stream",
          "name": "stdout",
          "text": [
            "Train Loss : 0.0182, Validation Loss: 0.1475\n",
            "Validation loss improved from 0.1517--->0.1475\n",
            "Saved Checkpoint to 'bilstm_custom_embeddings_v7/bilstm_custom_embeddings_v7_epoch8_loss0.1475.pt'\n"
          ]
        },
        {
          "output_type": "stream",
          "name": "stderr",
          "text": [
            "Epoch 10/50: 100%|██████████| 54/54 [00:04<00:00, 11.64it/s]\n"
          ]
        },
        {
          "output_type": "stream",
          "name": "stdout",
          "text": [
            "Train Loss : 0.0145, Validation Loss: 0.1437\n",
            "Validation loss improved from 0.1475--->0.1437\n",
            "Saved Checkpoint to 'bilstm_custom_embeddings_v7/bilstm_custom_embeddings_v7_epoch9_loss0.1437.pt'\n"
          ]
        },
        {
          "output_type": "stream",
          "name": "stderr",
          "text": [
            "Epoch 11/50: 100%|██████████| 54/54 [00:06<00:00,  8.76it/s]\n"
          ]
        },
        {
          "output_type": "stream",
          "name": "stdout",
          "text": [
            "Train Loss : 0.0122, Validation Loss: 0.1497\n"
          ]
        },
        {
          "output_type": "stream",
          "name": "stderr",
          "text": [
            "Epoch 12/50: 100%|██████████| 54/54 [00:04<00:00, 11.31it/s]\n"
          ]
        },
        {
          "output_type": "stream",
          "name": "stdout",
          "text": [
            "Train Loss : 0.0097, Validation Loss: 0.155\n"
          ]
        },
        {
          "output_type": "stream",
          "name": "stderr",
          "text": [
            "Epoch 13/50: 100%|██████████| 54/54 [00:04<00:00, 11.15it/s]\n"
          ]
        },
        {
          "output_type": "stream",
          "name": "stdout",
          "text": [
            "Train Loss : 0.0082, Validation Loss: 0.1596\n"
          ]
        },
        {
          "output_type": "stream",
          "name": "stderr",
          "text": [
            "Epoch 14/50: 100%|██████████| 54/54 [00:05<00:00,  9.49it/s]\n"
          ]
        },
        {
          "output_type": "stream",
          "name": "stdout",
          "text": [
            "Train Loss : 0.0063, Validation Loss: 0.1621\n"
          ]
        },
        {
          "output_type": "stream",
          "name": "stderr",
          "text": [
            "Epoch 15/50: 100%|██████████| 54/54 [00:04<00:00, 11.74it/s]\n"
          ]
        },
        {
          "output_type": "stream",
          "name": "stdout",
          "text": [
            "Train Loss : 0.0055, Validation Loss: 0.1753\n"
          ]
        },
        {
          "output_type": "stream",
          "name": "stderr",
          "text": [
            "Epoch 16/50: 100%|██████████| 54/54 [00:05<00:00,  9.25it/s]\n"
          ]
        },
        {
          "output_type": "stream",
          "name": "stdout",
          "text": [
            "Train Loss : 0.0048, Validation Loss: 0.1847\n"
          ]
        },
        {
          "output_type": "stream",
          "name": "stderr",
          "text": [
            "Epoch 17/50: 100%|██████████| 54/54 [00:04<00:00, 11.54it/s]\n"
          ]
        },
        {
          "output_type": "stream",
          "name": "stdout",
          "text": [
            "Train Loss : 0.004, Validation Loss: 0.1963\n"
          ]
        },
        {
          "output_type": "stream",
          "name": "stderr",
          "text": [
            "Epoch 18/50: 100%|██████████| 54/54 [00:04<00:00, 11.94it/s]\n"
          ]
        },
        {
          "output_type": "stream",
          "name": "stdout",
          "text": [
            "Train Loss : 0.0034, Validation Loss: 0.2025\n"
          ]
        },
        {
          "output_type": "stream",
          "name": "stderr",
          "text": [
            "Epoch 19/50: 100%|██████████| 54/54 [00:05<00:00,  9.23it/s]\n"
          ]
        },
        {
          "output_type": "stream",
          "name": "stdout",
          "text": [
            "Train Loss : 0.0029, Validation Loss: 0.2086\n"
          ]
        },
        {
          "output_type": "stream",
          "name": "stderr",
          "text": [
            "Epoch 20/50: 100%|██████████| 54/54 [00:04<00:00, 11.94it/s]\n"
          ]
        },
        {
          "output_type": "stream",
          "name": "stdout",
          "text": [
            "Train Loss : 0.0024, Validation Loss: 0.2274\n"
          ]
        },
        {
          "output_type": "stream",
          "name": "stderr",
          "text": [
            "Epoch 21/50: 100%|██████████| 54/54 [00:05<00:00,  9.65it/s]\n"
          ]
        },
        {
          "output_type": "stream",
          "name": "stdout",
          "text": [
            "Train Loss : 0.0022, Validation Loss: 0.2195\n"
          ]
        },
        {
          "output_type": "stream",
          "name": "stderr",
          "text": [
            "Epoch 22/50: 100%|██████████| 54/54 [00:04<00:00, 11.08it/s]\n"
          ]
        },
        {
          "output_type": "stream",
          "name": "stdout",
          "text": [
            "Train Loss : 0.0021, Validation Loss: 0.2279\n"
          ]
        },
        {
          "output_type": "stream",
          "name": "stderr",
          "text": [
            "Epoch 23/50: 100%|██████████| 54/54 [00:04<00:00, 11.91it/s]\n"
          ]
        },
        {
          "output_type": "stream",
          "name": "stdout",
          "text": [
            "Train Loss : 0.0019, Validation Loss: 0.2432\n"
          ]
        },
        {
          "output_type": "stream",
          "name": "stderr",
          "text": [
            "Epoch 24/50: 100%|██████████| 54/54 [00:05<00:00,  9.10it/s]\n"
          ]
        },
        {
          "output_type": "stream",
          "name": "stdout",
          "text": [
            "Train Loss : 0.0018, Validation Loss: 0.2382\n"
          ]
        },
        {
          "output_type": "stream",
          "name": "stderr",
          "text": [
            "Epoch 25/50: 100%|██████████| 54/54 [00:04<00:00, 11.20it/s]\n"
          ]
        },
        {
          "output_type": "stream",
          "name": "stdout",
          "text": [
            "Train Loss : 0.0016, Validation Loss: 0.2442\n",
            "No improvement for 15 epochs. Stopping early.\n",
            "Saved best model to 'bilstm_custom_embeddings_v7/bilstm_custom_embeddings_v7-best.pt'\n",
            "time: 2min 43s (started: 2023-11-10 11:17:06 +00:00)\n"
          ]
        }
      ]
    },
    {
      "cell_type": "markdown",
      "source": [
        "Evaluate model on Validation set"
      ],
      "metadata": {
        "id": "2Yw2wmIC2-1P"
      }
    },
    {
      "cell_type": "code",
      "source": [
        "precision, recall, f1 = evaluate_model(best_model, valid_data_loader, device)\n",
        "print(f'Precision: {precision:.2f}, Recall: {recall:.2f}, F1 Score: {f1:.2f}')"
      ],
      "metadata": {
        "colab": {
          "base_uri": "https://localhost:8080/"
        },
        "id": "8_kDdr1jPcj3",
        "outputId": "10c04104-5a7c-4f4f-a233-ad92a38d1899"
      },
      "execution_count": 22,
      "outputs": [
        {
          "output_type": "stream",
          "name": "stderr",
          "text": [
            "100%|██████████| 51/51 [00:00<00:00, 55.44it/s]\n"
          ]
        },
        {
          "output_type": "stream",
          "name": "stdout",
          "text": [
            "processed 51362 tokens with 5942 phrases; found: 5609 phrases; correct: 4468.\n",
            "accuracy:  77.97%; (non-O)\n",
            "accuracy:  95.55%; precision:  79.66%; recall:  75.19%; FB1:  77.36\n",
            "              LOC: precision:  87.41%; recall:  83.94%; FB1:  85.64  1764\n",
            "             MISC: precision:  74.81%; recall:  74.73%; FB1:  74.77  921\n",
            "              ORG: precision:  73.18%; recall:  67.34%; FB1:  70.14  1234\n",
            "              PER: precision:  78.93%; recall:  72.42%; FB1:  75.54  1690\n",
            "Precision: 79.66, Recall: 75.19, F1 Score: 77.36\n",
            "time: 1.03 s (started: 2023-11-10 11:19:49 +00:00)\n"
          ]
        }
      ]
    },
    {
      "cell_type": "markdown",
      "source": [
        "Evaluate model on Test set"
      ],
      "metadata": {
        "id": "PJju-21u3DG2"
      }
    },
    {
      "cell_type": "code",
      "source": [
        "precision, recall, f1 = evaluate_model(best_model, test_data_loader, device)\n",
        "print(f'Precision: {precision:.2f}, Recall: {recall:.2f}, F1 Score: {f1:.2f}')"
      ],
      "metadata": {
        "colab": {
          "base_uri": "https://localhost:8080/"
        },
        "id": "R4ht1ilm4pBo",
        "outputId": "c7270b55-e01f-4f4d-811a-9cae2b74e0f4"
      },
      "execution_count": 23,
      "outputs": [
        {
          "output_type": "stream",
          "name": "stderr",
          "text": [
            "100%|██████████| 108/108 [00:01<00:00, 70.05it/s]\n"
          ]
        },
        {
          "output_type": "stream",
          "name": "stdout",
          "text": [
            "processed 46435 tokens with 5648 phrases; found: 5274 phrases; correct: 3732.\n",
            "accuracy:  70.46%; (non-O)\n",
            "accuracy:  93.39%; precision:  70.76%; recall:  66.08%; FB1:  68.34\n",
            "              LOC: precision:  81.46%; recall:  76.68%; FB1:  79.00  1570\n",
            "             MISC: precision:  61.89%; recall:  63.39%; FB1:  62.63  719\n",
            "              ORG: precision:  65.31%; recall:  59.96%; FB1:  62.52  1525\n",
            "              PER: precision:  69.32%; recall:  62.59%; FB1:  65.78  1460\n",
            "Precision: 70.76, Recall: 66.08, F1 Score: 68.34\n",
            "time: 1.71 s (started: 2023-11-10 11:19:50 +00:00)\n"
          ]
        }
      ]
    },
    {
      "cell_type": "markdown",
      "source": [
        "# Bidirectional LSTM Model + Glove Embeddings"
      ],
      "metadata": {
        "id": "vjfXfbX-Ov2Y"
      }
    },
    {
      "cell_type": "code",
      "source": [
        "train_dataset = NERDatasetCustom(\n",
        "    dataset = dataset,\n",
        "    split='train',\n",
        "    tokenizer = glove_word2idx,\n",
        "    embedding_type=\"glove\",\n",
        ")\n",
        "\n",
        "valid_dataset = NERDatasetCustom(\n",
        "    dataset = dataset,\n",
        "    split='validation',\n",
        "    tokenizer = glove_word2idx,\n",
        "    embedding_type=\"glove\",\n",
        ")\n",
        "\n",
        "test_dataset = NERDatasetCustom(\n",
        "    dataset = dataset,\n",
        "    split='test',\n",
        "    tokenizer = glove_word2idx,\n",
        "    embedding_type=\"glove\",\n",
        ")\n",
        "\n",
        "train_data_loader = DataLoader(\n",
        "    train_dataset,\n",
        "    batch_size=TRAIN_BATCH_SIZE,\n",
        "    drop_last=True,\n",
        "    shuffle=True,\n",
        "    collate_fn=lambda x: collate_fn(x, glove_word2idx)\n",
        ")\n",
        "\n",
        "valid_data_loader = DataLoader(\n",
        "    valid_dataset,\n",
        "    batch_size=VALID_BATCH_SIZE,\n",
        "    drop_last=False,\n",
        "    shuffle=True,\n",
        "    collate_fn=lambda x: collate_fn(x, glove_word2idx)\n",
        ")\n",
        "\n",
        "test_data_loader = DataLoader(\n",
        "    test_dataset,\n",
        "    batch_size=TEST_BATCH_SIZE,\n",
        "    drop_last=False,\n",
        "    shuffle=False,\n",
        "    collate_fn=lambda x: collate_fn(x, glove_word2idx)\n",
        ")"
      ],
      "metadata": {
        "colab": {
          "base_uri": "https://localhost:8080/"
        },
        "id": "pGpZwYaHO4-x",
        "outputId": "f3e5be36-b940-422a-a12c-e4bdeca0631e"
      },
      "execution_count": 24,
      "outputs": [
        {
          "output_type": "stream",
          "name": "stdout",
          "text": [
            "time: 1.98 ms (started: 2023-11-10 11:19:52 +00:00)\n"
          ]
        }
      ]
    },
    {
      "cell_type": "code",
      "source": [
        "vocab_size = len(glove_word2idx)\n",
        "embedding_dim = 100\n",
        "hidden_size = 256\n",
        "output_size = 128\n",
        "num_layers = 1\n",
        "dropout_val = 0.33\n",
        "num_tags = DatasetConfig.NUM_NER_TAGS\n",
        "\n",
        "net_with_glove = BiLSTM(\n",
        "    vocab_size, embedding_dim, num_tags,\n",
        "    hidden_size, num_layers, output_size, dropout_val,\n",
        "    glove_embedding_matrix\n",
        ").to(device)\n",
        "\n",
        "criterion = nn.CrossEntropyLoss(ignore_index=DatasetConfig.SPECIAL_TOKEN_TAG).to(device)\n",
        "# optimizer = optim.Adam(net_with_glove.parameters(), lr=0.001)\n",
        "# optimizer = optim.SGD(net_with_glove.parameters(), lr=0.001)\n",
        "optimizer = optim.AdamW(net_with_glove.parameters(), lr=0.001)\n",
        "\n",
        "best_model_glove = train_and_evaluate(\n",
        "    model=net_with_glove,\n",
        "    train_data_loader=train_data_loader,\n",
        "    valid_data_loader=valid_data_loader,\n",
        "    optimizer=optimizer,\n",
        "    loss_fn=criterion,\n",
        "    device=device,\n",
        "    num_epochs=50,\n",
        "    checkpoint=True,\n",
        "    path=\"bilstm_glove_embeddings_v1.pt\",\n",
        "    early_stopping_patience=15\n",
        ")"
      ],
      "metadata": {
        "colab": {
          "base_uri": "https://localhost:8080/"
        },
        "id": "hI2zbU8r2fnF",
        "outputId": "324cfe57-1907-4671-915e-41aef7b68b4c"
      },
      "execution_count": 26,
      "outputs": [
        {
          "output_type": "stream",
          "name": "stderr",
          "text": [
            "Epoch 1/50: 100%|██████████| 54/54 [00:08<00:00,  6.27it/s]\n"
          ]
        },
        {
          "output_type": "stream",
          "name": "stdout",
          "text": [
            "Train Loss : 0.1741, Validation Loss: 0.4599\n",
            "Validation loss improved from inf--->0.4599\n",
            "Saved Checkpoint to 'bilstm_glove_embeddings_v1/bilstm_glove_embeddings_v1_epoch0_loss0.4599.pt'\n"
          ]
        },
        {
          "output_type": "stream",
          "name": "stderr",
          "text": [
            "Epoch 2/50: 100%|██████████| 54/54 [00:10<00:00,  5.30it/s]\n"
          ]
        },
        {
          "output_type": "stream",
          "name": "stdout",
          "text": [
            "Train Loss : 0.0849, Validation Loss: 0.2469\n",
            "Validation loss improved from 0.4599--->0.2469\n",
            "Saved Checkpoint to 'bilstm_glove_embeddings_v1/bilstm_glove_embeddings_v1_epoch1_loss0.2469.pt'\n"
          ]
        },
        {
          "output_type": "stream",
          "name": "stderr",
          "text": [
            "Epoch 3/50: 100%|██████████| 54/54 [00:04<00:00, 11.14it/s]\n"
          ]
        },
        {
          "output_type": "stream",
          "name": "stdout",
          "text": [
            "Train Loss : 0.0502, Validation Loss: 0.1693\n",
            "Validation loss improved from 0.2469--->0.1693\n",
            "Saved Checkpoint to 'bilstm_glove_embeddings_v1/bilstm_glove_embeddings_v1_epoch2_loss0.1693.pt'\n"
          ]
        },
        {
          "output_type": "stream",
          "name": "stderr",
          "text": [
            "Epoch 4/50: 100%|██████████| 54/54 [00:06<00:00,  7.78it/s]\n"
          ]
        },
        {
          "output_type": "stream",
          "name": "stdout",
          "text": [
            "Train Loss : 0.0368, Validation Loss: 0.131\n",
            "Validation loss improved from 0.1693--->0.1310\n",
            "Saved Checkpoint to 'bilstm_glove_embeddings_v1/bilstm_glove_embeddings_v1_epoch3_loss0.1310.pt'\n"
          ]
        },
        {
          "output_type": "stream",
          "name": "stderr",
          "text": [
            "Epoch 5/50: 100%|██████████| 54/54 [00:04<00:00, 11.03it/s]\n"
          ]
        },
        {
          "output_type": "stream",
          "name": "stdout",
          "text": [
            "Train Loss : 0.0305, Validation Loss: 0.1131\n",
            "Validation loss improved from 0.1310--->0.1131\n",
            "Saved Checkpoint to 'bilstm_glove_embeddings_v1/bilstm_glove_embeddings_v1_epoch4_loss0.1131.pt'\n"
          ]
        },
        {
          "output_type": "stream",
          "name": "stderr",
          "text": [
            "Epoch 6/50: 100%|██████████| 54/54 [00:07<00:00,  7.35it/s]\n"
          ]
        },
        {
          "output_type": "stream",
          "name": "stdout",
          "text": [
            "Train Loss : 0.026, Validation Loss: 0.1014\n",
            "Validation loss improved from 0.1131--->0.1014\n",
            "Saved Checkpoint to 'bilstm_glove_embeddings_v1/bilstm_glove_embeddings_v1_epoch5_loss0.1014.pt'\n"
          ]
        },
        {
          "output_type": "stream",
          "name": "stderr",
          "text": [
            "Epoch 7/50: 100%|██████████| 54/54 [00:04<00:00, 10.96it/s]\n"
          ]
        },
        {
          "output_type": "stream",
          "name": "stdout",
          "text": [
            "Train Loss : 0.0235, Validation Loss: 0.0939\n",
            "Validation loss improved from 0.1014--->0.0939\n",
            "Saved Checkpoint to 'bilstm_glove_embeddings_v1/bilstm_glove_embeddings_v1_epoch6_loss0.0939.pt'\n"
          ]
        },
        {
          "output_type": "stream",
          "name": "stderr",
          "text": [
            "Epoch 8/50: 100%|██████████| 54/54 [00:07<00:00,  7.55it/s]\n"
          ]
        },
        {
          "output_type": "stream",
          "name": "stdout",
          "text": [
            "Train Loss : 0.0207, Validation Loss: 0.092\n",
            "Validation loss improved from 0.0939--->0.0920\n",
            "Saved Checkpoint to 'bilstm_glove_embeddings_v1/bilstm_glove_embeddings_v1_epoch7_loss0.0920.pt'\n"
          ]
        },
        {
          "output_type": "stream",
          "name": "stderr",
          "text": [
            "Epoch 9/50: 100%|██████████| 54/54 [00:04<00:00, 11.34it/s]\n"
          ]
        },
        {
          "output_type": "stream",
          "name": "stdout",
          "text": [
            "Train Loss : 0.0188, Validation Loss: 0.0832\n",
            "Validation loss improved from 0.0920--->0.0832\n",
            "Saved Checkpoint to 'bilstm_glove_embeddings_v1/bilstm_glove_embeddings_v1_epoch8_loss0.0832.pt'\n"
          ]
        },
        {
          "output_type": "stream",
          "name": "stderr",
          "text": [
            "Epoch 10/50: 100%|██████████| 54/54 [00:07<00:00,  7.20it/s]\n"
          ]
        },
        {
          "output_type": "stream",
          "name": "stdout",
          "text": [
            "Train Loss : 0.0171, Validation Loss: 0.0826\n",
            "Validation loss improved from 0.0832--->0.0826\n",
            "Saved Checkpoint to 'bilstm_glove_embeddings_v1/bilstm_glove_embeddings_v1_epoch9_loss0.0826.pt'\n"
          ]
        },
        {
          "output_type": "stream",
          "name": "stderr",
          "text": [
            "Epoch 11/50: 100%|██████████| 54/54 [00:04<00:00, 11.46it/s]\n"
          ]
        },
        {
          "output_type": "stream",
          "name": "stdout",
          "text": [
            "Train Loss : 0.0159, Validation Loss: 0.0798\n",
            "Validation loss improved from 0.0826--->0.0798\n",
            "Saved Checkpoint to 'bilstm_glove_embeddings_v1/bilstm_glove_embeddings_v1_epoch10_loss0.0798.pt'\n"
          ]
        },
        {
          "output_type": "stream",
          "name": "stderr",
          "text": [
            "Epoch 12/50: 100%|██████████| 54/54 [00:07<00:00,  7.17it/s]\n"
          ]
        },
        {
          "output_type": "stream",
          "name": "stdout",
          "text": [
            "Train Loss : 0.0143, Validation Loss: 0.0828\n"
          ]
        },
        {
          "output_type": "stream",
          "name": "stderr",
          "text": [
            "Epoch 13/50: 100%|██████████| 54/54 [00:04<00:00, 11.04it/s]\n"
          ]
        },
        {
          "output_type": "stream",
          "name": "stdout",
          "text": [
            "Train Loss : 0.0132, Validation Loss: 0.08\n"
          ]
        },
        {
          "output_type": "stream",
          "name": "stderr",
          "text": [
            "Epoch 14/50: 100%|██████████| 54/54 [00:06<00:00,  8.65it/s]\n"
          ]
        },
        {
          "output_type": "stream",
          "name": "stdout",
          "text": [
            "Train Loss : 0.0119, Validation Loss: 0.0801\n"
          ]
        },
        {
          "output_type": "stream",
          "name": "stderr",
          "text": [
            "Epoch 15/50: 100%|██████████| 54/54 [00:05<00:00,  9.39it/s]\n"
          ]
        },
        {
          "output_type": "stream",
          "name": "stdout",
          "text": [
            "Train Loss : 0.0105, Validation Loss: 0.0862\n"
          ]
        },
        {
          "output_type": "stream",
          "name": "stderr",
          "text": [
            "Epoch 16/50: 100%|██████████| 54/54 [00:05<00:00,  9.93it/s]\n"
          ]
        },
        {
          "output_type": "stream",
          "name": "stdout",
          "text": [
            "Train Loss : 0.0096, Validation Loss: 0.0804\n"
          ]
        },
        {
          "output_type": "stream",
          "name": "stderr",
          "text": [
            "Epoch 17/50: 100%|██████████| 54/54 [00:05<00:00, 10.63it/s]\n"
          ]
        },
        {
          "output_type": "stream",
          "name": "stdout",
          "text": [
            "Train Loss : 0.0088, Validation Loss: 0.0859\n"
          ]
        },
        {
          "output_type": "stream",
          "name": "stderr",
          "text": [
            "Epoch 18/50: 100%|██████████| 54/54 [00:04<00:00, 11.66it/s]\n"
          ]
        },
        {
          "output_type": "stream",
          "name": "stdout",
          "text": [
            "Train Loss : 0.0079, Validation Loss: 0.0863\n"
          ]
        },
        {
          "output_type": "stream",
          "name": "stderr",
          "text": [
            "Epoch 19/50: 100%|██████████| 54/54 [00:06<00:00,  8.53it/s]\n"
          ]
        },
        {
          "output_type": "stream",
          "name": "stdout",
          "text": [
            "Train Loss : 0.0072, Validation Loss: 0.0879\n"
          ]
        },
        {
          "output_type": "stream",
          "name": "stderr",
          "text": [
            "Epoch 20/50: 100%|██████████| 54/54 [00:04<00:00, 11.40it/s]\n"
          ]
        },
        {
          "output_type": "stream",
          "name": "stdout",
          "text": [
            "Train Loss : 0.0065, Validation Loss: 0.0877\n"
          ]
        },
        {
          "output_type": "stream",
          "name": "stderr",
          "text": [
            "Epoch 21/50: 100%|██████████| 54/54 [00:05<00:00,  9.70it/s]\n"
          ]
        },
        {
          "output_type": "stream",
          "name": "stdout",
          "text": [
            "Train Loss : 0.0054, Validation Loss: 0.0937\n"
          ]
        },
        {
          "output_type": "stream",
          "name": "stderr",
          "text": [
            "Epoch 22/50: 100%|██████████| 54/54 [00:05<00:00, 10.63it/s]\n"
          ]
        },
        {
          "output_type": "stream",
          "name": "stdout",
          "text": [
            "Train Loss : 0.0049, Validation Loss: 0.0926\n"
          ]
        },
        {
          "output_type": "stream",
          "name": "stderr",
          "text": [
            "Epoch 23/50: 100%|██████████| 54/54 [00:04<00:00, 11.74it/s]\n"
          ]
        },
        {
          "output_type": "stream",
          "name": "stdout",
          "text": [
            "Train Loss : 0.0043, Validation Loss: 0.0987\n"
          ]
        },
        {
          "output_type": "stream",
          "name": "stderr",
          "text": [
            "Epoch 24/50: 100%|██████████| 54/54 [00:06<00:00,  8.49it/s]\n"
          ]
        },
        {
          "output_type": "stream",
          "name": "stdout",
          "text": [
            "Train Loss : 0.0039, Validation Loss: 0.1072\n"
          ]
        },
        {
          "output_type": "stream",
          "name": "stderr",
          "text": [
            "Epoch 25/50: 100%|██████████| 54/54 [00:04<00:00, 11.40it/s]\n"
          ]
        },
        {
          "output_type": "stream",
          "name": "stdout",
          "text": [
            "Train Loss : 0.0034, Validation Loss: 0.1063\n"
          ]
        },
        {
          "output_type": "stream",
          "name": "stderr",
          "text": [
            "Epoch 26/50: 100%|██████████| 54/54 [00:05<00:00,  9.59it/s]\n"
          ]
        },
        {
          "output_type": "stream",
          "name": "stdout",
          "text": [
            "Train Loss : 0.0033, Validation Loss: 0.1073\n",
            "No improvement for 15 epochs. Stopping early.\n",
            "Saved best model to 'bilstm_glove_embeddings_v1/bilstm_glove_embeddings_v1-best.pt'\n",
            "time: 3min 9s (started: 2023-11-10 11:21:08 +00:00)\n"
          ]
        }
      ]
    },
    {
      "cell_type": "markdown",
      "source": [
        "Evaluate model on Validation set"
      ],
      "metadata": {
        "id": "QPmfe8Jv3KaY"
      }
    },
    {
      "cell_type": "code",
      "source": [
        "precision, recall, f1 = evaluate_model(best_model_glove, valid_data_loader, device)\n",
        "print(f'Precision: {precision:.2f}, Recall: {recall:.2f}, F1 Score: {f1:.2f}')"
      ],
      "metadata": {
        "colab": {
          "base_uri": "https://localhost:8080/"
        },
        "outputId": "0f88c7db-bf5f-4ccc-a764-4a5434dee0ec",
        "id": "jNBgkyyU3Kae"
      },
      "execution_count": 27,
      "outputs": [
        {
          "output_type": "stream",
          "name": "stderr",
          "text": [
            "100%|██████████| 51/51 [00:00<00:00, 51.37it/s]\n"
          ]
        },
        {
          "output_type": "stream",
          "name": "stdout",
          "text": [
            "processed 51362 tokens with 5942 phrases; found: 5859 phrases; correct: 5209.\n",
            "accuracy:  87.46%; (non-O)\n",
            "accuracy:  97.47%; precision:  88.91%; recall:  87.66%; FB1:  88.28\n",
            "              LOC: precision:  92.62%; recall:  92.22%; FB1:  92.42  1829\n",
            "             MISC: precision:  82.17%; recall:  77.98%; FB1:  80.02  875\n",
            "              ORG: precision:  81.52%; recall:  78.60%; FB1:  80.03  1293\n",
            "              PER: precision:  93.56%; recall:  94.57%; FB1:  94.06  1862\n",
            "Precision: 88.91, Recall: 87.66, F1 Score: 88.28\n",
            "time: 1.39 s (started: 2023-11-10 11:24:26 +00:00)\n"
          ]
        }
      ]
    },
    {
      "cell_type": "markdown",
      "source": [
        "Evaluate model on Test set"
      ],
      "metadata": {
        "id": "SziOsxdO3Kaf"
      }
    },
    {
      "cell_type": "code",
      "source": [
        "precision, recall, f1 = evaluate_model(best_model_glove, test_data_loader, device)\n",
        "print(f'Precision: {precision:.2f}, Recall: {recall:.2f}, F1 Score: {f1:.2f}')"
      ],
      "metadata": {
        "colab": {
          "base_uri": "https://localhost:8080/"
        },
        "outputId": "744681c3-260a-4729-d587-189d59a3e5dc",
        "id": "XjmIOw203Kaf"
      },
      "execution_count": 28,
      "outputs": [
        {
          "output_type": "stream",
          "name": "stderr",
          "text": [
            "100%|██████████| 108/108 [00:02<00:00, 52.93it/s]\n"
          ]
        },
        {
          "output_type": "stream",
          "name": "stdout",
          "text": [
            "processed 46435 tokens with 5648 phrases; found: 5642 phrases; correct: 4684.\n",
            "accuracy:  84.65%; (non-O)\n",
            "accuracy:  96.50%; precision:  83.02%; recall:  82.93%; FB1:  82.98\n",
            "              LOC: precision:  87.12%; recall:  88.37%; FB1:  87.74  1692\n",
            "             MISC: precision:  69.07%; recall:  69.66%; FB1:  69.36  708\n",
            "              ORG: precision:  77.72%; recall:  76.88%; FB1:  77.30  1643\n",
            "              PER: precision:  90.31%; recall:  89.30%; FB1:  89.80  1599\n",
            "Precision: 83.02, Recall: 82.93, F1 Score: 82.98\n",
            "time: 2.22 s (started: 2023-11-10 11:24:31 +00:00)\n"
          ]
        }
      ]
    },
    {
      "cell_type": "markdown",
      "source": [
        "# References\n",
        "\n",
        "1. https://huggingface.co/datasets/conll2003\n",
        "2. https://huggingface.co/docs/datasets/installation\n",
        "3. https://huggingface.co/docs/transformers/installation\n",
        "4. https://stackoverflow.com/questions/37793118/load-pretrained-glove-vectors-in-python\n",
        "5. https://stackoverflow.com/a/52070223/12639940\n",
        "6. https://github.com/sighsmile/conlleval\n",
        "7. https://nlp.stanford.edu/data/glove.6B.zip\n",
        "8. https://stats.stackexchange.com/questions/248715/selection-of-values-for-padding-tokens-in-sentence-classification-with-word-embe\n"
      ],
      "metadata": {
        "id": "wSY-BBYUmqV0"
      }
    }
  ]
}