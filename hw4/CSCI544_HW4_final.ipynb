{
  "nbformat": 4,
  "nbformat_minor": 0,
  "metadata": {
    "colab": {
      "provenance": [],
      "gpuType": "T4",
      "mount_file_id": "1BfzjmYoAKH2BxGsBESx71mRSalel3ovY",
      "authorship_tag": "ABX9TyP2uYoTGEQXdj5cCSYEB6w0",
      "include_colab_link": true
    },
    "kernelspec": {
      "name": "python3",
      "display_name": "Python 3"
    },
    "language_info": {
      "name": "python"
    },
    "accelerator": "GPU",
    "widgets": {
      "application/vnd.jupyter.widget-state+json": {
        "cc13f227ac6e49768b77bf3539ca4831": {
          "model_module": "@jupyter-widgets/controls",
          "model_name": "HBoxModel",
          "model_module_version": "1.5.0",
          "state": {
            "_dom_classes": [],
            "_model_module": "@jupyter-widgets/controls",
            "_model_module_version": "1.5.0",
            "_model_name": "HBoxModel",
            "_view_count": null,
            "_view_module": "@jupyter-widgets/controls",
            "_view_module_version": "1.5.0",
            "_view_name": "HBoxView",
            "box_style": "",
            "children": [
              "IPY_MODEL_0dfaf65cea9d48f2b9a191fb4e588490",
              "IPY_MODEL_3550dd2d7947450e8ff8bced05b11560",
              "IPY_MODEL_4c16e63bf02d4ac79972b3d9d2f1a0fa"
            ],
            "layout": "IPY_MODEL_9c0f15dcaf904aa99187976535fa46eb"
          }
        },
        "0dfaf65cea9d48f2b9a191fb4e588490": {
          "model_module": "@jupyter-widgets/controls",
          "model_name": "HTMLModel",
          "model_module_version": "1.5.0",
          "state": {
            "_dom_classes": [],
            "_model_module": "@jupyter-widgets/controls",
            "_model_module_version": "1.5.0",
            "_model_name": "HTMLModel",
            "_view_count": null,
            "_view_module": "@jupyter-widgets/controls",
            "_view_module_version": "1.5.0",
            "_view_name": "HTMLView",
            "description": "",
            "description_tooltip": null,
            "layout": "IPY_MODEL_cf6116dcb54940eeafe4e1d45a3d4a6f",
            "placeholder": "​",
            "style": "IPY_MODEL_9c8ab1a0afc84123911cfb44444303ee",
            "value": "Downloading builder script: 100%"
          }
        },
        "3550dd2d7947450e8ff8bced05b11560": {
          "model_module": "@jupyter-widgets/controls",
          "model_name": "FloatProgressModel",
          "model_module_version": "1.5.0",
          "state": {
            "_dom_classes": [],
            "_model_module": "@jupyter-widgets/controls",
            "_model_module_version": "1.5.0",
            "_model_name": "FloatProgressModel",
            "_view_count": null,
            "_view_module": "@jupyter-widgets/controls",
            "_view_module_version": "1.5.0",
            "_view_name": "ProgressView",
            "bar_style": "success",
            "description": "",
            "description_tooltip": null,
            "layout": "IPY_MODEL_12b6bdaef2734294930b8cf20b1360d8",
            "max": 9570,
            "min": 0,
            "orientation": "horizontal",
            "style": "IPY_MODEL_2d5a7fe5f59441a49f1eb7a697294e52",
            "value": 9570
          }
        },
        "4c16e63bf02d4ac79972b3d9d2f1a0fa": {
          "model_module": "@jupyter-widgets/controls",
          "model_name": "HTMLModel",
          "model_module_version": "1.5.0",
          "state": {
            "_dom_classes": [],
            "_model_module": "@jupyter-widgets/controls",
            "_model_module_version": "1.5.0",
            "_model_name": "HTMLModel",
            "_view_count": null,
            "_view_module": "@jupyter-widgets/controls",
            "_view_module_version": "1.5.0",
            "_view_name": "HTMLView",
            "description": "",
            "description_tooltip": null,
            "layout": "IPY_MODEL_bf360cb144224437b931a1451c5e8012",
            "placeholder": "​",
            "style": "IPY_MODEL_48f4095c1fa2453baff9cda4c63922f1",
            "value": " 9.57k/9.57k [00:00&lt;00:00, 322kB/s]"
          }
        },
        "9c0f15dcaf904aa99187976535fa46eb": {
          "model_module": "@jupyter-widgets/base",
          "model_name": "LayoutModel",
          "model_module_version": "1.2.0",
          "state": {
            "_model_module": "@jupyter-widgets/base",
            "_model_module_version": "1.2.0",
            "_model_name": "LayoutModel",
            "_view_count": null,
            "_view_module": "@jupyter-widgets/base",
            "_view_module_version": "1.2.0",
            "_view_name": "LayoutView",
            "align_content": null,
            "align_items": null,
            "align_self": null,
            "border": null,
            "bottom": null,
            "display": null,
            "flex": null,
            "flex_flow": null,
            "grid_area": null,
            "grid_auto_columns": null,
            "grid_auto_flow": null,
            "grid_auto_rows": null,
            "grid_column": null,
            "grid_gap": null,
            "grid_row": null,
            "grid_template_areas": null,
            "grid_template_columns": null,
            "grid_template_rows": null,
            "height": null,
            "justify_content": null,
            "justify_items": null,
            "left": null,
            "margin": null,
            "max_height": null,
            "max_width": null,
            "min_height": null,
            "min_width": null,
            "object_fit": null,
            "object_position": null,
            "order": null,
            "overflow": null,
            "overflow_x": null,
            "overflow_y": null,
            "padding": null,
            "right": null,
            "top": null,
            "visibility": null,
            "width": null
          }
        },
        "cf6116dcb54940eeafe4e1d45a3d4a6f": {
          "model_module": "@jupyter-widgets/base",
          "model_name": "LayoutModel",
          "model_module_version": "1.2.0",
          "state": {
            "_model_module": "@jupyter-widgets/base",
            "_model_module_version": "1.2.0",
            "_model_name": "LayoutModel",
            "_view_count": null,
            "_view_module": "@jupyter-widgets/base",
            "_view_module_version": "1.2.0",
            "_view_name": "LayoutView",
            "align_content": null,
            "align_items": null,
            "align_self": null,
            "border": null,
            "bottom": null,
            "display": null,
            "flex": null,
            "flex_flow": null,
            "grid_area": null,
            "grid_auto_columns": null,
            "grid_auto_flow": null,
            "grid_auto_rows": null,
            "grid_column": null,
            "grid_gap": null,
            "grid_row": null,
            "grid_template_areas": null,
            "grid_template_columns": null,
            "grid_template_rows": null,
            "height": null,
            "justify_content": null,
            "justify_items": null,
            "left": null,
            "margin": null,
            "max_height": null,
            "max_width": null,
            "min_height": null,
            "min_width": null,
            "object_fit": null,
            "object_position": null,
            "order": null,
            "overflow": null,
            "overflow_x": null,
            "overflow_y": null,
            "padding": null,
            "right": null,
            "top": null,
            "visibility": null,
            "width": null
          }
        },
        "9c8ab1a0afc84123911cfb44444303ee": {
          "model_module": "@jupyter-widgets/controls",
          "model_name": "DescriptionStyleModel",
          "model_module_version": "1.5.0",
          "state": {
            "_model_module": "@jupyter-widgets/controls",
            "_model_module_version": "1.5.0",
            "_model_name": "DescriptionStyleModel",
            "_view_count": null,
            "_view_module": "@jupyter-widgets/base",
            "_view_module_version": "1.2.0",
            "_view_name": "StyleView",
            "description_width": ""
          }
        },
        "12b6bdaef2734294930b8cf20b1360d8": {
          "model_module": "@jupyter-widgets/base",
          "model_name": "LayoutModel",
          "model_module_version": "1.2.0",
          "state": {
            "_model_module": "@jupyter-widgets/base",
            "_model_module_version": "1.2.0",
            "_model_name": "LayoutModel",
            "_view_count": null,
            "_view_module": "@jupyter-widgets/base",
            "_view_module_version": "1.2.0",
            "_view_name": "LayoutView",
            "align_content": null,
            "align_items": null,
            "align_self": null,
            "border": null,
            "bottom": null,
            "display": null,
            "flex": null,
            "flex_flow": null,
            "grid_area": null,
            "grid_auto_columns": null,
            "grid_auto_flow": null,
            "grid_auto_rows": null,
            "grid_column": null,
            "grid_gap": null,
            "grid_row": null,
            "grid_template_areas": null,
            "grid_template_columns": null,
            "grid_template_rows": null,
            "height": null,
            "justify_content": null,
            "justify_items": null,
            "left": null,
            "margin": null,
            "max_height": null,
            "max_width": null,
            "min_height": null,
            "min_width": null,
            "object_fit": null,
            "object_position": null,
            "order": null,
            "overflow": null,
            "overflow_x": null,
            "overflow_y": null,
            "padding": null,
            "right": null,
            "top": null,
            "visibility": null,
            "width": null
          }
        },
        "2d5a7fe5f59441a49f1eb7a697294e52": {
          "model_module": "@jupyter-widgets/controls",
          "model_name": "ProgressStyleModel",
          "model_module_version": "1.5.0",
          "state": {
            "_model_module": "@jupyter-widgets/controls",
            "_model_module_version": "1.5.0",
            "_model_name": "ProgressStyleModel",
            "_view_count": null,
            "_view_module": "@jupyter-widgets/base",
            "_view_module_version": "1.2.0",
            "_view_name": "StyleView",
            "bar_color": null,
            "description_width": ""
          }
        },
        "bf360cb144224437b931a1451c5e8012": {
          "model_module": "@jupyter-widgets/base",
          "model_name": "LayoutModel",
          "model_module_version": "1.2.0",
          "state": {
            "_model_module": "@jupyter-widgets/base",
            "_model_module_version": "1.2.0",
            "_model_name": "LayoutModel",
            "_view_count": null,
            "_view_module": "@jupyter-widgets/base",
            "_view_module_version": "1.2.0",
            "_view_name": "LayoutView",
            "align_content": null,
            "align_items": null,
            "align_self": null,
            "border": null,
            "bottom": null,
            "display": null,
            "flex": null,
            "flex_flow": null,
            "grid_area": null,
            "grid_auto_columns": null,
            "grid_auto_flow": null,
            "grid_auto_rows": null,
            "grid_column": null,
            "grid_gap": null,
            "grid_row": null,
            "grid_template_areas": null,
            "grid_template_columns": null,
            "grid_template_rows": null,
            "height": null,
            "justify_content": null,
            "justify_items": null,
            "left": null,
            "margin": null,
            "max_height": null,
            "max_width": null,
            "min_height": null,
            "min_width": null,
            "object_fit": null,
            "object_position": null,
            "order": null,
            "overflow": null,
            "overflow_x": null,
            "overflow_y": null,
            "padding": null,
            "right": null,
            "top": null,
            "visibility": null,
            "width": null
          }
        },
        "48f4095c1fa2453baff9cda4c63922f1": {
          "model_module": "@jupyter-widgets/controls",
          "model_name": "DescriptionStyleModel",
          "model_module_version": "1.5.0",
          "state": {
            "_model_module": "@jupyter-widgets/controls",
            "_model_module_version": "1.5.0",
            "_model_name": "DescriptionStyleModel",
            "_view_count": null,
            "_view_module": "@jupyter-widgets/base",
            "_view_module_version": "1.2.0",
            "_view_name": "StyleView",
            "description_width": ""
          }
        },
        "25c49cc2cdcb447ebd414bfffd9d3a9d": {
          "model_module": "@jupyter-widgets/controls",
          "model_name": "HBoxModel",
          "model_module_version": "1.5.0",
          "state": {
            "_dom_classes": [],
            "_model_module": "@jupyter-widgets/controls",
            "_model_module_version": "1.5.0",
            "_model_name": "HBoxModel",
            "_view_count": null,
            "_view_module": "@jupyter-widgets/controls",
            "_view_module_version": "1.5.0",
            "_view_name": "HBoxView",
            "box_style": "",
            "children": [
              "IPY_MODEL_56b8e52b62474e37b5ebba14e048453f",
              "IPY_MODEL_03bdd9272de04620a0e7c5d6f05947ba",
              "IPY_MODEL_5827386e476c432c826b0cbb42b6ccb6"
            ],
            "layout": "IPY_MODEL_f1de74f24a7c44f4a8a32c4685f4b571"
          }
        },
        "56b8e52b62474e37b5ebba14e048453f": {
          "model_module": "@jupyter-widgets/controls",
          "model_name": "HTMLModel",
          "model_module_version": "1.5.0",
          "state": {
            "_dom_classes": [],
            "_model_module": "@jupyter-widgets/controls",
            "_model_module_version": "1.5.0",
            "_model_name": "HTMLModel",
            "_view_count": null,
            "_view_module": "@jupyter-widgets/controls",
            "_view_module_version": "1.5.0",
            "_view_name": "HTMLView",
            "description": "",
            "description_tooltip": null,
            "layout": "IPY_MODEL_a71462f56d454ec9a2639939b19945ee",
            "placeholder": "​",
            "style": "IPY_MODEL_510c50a55643492db3cfa7041d607198",
            "value": "Downloading metadata: 100%"
          }
        },
        "03bdd9272de04620a0e7c5d6f05947ba": {
          "model_module": "@jupyter-widgets/controls",
          "model_name": "FloatProgressModel",
          "model_module_version": "1.5.0",
          "state": {
            "_dom_classes": [],
            "_model_module": "@jupyter-widgets/controls",
            "_model_module_version": "1.5.0",
            "_model_name": "FloatProgressModel",
            "_view_count": null,
            "_view_module": "@jupyter-widgets/controls",
            "_view_module_version": "1.5.0",
            "_view_name": "ProgressView",
            "bar_style": "success",
            "description": "",
            "description_tooltip": null,
            "layout": "IPY_MODEL_34a734f5622b419db4e5107c7fde8d82",
            "max": 3735,
            "min": 0,
            "orientation": "horizontal",
            "style": "IPY_MODEL_239f5410cad04e0eae102392478a92bb",
            "value": 3735
          }
        },
        "5827386e476c432c826b0cbb42b6ccb6": {
          "model_module": "@jupyter-widgets/controls",
          "model_name": "HTMLModel",
          "model_module_version": "1.5.0",
          "state": {
            "_dom_classes": [],
            "_model_module": "@jupyter-widgets/controls",
            "_model_module_version": "1.5.0",
            "_model_name": "HTMLModel",
            "_view_count": null,
            "_view_module": "@jupyter-widgets/controls",
            "_view_module_version": "1.5.0",
            "_view_name": "HTMLView",
            "description": "",
            "description_tooltip": null,
            "layout": "IPY_MODEL_4b2174e9d5104971a7a1c9ec757b6780",
            "placeholder": "​",
            "style": "IPY_MODEL_1cdecc91e98d4addbe2c4117d46e4c00",
            "value": " 3.73k/3.73k [00:00&lt;00:00, 144kB/s]"
          }
        },
        "f1de74f24a7c44f4a8a32c4685f4b571": {
          "model_module": "@jupyter-widgets/base",
          "model_name": "LayoutModel",
          "model_module_version": "1.2.0",
          "state": {
            "_model_module": "@jupyter-widgets/base",
            "_model_module_version": "1.2.0",
            "_model_name": "LayoutModel",
            "_view_count": null,
            "_view_module": "@jupyter-widgets/base",
            "_view_module_version": "1.2.0",
            "_view_name": "LayoutView",
            "align_content": null,
            "align_items": null,
            "align_self": null,
            "border": null,
            "bottom": null,
            "display": null,
            "flex": null,
            "flex_flow": null,
            "grid_area": null,
            "grid_auto_columns": null,
            "grid_auto_flow": null,
            "grid_auto_rows": null,
            "grid_column": null,
            "grid_gap": null,
            "grid_row": null,
            "grid_template_areas": null,
            "grid_template_columns": null,
            "grid_template_rows": null,
            "height": null,
            "justify_content": null,
            "justify_items": null,
            "left": null,
            "margin": null,
            "max_height": null,
            "max_width": null,
            "min_height": null,
            "min_width": null,
            "object_fit": null,
            "object_position": null,
            "order": null,
            "overflow": null,
            "overflow_x": null,
            "overflow_y": null,
            "padding": null,
            "right": null,
            "top": null,
            "visibility": null,
            "width": null
          }
        },
        "a71462f56d454ec9a2639939b19945ee": {
          "model_module": "@jupyter-widgets/base",
          "model_name": "LayoutModel",
          "model_module_version": "1.2.0",
          "state": {
            "_model_module": "@jupyter-widgets/base",
            "_model_module_version": "1.2.0",
            "_model_name": "LayoutModel",
            "_view_count": null,
            "_view_module": "@jupyter-widgets/base",
            "_view_module_version": "1.2.0",
            "_view_name": "LayoutView",
            "align_content": null,
            "align_items": null,
            "align_self": null,
            "border": null,
            "bottom": null,
            "display": null,
            "flex": null,
            "flex_flow": null,
            "grid_area": null,
            "grid_auto_columns": null,
            "grid_auto_flow": null,
            "grid_auto_rows": null,
            "grid_column": null,
            "grid_gap": null,
            "grid_row": null,
            "grid_template_areas": null,
            "grid_template_columns": null,
            "grid_template_rows": null,
            "height": null,
            "justify_content": null,
            "justify_items": null,
            "left": null,
            "margin": null,
            "max_height": null,
            "max_width": null,
            "min_height": null,
            "min_width": null,
            "object_fit": null,
            "object_position": null,
            "order": null,
            "overflow": null,
            "overflow_x": null,
            "overflow_y": null,
            "padding": null,
            "right": null,
            "top": null,
            "visibility": null,
            "width": null
          }
        },
        "510c50a55643492db3cfa7041d607198": {
          "model_module": "@jupyter-widgets/controls",
          "model_name": "DescriptionStyleModel",
          "model_module_version": "1.5.0",
          "state": {
            "_model_module": "@jupyter-widgets/controls",
            "_model_module_version": "1.5.0",
            "_model_name": "DescriptionStyleModel",
            "_view_count": null,
            "_view_module": "@jupyter-widgets/base",
            "_view_module_version": "1.2.0",
            "_view_name": "StyleView",
            "description_width": ""
          }
        },
        "34a734f5622b419db4e5107c7fde8d82": {
          "model_module": "@jupyter-widgets/base",
          "model_name": "LayoutModel",
          "model_module_version": "1.2.0",
          "state": {
            "_model_module": "@jupyter-widgets/base",
            "_model_module_version": "1.2.0",
            "_model_name": "LayoutModel",
            "_view_count": null,
            "_view_module": "@jupyter-widgets/base",
            "_view_module_version": "1.2.0",
            "_view_name": "LayoutView",
            "align_content": null,
            "align_items": null,
            "align_self": null,
            "border": null,
            "bottom": null,
            "display": null,
            "flex": null,
            "flex_flow": null,
            "grid_area": null,
            "grid_auto_columns": null,
            "grid_auto_flow": null,
            "grid_auto_rows": null,
            "grid_column": null,
            "grid_gap": null,
            "grid_row": null,
            "grid_template_areas": null,
            "grid_template_columns": null,
            "grid_template_rows": null,
            "height": null,
            "justify_content": null,
            "justify_items": null,
            "left": null,
            "margin": null,
            "max_height": null,
            "max_width": null,
            "min_height": null,
            "min_width": null,
            "object_fit": null,
            "object_position": null,
            "order": null,
            "overflow": null,
            "overflow_x": null,
            "overflow_y": null,
            "padding": null,
            "right": null,
            "top": null,
            "visibility": null,
            "width": null
          }
        },
        "239f5410cad04e0eae102392478a92bb": {
          "model_module": "@jupyter-widgets/controls",
          "model_name": "ProgressStyleModel",
          "model_module_version": "1.5.0",
          "state": {
            "_model_module": "@jupyter-widgets/controls",
            "_model_module_version": "1.5.0",
            "_model_name": "ProgressStyleModel",
            "_view_count": null,
            "_view_module": "@jupyter-widgets/base",
            "_view_module_version": "1.2.0",
            "_view_name": "StyleView",
            "bar_color": null,
            "description_width": ""
          }
        },
        "4b2174e9d5104971a7a1c9ec757b6780": {
          "model_module": "@jupyter-widgets/base",
          "model_name": "LayoutModel",
          "model_module_version": "1.2.0",
          "state": {
            "_model_module": "@jupyter-widgets/base",
            "_model_module_version": "1.2.0",
            "_model_name": "LayoutModel",
            "_view_count": null,
            "_view_module": "@jupyter-widgets/base",
            "_view_module_version": "1.2.0",
            "_view_name": "LayoutView",
            "align_content": null,
            "align_items": null,
            "align_self": null,
            "border": null,
            "bottom": null,
            "display": null,
            "flex": null,
            "flex_flow": null,
            "grid_area": null,
            "grid_auto_columns": null,
            "grid_auto_flow": null,
            "grid_auto_rows": null,
            "grid_column": null,
            "grid_gap": null,
            "grid_row": null,
            "grid_template_areas": null,
            "grid_template_columns": null,
            "grid_template_rows": null,
            "height": null,
            "justify_content": null,
            "justify_items": null,
            "left": null,
            "margin": null,
            "max_height": null,
            "max_width": null,
            "min_height": null,
            "min_width": null,
            "object_fit": null,
            "object_position": null,
            "order": null,
            "overflow": null,
            "overflow_x": null,
            "overflow_y": null,
            "padding": null,
            "right": null,
            "top": null,
            "visibility": null,
            "width": null
          }
        },
        "1cdecc91e98d4addbe2c4117d46e4c00": {
          "model_module": "@jupyter-widgets/controls",
          "model_name": "DescriptionStyleModel",
          "model_module_version": "1.5.0",
          "state": {
            "_model_module": "@jupyter-widgets/controls",
            "_model_module_version": "1.5.0",
            "_model_name": "DescriptionStyleModel",
            "_view_count": null,
            "_view_module": "@jupyter-widgets/base",
            "_view_module_version": "1.2.0",
            "_view_name": "StyleView",
            "description_width": ""
          }
        },
        "fdb091124b6b4b8bb93f20fc69723e6d": {
          "model_module": "@jupyter-widgets/controls",
          "model_name": "HBoxModel",
          "model_module_version": "1.5.0",
          "state": {
            "_dom_classes": [],
            "_model_module": "@jupyter-widgets/controls",
            "_model_module_version": "1.5.0",
            "_model_name": "HBoxModel",
            "_view_count": null,
            "_view_module": "@jupyter-widgets/controls",
            "_view_module_version": "1.5.0",
            "_view_name": "HBoxView",
            "box_style": "",
            "children": [
              "IPY_MODEL_3109bae1ac2f457884297996abfd7274",
              "IPY_MODEL_b26a1613a7b94a27aa8abce62b83a666",
              "IPY_MODEL_f1f0d665555c4f5da140b40839c01077"
            ],
            "layout": "IPY_MODEL_98c3420c313b40dfacd61b9314513ff9"
          }
        },
        "3109bae1ac2f457884297996abfd7274": {
          "model_module": "@jupyter-widgets/controls",
          "model_name": "HTMLModel",
          "model_module_version": "1.5.0",
          "state": {
            "_dom_classes": [],
            "_model_module": "@jupyter-widgets/controls",
            "_model_module_version": "1.5.0",
            "_model_name": "HTMLModel",
            "_view_count": null,
            "_view_module": "@jupyter-widgets/controls",
            "_view_module_version": "1.5.0",
            "_view_name": "HTMLView",
            "description": "",
            "description_tooltip": null,
            "layout": "IPY_MODEL_e902cdf9bc4c458da0363bd37d9cc3ee",
            "placeholder": "​",
            "style": "IPY_MODEL_f2f5ebad966748f9803a8192d5378ee8",
            "value": "Downloading readme: 100%"
          }
        },
        "b26a1613a7b94a27aa8abce62b83a666": {
          "model_module": "@jupyter-widgets/controls",
          "model_name": "FloatProgressModel",
          "model_module_version": "1.5.0",
          "state": {
            "_dom_classes": [],
            "_model_module": "@jupyter-widgets/controls",
            "_model_module_version": "1.5.0",
            "_model_name": "FloatProgressModel",
            "_view_count": null,
            "_view_module": "@jupyter-widgets/controls",
            "_view_module_version": "1.5.0",
            "_view_name": "ProgressView",
            "bar_style": "success",
            "description": "",
            "description_tooltip": null,
            "layout": "IPY_MODEL_def1d71a1f104336901693ef60697f3d",
            "max": 12330,
            "min": 0,
            "orientation": "horizontal",
            "style": "IPY_MODEL_b3b52426cdd444bcbd92d1eab4cbd5a3",
            "value": 12330
          }
        },
        "f1f0d665555c4f5da140b40839c01077": {
          "model_module": "@jupyter-widgets/controls",
          "model_name": "HTMLModel",
          "model_module_version": "1.5.0",
          "state": {
            "_dom_classes": [],
            "_model_module": "@jupyter-widgets/controls",
            "_model_module_version": "1.5.0",
            "_model_name": "HTMLModel",
            "_view_count": null,
            "_view_module": "@jupyter-widgets/controls",
            "_view_module_version": "1.5.0",
            "_view_name": "HTMLView",
            "description": "",
            "description_tooltip": null,
            "layout": "IPY_MODEL_7dc42e44c27341a79d29c040cc68da94",
            "placeholder": "​",
            "style": "IPY_MODEL_193ea0aa72aa47d387094f359fda573c",
            "value": " 12.3k/12.3k [00:00&lt;00:00, 388kB/s]"
          }
        },
        "98c3420c313b40dfacd61b9314513ff9": {
          "model_module": "@jupyter-widgets/base",
          "model_name": "LayoutModel",
          "model_module_version": "1.2.0",
          "state": {
            "_model_module": "@jupyter-widgets/base",
            "_model_module_version": "1.2.0",
            "_model_name": "LayoutModel",
            "_view_count": null,
            "_view_module": "@jupyter-widgets/base",
            "_view_module_version": "1.2.0",
            "_view_name": "LayoutView",
            "align_content": null,
            "align_items": null,
            "align_self": null,
            "border": null,
            "bottom": null,
            "display": null,
            "flex": null,
            "flex_flow": null,
            "grid_area": null,
            "grid_auto_columns": null,
            "grid_auto_flow": null,
            "grid_auto_rows": null,
            "grid_column": null,
            "grid_gap": null,
            "grid_row": null,
            "grid_template_areas": null,
            "grid_template_columns": null,
            "grid_template_rows": null,
            "height": null,
            "justify_content": null,
            "justify_items": null,
            "left": null,
            "margin": null,
            "max_height": null,
            "max_width": null,
            "min_height": null,
            "min_width": null,
            "object_fit": null,
            "object_position": null,
            "order": null,
            "overflow": null,
            "overflow_x": null,
            "overflow_y": null,
            "padding": null,
            "right": null,
            "top": null,
            "visibility": null,
            "width": null
          }
        },
        "e902cdf9bc4c458da0363bd37d9cc3ee": {
          "model_module": "@jupyter-widgets/base",
          "model_name": "LayoutModel",
          "model_module_version": "1.2.0",
          "state": {
            "_model_module": "@jupyter-widgets/base",
            "_model_module_version": "1.2.0",
            "_model_name": "LayoutModel",
            "_view_count": null,
            "_view_module": "@jupyter-widgets/base",
            "_view_module_version": "1.2.0",
            "_view_name": "LayoutView",
            "align_content": null,
            "align_items": null,
            "align_self": null,
            "border": null,
            "bottom": null,
            "display": null,
            "flex": null,
            "flex_flow": null,
            "grid_area": null,
            "grid_auto_columns": null,
            "grid_auto_flow": null,
            "grid_auto_rows": null,
            "grid_column": null,
            "grid_gap": null,
            "grid_row": null,
            "grid_template_areas": null,
            "grid_template_columns": null,
            "grid_template_rows": null,
            "height": null,
            "justify_content": null,
            "justify_items": null,
            "left": null,
            "margin": null,
            "max_height": null,
            "max_width": null,
            "min_height": null,
            "min_width": null,
            "object_fit": null,
            "object_position": null,
            "order": null,
            "overflow": null,
            "overflow_x": null,
            "overflow_y": null,
            "padding": null,
            "right": null,
            "top": null,
            "visibility": null,
            "width": null
          }
        },
        "f2f5ebad966748f9803a8192d5378ee8": {
          "model_module": "@jupyter-widgets/controls",
          "model_name": "DescriptionStyleModel",
          "model_module_version": "1.5.0",
          "state": {
            "_model_module": "@jupyter-widgets/controls",
            "_model_module_version": "1.5.0",
            "_model_name": "DescriptionStyleModel",
            "_view_count": null,
            "_view_module": "@jupyter-widgets/base",
            "_view_module_version": "1.2.0",
            "_view_name": "StyleView",
            "description_width": ""
          }
        },
        "def1d71a1f104336901693ef60697f3d": {
          "model_module": "@jupyter-widgets/base",
          "model_name": "LayoutModel",
          "model_module_version": "1.2.0",
          "state": {
            "_model_module": "@jupyter-widgets/base",
            "_model_module_version": "1.2.0",
            "_model_name": "LayoutModel",
            "_view_count": null,
            "_view_module": "@jupyter-widgets/base",
            "_view_module_version": "1.2.0",
            "_view_name": "LayoutView",
            "align_content": null,
            "align_items": null,
            "align_self": null,
            "border": null,
            "bottom": null,
            "display": null,
            "flex": null,
            "flex_flow": null,
            "grid_area": null,
            "grid_auto_columns": null,
            "grid_auto_flow": null,
            "grid_auto_rows": null,
            "grid_column": null,
            "grid_gap": null,
            "grid_row": null,
            "grid_template_areas": null,
            "grid_template_columns": null,
            "grid_template_rows": null,
            "height": null,
            "justify_content": null,
            "justify_items": null,
            "left": null,
            "margin": null,
            "max_height": null,
            "max_width": null,
            "min_height": null,
            "min_width": null,
            "object_fit": null,
            "object_position": null,
            "order": null,
            "overflow": null,
            "overflow_x": null,
            "overflow_y": null,
            "padding": null,
            "right": null,
            "top": null,
            "visibility": null,
            "width": null
          }
        },
        "b3b52426cdd444bcbd92d1eab4cbd5a3": {
          "model_module": "@jupyter-widgets/controls",
          "model_name": "ProgressStyleModel",
          "model_module_version": "1.5.0",
          "state": {
            "_model_module": "@jupyter-widgets/controls",
            "_model_module_version": "1.5.0",
            "_model_name": "ProgressStyleModel",
            "_view_count": null,
            "_view_module": "@jupyter-widgets/base",
            "_view_module_version": "1.2.0",
            "_view_name": "StyleView",
            "bar_color": null,
            "description_width": ""
          }
        },
        "7dc42e44c27341a79d29c040cc68da94": {
          "model_module": "@jupyter-widgets/base",
          "model_name": "LayoutModel",
          "model_module_version": "1.2.0",
          "state": {
            "_model_module": "@jupyter-widgets/base",
            "_model_module_version": "1.2.0",
            "_model_name": "LayoutModel",
            "_view_count": null,
            "_view_module": "@jupyter-widgets/base",
            "_view_module_version": "1.2.0",
            "_view_name": "LayoutView",
            "align_content": null,
            "align_items": null,
            "align_self": null,
            "border": null,
            "bottom": null,
            "display": null,
            "flex": null,
            "flex_flow": null,
            "grid_area": null,
            "grid_auto_columns": null,
            "grid_auto_flow": null,
            "grid_auto_rows": null,
            "grid_column": null,
            "grid_gap": null,
            "grid_row": null,
            "grid_template_areas": null,
            "grid_template_columns": null,
            "grid_template_rows": null,
            "height": null,
            "justify_content": null,
            "justify_items": null,
            "left": null,
            "margin": null,
            "max_height": null,
            "max_width": null,
            "min_height": null,
            "min_width": null,
            "object_fit": null,
            "object_position": null,
            "order": null,
            "overflow": null,
            "overflow_x": null,
            "overflow_y": null,
            "padding": null,
            "right": null,
            "top": null,
            "visibility": null,
            "width": null
          }
        },
        "193ea0aa72aa47d387094f359fda573c": {
          "model_module": "@jupyter-widgets/controls",
          "model_name": "DescriptionStyleModel",
          "model_module_version": "1.5.0",
          "state": {
            "_model_module": "@jupyter-widgets/controls",
            "_model_module_version": "1.5.0",
            "_model_name": "DescriptionStyleModel",
            "_view_count": null,
            "_view_module": "@jupyter-widgets/base",
            "_view_module_version": "1.2.0",
            "_view_name": "StyleView",
            "description_width": ""
          }
        },
        "f07f82f82ac845849307a14e984c3102": {
          "model_module": "@jupyter-widgets/controls",
          "model_name": "HBoxModel",
          "model_module_version": "1.5.0",
          "state": {
            "_dom_classes": [],
            "_model_module": "@jupyter-widgets/controls",
            "_model_module_version": "1.5.0",
            "_model_name": "HBoxModel",
            "_view_count": null,
            "_view_module": "@jupyter-widgets/controls",
            "_view_module_version": "1.5.0",
            "_view_name": "HBoxView",
            "box_style": "",
            "children": [
              "IPY_MODEL_65fb0d0e29ac443a8ed1186a91195b61",
              "IPY_MODEL_95ef51628a674ff4ae9c84c269598aa3",
              "IPY_MODEL_abf8ddae30e94950a2f8761f86793851"
            ],
            "layout": "IPY_MODEL_779a365208c54aa890fa580396cbb4c6"
          }
        },
        "65fb0d0e29ac443a8ed1186a91195b61": {
          "model_module": "@jupyter-widgets/controls",
          "model_name": "HTMLModel",
          "model_module_version": "1.5.0",
          "state": {
            "_dom_classes": [],
            "_model_module": "@jupyter-widgets/controls",
            "_model_module_version": "1.5.0",
            "_model_name": "HTMLModel",
            "_view_count": null,
            "_view_module": "@jupyter-widgets/controls",
            "_view_module_version": "1.5.0",
            "_view_name": "HTMLView",
            "description": "",
            "description_tooltip": null,
            "layout": "IPY_MODEL_c0effaf609f74d7cae48300996655576",
            "placeholder": "​",
            "style": "IPY_MODEL_6e7d1c9474c542788e61f8c1445f69ae",
            "value": "Downloading data: 100%"
          }
        },
        "95ef51628a674ff4ae9c84c269598aa3": {
          "model_module": "@jupyter-widgets/controls",
          "model_name": "FloatProgressModel",
          "model_module_version": "1.5.0",
          "state": {
            "_dom_classes": [],
            "_model_module": "@jupyter-widgets/controls",
            "_model_module_version": "1.5.0",
            "_model_name": "FloatProgressModel",
            "_view_count": null,
            "_view_module": "@jupyter-widgets/controls",
            "_view_module_version": "1.5.0",
            "_view_name": "ProgressView",
            "bar_style": "success",
            "description": "",
            "description_tooltip": null,
            "layout": "IPY_MODEL_85a30894409c4ddb9b888aa02e26d60c",
            "max": 982975,
            "min": 0,
            "orientation": "horizontal",
            "style": "IPY_MODEL_393be76d6a4a42d08222db256fce8abe",
            "value": 982975
          }
        },
        "abf8ddae30e94950a2f8761f86793851": {
          "model_module": "@jupyter-widgets/controls",
          "model_name": "HTMLModel",
          "model_module_version": "1.5.0",
          "state": {
            "_dom_classes": [],
            "_model_module": "@jupyter-widgets/controls",
            "_model_module_version": "1.5.0",
            "_model_name": "HTMLModel",
            "_view_count": null,
            "_view_module": "@jupyter-widgets/controls",
            "_view_module_version": "1.5.0",
            "_view_name": "HTMLView",
            "description": "",
            "description_tooltip": null,
            "layout": "IPY_MODEL_fe277384db9943d8bb64d76457666e98",
            "placeholder": "​",
            "style": "IPY_MODEL_e5dfd549017943a887aa1504880ac06e",
            "value": " 983k/983k [00:00&lt;00:00, 5.12MB/s]"
          }
        },
        "779a365208c54aa890fa580396cbb4c6": {
          "model_module": "@jupyter-widgets/base",
          "model_name": "LayoutModel",
          "model_module_version": "1.2.0",
          "state": {
            "_model_module": "@jupyter-widgets/base",
            "_model_module_version": "1.2.0",
            "_model_name": "LayoutModel",
            "_view_count": null,
            "_view_module": "@jupyter-widgets/base",
            "_view_module_version": "1.2.0",
            "_view_name": "LayoutView",
            "align_content": null,
            "align_items": null,
            "align_self": null,
            "border": null,
            "bottom": null,
            "display": null,
            "flex": null,
            "flex_flow": null,
            "grid_area": null,
            "grid_auto_columns": null,
            "grid_auto_flow": null,
            "grid_auto_rows": null,
            "grid_column": null,
            "grid_gap": null,
            "grid_row": null,
            "grid_template_areas": null,
            "grid_template_columns": null,
            "grid_template_rows": null,
            "height": null,
            "justify_content": null,
            "justify_items": null,
            "left": null,
            "margin": null,
            "max_height": null,
            "max_width": null,
            "min_height": null,
            "min_width": null,
            "object_fit": null,
            "object_position": null,
            "order": null,
            "overflow": null,
            "overflow_x": null,
            "overflow_y": null,
            "padding": null,
            "right": null,
            "top": null,
            "visibility": null,
            "width": null
          }
        },
        "c0effaf609f74d7cae48300996655576": {
          "model_module": "@jupyter-widgets/base",
          "model_name": "LayoutModel",
          "model_module_version": "1.2.0",
          "state": {
            "_model_module": "@jupyter-widgets/base",
            "_model_module_version": "1.2.0",
            "_model_name": "LayoutModel",
            "_view_count": null,
            "_view_module": "@jupyter-widgets/base",
            "_view_module_version": "1.2.0",
            "_view_name": "LayoutView",
            "align_content": null,
            "align_items": null,
            "align_self": null,
            "border": null,
            "bottom": null,
            "display": null,
            "flex": null,
            "flex_flow": null,
            "grid_area": null,
            "grid_auto_columns": null,
            "grid_auto_flow": null,
            "grid_auto_rows": null,
            "grid_column": null,
            "grid_gap": null,
            "grid_row": null,
            "grid_template_areas": null,
            "grid_template_columns": null,
            "grid_template_rows": null,
            "height": null,
            "justify_content": null,
            "justify_items": null,
            "left": null,
            "margin": null,
            "max_height": null,
            "max_width": null,
            "min_height": null,
            "min_width": null,
            "object_fit": null,
            "object_position": null,
            "order": null,
            "overflow": null,
            "overflow_x": null,
            "overflow_y": null,
            "padding": null,
            "right": null,
            "top": null,
            "visibility": null,
            "width": null
          }
        },
        "6e7d1c9474c542788e61f8c1445f69ae": {
          "model_module": "@jupyter-widgets/controls",
          "model_name": "DescriptionStyleModel",
          "model_module_version": "1.5.0",
          "state": {
            "_model_module": "@jupyter-widgets/controls",
            "_model_module_version": "1.5.0",
            "_model_name": "DescriptionStyleModel",
            "_view_count": null,
            "_view_module": "@jupyter-widgets/base",
            "_view_module_version": "1.2.0",
            "_view_name": "StyleView",
            "description_width": ""
          }
        },
        "85a30894409c4ddb9b888aa02e26d60c": {
          "model_module": "@jupyter-widgets/base",
          "model_name": "LayoutModel",
          "model_module_version": "1.2.0",
          "state": {
            "_model_module": "@jupyter-widgets/base",
            "_model_module_version": "1.2.0",
            "_model_name": "LayoutModel",
            "_view_count": null,
            "_view_module": "@jupyter-widgets/base",
            "_view_module_version": "1.2.0",
            "_view_name": "LayoutView",
            "align_content": null,
            "align_items": null,
            "align_self": null,
            "border": null,
            "bottom": null,
            "display": null,
            "flex": null,
            "flex_flow": null,
            "grid_area": null,
            "grid_auto_columns": null,
            "grid_auto_flow": null,
            "grid_auto_rows": null,
            "grid_column": null,
            "grid_gap": null,
            "grid_row": null,
            "grid_template_areas": null,
            "grid_template_columns": null,
            "grid_template_rows": null,
            "height": null,
            "justify_content": null,
            "justify_items": null,
            "left": null,
            "margin": null,
            "max_height": null,
            "max_width": null,
            "min_height": null,
            "min_width": null,
            "object_fit": null,
            "object_position": null,
            "order": null,
            "overflow": null,
            "overflow_x": null,
            "overflow_y": null,
            "padding": null,
            "right": null,
            "top": null,
            "visibility": null,
            "width": null
          }
        },
        "393be76d6a4a42d08222db256fce8abe": {
          "model_module": "@jupyter-widgets/controls",
          "model_name": "ProgressStyleModel",
          "model_module_version": "1.5.0",
          "state": {
            "_model_module": "@jupyter-widgets/controls",
            "_model_module_version": "1.5.0",
            "_model_name": "ProgressStyleModel",
            "_view_count": null,
            "_view_module": "@jupyter-widgets/base",
            "_view_module_version": "1.2.0",
            "_view_name": "StyleView",
            "bar_color": null,
            "description_width": ""
          }
        },
        "fe277384db9943d8bb64d76457666e98": {
          "model_module": "@jupyter-widgets/base",
          "model_name": "LayoutModel",
          "model_module_version": "1.2.0",
          "state": {
            "_model_module": "@jupyter-widgets/base",
            "_model_module_version": "1.2.0",
            "_model_name": "LayoutModel",
            "_view_count": null,
            "_view_module": "@jupyter-widgets/base",
            "_view_module_version": "1.2.0",
            "_view_name": "LayoutView",
            "align_content": null,
            "align_items": null,
            "align_self": null,
            "border": null,
            "bottom": null,
            "display": null,
            "flex": null,
            "flex_flow": null,
            "grid_area": null,
            "grid_auto_columns": null,
            "grid_auto_flow": null,
            "grid_auto_rows": null,
            "grid_column": null,
            "grid_gap": null,
            "grid_row": null,
            "grid_template_areas": null,
            "grid_template_columns": null,
            "grid_template_rows": null,
            "height": null,
            "justify_content": null,
            "justify_items": null,
            "left": null,
            "margin": null,
            "max_height": null,
            "max_width": null,
            "min_height": null,
            "min_width": null,
            "object_fit": null,
            "object_position": null,
            "order": null,
            "overflow": null,
            "overflow_x": null,
            "overflow_y": null,
            "padding": null,
            "right": null,
            "top": null,
            "visibility": null,
            "width": null
          }
        },
        "e5dfd549017943a887aa1504880ac06e": {
          "model_module": "@jupyter-widgets/controls",
          "model_name": "DescriptionStyleModel",
          "model_module_version": "1.5.0",
          "state": {
            "_model_module": "@jupyter-widgets/controls",
            "_model_module_version": "1.5.0",
            "_model_name": "DescriptionStyleModel",
            "_view_count": null,
            "_view_module": "@jupyter-widgets/base",
            "_view_module_version": "1.2.0",
            "_view_name": "StyleView",
            "description_width": ""
          }
        },
        "1e4036bb53ff45389e0e1c4a239adccd": {
          "model_module": "@jupyter-widgets/controls",
          "model_name": "HBoxModel",
          "model_module_version": "1.5.0",
          "state": {
            "_dom_classes": [],
            "_model_module": "@jupyter-widgets/controls",
            "_model_module_version": "1.5.0",
            "_model_name": "HBoxModel",
            "_view_count": null,
            "_view_module": "@jupyter-widgets/controls",
            "_view_module_version": "1.5.0",
            "_view_name": "HBoxView",
            "box_style": "",
            "children": [
              "IPY_MODEL_aa35f23959c5455cb8a1a35d70ee24ad",
              "IPY_MODEL_df1cff4370cd4eaaa00036035d516967",
              "IPY_MODEL_98533d7a88684012919ed2740cd8e552"
            ],
            "layout": "IPY_MODEL_8c65fab9bd38434e97bc134fcc107f81"
          }
        },
        "aa35f23959c5455cb8a1a35d70ee24ad": {
          "model_module": "@jupyter-widgets/controls",
          "model_name": "HTMLModel",
          "model_module_version": "1.5.0",
          "state": {
            "_dom_classes": [],
            "_model_module": "@jupyter-widgets/controls",
            "_model_module_version": "1.5.0",
            "_model_name": "HTMLModel",
            "_view_count": null,
            "_view_module": "@jupyter-widgets/controls",
            "_view_module_version": "1.5.0",
            "_view_name": "HTMLView",
            "description": "",
            "description_tooltip": null,
            "layout": "IPY_MODEL_06f647b23d6c4968ba8fc4c767c0c80d",
            "placeholder": "​",
            "style": "IPY_MODEL_16fc65b2e93949bab1ae1006c231319f",
            "value": "Generating train split: 100%"
          }
        },
        "df1cff4370cd4eaaa00036035d516967": {
          "model_module": "@jupyter-widgets/controls",
          "model_name": "FloatProgressModel",
          "model_module_version": "1.5.0",
          "state": {
            "_dom_classes": [],
            "_model_module": "@jupyter-widgets/controls",
            "_model_module_version": "1.5.0",
            "_model_name": "FloatProgressModel",
            "_view_count": null,
            "_view_module": "@jupyter-widgets/controls",
            "_view_module_version": "1.5.0",
            "_view_name": "ProgressView",
            "bar_style": "success",
            "description": "",
            "description_tooltip": null,
            "layout": "IPY_MODEL_838428a2d9504598aafbe1c140c4b30d",
            "max": 14041,
            "min": 0,
            "orientation": "horizontal",
            "style": "IPY_MODEL_8f763ffe105f49209c3558c7ba14566f",
            "value": 14041
          }
        },
        "98533d7a88684012919ed2740cd8e552": {
          "model_module": "@jupyter-widgets/controls",
          "model_name": "HTMLModel",
          "model_module_version": "1.5.0",
          "state": {
            "_dom_classes": [],
            "_model_module": "@jupyter-widgets/controls",
            "_model_module_version": "1.5.0",
            "_model_name": "HTMLModel",
            "_view_count": null,
            "_view_module": "@jupyter-widgets/controls",
            "_view_module_version": "1.5.0",
            "_view_name": "HTMLView",
            "description": "",
            "description_tooltip": null,
            "layout": "IPY_MODEL_9eaa0ee447624f18840c79c6faa0d77f",
            "placeholder": "​",
            "style": "IPY_MODEL_4aa2721bdbb140edbb75d1d18c07aebc",
            "value": " 14041/14041 [00:05&lt;00:00, 1133.64 examples/s]"
          }
        },
        "8c65fab9bd38434e97bc134fcc107f81": {
          "model_module": "@jupyter-widgets/base",
          "model_name": "LayoutModel",
          "model_module_version": "1.2.0",
          "state": {
            "_model_module": "@jupyter-widgets/base",
            "_model_module_version": "1.2.0",
            "_model_name": "LayoutModel",
            "_view_count": null,
            "_view_module": "@jupyter-widgets/base",
            "_view_module_version": "1.2.0",
            "_view_name": "LayoutView",
            "align_content": null,
            "align_items": null,
            "align_self": null,
            "border": null,
            "bottom": null,
            "display": null,
            "flex": null,
            "flex_flow": null,
            "grid_area": null,
            "grid_auto_columns": null,
            "grid_auto_flow": null,
            "grid_auto_rows": null,
            "grid_column": null,
            "grid_gap": null,
            "grid_row": null,
            "grid_template_areas": null,
            "grid_template_columns": null,
            "grid_template_rows": null,
            "height": null,
            "justify_content": null,
            "justify_items": null,
            "left": null,
            "margin": null,
            "max_height": null,
            "max_width": null,
            "min_height": null,
            "min_width": null,
            "object_fit": null,
            "object_position": null,
            "order": null,
            "overflow": null,
            "overflow_x": null,
            "overflow_y": null,
            "padding": null,
            "right": null,
            "top": null,
            "visibility": null,
            "width": null
          }
        },
        "06f647b23d6c4968ba8fc4c767c0c80d": {
          "model_module": "@jupyter-widgets/base",
          "model_name": "LayoutModel",
          "model_module_version": "1.2.0",
          "state": {
            "_model_module": "@jupyter-widgets/base",
            "_model_module_version": "1.2.0",
            "_model_name": "LayoutModel",
            "_view_count": null,
            "_view_module": "@jupyter-widgets/base",
            "_view_module_version": "1.2.0",
            "_view_name": "LayoutView",
            "align_content": null,
            "align_items": null,
            "align_self": null,
            "border": null,
            "bottom": null,
            "display": null,
            "flex": null,
            "flex_flow": null,
            "grid_area": null,
            "grid_auto_columns": null,
            "grid_auto_flow": null,
            "grid_auto_rows": null,
            "grid_column": null,
            "grid_gap": null,
            "grid_row": null,
            "grid_template_areas": null,
            "grid_template_columns": null,
            "grid_template_rows": null,
            "height": null,
            "justify_content": null,
            "justify_items": null,
            "left": null,
            "margin": null,
            "max_height": null,
            "max_width": null,
            "min_height": null,
            "min_width": null,
            "object_fit": null,
            "object_position": null,
            "order": null,
            "overflow": null,
            "overflow_x": null,
            "overflow_y": null,
            "padding": null,
            "right": null,
            "top": null,
            "visibility": null,
            "width": null
          }
        },
        "16fc65b2e93949bab1ae1006c231319f": {
          "model_module": "@jupyter-widgets/controls",
          "model_name": "DescriptionStyleModel",
          "model_module_version": "1.5.0",
          "state": {
            "_model_module": "@jupyter-widgets/controls",
            "_model_module_version": "1.5.0",
            "_model_name": "DescriptionStyleModel",
            "_view_count": null,
            "_view_module": "@jupyter-widgets/base",
            "_view_module_version": "1.2.0",
            "_view_name": "StyleView",
            "description_width": ""
          }
        },
        "838428a2d9504598aafbe1c140c4b30d": {
          "model_module": "@jupyter-widgets/base",
          "model_name": "LayoutModel",
          "model_module_version": "1.2.0",
          "state": {
            "_model_module": "@jupyter-widgets/base",
            "_model_module_version": "1.2.0",
            "_model_name": "LayoutModel",
            "_view_count": null,
            "_view_module": "@jupyter-widgets/base",
            "_view_module_version": "1.2.0",
            "_view_name": "LayoutView",
            "align_content": null,
            "align_items": null,
            "align_self": null,
            "border": null,
            "bottom": null,
            "display": null,
            "flex": null,
            "flex_flow": null,
            "grid_area": null,
            "grid_auto_columns": null,
            "grid_auto_flow": null,
            "grid_auto_rows": null,
            "grid_column": null,
            "grid_gap": null,
            "grid_row": null,
            "grid_template_areas": null,
            "grid_template_columns": null,
            "grid_template_rows": null,
            "height": null,
            "justify_content": null,
            "justify_items": null,
            "left": null,
            "margin": null,
            "max_height": null,
            "max_width": null,
            "min_height": null,
            "min_width": null,
            "object_fit": null,
            "object_position": null,
            "order": null,
            "overflow": null,
            "overflow_x": null,
            "overflow_y": null,
            "padding": null,
            "right": null,
            "top": null,
            "visibility": null,
            "width": null
          }
        },
        "8f763ffe105f49209c3558c7ba14566f": {
          "model_module": "@jupyter-widgets/controls",
          "model_name": "ProgressStyleModel",
          "model_module_version": "1.5.0",
          "state": {
            "_model_module": "@jupyter-widgets/controls",
            "_model_module_version": "1.5.0",
            "_model_name": "ProgressStyleModel",
            "_view_count": null,
            "_view_module": "@jupyter-widgets/base",
            "_view_module_version": "1.2.0",
            "_view_name": "StyleView",
            "bar_color": null,
            "description_width": ""
          }
        },
        "9eaa0ee447624f18840c79c6faa0d77f": {
          "model_module": "@jupyter-widgets/base",
          "model_name": "LayoutModel",
          "model_module_version": "1.2.0",
          "state": {
            "_model_module": "@jupyter-widgets/base",
            "_model_module_version": "1.2.0",
            "_model_name": "LayoutModel",
            "_view_count": null,
            "_view_module": "@jupyter-widgets/base",
            "_view_module_version": "1.2.0",
            "_view_name": "LayoutView",
            "align_content": null,
            "align_items": null,
            "align_self": null,
            "border": null,
            "bottom": null,
            "display": null,
            "flex": null,
            "flex_flow": null,
            "grid_area": null,
            "grid_auto_columns": null,
            "grid_auto_flow": null,
            "grid_auto_rows": null,
            "grid_column": null,
            "grid_gap": null,
            "grid_row": null,
            "grid_template_areas": null,
            "grid_template_columns": null,
            "grid_template_rows": null,
            "height": null,
            "justify_content": null,
            "justify_items": null,
            "left": null,
            "margin": null,
            "max_height": null,
            "max_width": null,
            "min_height": null,
            "min_width": null,
            "object_fit": null,
            "object_position": null,
            "order": null,
            "overflow": null,
            "overflow_x": null,
            "overflow_y": null,
            "padding": null,
            "right": null,
            "top": null,
            "visibility": null,
            "width": null
          }
        },
        "4aa2721bdbb140edbb75d1d18c07aebc": {
          "model_module": "@jupyter-widgets/controls",
          "model_name": "DescriptionStyleModel",
          "model_module_version": "1.5.0",
          "state": {
            "_model_module": "@jupyter-widgets/controls",
            "_model_module_version": "1.5.0",
            "_model_name": "DescriptionStyleModel",
            "_view_count": null,
            "_view_module": "@jupyter-widgets/base",
            "_view_module_version": "1.2.0",
            "_view_name": "StyleView",
            "description_width": ""
          }
        },
        "1f48961fbe1e4d17b694a0d370634b67": {
          "model_module": "@jupyter-widgets/controls",
          "model_name": "HBoxModel",
          "model_module_version": "1.5.0",
          "state": {
            "_dom_classes": [],
            "_model_module": "@jupyter-widgets/controls",
            "_model_module_version": "1.5.0",
            "_model_name": "HBoxModel",
            "_view_count": null,
            "_view_module": "@jupyter-widgets/controls",
            "_view_module_version": "1.5.0",
            "_view_name": "HBoxView",
            "box_style": "",
            "children": [
              "IPY_MODEL_c011b5b482ea45f6a58e1e32ceeb461a",
              "IPY_MODEL_44e54b860517407fa52c845813f430ef",
              "IPY_MODEL_7bc6a9ebe75445e48616b141e6683aa3"
            ],
            "layout": "IPY_MODEL_423b30f26cb040e0b236640b50dcabf4"
          }
        },
        "c011b5b482ea45f6a58e1e32ceeb461a": {
          "model_module": "@jupyter-widgets/controls",
          "model_name": "HTMLModel",
          "model_module_version": "1.5.0",
          "state": {
            "_dom_classes": [],
            "_model_module": "@jupyter-widgets/controls",
            "_model_module_version": "1.5.0",
            "_model_name": "HTMLModel",
            "_view_count": null,
            "_view_module": "@jupyter-widgets/controls",
            "_view_module_version": "1.5.0",
            "_view_name": "HTMLView",
            "description": "",
            "description_tooltip": null,
            "layout": "IPY_MODEL_47fd46cc9f8745b4b262ef357f2e6e30",
            "placeholder": "​",
            "style": "IPY_MODEL_7c2dada1a5404563a5aeccc41df02715",
            "value": "Generating validation split: 100%"
          }
        },
        "44e54b860517407fa52c845813f430ef": {
          "model_module": "@jupyter-widgets/controls",
          "model_name": "FloatProgressModel",
          "model_module_version": "1.5.0",
          "state": {
            "_dom_classes": [],
            "_model_module": "@jupyter-widgets/controls",
            "_model_module_version": "1.5.0",
            "_model_name": "FloatProgressModel",
            "_view_count": null,
            "_view_module": "@jupyter-widgets/controls",
            "_view_module_version": "1.5.0",
            "_view_name": "ProgressView",
            "bar_style": "success",
            "description": "",
            "description_tooltip": null,
            "layout": "IPY_MODEL_a77482cca8e84ac7afb824de8ffea6a4",
            "max": 3250,
            "min": 0,
            "orientation": "horizontal",
            "style": "IPY_MODEL_766a05f0e6be446ca6b56305410df543",
            "value": 3250
          }
        },
        "7bc6a9ebe75445e48616b141e6683aa3": {
          "model_module": "@jupyter-widgets/controls",
          "model_name": "HTMLModel",
          "model_module_version": "1.5.0",
          "state": {
            "_dom_classes": [],
            "_model_module": "@jupyter-widgets/controls",
            "_model_module_version": "1.5.0",
            "_model_name": "HTMLModel",
            "_view_count": null,
            "_view_module": "@jupyter-widgets/controls",
            "_view_module_version": "1.5.0",
            "_view_name": "HTMLView",
            "description": "",
            "description_tooltip": null,
            "layout": "IPY_MODEL_f73b269118c34c3096b4d407c0723afe",
            "placeholder": "​",
            "style": "IPY_MODEL_7fbfe1f4e97a43a3b18768b94d0033f2",
            "value": " 3250/3250 [00:01&lt;00:00, 2008.94 examples/s]"
          }
        },
        "423b30f26cb040e0b236640b50dcabf4": {
          "model_module": "@jupyter-widgets/base",
          "model_name": "LayoutModel",
          "model_module_version": "1.2.0",
          "state": {
            "_model_module": "@jupyter-widgets/base",
            "_model_module_version": "1.2.0",
            "_model_name": "LayoutModel",
            "_view_count": null,
            "_view_module": "@jupyter-widgets/base",
            "_view_module_version": "1.2.0",
            "_view_name": "LayoutView",
            "align_content": null,
            "align_items": null,
            "align_self": null,
            "border": null,
            "bottom": null,
            "display": null,
            "flex": null,
            "flex_flow": null,
            "grid_area": null,
            "grid_auto_columns": null,
            "grid_auto_flow": null,
            "grid_auto_rows": null,
            "grid_column": null,
            "grid_gap": null,
            "grid_row": null,
            "grid_template_areas": null,
            "grid_template_columns": null,
            "grid_template_rows": null,
            "height": null,
            "justify_content": null,
            "justify_items": null,
            "left": null,
            "margin": null,
            "max_height": null,
            "max_width": null,
            "min_height": null,
            "min_width": null,
            "object_fit": null,
            "object_position": null,
            "order": null,
            "overflow": null,
            "overflow_x": null,
            "overflow_y": null,
            "padding": null,
            "right": null,
            "top": null,
            "visibility": null,
            "width": null
          }
        },
        "47fd46cc9f8745b4b262ef357f2e6e30": {
          "model_module": "@jupyter-widgets/base",
          "model_name": "LayoutModel",
          "model_module_version": "1.2.0",
          "state": {
            "_model_module": "@jupyter-widgets/base",
            "_model_module_version": "1.2.0",
            "_model_name": "LayoutModel",
            "_view_count": null,
            "_view_module": "@jupyter-widgets/base",
            "_view_module_version": "1.2.0",
            "_view_name": "LayoutView",
            "align_content": null,
            "align_items": null,
            "align_self": null,
            "border": null,
            "bottom": null,
            "display": null,
            "flex": null,
            "flex_flow": null,
            "grid_area": null,
            "grid_auto_columns": null,
            "grid_auto_flow": null,
            "grid_auto_rows": null,
            "grid_column": null,
            "grid_gap": null,
            "grid_row": null,
            "grid_template_areas": null,
            "grid_template_columns": null,
            "grid_template_rows": null,
            "height": null,
            "justify_content": null,
            "justify_items": null,
            "left": null,
            "margin": null,
            "max_height": null,
            "max_width": null,
            "min_height": null,
            "min_width": null,
            "object_fit": null,
            "object_position": null,
            "order": null,
            "overflow": null,
            "overflow_x": null,
            "overflow_y": null,
            "padding": null,
            "right": null,
            "top": null,
            "visibility": null,
            "width": null
          }
        },
        "7c2dada1a5404563a5aeccc41df02715": {
          "model_module": "@jupyter-widgets/controls",
          "model_name": "DescriptionStyleModel",
          "model_module_version": "1.5.0",
          "state": {
            "_model_module": "@jupyter-widgets/controls",
            "_model_module_version": "1.5.0",
            "_model_name": "DescriptionStyleModel",
            "_view_count": null,
            "_view_module": "@jupyter-widgets/base",
            "_view_module_version": "1.2.0",
            "_view_name": "StyleView",
            "description_width": ""
          }
        },
        "a77482cca8e84ac7afb824de8ffea6a4": {
          "model_module": "@jupyter-widgets/base",
          "model_name": "LayoutModel",
          "model_module_version": "1.2.0",
          "state": {
            "_model_module": "@jupyter-widgets/base",
            "_model_module_version": "1.2.0",
            "_model_name": "LayoutModel",
            "_view_count": null,
            "_view_module": "@jupyter-widgets/base",
            "_view_module_version": "1.2.0",
            "_view_name": "LayoutView",
            "align_content": null,
            "align_items": null,
            "align_self": null,
            "border": null,
            "bottom": null,
            "display": null,
            "flex": null,
            "flex_flow": null,
            "grid_area": null,
            "grid_auto_columns": null,
            "grid_auto_flow": null,
            "grid_auto_rows": null,
            "grid_column": null,
            "grid_gap": null,
            "grid_row": null,
            "grid_template_areas": null,
            "grid_template_columns": null,
            "grid_template_rows": null,
            "height": null,
            "justify_content": null,
            "justify_items": null,
            "left": null,
            "margin": null,
            "max_height": null,
            "max_width": null,
            "min_height": null,
            "min_width": null,
            "object_fit": null,
            "object_position": null,
            "order": null,
            "overflow": null,
            "overflow_x": null,
            "overflow_y": null,
            "padding": null,
            "right": null,
            "top": null,
            "visibility": null,
            "width": null
          }
        },
        "766a05f0e6be446ca6b56305410df543": {
          "model_module": "@jupyter-widgets/controls",
          "model_name": "ProgressStyleModel",
          "model_module_version": "1.5.0",
          "state": {
            "_model_module": "@jupyter-widgets/controls",
            "_model_module_version": "1.5.0",
            "_model_name": "ProgressStyleModel",
            "_view_count": null,
            "_view_module": "@jupyter-widgets/base",
            "_view_module_version": "1.2.0",
            "_view_name": "StyleView",
            "bar_color": null,
            "description_width": ""
          }
        },
        "f73b269118c34c3096b4d407c0723afe": {
          "model_module": "@jupyter-widgets/base",
          "model_name": "LayoutModel",
          "model_module_version": "1.2.0",
          "state": {
            "_model_module": "@jupyter-widgets/base",
            "_model_module_version": "1.2.0",
            "_model_name": "LayoutModel",
            "_view_count": null,
            "_view_module": "@jupyter-widgets/base",
            "_view_module_version": "1.2.0",
            "_view_name": "LayoutView",
            "align_content": null,
            "align_items": null,
            "align_self": null,
            "border": null,
            "bottom": null,
            "display": null,
            "flex": null,
            "flex_flow": null,
            "grid_area": null,
            "grid_auto_columns": null,
            "grid_auto_flow": null,
            "grid_auto_rows": null,
            "grid_column": null,
            "grid_gap": null,
            "grid_row": null,
            "grid_template_areas": null,
            "grid_template_columns": null,
            "grid_template_rows": null,
            "height": null,
            "justify_content": null,
            "justify_items": null,
            "left": null,
            "margin": null,
            "max_height": null,
            "max_width": null,
            "min_height": null,
            "min_width": null,
            "object_fit": null,
            "object_position": null,
            "order": null,
            "overflow": null,
            "overflow_x": null,
            "overflow_y": null,
            "padding": null,
            "right": null,
            "top": null,
            "visibility": null,
            "width": null
          }
        },
        "7fbfe1f4e97a43a3b18768b94d0033f2": {
          "model_module": "@jupyter-widgets/controls",
          "model_name": "DescriptionStyleModel",
          "model_module_version": "1.5.0",
          "state": {
            "_model_module": "@jupyter-widgets/controls",
            "_model_module_version": "1.5.0",
            "_model_name": "DescriptionStyleModel",
            "_view_count": null,
            "_view_module": "@jupyter-widgets/base",
            "_view_module_version": "1.2.0",
            "_view_name": "StyleView",
            "description_width": ""
          }
        },
        "4de5d1c176504427be99555029890f1c": {
          "model_module": "@jupyter-widgets/controls",
          "model_name": "HBoxModel",
          "model_module_version": "1.5.0",
          "state": {
            "_dom_classes": [],
            "_model_module": "@jupyter-widgets/controls",
            "_model_module_version": "1.5.0",
            "_model_name": "HBoxModel",
            "_view_count": null,
            "_view_module": "@jupyter-widgets/controls",
            "_view_module_version": "1.5.0",
            "_view_name": "HBoxView",
            "box_style": "",
            "children": [
              "IPY_MODEL_a6c8959afb834955a84de075651b4423",
              "IPY_MODEL_7fa8e27c2cd94db6afc4967700bcea19",
              "IPY_MODEL_e78ac4fba37b48c1a8bb9e360a3644c6"
            ],
            "layout": "IPY_MODEL_1ddf1fd1327d44d4a7978bb6a030d3fa"
          }
        },
        "a6c8959afb834955a84de075651b4423": {
          "model_module": "@jupyter-widgets/controls",
          "model_name": "HTMLModel",
          "model_module_version": "1.5.0",
          "state": {
            "_dom_classes": [],
            "_model_module": "@jupyter-widgets/controls",
            "_model_module_version": "1.5.0",
            "_model_name": "HTMLModel",
            "_view_count": null,
            "_view_module": "@jupyter-widgets/controls",
            "_view_module_version": "1.5.0",
            "_view_name": "HTMLView",
            "description": "",
            "description_tooltip": null,
            "layout": "IPY_MODEL_b4aeee8dc6454273acdcfdf83cd9478c",
            "placeholder": "​",
            "style": "IPY_MODEL_583c6f32f4ca4b8cb6f6a5254da01d64",
            "value": "Generating test split: 100%"
          }
        },
        "7fa8e27c2cd94db6afc4967700bcea19": {
          "model_module": "@jupyter-widgets/controls",
          "model_name": "FloatProgressModel",
          "model_module_version": "1.5.0",
          "state": {
            "_dom_classes": [],
            "_model_module": "@jupyter-widgets/controls",
            "_model_module_version": "1.5.0",
            "_model_name": "FloatProgressModel",
            "_view_count": null,
            "_view_module": "@jupyter-widgets/controls",
            "_view_module_version": "1.5.0",
            "_view_name": "ProgressView",
            "bar_style": "success",
            "description": "",
            "description_tooltip": null,
            "layout": "IPY_MODEL_da1ff23593c54061a5ce6d8ae563e3fe",
            "max": 3453,
            "min": 0,
            "orientation": "horizontal",
            "style": "IPY_MODEL_8284ce81bd6c4e81a1683d15833e044e",
            "value": 3453
          }
        },
        "e78ac4fba37b48c1a8bb9e360a3644c6": {
          "model_module": "@jupyter-widgets/controls",
          "model_name": "HTMLModel",
          "model_module_version": "1.5.0",
          "state": {
            "_dom_classes": [],
            "_model_module": "@jupyter-widgets/controls",
            "_model_module_version": "1.5.0",
            "_model_name": "HTMLModel",
            "_view_count": null,
            "_view_module": "@jupyter-widgets/controls",
            "_view_module_version": "1.5.0",
            "_view_name": "HTMLView",
            "description": "",
            "description_tooltip": null,
            "layout": "IPY_MODEL_c0b9f6b6d39844529c9ab4fef0f6292d",
            "placeholder": "​",
            "style": "IPY_MODEL_5ce932dc9be443ec9e2715c83a028984",
            "value": " 3453/3453 [00:01&lt;00:00, 4236.00 examples/s]"
          }
        },
        "1ddf1fd1327d44d4a7978bb6a030d3fa": {
          "model_module": "@jupyter-widgets/base",
          "model_name": "LayoutModel",
          "model_module_version": "1.2.0",
          "state": {
            "_model_module": "@jupyter-widgets/base",
            "_model_module_version": "1.2.0",
            "_model_name": "LayoutModel",
            "_view_count": null,
            "_view_module": "@jupyter-widgets/base",
            "_view_module_version": "1.2.0",
            "_view_name": "LayoutView",
            "align_content": null,
            "align_items": null,
            "align_self": null,
            "border": null,
            "bottom": null,
            "display": null,
            "flex": null,
            "flex_flow": null,
            "grid_area": null,
            "grid_auto_columns": null,
            "grid_auto_flow": null,
            "grid_auto_rows": null,
            "grid_column": null,
            "grid_gap": null,
            "grid_row": null,
            "grid_template_areas": null,
            "grid_template_columns": null,
            "grid_template_rows": null,
            "height": null,
            "justify_content": null,
            "justify_items": null,
            "left": null,
            "margin": null,
            "max_height": null,
            "max_width": null,
            "min_height": null,
            "min_width": null,
            "object_fit": null,
            "object_position": null,
            "order": null,
            "overflow": null,
            "overflow_x": null,
            "overflow_y": null,
            "padding": null,
            "right": null,
            "top": null,
            "visibility": null,
            "width": null
          }
        },
        "b4aeee8dc6454273acdcfdf83cd9478c": {
          "model_module": "@jupyter-widgets/base",
          "model_name": "LayoutModel",
          "model_module_version": "1.2.0",
          "state": {
            "_model_module": "@jupyter-widgets/base",
            "_model_module_version": "1.2.0",
            "_model_name": "LayoutModel",
            "_view_count": null,
            "_view_module": "@jupyter-widgets/base",
            "_view_module_version": "1.2.0",
            "_view_name": "LayoutView",
            "align_content": null,
            "align_items": null,
            "align_self": null,
            "border": null,
            "bottom": null,
            "display": null,
            "flex": null,
            "flex_flow": null,
            "grid_area": null,
            "grid_auto_columns": null,
            "grid_auto_flow": null,
            "grid_auto_rows": null,
            "grid_column": null,
            "grid_gap": null,
            "grid_row": null,
            "grid_template_areas": null,
            "grid_template_columns": null,
            "grid_template_rows": null,
            "height": null,
            "justify_content": null,
            "justify_items": null,
            "left": null,
            "margin": null,
            "max_height": null,
            "max_width": null,
            "min_height": null,
            "min_width": null,
            "object_fit": null,
            "object_position": null,
            "order": null,
            "overflow": null,
            "overflow_x": null,
            "overflow_y": null,
            "padding": null,
            "right": null,
            "top": null,
            "visibility": null,
            "width": null
          }
        },
        "583c6f32f4ca4b8cb6f6a5254da01d64": {
          "model_module": "@jupyter-widgets/controls",
          "model_name": "DescriptionStyleModel",
          "model_module_version": "1.5.0",
          "state": {
            "_model_module": "@jupyter-widgets/controls",
            "_model_module_version": "1.5.0",
            "_model_name": "DescriptionStyleModel",
            "_view_count": null,
            "_view_module": "@jupyter-widgets/base",
            "_view_module_version": "1.2.0",
            "_view_name": "StyleView",
            "description_width": ""
          }
        },
        "da1ff23593c54061a5ce6d8ae563e3fe": {
          "model_module": "@jupyter-widgets/base",
          "model_name": "LayoutModel",
          "model_module_version": "1.2.0",
          "state": {
            "_model_module": "@jupyter-widgets/base",
            "_model_module_version": "1.2.0",
            "_model_name": "LayoutModel",
            "_view_count": null,
            "_view_module": "@jupyter-widgets/base",
            "_view_module_version": "1.2.0",
            "_view_name": "LayoutView",
            "align_content": null,
            "align_items": null,
            "align_self": null,
            "border": null,
            "bottom": null,
            "display": null,
            "flex": null,
            "flex_flow": null,
            "grid_area": null,
            "grid_auto_columns": null,
            "grid_auto_flow": null,
            "grid_auto_rows": null,
            "grid_column": null,
            "grid_gap": null,
            "grid_row": null,
            "grid_template_areas": null,
            "grid_template_columns": null,
            "grid_template_rows": null,
            "height": null,
            "justify_content": null,
            "justify_items": null,
            "left": null,
            "margin": null,
            "max_height": null,
            "max_width": null,
            "min_height": null,
            "min_width": null,
            "object_fit": null,
            "object_position": null,
            "order": null,
            "overflow": null,
            "overflow_x": null,
            "overflow_y": null,
            "padding": null,
            "right": null,
            "top": null,
            "visibility": null,
            "width": null
          }
        },
        "8284ce81bd6c4e81a1683d15833e044e": {
          "model_module": "@jupyter-widgets/controls",
          "model_name": "ProgressStyleModel",
          "model_module_version": "1.5.0",
          "state": {
            "_model_module": "@jupyter-widgets/controls",
            "_model_module_version": "1.5.0",
            "_model_name": "ProgressStyleModel",
            "_view_count": null,
            "_view_module": "@jupyter-widgets/base",
            "_view_module_version": "1.2.0",
            "_view_name": "StyleView",
            "bar_color": null,
            "description_width": ""
          }
        },
        "c0b9f6b6d39844529c9ab4fef0f6292d": {
          "model_module": "@jupyter-widgets/base",
          "model_name": "LayoutModel",
          "model_module_version": "1.2.0",
          "state": {
            "_model_module": "@jupyter-widgets/base",
            "_model_module_version": "1.2.0",
            "_model_name": "LayoutModel",
            "_view_count": null,
            "_view_module": "@jupyter-widgets/base",
            "_view_module_version": "1.2.0",
            "_view_name": "LayoutView",
            "align_content": null,
            "align_items": null,
            "align_self": null,
            "border": null,
            "bottom": null,
            "display": null,
            "flex": null,
            "flex_flow": null,
            "grid_area": null,
            "grid_auto_columns": null,
            "grid_auto_flow": null,
            "grid_auto_rows": null,
            "grid_column": null,
            "grid_gap": null,
            "grid_row": null,
            "grid_template_areas": null,
            "grid_template_columns": null,
            "grid_template_rows": null,
            "height": null,
            "justify_content": null,
            "justify_items": null,
            "left": null,
            "margin": null,
            "max_height": null,
            "max_width": null,
            "min_height": null,
            "min_width": null,
            "object_fit": null,
            "object_position": null,
            "order": null,
            "overflow": null,
            "overflow_x": null,
            "overflow_y": null,
            "padding": null,
            "right": null,
            "top": null,
            "visibility": null,
            "width": null
          }
        },
        "5ce932dc9be443ec9e2715c83a028984": {
          "model_module": "@jupyter-widgets/controls",
          "model_name": "DescriptionStyleModel",
          "model_module_version": "1.5.0",
          "state": {
            "_model_module": "@jupyter-widgets/controls",
            "_model_module_version": "1.5.0",
            "_model_name": "DescriptionStyleModel",
            "_view_count": null,
            "_view_module": "@jupyter-widgets/base",
            "_view_module_version": "1.2.0",
            "_view_name": "StyleView",
            "description_width": ""
          }
        }
      }
    }
  },
  "cells": [
    {
      "cell_type": "markdown",
      "metadata": {
        "id": "view-in-github",
        "colab_type": "text"
      },
      "source": [
        "<a href=\"https://colab.research.google.com/github/KayvanShah1/usc-csci-544-assignments-hw/blob/main/hw4/CSCI544_HW4_final.ipynb\" target=\"_parent\"><img src=\"https://colab.research.google.com/assets/colab-badge.svg\" alt=\"Open In Colab\"/></a>"
      ]
    },
    {
      "cell_type": "markdown",
      "source": [
        "# Report\n",
        "\n",
        "## General Params\n",
        "```\n",
        "TRAIN_BATCH_SIZE = 256\n",
        "VALID_BATCH_SIZE = 64\n",
        "TEST_BATCH_SIZE = 32\n",
        "```\n",
        "\n",
        "## Task 1: Bidirectional LSTM model\n",
        "\n",
        "- **Model Architecture:**\n",
        "  - BiLSTM model is instantiated with the following hyperparameters:\n",
        "    - `vocab_size`: Size of the vocabulary (determined by the size of the word index ~8.2K).\n",
        "    - `embedding_dim`: Dimension of the input features (set to 100).\n",
        "    - `hidden_size`: Number of units in the hidden layers (set to 256).\n",
        "    - `output_size`: Size of the output from the LSTM layer (set to 128).\n",
        "    - `num_layers`: Number of recurrent layers (set to 1).\n",
        "    - `dropout_val`: Dropout probability (set to 0.33).\n",
        "    - `num_tags`: Number of output classes (NER tags is 9).\n",
        "\n",
        "- **Loss Function and Optimizer:**\n",
        "  - CrossEntropyLoss is used as the loss function, with special tokens ignored during computation.\n",
        "  - AdamW optimizer is employed with a learning rate of 0.001.\n",
        "\n",
        "1. What are the precision, recall, and F1 score on the validation data?\n",
        "```\n",
        "processed 51362 tokens with 5942 phrases; found: 5609 phrases; correct: 4468.\n",
        "accuracy:  77.97%; (non-O)\n",
        "accuracy:  95.55%; precision:  79.66%; recall:  75.19%; FB1:  77.36\n",
        "              LOC: precision:  87.41%; recall:  83.94%; FB1:  85.64  1764\n",
        "             MISC: precision:  74.81%; recall:  74.73%; FB1:  74.77  921\n",
        "              ORG: precision:  73.18%; recall:  67.34%; FB1:  70.14  1234\n",
        "              PER: precision:  78.93%; recall:  72.42%; FB1:  75.54  1690\n",
        "Precision: 79.66, Recall: 75.19, F1 Score: 77.36\n",
        "```\n",
        "2. What are the precision, recall, and F1 score on the test data?\n",
        "```\n",
        "processed 46435 tokens with 5648 phrases; found: 5274 phrases; correct: 3732.\n",
        "accuracy:  70.46%; (non-O)\n",
        "accuracy:  93.39%; precision:  70.76%; recall:  66.08%; FB1:  68.34\n",
        "              LOC: precision:  81.46%; recall:  76.68%; FB1:  79.00  1570\n",
        "             MISC: precision:  61.89%; recall:  63.39%; FB1:  62.63  719\n",
        "              ORG: precision:  65.31%; recall:  59.96%; FB1:  62.52  1525\n",
        "              PER: precision:  69.32%; recall:  62.59%; FB1:  65.78  1460\n",
        "Precision: 70.76, Recall: 66.08, F1 Score: 68.34\n",
        "```\n",
        "\n",
        "## Task 2:  Using GloVe word embeddings\n",
        "- **Model Architecture:**\n",
        "  - BiLSTM model is instantiated with the following hyperparameters:\n",
        "    - `vocab_size`: Size of the vocabulary (determined by the size of the GloVe embeddings ~400K).\n",
        "    - `embedding_dim`: Dimension of the input features (set to 100, matching the GloVe embeddings).\n",
        "    - `hidden_size`: Number of units in the hidden layers (set to 256).\n",
        "    - `output_size`: Size of the output from the LSTM layer (set to 128).\n",
        "    - `num_layers`: Number of recurrent layers (set to 1).\n",
        "    - `dropout_val`: Dropout probability (set to 0.33).\n",
        "    - `num_tags`: Number of output classes (NER tags is 9).\n",
        "\n",
        "- **GloVe Embeddings:**\n",
        "  - The pre-trained GloVe embeddings (`glove_embedding_matrix`) are used for initializing the embedding layer of the model.\n",
        "\n",
        "- **Loss Function and Optimizer:**\n",
        "  - CrossEntropyLoss is used as the loss function, with special tokens ignored during computation.\n",
        "  - AdamW optimizer is employed with a learning rate of 0.001.\n",
        "\n",
        "1. What is the precision, recall, and F1 score on the validation data?\n",
        "```\n",
        "processed 51362 tokens with 5942 phrases; found: 5939 phrases; correct: 5201.\n",
        "accuracy:  87.32%; (non-O)\n",
        "accuracy:  97.41%; precision:  87.57%; recall:  87.53%; FB1:  87.55\n",
        "              LOC: precision:  90.43%; recall:  93.14%; FB1:  91.77  1892\n",
        "             MISC: precision:  81.57%; recall:  77.77%; FB1:  79.62  879\n",
        "              ORG: precision:  79.33%; recall:  77.85%; FB1:  78.58  1316\n",
        "              PER: precision:  93.36%; recall:  93.87%; FB1:  93.61  1852\n",
        "Precision: 87.57, Recall: 87.53, F1 Score: 87.55\n",
        "```\n",
        "2. What are the precision, recall, and F1 score on the test data?\n",
        "```\n",
        "processed 46435 tokens with 5648 phrases; found: 5700 phrases; correct: 4727.\n",
        "accuracy:  85.22%; (non-O)\n",
        "accuracy:  96.53%; precision:  82.93%; recall:  83.69%; FB1:  83.31\n",
        "              LOC: precision:  83.96%; recall:  89.75%; FB1:  86.76  1783\n",
        "             MISC: precision:  70.70%; recall:  69.09%; FB1:  69.88  686\n",
        "              ORG: precision:  78.51%; recall:  77.42%; FB1:  77.96  1638\n",
        "              PER: precision:  91.59%; recall:  90.23%; FB1:  90.90  1593\n",
        "Precision: 82.93, Recall: 83.69, F1 Score: 83.31\n",
        "```\n",
        "3. BiLSTM with Glove Embeddings outperforms the model without. Can you\n",
        "provide a rationale for this?\n",
        "\n",
        "    - **Semantic Information:** GloVe embeddings capture semantic relationships, enhancing the model's understanding of word context and meaning.\n",
        "    \n",
        "    - **Generalization:** Pre-trained on diverse corpora, GloVe enables better generalization across various domains compared to models without embeddings.\n",
        "\n",
        "    - **Reduced Dimensionality:** Lower-dimensional GloVe embeddings provide more expressive word representations, aiding generalization and relationship capture.\n",
        "\n",
        "    - **Transfer Learning Effect:** GloVe acts as a form of transfer learning, leveraging pre-trained embeddings for downstream tasks.\n",
        "\n",
        "    - **Improved Initialization:** GloVe embeddings serve as better initializations for model parameters, aiding convergence during training.\n",
        "\n",
        "    - **Handling OOV Words:** GloVe effectively handles out-of-vocabulary words, contributing to improved model performance. It also has a lrage vocabulary.\n",
        "\n",
        "    - **Knowledge Transfer:** GloVe embeddings transfer knowledge from a large corpus, benefiting tasks with limited labeled data.\n",
        "\n",
        "    - **Overall Performance:** The combined effect results in superior precision, recall, and F1 scores in both validation and test datasets for the BiLSTM model with GloVe embeddings.\n",
        "\n",
        "## Bonus: The Transformer Encoder\n",
        "- **Model Architecture:**\n",
        "  - The model is an instance of the `TransformerNER` class, representing a Transformer encoder for sequence tagging tasks.\n",
        "  - Hyperparameters:\n",
        "    - `vocab_size`: Size of the vocabulary (determined by the size of the word index ~8.2K).\n",
        "    - `embedding_dim`: Dimension of the input embeddings (set to 128).\n",
        "    - `num_attention_heads`: Number of attention heads in the multi-head self-attention mechanism (set to 8).\n",
        "    - `num_encoder_layers`: Number of transformer encoder layers (set to 6).\n",
        "    - `num_classes`: Number of output classes (NER tags).\n",
        "    - `max_len`: Maximum sequence length (set to 128).\n",
        "\n",
        "- **Loss Function and Optimizer:**\n",
        "  - CrossEntropyLoss is used as the loss function, with special tokens ignored during computation.\n",
        "  - AdamW optimizer is employed with a learning rate of 0.0001, betas=(0.9, 0.98), and epsilon (eps) set to 1e-9.\n",
        "\n",
        "1. What is the precision, recall, and F1 score on the validation data?\n",
        "```\n",
        "processed 51362 tokens with 5942 phrases; found: 4857 phrases; correct: 3132.\n",
        "accuracy:  53.28%; (non-O)\n",
        "accuracy:  92.05%; precision:  64.48%; recall:  52.71%; FB1:  58.01\n",
        "              LOC: precision:  81.53%; recall:  73.27%; FB1:  77.18  1651\n",
        "             MISC: precision:  71.82%; recall:  64.97%; FB1:  68.22  834\n",
        "              ORG: precision:  55.45%; recall:  47.80%; FB1:  51.34  1156\n",
        "              PER: precision:  44.90%; recall:  29.64%; FB1:  35.71  1216\n",
        "Precision: 64.48, Recall: 52.71, F1 Score: 58.01\n",
        "```\n",
        "2. What are the precision, recall, and F1 score on the test data?\n",
        "```\n",
        "processed 46435 tokens with 5648 phrases; found: 4029 phrases; correct: 2242.\n",
        "accuracy:  41.62%; (non-O)\n",
        "accuracy:  89.46%; precision:  55.65%; recall:  39.70%; FB1:  46.34\n",
        "              LOC: precision:  73.55%; recall:  65.53%; FB1:  69.31  1486\n",
        "             MISC: precision:  61.25%; recall:  57.41%; FB1:  59.26  658\n",
        "              ORG: precision:  49.25%; recall:  33.71%; FB1:  40.03  1137\n",
        "              PER: precision:  24.87%; recall:  11.50%; FB1:  15.73  748\n",
        "Precision: 55.65, Recall: 39.70, F1 Score: 46.34\n",
        "```\n",
        "3. What is the reason behind the poor performance of the transformer?\n",
        "    - **Attention Mechanism Limitations:** The attention mechanism in transformers may struggle to capture long-range dependencies in sequential data, impacting its ability to understand context over extensive distances.\n",
        "\n",
        "    - **Sequential Information Handling:** Transformers process sequences in parallel, potentially losing sequential information crucial for NER tasks.\n",
        "\n",
        "    - **Fixed Context Window:** Despite attention mechanisms, transformers often rely on a fixed context window, limiting their ability to capture context beyond a certain range.\n",
        "\n",
        "    - **Model Complexity:** The complexity of transformer models might lead to overfitting, especially when dealing with limited labeled data.\n",
        "\n",
        "    - **Hyperparameter Tuning:** Transformers are sensitive to hyperparameter choices, and fine-tuning them for specific NER tasks is crucial.\n",
        "\n",
        "    - **Lack of Pre-training:** Unlike GloVe embeddings, transformers may not have been pre-trained on a task-specific corpus, affecting their ability to capture domain-specific nuances.\n",
        "\n",
        "    - **Token-Level Information:** Transformers treat tokens individually, potentially struggling with entity boundaries and relationships.\n",
        "\n",
        "    - **Overall Complexity:** The transformer's intricate architecture and self-attention mechanism might not align optimally with the characteristics of Named Entity Recognition tasks.\n",
        "\n",
        "    - **Need for Task-Specific Adaptation:** Transformers may require more task-specific adaptations or modifications to excel in Named Entity Recognition compared to simpler architectures like BiLSTM."
      ],
      "metadata": {
        "id": "7KjE8HpWJGZo"
      }
    },
    {
      "cell_type": "markdown",
      "source": [
        "# Dependencies"
      ],
      "metadata": {
        "id": "2AkrwC4_DxGj"
      }
    },
    {
      "cell_type": "markdown",
      "source": [
        "## Installation"
      ],
      "metadata": {
        "id": "bv7G1DH1D1mT"
      }
    },
    {
      "cell_type": "code",
      "source": [
        "!pip install datasets accelerate\n",
        "!pip install ipython-autotime"
      ],
      "metadata": {
        "colab": {
          "base_uri": "https://localhost:8080/",
          "height": 0
        },
        "id": "Wj2innD8D8-P",
        "outputId": "270d2bd3-ee90-4c74-b509-230dbd5b96de"
      },
      "execution_count": 1,
      "outputs": [
        {
          "output_type": "stream",
          "name": "stdout",
          "text": [
            "Collecting datasets\n",
            "  Downloading datasets-2.14.6-py3-none-any.whl (493 kB)\n",
            "\u001b[?25l     \u001b[90m━━━━━━━━━━━━━━━━━━━━━━━━━━━━━━━━━━━━━━━━\u001b[0m \u001b[32m0.0/493.7 kB\u001b[0m \u001b[31m?\u001b[0m eta \u001b[36m-:--:--\u001b[0m\r\u001b[2K     \u001b[91m━━━━━━━━━━━━━━━━━━━━━━\u001b[0m\u001b[90m╺\u001b[0m\u001b[90m━━━━━━━━━━━━━━━━━\u001b[0m \u001b[32m276.5/493.7 kB\u001b[0m \u001b[31m8.0 MB/s\u001b[0m eta \u001b[36m0:00:01\u001b[0m\r\u001b[2K     \u001b[90m━━━━━━━━━━━━━━━━━━━━━━━━━━━━━━━━━━━━━━━━\u001b[0m \u001b[32m493.7/493.7 kB\u001b[0m \u001b[31m9.8 MB/s\u001b[0m eta \u001b[36m0:00:00\u001b[0m\n",
            "\u001b[?25hCollecting accelerate\n",
            "  Downloading accelerate-0.24.1-py3-none-any.whl (261 kB)\n",
            "\u001b[2K     \u001b[90m━━━━━━━━━━━━━━━━━━━━━━━━━━━━━━━━━━━━━━━━\u001b[0m \u001b[32m261.4/261.4 kB\u001b[0m \u001b[31m35.1 MB/s\u001b[0m eta \u001b[36m0:00:00\u001b[0m\n",
            "\u001b[?25hRequirement already satisfied: numpy>=1.17 in /usr/local/lib/python3.10/dist-packages (from datasets) (1.23.5)\n",
            "Requirement already satisfied: pyarrow>=8.0.0 in /usr/local/lib/python3.10/dist-packages (from datasets) (9.0.0)\n",
            "Collecting dill<0.3.8,>=0.3.0 (from datasets)\n",
            "  Downloading dill-0.3.7-py3-none-any.whl (115 kB)\n",
            "\u001b[2K     \u001b[90m━━━━━━━━━━━━━━━━━━━━━━━━━━━━━━━━━━━━━━━━\u001b[0m \u001b[32m115.3/115.3 kB\u001b[0m \u001b[31m17.6 MB/s\u001b[0m eta \u001b[36m0:00:00\u001b[0m\n",
            "\u001b[?25hRequirement already satisfied: pandas in /usr/local/lib/python3.10/dist-packages (from datasets) (1.5.3)\n",
            "Requirement already satisfied: requests>=2.19.0 in /usr/local/lib/python3.10/dist-packages (from datasets) (2.31.0)\n",
            "Requirement already satisfied: tqdm>=4.62.1 in /usr/local/lib/python3.10/dist-packages (from datasets) (4.66.1)\n",
            "Requirement already satisfied: xxhash in /usr/local/lib/python3.10/dist-packages (from datasets) (3.4.1)\n",
            "Collecting multiprocess (from datasets)\n",
            "  Downloading multiprocess-0.70.15-py310-none-any.whl (134 kB)\n",
            "\u001b[2K     \u001b[90m━━━━━━━━━━━━━━━━━━━━━━━━━━━━━━━━━━━━━━━━\u001b[0m \u001b[32m134.8/134.8 kB\u001b[0m \u001b[31m12.0 MB/s\u001b[0m eta \u001b[36m0:00:00\u001b[0m\n",
            "\u001b[?25hRequirement already satisfied: fsspec[http]<=2023.10.0,>=2023.1.0 in /usr/local/lib/python3.10/dist-packages (from datasets) (2023.6.0)\n",
            "Requirement already satisfied: aiohttp in /usr/local/lib/python3.10/dist-packages (from datasets) (3.8.6)\n",
            "Collecting huggingface-hub<1.0.0,>=0.14.0 (from datasets)\n",
            "  Downloading huggingface_hub-0.19.0-py3-none-any.whl (311 kB)\n",
            "\u001b[2K     \u001b[90m━━━━━━━━━━━━━━━━━━━━━━━━━━━━━━━━━━━━━━━━\u001b[0m \u001b[32m311.2/311.2 kB\u001b[0m \u001b[31m41.3 MB/s\u001b[0m eta \u001b[36m0:00:00\u001b[0m\n",
            "\u001b[?25hRequirement already satisfied: packaging in /usr/local/lib/python3.10/dist-packages (from datasets) (23.2)\n",
            "Requirement already satisfied: pyyaml>=5.1 in /usr/local/lib/python3.10/dist-packages (from datasets) (6.0.1)\n",
            "Requirement already satisfied: psutil in /usr/local/lib/python3.10/dist-packages (from accelerate) (5.9.5)\n",
            "Requirement already satisfied: torch>=1.10.0 in /usr/local/lib/python3.10/dist-packages (from accelerate) (2.1.0+cu118)\n",
            "Requirement already satisfied: attrs>=17.3.0 in /usr/local/lib/python3.10/dist-packages (from aiohttp->datasets) (23.1.0)\n",
            "Requirement already satisfied: charset-normalizer<4.0,>=2.0 in /usr/local/lib/python3.10/dist-packages (from aiohttp->datasets) (3.3.2)\n",
            "Requirement already satisfied: multidict<7.0,>=4.5 in /usr/local/lib/python3.10/dist-packages (from aiohttp->datasets) (6.0.4)\n",
            "Requirement already satisfied: async-timeout<5.0,>=4.0.0a3 in /usr/local/lib/python3.10/dist-packages (from aiohttp->datasets) (4.0.3)\n",
            "Requirement already satisfied: yarl<2.0,>=1.0 in /usr/local/lib/python3.10/dist-packages (from aiohttp->datasets) (1.9.2)\n",
            "Requirement already satisfied: frozenlist>=1.1.1 in /usr/local/lib/python3.10/dist-packages (from aiohttp->datasets) (1.4.0)\n",
            "Requirement already satisfied: aiosignal>=1.1.2 in /usr/local/lib/python3.10/dist-packages (from aiohttp->datasets) (1.3.1)\n",
            "Requirement already satisfied: filelock in /usr/local/lib/python3.10/dist-packages (from huggingface-hub<1.0.0,>=0.14.0->datasets) (3.13.1)\n",
            "Requirement already satisfied: typing-extensions>=3.7.4.3 in /usr/local/lib/python3.10/dist-packages (from huggingface-hub<1.0.0,>=0.14.0->datasets) (4.5.0)\n",
            "Requirement already satisfied: idna<4,>=2.5 in /usr/local/lib/python3.10/dist-packages (from requests>=2.19.0->datasets) (3.4)\n",
            "Requirement already satisfied: urllib3<3,>=1.21.1 in /usr/local/lib/python3.10/dist-packages (from requests>=2.19.0->datasets) (2.0.7)\n",
            "Requirement already satisfied: certifi>=2017.4.17 in /usr/local/lib/python3.10/dist-packages (from requests>=2.19.0->datasets) (2023.7.22)\n",
            "Requirement already satisfied: sympy in /usr/local/lib/python3.10/dist-packages (from torch>=1.10.0->accelerate) (1.12)\n",
            "Requirement already satisfied: networkx in /usr/local/lib/python3.10/dist-packages (from torch>=1.10.0->accelerate) (3.2.1)\n",
            "Requirement already satisfied: jinja2 in /usr/local/lib/python3.10/dist-packages (from torch>=1.10.0->accelerate) (3.1.2)\n",
            "Requirement already satisfied: triton==2.1.0 in /usr/local/lib/python3.10/dist-packages (from torch>=1.10.0->accelerate) (2.1.0)\n",
            "Requirement already satisfied: python-dateutil>=2.8.1 in /usr/local/lib/python3.10/dist-packages (from pandas->datasets) (2.8.2)\n",
            "Requirement already satisfied: pytz>=2020.1 in /usr/local/lib/python3.10/dist-packages (from pandas->datasets) (2023.3.post1)\n",
            "Requirement already satisfied: six>=1.5 in /usr/local/lib/python3.10/dist-packages (from python-dateutil>=2.8.1->pandas->datasets) (1.16.0)\n",
            "Requirement already satisfied: MarkupSafe>=2.0 in /usr/local/lib/python3.10/dist-packages (from jinja2->torch>=1.10.0->accelerate) (2.1.3)\n",
            "Requirement already satisfied: mpmath>=0.19 in /usr/local/lib/python3.10/dist-packages (from sympy->torch>=1.10.0->accelerate) (1.3.0)\n",
            "Installing collected packages: dill, multiprocess, huggingface-hub, accelerate, datasets\n",
            "Successfully installed accelerate-0.24.1 datasets-2.14.6 dill-0.3.7 huggingface-hub-0.19.0 multiprocess-0.70.15\n",
            "Collecting ipython-autotime\n",
            "  Downloading ipython_autotime-0.3.2-py2.py3-none-any.whl (7.0 kB)\n",
            "Requirement already satisfied: ipython in /usr/local/lib/python3.10/dist-packages (from ipython-autotime) (7.34.0)\n",
            "Requirement already satisfied: setuptools>=18.5 in /usr/local/lib/python3.10/dist-packages (from ipython->ipython-autotime) (67.7.2)\n",
            "Collecting jedi>=0.16 (from ipython->ipython-autotime)\n",
            "  Downloading jedi-0.19.1-py2.py3-none-any.whl (1.6 MB)\n",
            "\u001b[2K     \u001b[90m━━━━━━━━━━━━━━━━━━━━━━━━━━━━━━━━━━━━━━━━\u001b[0m \u001b[32m1.6/1.6 MB\u001b[0m \u001b[31m9.4 MB/s\u001b[0m eta \u001b[36m0:00:00\u001b[0m\n",
            "\u001b[?25hRequirement already satisfied: decorator in /usr/local/lib/python3.10/dist-packages (from ipython->ipython-autotime) (4.4.2)\n",
            "Requirement already satisfied: pickleshare in /usr/local/lib/python3.10/dist-packages (from ipython->ipython-autotime) (0.7.5)\n",
            "Requirement already satisfied: traitlets>=4.2 in /usr/local/lib/python3.10/dist-packages (from ipython->ipython-autotime) (5.7.1)\n",
            "Requirement already satisfied: prompt-toolkit!=3.0.0,!=3.0.1,<3.1.0,>=2.0.0 in /usr/local/lib/python3.10/dist-packages (from ipython->ipython-autotime) (3.0.39)\n",
            "Requirement already satisfied: pygments in /usr/local/lib/python3.10/dist-packages (from ipython->ipython-autotime) (2.16.1)\n",
            "Requirement already satisfied: backcall in /usr/local/lib/python3.10/dist-packages (from ipython->ipython-autotime) (0.2.0)\n",
            "Requirement already satisfied: matplotlib-inline in /usr/local/lib/python3.10/dist-packages (from ipython->ipython-autotime) (0.1.6)\n",
            "Requirement already satisfied: pexpect>4.3 in /usr/local/lib/python3.10/dist-packages (from ipython->ipython-autotime) (4.8.0)\n",
            "Requirement already satisfied: parso<0.9.0,>=0.8.3 in /usr/local/lib/python3.10/dist-packages (from jedi>=0.16->ipython->ipython-autotime) (0.8.3)\n",
            "Requirement already satisfied: ptyprocess>=0.5 in /usr/local/lib/python3.10/dist-packages (from pexpect>4.3->ipython->ipython-autotime) (0.7.0)\n",
            "Requirement already satisfied: wcwidth in /usr/local/lib/python3.10/dist-packages (from prompt-toolkit!=3.0.0,!=3.0.1,<3.1.0,>=2.0.0->ipython->ipython-autotime) (0.2.9)\n",
            "Installing collected packages: jedi, ipython-autotime\n",
            "Successfully installed ipython-autotime-0.3.2 jedi-0.19.1\n"
          ]
        }
      ]
    },
    {
      "cell_type": "markdown",
      "source": [
        "## Imports"
      ],
      "metadata": {
        "id": "kyoG8-IyD6OZ"
      }
    },
    {
      "cell_type": "code",
      "source": [
        "import os\n",
        "import shutil\n",
        "from typing import List, Tuple, Dict\n",
        "\n",
        "import itertools\n",
        "from collections import Counter\n",
        "import math\n",
        "\n",
        "from tqdm import tqdm\n",
        "\n",
        "import warnings\n",
        "warnings.filterwarnings(\"ignore\")\n",
        "\n",
        "import csv\n",
        "import numpy as np\n",
        "import pandas as pd\n",
        "\n",
        "from sklearn.metrics import precision_score, recall_score, f1_score, accuracy_score\n",
        "\n",
        "import torch\n",
        "import torch.nn as nn\n",
        "import torch.optim as optim\n",
        "from torch.utils.data import Dataset, DataLoader\n",
        "\n",
        "from datasets import load_dataset\n",
        "\n",
        "from dataclasses import dataclass\n",
        "\n",
        "%load_ext autotime"
      ],
      "metadata": {
        "colab": {
          "base_uri": "https://localhost:8080/",
          "height": 0
        },
        "id": "Z2rw_Xi0EG7r",
        "outputId": "0a60452a-2690-4c0e-cb7e-960d09ae3566"
      },
      "execution_count": 2,
      "outputs": [
        {
          "output_type": "stream",
          "name": "stdout",
          "text": [
            "time: 366 µs (started: 2023-11-11 02:58:27 +00:00)\n"
          ]
        }
      ]
    },
    {
      "cell_type": "markdown",
      "source": [
        "# Config\n",
        "\n",
        "This code snippet and configuration define several aspects related to the setup and configuration of a Named Entity Recognition (NER) task, likely using GloVe embeddings and the CoNLL 2003 dataset. Here's a brief overview:\n",
        "\n",
        "1. **CUDA Configuration:**\n",
        "   - `os.environ[\"CUDA_LAUNCH_BLOCKING\"] = \"1\"`: This environment variable configuration forces CUDA to synchronize with the CPU, potentially useful for debugging CUDA-related issues.\n",
        "\n",
        "2. **Working Directory:**\n",
        "   - The code attempts to set the current working directory to a specific path within Google Drive.\n",
        "\n",
        "3. **Path Configuration:**\n",
        "   - `PathConfig` class: Defines paths, especially the path to the GloVe embedding file (`glove.6B.100d.txt`), using the `CURRENT_DIR`.\n",
        "\n",
        "4. **Dataset Configuration:**\n",
        "   - `DatasetConfig` class: Contains configuration parameters for dataset processing and preprocessing for the CoNLL 2003 dataset.\n",
        "   - `name`: Specifies the dataset name.\n",
        "   - `cols_to_drop`: Lists columns to be dropped during processing.\n",
        "   - `rename_cols`: Specifies column renaming, especially renaming \"ner_tags\" to \"labels.\"\n",
        "   - `THRESHOLD`: Sets a threshold value for some preprocessing step.\n",
        "   - `PAD_TOKEN` and `UNKNOWN_TOKEN`: Define special tokens (\"<pad>\" and \"<unk>\") for padding and unknown words.\n",
        "   - `embedding_size`: Specifies the size of GloVe embeddings (100 in this case).\n",
        "   - `ner_tag2idx` and `ner_idx2tag`: Dictionaries mapping NER tags to indices and vice versa.\n",
        "   - `NUM_NER_TAGS`: Stores the number of NER tags.\n",
        "   - `SPECIAL_TOKEN_TAG`: A special token tag value."
      ],
      "metadata": {
        "id": "B547f0ajEHkT"
      }
    },
    {
      "cell_type": "code",
      "source": [
        "os.environ[\"CUDA_LAUNCH_BLOCKING\"] = \"1\"\n",
        "\n",
        "# Set the current working directory\n",
        "try:\n",
        "    os.chdir(\"/content/drive/MyDrive/Colab Notebooks/CSCI544/HW4\")\n",
        "except:\n",
        "    pass\n",
        "\n",
        "\n",
        "class PathConfig:\n",
        "    # Get the current dir\n",
        "    CURRENT_DIR = os.getcwd()\n",
        "\n",
        "    # Glove embedding path\n",
        "    GLOVE_100d_File = os.path.join(CURRENT_DIR, \"glove.6B.100d.txt\")\n",
        "\n",
        "\n",
        "class DatasetConfig:\n",
        "    # General Info\n",
        "    name = \"conll2003\"\n",
        "\n",
        "    # Processing\n",
        "    cols_to_drop =  [\"id\", \"pos_tags\", \"chunk_tags\"]\n",
        "    rename_cols = {\"ner_tags\": \"labels\"}\n",
        "\n",
        "    # Preprocessing\n",
        "    THRESHOLD = 3\n",
        "    PAD_TOKEN = \"<pad>\"\n",
        "    UNKNOWN_TOKEN = \"<unk>\"\n",
        "    embedding_size = 100\n",
        "\n",
        "    # NER Tags list and converter dictionaries\n",
        "    ner_tag2idx = {'O': 0, 'B-PER': 1, 'I-PER': 2, 'B-ORG': 3, 'I-ORG': 4, 'B-LOC': 5, 'I-LOC': 6, 'B-MISC': 7, 'I-MISC': 8}\n",
        "    ner_idx2tag = {v: k for k, v in ner_tag2idx.items()}\n",
        "\n",
        "    NUM_NER_TAGS = len(ner_tag2idx)\n",
        "    SPECIAL_TOKEN_TAG = -100"
      ],
      "metadata": {
        "colab": {
          "base_uri": "https://localhost:8080/",
          "height": 0
        },
        "id": "X6p7EpRyE6eH",
        "outputId": "bf863517-59d2-4f76-d8d1-3ff9e8152a39"
      },
      "execution_count": 3,
      "outputs": [
        {
          "output_type": "stream",
          "name": "stdout",
          "text": [
            "time: 196 ms (started: 2023-11-11 02:58:27 +00:00)\n"
          ]
        }
      ]
    },
    {
      "cell_type": "markdown",
      "source": [
        "# Helper Functions & Support Scripts"
      ],
      "metadata": {
        "id": "ODDWajPdZCwy"
      }
    },
    {
      "cell_type": "markdown",
      "source": [
        "## Accelarator Configuration"
      ],
      "metadata": {
        "id": "TpVH-EQtX91O"
      }
    },
    {
      "cell_type": "code",
      "source": [
        "def get_device():\n",
        "    if torch.cuda.is_available():\n",
        "        # Check if GPU is available\n",
        "        return torch.device(\"cuda\")\n",
        "    else:\n",
        "        # Use CPU if no GPU or TPU is available\n",
        "        return torch.device(\"cpu\")\n",
        "\n",
        "device = get_device()\n",
        "device"
      ],
      "metadata": {
        "colab": {
          "base_uri": "https://localhost:8080/",
          "height": 0
        },
        "id": "zuqzDOD3X80M",
        "outputId": "15de8b13-b27e-49dd-fa0d-79c46a69c951"
      },
      "execution_count": 4,
      "outputs": [
        {
          "output_type": "execute_result",
          "data": {
            "text/plain": [
              "device(type='cpu')"
            ]
          },
          "metadata": {},
          "execution_count": 4
        },
        {
          "output_type": "stream",
          "name": "stdout",
          "text": [
            "time: 17.9 ms (started: 2023-11-11 02:58:27 +00:00)\n"
          ]
        }
      ]
    },
    {
      "cell_type": "markdown",
      "source": [
        "## CoNLL evaluation functions"
      ],
      "metadata": {
        "id": "GMraWiRMnQ-W"
      }
    },
    {
      "cell_type": "code",
      "source": [
        "%%bash\n",
        "if [ ! -f conlleval.py ]; then\n",
        "    echo \"Downloading conlleval.py ...\"\n",
        "    wget https://raw.githubusercontent.com/sighsmile/conlleval/master/conlleval.py\n",
        "else\n",
        "    echo \"File conlleval.py already exists\"\n",
        "fi"
      ],
      "metadata": {
        "colab": {
          "base_uri": "https://localhost:8080/",
          "height": 0
        },
        "id": "tJ5Hq9vRZGVt",
        "outputId": "9ec43176-f8c6-4d8a-9824-f96e18637e4f"
      },
      "execution_count": 5,
      "outputs": [
        {
          "output_type": "stream",
          "name": "stdout",
          "text": [
            "File conlleval.py already exists\n",
            "time: 484 ms (started: 2023-11-11 02:58:27 +00:00)\n"
          ]
        }
      ]
    },
    {
      "cell_type": "code",
      "source": [
        "from conlleval import evaluate"
      ],
      "metadata": {
        "colab": {
          "base_uri": "https://localhost:8080/",
          "height": 0
        },
        "id": "w9_-1YkXmDh-",
        "outputId": "a6c0c749-e013-4982-da58-f850463ba6d8"
      },
      "execution_count": 6,
      "outputs": [
        {
          "output_type": "stream",
          "name": "stdout",
          "text": [
            "time: 747 ms (started: 2023-11-11 02:58:28 +00:00)\n"
          ]
        }
      ]
    },
    {
      "cell_type": "markdown",
      "source": [
        "## Helper functions\n",
        "\n",
        "1. `load_glove_embeddings`\n",
        "    - It creates a word-to-index mapper (`word2idx`), assigning an index to each word.\n",
        "    - Special token vectors for unknown words and padding are calculated and added to the embeddings dictionary.\n",
        "    - Special tokens are added to the word-to-index mapper with specific indices (0 for padding, 1 for unknown)."
      ],
      "metadata": {
        "id": "Q0HizaxKclhf"
      }
    },
    {
      "cell_type": "code",
      "source": [
        "# Load glove embeddings to dictionary\n",
        "def load_glove_embeddings(path):\n",
        "    \"\"\"\n",
        "    glove_emb_dict = load_glove_embeddings(PathConfig.GLOVE_100d_File)\n",
        "    \"\"\"\n",
        "    embeddings = pd.read_csv(\n",
        "        PathConfig.GLOVE_100d_File, sep=\" \", quoting=csv.QUOTE_NONE, header=None, index_col=0\n",
        "    )\n",
        "    embeddings = {key: val.values for key, val in embeddings.T.items()}\n",
        "\n",
        "    # Generate word-to-index mapper\n",
        "    word2idx = {word: index for index, word in enumerate(embeddings.keys(), start=2)}\n",
        "\n",
        "    # Add Special token vectors\n",
        "    embeddings[DatasetConfig.UNKNOWN_TOKEN] = np.mean(np.vstack(list(embeddings.values())), axis=0)\n",
        "    embeddings[DatasetConfig.PAD_TOKEN] = np.zeros(DatasetConfig.embedding_size, dtype=\"float64\")\n",
        "\n",
        "    # Add Special token keys to word-to-index mapper\n",
        "    word2idx[DatasetConfig.PAD_TOKEN] = 0\n",
        "    word2idx[DatasetConfig.UNKNOWN_TOKEN] = 1\n",
        "\n",
        "    return word2idx, embeddings"
      ],
      "metadata": {
        "colab": {
          "base_uri": "https://localhost:8080/",
          "height": 0
        },
        "id": "AK1QjQLKcuQ7",
        "outputId": "57015201-14b8-4825-e8dc-3a7847912b7b"
      },
      "execution_count": 7,
      "outputs": [
        {
          "output_type": "stream",
          "name": "stdout",
          "text": [
            "time: 1.07 ms (started: 2023-11-11 02:58:28 +00:00)\n"
          ]
        }
      ]
    },
    {
      "cell_type": "markdown",
      "source": [
        "# Download Glove Embeddings"
      ],
      "metadata": {
        "id": "jDp6kDOfVKaQ"
      }
    },
    {
      "cell_type": "code",
      "source": [
        "%%bash\n",
        "if [ ! -f glove.6B.zip ]; then\n",
        "    echo \"Downloading glove.6B.zip...\"\n",
        "    wget http://nlp.stanford.edu/data/glove.6B.zip -y\n",
        "    unzip -o glove.6B.zip\n",
        "else\n",
        "    echo \"File glove.6B.zip already exists\"\n",
        "fi"
      ],
      "metadata": {
        "colab": {
          "base_uri": "https://localhost:8080/",
          "height": 0
        },
        "id": "xXkfhi8_tdWf",
        "outputId": "1843de82-6cb9-4465-a3c0-59d2a2985d94"
      },
      "execution_count": 8,
      "outputs": [
        {
          "output_type": "stream",
          "name": "stdout",
          "text": [
            "File glove.6B.zip already exists\n",
            "time: 14.8 ms (started: 2023-11-11 02:58:28 +00:00)\n"
          ]
        }
      ]
    },
    {
      "cell_type": "code",
      "source": [
        "glove_word2idx, glove_emb_dict = load_glove_embeddings(PathConfig.GLOVE_100d_File)"
      ],
      "metadata": {
        "colab": {
          "base_uri": "https://localhost:8080/",
          "height": 0
        },
        "id": "26U5H5pOH8t1",
        "outputId": "50c4113d-0138-4786-9747-cf216d75e5b0"
      },
      "execution_count": 9,
      "outputs": [
        {
          "output_type": "stream",
          "name": "stdout",
          "text": [
            "time: 39.4 s (started: 2023-11-11 02:58:28 +00:00)\n"
          ]
        }
      ]
    },
    {
      "cell_type": "markdown",
      "source": [
        "# Dataset Preparation"
      ],
      "metadata": {
        "id": "XjsFAWbytX-Y"
      }
    },
    {
      "cell_type": "markdown",
      "source": [
        "## Process Data\n",
        "   - Utilizes the `load_dataset` function to load a dataset named \"conll2003.\"\n",
        "   - Removes specified columns from the dataset. The columns to be removed are defined in `DatasetConfig.cols_to_drop`.\n",
        "   - Renames columns based on the configuration specified in `DatasetConfig.rename_cols`. It renames the \"ner_tags\" column to \"labels.\""
      ],
      "metadata": {
        "id": "HQqlzL7N6SNY"
      }
    },
    {
      "cell_type": "code",
      "execution_count": 10,
      "metadata": {
        "colab": {
          "base_uri": "https://localhost:8080/",
          "height": 258,
          "referenced_widgets": [
            "cc13f227ac6e49768b77bf3539ca4831",
            "0dfaf65cea9d48f2b9a191fb4e588490",
            "3550dd2d7947450e8ff8bced05b11560",
            "4c16e63bf02d4ac79972b3d9d2f1a0fa",
            "9c0f15dcaf904aa99187976535fa46eb",
            "cf6116dcb54940eeafe4e1d45a3d4a6f",
            "9c8ab1a0afc84123911cfb44444303ee",
            "12b6bdaef2734294930b8cf20b1360d8",
            "2d5a7fe5f59441a49f1eb7a697294e52",
            "bf360cb144224437b931a1451c5e8012",
            "48f4095c1fa2453baff9cda4c63922f1",
            "25c49cc2cdcb447ebd414bfffd9d3a9d",
            "56b8e52b62474e37b5ebba14e048453f",
            "03bdd9272de04620a0e7c5d6f05947ba",
            "5827386e476c432c826b0cbb42b6ccb6",
            "f1de74f24a7c44f4a8a32c4685f4b571",
            "a71462f56d454ec9a2639939b19945ee",
            "510c50a55643492db3cfa7041d607198",
            "34a734f5622b419db4e5107c7fde8d82",
            "239f5410cad04e0eae102392478a92bb",
            "4b2174e9d5104971a7a1c9ec757b6780",
            "1cdecc91e98d4addbe2c4117d46e4c00",
            "fdb091124b6b4b8bb93f20fc69723e6d",
            "3109bae1ac2f457884297996abfd7274",
            "b26a1613a7b94a27aa8abce62b83a666",
            "f1f0d665555c4f5da140b40839c01077",
            "98c3420c313b40dfacd61b9314513ff9",
            "e902cdf9bc4c458da0363bd37d9cc3ee",
            "f2f5ebad966748f9803a8192d5378ee8",
            "def1d71a1f104336901693ef60697f3d",
            "b3b52426cdd444bcbd92d1eab4cbd5a3",
            "7dc42e44c27341a79d29c040cc68da94",
            "193ea0aa72aa47d387094f359fda573c",
            "f07f82f82ac845849307a14e984c3102",
            "65fb0d0e29ac443a8ed1186a91195b61",
            "95ef51628a674ff4ae9c84c269598aa3",
            "abf8ddae30e94950a2f8761f86793851",
            "779a365208c54aa890fa580396cbb4c6",
            "c0effaf609f74d7cae48300996655576",
            "6e7d1c9474c542788e61f8c1445f69ae",
            "85a30894409c4ddb9b888aa02e26d60c",
            "393be76d6a4a42d08222db256fce8abe",
            "fe277384db9943d8bb64d76457666e98",
            "e5dfd549017943a887aa1504880ac06e",
            "1e4036bb53ff45389e0e1c4a239adccd",
            "aa35f23959c5455cb8a1a35d70ee24ad",
            "df1cff4370cd4eaaa00036035d516967",
            "98533d7a88684012919ed2740cd8e552",
            "8c65fab9bd38434e97bc134fcc107f81",
            "06f647b23d6c4968ba8fc4c767c0c80d",
            "16fc65b2e93949bab1ae1006c231319f",
            "838428a2d9504598aafbe1c140c4b30d",
            "8f763ffe105f49209c3558c7ba14566f",
            "9eaa0ee447624f18840c79c6faa0d77f",
            "4aa2721bdbb140edbb75d1d18c07aebc",
            "1f48961fbe1e4d17b694a0d370634b67",
            "c011b5b482ea45f6a58e1e32ceeb461a",
            "44e54b860517407fa52c845813f430ef",
            "7bc6a9ebe75445e48616b141e6683aa3",
            "423b30f26cb040e0b236640b50dcabf4",
            "47fd46cc9f8745b4b262ef357f2e6e30",
            "7c2dada1a5404563a5aeccc41df02715",
            "a77482cca8e84ac7afb824de8ffea6a4",
            "766a05f0e6be446ca6b56305410df543",
            "f73b269118c34c3096b4d407c0723afe",
            "7fbfe1f4e97a43a3b18768b94d0033f2",
            "4de5d1c176504427be99555029890f1c",
            "a6c8959afb834955a84de075651b4423",
            "7fa8e27c2cd94db6afc4967700bcea19",
            "e78ac4fba37b48c1a8bb9e360a3644c6",
            "1ddf1fd1327d44d4a7978bb6a030d3fa",
            "b4aeee8dc6454273acdcfdf83cd9478c",
            "583c6f32f4ca4b8cb6f6a5254da01d64",
            "da1ff23593c54061a5ce6d8ae563e3fe",
            "8284ce81bd6c4e81a1683d15833e044e",
            "c0b9f6b6d39844529c9ab4fef0f6292d",
            "5ce932dc9be443ec9e2715c83a028984"
          ]
        },
        "id": "J-2f98y7ykQj",
        "outputId": "cae77ae8-8600-49a2-ad53-8619f73374b9"
      },
      "outputs": [
        {
          "output_type": "display_data",
          "data": {
            "text/plain": [
              "Downloading builder script:   0%|          | 0.00/9.57k [00:00<?, ?B/s]"
            ],
            "application/vnd.jupyter.widget-view+json": {
              "version_major": 2,
              "version_minor": 0,
              "model_id": "cc13f227ac6e49768b77bf3539ca4831"
            }
          },
          "metadata": {}
        },
        {
          "output_type": "display_data",
          "data": {
            "text/plain": [
              "Downloading metadata:   0%|          | 0.00/3.73k [00:00<?, ?B/s]"
            ],
            "application/vnd.jupyter.widget-view+json": {
              "version_major": 2,
              "version_minor": 0,
              "model_id": "25c49cc2cdcb447ebd414bfffd9d3a9d"
            }
          },
          "metadata": {}
        },
        {
          "output_type": "display_data",
          "data": {
            "text/plain": [
              "Downloading readme:   0%|          | 0.00/12.3k [00:00<?, ?B/s]"
            ],
            "application/vnd.jupyter.widget-view+json": {
              "version_major": 2,
              "version_minor": 0,
              "model_id": "fdb091124b6b4b8bb93f20fc69723e6d"
            }
          },
          "metadata": {}
        },
        {
          "output_type": "display_data",
          "data": {
            "text/plain": [
              "Downloading data:   0%|          | 0.00/983k [00:00<?, ?B/s]"
            ],
            "application/vnd.jupyter.widget-view+json": {
              "version_major": 2,
              "version_minor": 0,
              "model_id": "f07f82f82ac845849307a14e984c3102"
            }
          },
          "metadata": {}
        },
        {
          "output_type": "display_data",
          "data": {
            "text/plain": [
              "Generating train split:   0%|          | 0/14041 [00:00<?, ? examples/s]"
            ],
            "application/vnd.jupyter.widget-view+json": {
              "version_major": 2,
              "version_minor": 0,
              "model_id": "1e4036bb53ff45389e0e1c4a239adccd"
            }
          },
          "metadata": {}
        },
        {
          "output_type": "display_data",
          "data": {
            "text/plain": [
              "Generating validation split:   0%|          | 0/3250 [00:00<?, ? examples/s]"
            ],
            "application/vnd.jupyter.widget-view+json": {
              "version_major": 2,
              "version_minor": 0,
              "model_id": "1f48961fbe1e4d17b694a0d370634b67"
            }
          },
          "metadata": {}
        },
        {
          "output_type": "display_data",
          "data": {
            "text/plain": [
              "Generating test split:   0%|          | 0/3453 [00:00<?, ? examples/s]"
            ],
            "application/vnd.jupyter.widget-view+json": {
              "version_major": 2,
              "version_minor": 0,
              "model_id": "4de5d1c176504427be99555029890f1c"
            }
          },
          "metadata": {}
        },
        {
          "output_type": "stream",
          "name": "stdout",
          "text": [
            "time: 12.5 s (started: 2023-11-11 02:59:08 +00:00)\n"
          ]
        }
      ],
      "source": [
        "dataset = load_dataset(\"conll2003\")\n",
        "dataset = dataset.remove_columns(DatasetConfig.cols_to_drop)\n",
        "for old_name, new_name in DatasetConfig.rename_cols.items():\n",
        "    dataset = dataset.rename_column(old_name, new_name)"
      ]
    },
    {
      "cell_type": "code",
      "source": [
        "dataset"
      ],
      "metadata": {
        "colab": {
          "base_uri": "https://localhost:8080/",
          "height": 0
        },
        "id": "WYJdzmshD2hK",
        "outputId": "b03f619c-b1d1-4d19-a4fc-7582ac696344"
      },
      "execution_count": 11,
      "outputs": [
        {
          "output_type": "execute_result",
          "data": {
            "text/plain": [
              "DatasetDict({\n",
              "    train: Dataset({\n",
              "        features: ['tokens', 'labels'],\n",
              "        num_rows: 14041\n",
              "    })\n",
              "    validation: Dataset({\n",
              "        features: ['tokens', 'labels'],\n",
              "        num_rows: 3250\n",
              "    })\n",
              "    test: Dataset({\n",
              "        features: ['tokens', 'labels'],\n",
              "        num_rows: 3453\n",
              "    })\n",
              "})"
            ]
          },
          "metadata": {},
          "execution_count": 11
        },
        {
          "output_type": "stream",
          "name": "stdout",
          "text": [
            "time: 3.94 ms (started: 2023-11-11 02:59:20 +00:00)\n"
          ]
        }
      ]
    },
    {
      "cell_type": "markdown",
      "source": [
        "## EDA"
      ],
      "metadata": {
        "id": "GRmhYX4TC8jP"
      }
    },
    {
      "cell_type": "code",
      "source": [
        "df = pd.DataFrame(dataset[\"train\"])\n",
        "df.head()"
      ],
      "metadata": {
        "colab": {
          "base_uri": "https://localhost:8080/",
          "height": 224
        },
        "id": "7qzvcU3fC1jY",
        "outputId": "7ec62325-aec6-4152-f846-d7b1b1cc453d"
      },
      "execution_count": 12,
      "outputs": [
        {
          "output_type": "execute_result",
          "data": {
            "text/plain": [
              "                                              tokens  \\\n",
              "0  [EU, rejects, German, call, to, boycott, Briti...   \n",
              "1                                 [Peter, Blackburn]   \n",
              "2                             [BRUSSELS, 1996-08-22]   \n",
              "3  [The, European, Commission, said, on, Thursday...   \n",
              "4  [Germany, 's, representative, to, the, Europea...   \n",
              "\n",
              "                                              labels  \n",
              "0                        [3, 0, 7, 0, 0, 0, 7, 0, 0]  \n",
              "1                                             [1, 2]  \n",
              "2                                             [5, 0]  \n",
              "3  [0, 3, 4, 0, 0, 0, 0, 0, 0, 7, 0, 0, 0, 0, 0, ...  \n",
              "4  [5, 0, 0, 0, 0, 3, 4, 0, 0, 0, 1, 2, 0, 0, 0, ...  "
            ],
            "text/html": [
              "\n",
              "  <div id=\"df-6401f1ba-f8b5-4190-9055-a25c3e37a45f\" class=\"colab-df-container\">\n",
              "    <div>\n",
              "<style scoped>\n",
              "    .dataframe tbody tr th:only-of-type {\n",
              "        vertical-align: middle;\n",
              "    }\n",
              "\n",
              "    .dataframe tbody tr th {\n",
              "        vertical-align: top;\n",
              "    }\n",
              "\n",
              "    .dataframe thead th {\n",
              "        text-align: right;\n",
              "    }\n",
              "</style>\n",
              "<table border=\"1\" class=\"dataframe\">\n",
              "  <thead>\n",
              "    <tr style=\"text-align: right;\">\n",
              "      <th></th>\n",
              "      <th>tokens</th>\n",
              "      <th>labels</th>\n",
              "    </tr>\n",
              "  </thead>\n",
              "  <tbody>\n",
              "    <tr>\n",
              "      <th>0</th>\n",
              "      <td>[EU, rejects, German, call, to, boycott, Briti...</td>\n",
              "      <td>[3, 0, 7, 0, 0, 0, 7, 0, 0]</td>\n",
              "    </tr>\n",
              "    <tr>\n",
              "      <th>1</th>\n",
              "      <td>[Peter, Blackburn]</td>\n",
              "      <td>[1, 2]</td>\n",
              "    </tr>\n",
              "    <tr>\n",
              "      <th>2</th>\n",
              "      <td>[BRUSSELS, 1996-08-22]</td>\n",
              "      <td>[5, 0]</td>\n",
              "    </tr>\n",
              "    <tr>\n",
              "      <th>3</th>\n",
              "      <td>[The, European, Commission, said, on, Thursday...</td>\n",
              "      <td>[0, 3, 4, 0, 0, 0, 0, 0, 0, 7, 0, 0, 0, 0, 0, ...</td>\n",
              "    </tr>\n",
              "    <tr>\n",
              "      <th>4</th>\n",
              "      <td>[Germany, 's, representative, to, the, Europea...</td>\n",
              "      <td>[5, 0, 0, 0, 0, 3, 4, 0, 0, 0, 1, 2, 0, 0, 0, ...</td>\n",
              "    </tr>\n",
              "  </tbody>\n",
              "</table>\n",
              "</div>\n",
              "    <div class=\"colab-df-buttons\">\n",
              "\n",
              "  <div class=\"colab-df-container\">\n",
              "    <button class=\"colab-df-convert\" onclick=\"convertToInteractive('df-6401f1ba-f8b5-4190-9055-a25c3e37a45f')\"\n",
              "            title=\"Convert this dataframe to an interactive table.\"\n",
              "            style=\"display:none;\">\n",
              "\n",
              "  <svg xmlns=\"http://www.w3.org/2000/svg\" height=\"24px\" viewBox=\"0 -960 960 960\">\n",
              "    <path d=\"M120-120v-720h720v720H120Zm60-500h600v-160H180v160Zm220 220h160v-160H400v160Zm0 220h160v-160H400v160ZM180-400h160v-160H180v160Zm440 0h160v-160H620v160ZM180-180h160v-160H180v160Zm440 0h160v-160H620v160Z\"/>\n",
              "  </svg>\n",
              "    </button>\n",
              "\n",
              "  <style>\n",
              "    .colab-df-container {\n",
              "      display:flex;\n",
              "      gap: 12px;\n",
              "    }\n",
              "\n",
              "    .colab-df-convert {\n",
              "      background-color: #E8F0FE;\n",
              "      border: none;\n",
              "      border-radius: 50%;\n",
              "      cursor: pointer;\n",
              "      display: none;\n",
              "      fill: #1967D2;\n",
              "      height: 32px;\n",
              "      padding: 0 0 0 0;\n",
              "      width: 32px;\n",
              "    }\n",
              "\n",
              "    .colab-df-convert:hover {\n",
              "      background-color: #E2EBFA;\n",
              "      box-shadow: 0px 1px 2px rgba(60, 64, 67, 0.3), 0px 1px 3px 1px rgba(60, 64, 67, 0.15);\n",
              "      fill: #174EA6;\n",
              "    }\n",
              "\n",
              "    .colab-df-buttons div {\n",
              "      margin-bottom: 4px;\n",
              "    }\n",
              "\n",
              "    [theme=dark] .colab-df-convert {\n",
              "      background-color: #3B4455;\n",
              "      fill: #D2E3FC;\n",
              "    }\n",
              "\n",
              "    [theme=dark] .colab-df-convert:hover {\n",
              "      background-color: #434B5C;\n",
              "      box-shadow: 0px 1px 3px 1px rgba(0, 0, 0, 0.15);\n",
              "      filter: drop-shadow(0px 1px 2px rgba(0, 0, 0, 0.3));\n",
              "      fill: #FFFFFF;\n",
              "    }\n",
              "  </style>\n",
              "\n",
              "    <script>\n",
              "      const buttonEl =\n",
              "        document.querySelector('#df-6401f1ba-f8b5-4190-9055-a25c3e37a45f button.colab-df-convert');\n",
              "      buttonEl.style.display =\n",
              "        google.colab.kernel.accessAllowed ? 'block' : 'none';\n",
              "\n",
              "      async function convertToInteractive(key) {\n",
              "        const element = document.querySelector('#df-6401f1ba-f8b5-4190-9055-a25c3e37a45f');\n",
              "        const dataTable =\n",
              "          await google.colab.kernel.invokeFunction('convertToInteractive',\n",
              "                                                    [key], {});\n",
              "        if (!dataTable) return;\n",
              "\n",
              "        const docLinkHtml = 'Like what you see? Visit the ' +\n",
              "          '<a target=\"_blank\" href=https://colab.research.google.com/notebooks/data_table.ipynb>data table notebook</a>'\n",
              "          + ' to learn more about interactive tables.';\n",
              "        element.innerHTML = '';\n",
              "        dataTable['output_type'] = 'display_data';\n",
              "        await google.colab.output.renderOutput(dataTable, element);\n",
              "        const docLink = document.createElement('div');\n",
              "        docLink.innerHTML = docLinkHtml;\n",
              "        element.appendChild(docLink);\n",
              "      }\n",
              "    </script>\n",
              "  </div>\n",
              "\n",
              "\n",
              "<div id=\"df-a8fd4dcc-a0b0-4c8d-b32f-0a173d693702\">\n",
              "  <button class=\"colab-df-quickchart\" onclick=\"quickchart('df-a8fd4dcc-a0b0-4c8d-b32f-0a173d693702')\"\n",
              "            title=\"Suggest charts\"\n",
              "            style=\"display:none;\">\n",
              "\n",
              "<svg xmlns=\"http://www.w3.org/2000/svg\" height=\"24px\"viewBox=\"0 0 24 24\"\n",
              "     width=\"24px\">\n",
              "    <g>\n",
              "        <path d=\"M19 3H5c-1.1 0-2 .9-2 2v14c0 1.1.9 2 2 2h14c1.1 0 2-.9 2-2V5c0-1.1-.9-2-2-2zM9 17H7v-7h2v7zm4 0h-2V7h2v10zm4 0h-2v-4h2v4z\"/>\n",
              "    </g>\n",
              "</svg>\n",
              "  </button>\n",
              "\n",
              "<style>\n",
              "  .colab-df-quickchart {\n",
              "      --bg-color: #E8F0FE;\n",
              "      --fill-color: #1967D2;\n",
              "      --hover-bg-color: #E2EBFA;\n",
              "      --hover-fill-color: #174EA6;\n",
              "      --disabled-fill-color: #AAA;\n",
              "      --disabled-bg-color: #DDD;\n",
              "  }\n",
              "\n",
              "  [theme=dark] .colab-df-quickchart {\n",
              "      --bg-color: #3B4455;\n",
              "      --fill-color: #D2E3FC;\n",
              "      --hover-bg-color: #434B5C;\n",
              "      --hover-fill-color: #FFFFFF;\n",
              "      --disabled-bg-color: #3B4455;\n",
              "      --disabled-fill-color: #666;\n",
              "  }\n",
              "\n",
              "  .colab-df-quickchart {\n",
              "    background-color: var(--bg-color);\n",
              "    border: none;\n",
              "    border-radius: 50%;\n",
              "    cursor: pointer;\n",
              "    display: none;\n",
              "    fill: var(--fill-color);\n",
              "    height: 32px;\n",
              "    padding: 0;\n",
              "    width: 32px;\n",
              "  }\n",
              "\n",
              "  .colab-df-quickchart:hover {\n",
              "    background-color: var(--hover-bg-color);\n",
              "    box-shadow: 0 1px 2px rgba(60, 64, 67, 0.3), 0 1px 3px 1px rgba(60, 64, 67, 0.15);\n",
              "    fill: var(--button-hover-fill-color);\n",
              "  }\n",
              "\n",
              "  .colab-df-quickchart-complete:disabled,\n",
              "  .colab-df-quickchart-complete:disabled:hover {\n",
              "    background-color: var(--disabled-bg-color);\n",
              "    fill: var(--disabled-fill-color);\n",
              "    box-shadow: none;\n",
              "  }\n",
              "\n",
              "  .colab-df-spinner {\n",
              "    border: 2px solid var(--fill-color);\n",
              "    border-color: transparent;\n",
              "    border-bottom-color: var(--fill-color);\n",
              "    animation:\n",
              "      spin 1s steps(1) infinite;\n",
              "  }\n",
              "\n",
              "  @keyframes spin {\n",
              "    0% {\n",
              "      border-color: transparent;\n",
              "      border-bottom-color: var(--fill-color);\n",
              "      border-left-color: var(--fill-color);\n",
              "    }\n",
              "    20% {\n",
              "      border-color: transparent;\n",
              "      border-left-color: var(--fill-color);\n",
              "      border-top-color: var(--fill-color);\n",
              "    }\n",
              "    30% {\n",
              "      border-color: transparent;\n",
              "      border-left-color: var(--fill-color);\n",
              "      border-top-color: var(--fill-color);\n",
              "      border-right-color: var(--fill-color);\n",
              "    }\n",
              "    40% {\n",
              "      border-color: transparent;\n",
              "      border-right-color: var(--fill-color);\n",
              "      border-top-color: var(--fill-color);\n",
              "    }\n",
              "    60% {\n",
              "      border-color: transparent;\n",
              "      border-right-color: var(--fill-color);\n",
              "    }\n",
              "    80% {\n",
              "      border-color: transparent;\n",
              "      border-right-color: var(--fill-color);\n",
              "      border-bottom-color: var(--fill-color);\n",
              "    }\n",
              "    90% {\n",
              "      border-color: transparent;\n",
              "      border-bottom-color: var(--fill-color);\n",
              "    }\n",
              "  }\n",
              "</style>\n",
              "\n",
              "  <script>\n",
              "    async function quickchart(key) {\n",
              "      const quickchartButtonEl =\n",
              "        document.querySelector('#' + key + ' button');\n",
              "      quickchartButtonEl.disabled = true;  // To prevent multiple clicks.\n",
              "      quickchartButtonEl.classList.add('colab-df-spinner');\n",
              "      try {\n",
              "        const charts = await google.colab.kernel.invokeFunction(\n",
              "            'suggestCharts', [key], {});\n",
              "      } catch (error) {\n",
              "        console.error('Error during call to suggestCharts:', error);\n",
              "      }\n",
              "      quickchartButtonEl.classList.remove('colab-df-spinner');\n",
              "      quickchartButtonEl.classList.add('colab-df-quickchart-complete');\n",
              "    }\n",
              "    (() => {\n",
              "      let quickchartButtonEl =\n",
              "        document.querySelector('#df-a8fd4dcc-a0b0-4c8d-b32f-0a173d693702 button');\n",
              "      quickchartButtonEl.style.display =\n",
              "        google.colab.kernel.accessAllowed ? 'block' : 'none';\n",
              "    })();\n",
              "  </script>\n",
              "</div>\n",
              "    </div>\n",
              "  </div>\n"
            ]
          },
          "metadata": {},
          "execution_count": 12
        },
        {
          "output_type": "stream",
          "name": "stdout",
          "text": [
            "time: 910 ms (started: 2023-11-11 02:59:20 +00:00)\n"
          ]
        }
      ]
    },
    {
      "cell_type": "markdown",
      "source": [
        "## Word to index mapper\n",
        "   - Uses the `Counter` class from the `collections` module to count the occurrences of words in the dataset.\n",
        "   - Discards words with frequencies below a specified threshold (`DatasetConfig.THRESHOLD`).\n",
        "   - Generates indexes for the remaining words, starting from index 2.\n",
        "   - Adds special tokens (`PAD_TOKEN` and `UNKNOWN_TOKEN`) with their respective indexes (0 and 1) to the word-to-index mapping.\n",
        "   - The purpose is to create a mapping between words and their corresponding indexes."
      ],
      "metadata": {
        "id": "-Wg34IRRGAEV"
      }
    },
    {
      "cell_type": "code",
      "source": [
        "def generate_word_indexing(dataset, threshold):\n",
        "    # Count occurences of the words using itertools and Counter\n",
        "    word_frequency = Counter(itertools.chain(*dataset))\n",
        "\n",
        "    # Discard words with frequency below threshold\n",
        "    word_frequency = {\n",
        "        word: freq\n",
        "        for word, freq in word_frequency.items()\n",
        "        if freq >= threshold\n",
        "    }\n",
        "\n",
        "    # Generate indexes\n",
        "    word2idx = {\n",
        "        word: index\n",
        "        for index, word in enumerate(word_frequency.keys(), start=2)\n",
        "    }\n",
        "\n",
        "    # Add special tokens\n",
        "    word2idx[DatasetConfig.PAD_TOKEN] = 0\n",
        "    word2idx[DatasetConfig.UNKNOWN_TOKEN] = 1\n",
        "\n",
        "    return word2idx\n",
        "\n",
        "word2idx = generate_word_indexing(dataset['train']['tokens'], threshold=DatasetConfig.THRESHOLD)"
      ],
      "metadata": {
        "colab": {
          "base_uri": "https://localhost:8080/",
          "height": 0
        },
        "id": "0ut-q0pXy8Rv",
        "outputId": "3e7976a0-b074-4ab3-e6ee-4b4245e919e4"
      },
      "execution_count": 13,
      "outputs": [
        {
          "output_type": "stream",
          "name": "stdout",
          "text": [
            "time: 330 ms (started: 2023-11-11 02:59:21 +00:00)\n"
          ]
        }
      ]
    },
    {
      "cell_type": "markdown",
      "source": [
        "## Create GloVe Embeddings Matrix\n",
        "1. **Initialization**:\n",
        "   - Initializes an embedding matrix with zeros, where the number of rows is the length of `word2idx` (vocabulary size) and the number of columns is the specified `embedding_dim` (e.g., `DatasetConfig.embedding_size`).\n",
        "\n",
        "2. **Embedding Matrix Population**:\n",
        "   - Iterates through each word in the `word2idx` mapping.\n",
        "   - If the word is present in the pre-trained GloVe embeddings (`glove_emb_dict`), its corresponding vector is used in the embedding matrix.\n",
        "   - If the word is not found, the vector for the `UNKNOWN_TOKEN` is used."
      ],
      "metadata": {
        "id": "zg0MRz2_osQh"
      }
    },
    {
      "cell_type": "code",
      "source": [
        "def create_glove_embedding_matrix(word2idx, glove_emb_dict, embedding_dim):\n",
        "    embedding_matrix = np.zeros((len(word2idx), embedding_dim))\n",
        "\n",
        "    for word, idx in word2idx.items():\n",
        "        if word in glove_emb_dict:\n",
        "            embedding_matrix[idx] = glove_emb_dict[word]\n",
        "        else:\n",
        "            embedding_matrix[idx] = glove_emb_dict[DatasetConfig.UNKNOWN_TOKEN]\n",
        "\n",
        "    return embedding_matrix\n",
        "\n",
        "glove_embedding_matrix = create_glove_embedding_matrix(glove_word2idx, glove_emb_dict, DatasetConfig.embedding_size)"
      ],
      "metadata": {
        "colab": {
          "base_uri": "https://localhost:8080/",
          "height": 0
        },
        "id": "KS3onGc-nxyL",
        "outputId": "e3cae8f6-861e-4a3a-8919-071818f8267c"
      },
      "execution_count": 14,
      "outputs": [
        {
          "output_type": "stream",
          "name": "stdout",
          "text": [
            "time: 1.07 s (started: 2023-11-11 02:59:22 +00:00)\n"
          ]
        }
      ]
    },
    {
      "cell_type": "markdown",
      "source": [
        "# Create a Pytorch dataset\n",
        "\n",
        "1. **Data Class**:\n",
        "   - A `DatasetItem` data class is defined using the `@dataclass` decorator. It represents an item in the dataset and contains:\n",
        "     - `embeddings`: Torch tensor representing token embeddings.\n",
        "     - `targets`: Torch tensor representing target labels.\n",
        "     - `original_length`: Integer representing the original length of the sequence.\n",
        "\n",
        "5. **Tokenization Method (tokenize)**:\n",
        "   - Converts tokens to their respective indexes using the provided tokenizer.\n",
        "   - Handles different embedding types (custom, glove).\n",
        "\n",
        "6. **__getitem__ Method**:\n",
        "   - Overrides the `__getitem__` method to get an item from the dataset at the specified index.\n",
        "   - Tokenizes input tokens and converts them to indexes.\n",
        "   - Returns a `DatasetItem` containing Torch tensors for embeddings, targets, and the original length of the sequence."
      ],
      "metadata": {
        "id": "lA4f4wc-6oto"
      }
    },
    {
      "cell_type": "code",
      "source": [
        "@dataclass\n",
        "class DatasetItem:\n",
        "    embeddings: torch.Tensor\n",
        "    targets: torch.Tensor\n",
        "    original_length: int\n",
        "\n",
        "\n",
        "class NERDatasetCustom(Dataset):\n",
        "    def __init__(self, dataset, split, tokenizer, embedding_type=\"custom\"):\n",
        "        self.name = DatasetConfig.name\n",
        "        self.dataset = dataset[split]\n",
        "        self.tokenizer = tokenizer\n",
        "\n",
        "        # Options: [custom, glove, transformer]\n",
        "        self.embedding_type = embedding_type\n",
        "\n",
        "    def __len__(self):\n",
        "        return self.dataset.num_rows\n",
        "\n",
        "    def tokenize(self, tokens):\n",
        "        \"\"\"\n",
        "        Code to convert all tokens to their respective indexes\n",
        "        \"\"\"\n",
        "        if self.embedding_type == \"glove\":\n",
        "            return [\n",
        "                self.tokenizer.get(token.lower(), self.tokenizer[DatasetConfig.UNKNOWN_TOKEN])\n",
        "                for token in tokens\n",
        "            ]\n",
        "        return [\n",
        "            self.tokenizer.get(token, self.tokenizer[DatasetConfig.UNKNOWN_TOKEN])\n",
        "            for token in tokens\n",
        "        ]\n",
        "\n",
        "    def __getitem__(self, idx):\n",
        "        if idx >= self.__len__():\n",
        "            raise IndexError\n",
        "\n",
        "        item = self.dataset[idx]\n",
        "\n",
        "        item[\"input_ids\"] = self.tokenize(item[\"tokens\"])\n",
        "\n",
        "        embeddings = item[\"input_ids\"]\n",
        "        targets = item[\"labels\"]\n",
        "        seq_len = len(targets)\n",
        "\n",
        "        return DatasetItem(\n",
        "            torch.tensor(embeddings, dtype=torch.long),\n",
        "            torch.tensor(targets, dtype=torch.long),\n",
        "            seq_len\n",
        "        )"
      ],
      "metadata": {
        "colab": {
          "base_uri": "https://localhost:8080/",
          "height": 0
        },
        "id": "6ZMndSSCCYKI",
        "outputId": "efd6e31d-2819-41b6-dd38-fb695afbfb68"
      },
      "execution_count": 15,
      "outputs": [
        {
          "output_type": "stream",
          "name": "stdout",
          "text": [
            "time: 4.49 ms (started: 2023-11-11 02:59:23 +00:00)\n"
          ]
        }
      ]
    },
    {
      "cell_type": "markdown",
      "source": [
        "**`collate_fn`**:\n",
        "  - Handles padding for sequences in the dataset (`embeddings` and `targets`).\n",
        "  - Iterates through each item in the dataset to extract `embeddings`, `targets`, and `original_length`.\n",
        "  - Uses `nn.utils.rnn.pad_sequence` to pad the `embeddings` and `targets` sequences to the maximum length in the batch.\n",
        "\n",
        "**`collate_fn_transformer`:**\n",
        "  - Extends the functionality of `collate_fn` for transformer models by incorporating attention mask handling.\n",
        "  - Creates an key padding mask (`src_key_padding_mask`) based on the padded embeddings.\n",
        "  - Utilizes the attention mask to handle padding for the source sequence in transformers.\n"
      ],
      "metadata": {
        "id": "GuW5WdmAQUjO"
      }
    },
    {
      "cell_type": "code",
      "source": [
        "def collate_fn(data: DatasetItem, tokenizer: dict):\n",
        "    \"\"\"\n",
        "    Collate function for handling padding\n",
        "    \"\"\"\n",
        "    embeddings, targets, og_len = [], [], []\n",
        "\n",
        "    for item in data:\n",
        "        embeddings.append(item.embeddings)\n",
        "        targets.append(item.targets)\n",
        "        og_len.append(item.original_length)\n",
        "\n",
        "    # Pad the embeddings sequence\n",
        "    embeddings = nn.utils.rnn.pad_sequence(\n",
        "        embeddings, batch_first=True, padding_value=tokenizer[DatasetConfig.PAD_TOKEN]\n",
        "    )\n",
        "    # Pad the targets sequence\n",
        "    targets = nn.utils.rnn.pad_sequence(\n",
        "        targets, batch_first=True, padding_value=DatasetConfig.SPECIAL_TOKEN_TAG\n",
        "    )\n",
        "\n",
        "    return {\"embeddings\": embeddings, \"targets\": targets, \"original_length\": og_len}\n",
        "\n",
        "\n",
        "def collate_fn_transformer(data: DatasetItem, tokenizer: dict):\n",
        "    \"\"\"\n",
        "    Collate function for handling padding and creating attention mask\n",
        "    \"\"\"\n",
        "    embeddings, targets, og_len = [], [], []\n",
        "\n",
        "    for item in data:\n",
        "        embeddings.append(item.embeddings)\n",
        "        targets.append(item.targets)\n",
        "        og_len.append(item.original_length)\n",
        "\n",
        "\n",
        "    # Pad the embeddings sequence\n",
        "    embeddings = nn.utils.rnn.pad_sequence(\n",
        "        embeddings, batch_first=True, padding_value=tokenizer[DatasetConfig.PAD_TOKEN]\n",
        "    )\n",
        "    # Create attention mask\n",
        "    src_key_padding_mask = (embeddings != tokenizer[DatasetConfig.PAD_TOKEN]).float().t()\n",
        "    # Pad the targets sequence\n",
        "    targets = nn.utils.rnn.pad_sequence(\n",
        "        targets, batch_first=True, padding_value=DatasetConfig.SPECIAL_TOKEN_TAG\n",
        "    )\n",
        "\n",
        "    return {\n",
        "        \"embeddings\": embeddings,\n",
        "        \"targets\": targets,\n",
        "        \"src_key_padding_mask\": src_key_padding_mask,\n",
        "        \"original_length\": og_len\n",
        "    }"
      ],
      "metadata": {
        "colab": {
          "base_uri": "https://localhost:8080/",
          "height": 0
        },
        "id": "dHmM5TkEKDiV",
        "outputId": "0adc0029-e37e-4774-b93b-0b116f6e7206"
      },
      "execution_count": 16,
      "outputs": [
        {
          "output_type": "stream",
          "name": "stdout",
          "text": [
            "time: 1.08 ms (started: 2023-11-11 02:59:23 +00:00)\n"
          ]
        }
      ]
    },
    {
      "cell_type": "markdown",
      "source": [
        "# Training & Evaluation loop\n",
        "\n",
        "**`train_and_evaluate`:**\n",
        "  - Train and evaluate a neural network model using the specified parameters.\n",
        "  - Iterates through epochs and batches for training.\n",
        "  - Applies gradient clipping to prevent exploding gradients.\n",
        "  - Evaluates the model on the validation set after each epoch.\n",
        "  - Saves model checkpoints and best model based on validation loss.\n",
        "  - Implements early stopping.\n",
        "  - Returns the best model based on validation loss.\n",
        "\n",
        "**`evaluate_model`:**\n",
        "  - Evaluate a trained model on a given data loader.\n",
        "  - Unpads the sequences using the original length obtained from data loader.\n",
        "  - Computes precision, recall, and F1 score using the `evaluate` function.\n",
        "  - Transforms predictions and labels into human-readable format.\n",
        "  - Returns precision, recall, and F1 score."
      ],
      "metadata": {
        "id": "3C0qbxhsTfyR"
      }
    },
    {
      "cell_type": "code",
      "source": [
        "def train_and_evaluate(\n",
        "    model,\n",
        "    train_data_loader, valid_data_loader,\n",
        "    optimizer, loss_fn,\n",
        "    device,\n",
        "    num_epochs,\n",
        "    checkpoint=False,\n",
        "    path=\"model.pt\",\n",
        "    early_stopping_patience=5,\n",
        "    model_type=\"lstm\"\n",
        "):\n",
        "    \"\"\"\n",
        "    Trains and evaluates the model.\n",
        "\n",
        "    Args:\n",
        "        model (nn.Module): The neural network model.\n",
        "        train_data_loader (DataLoader): The DataLoader for training data.\n",
        "        valid_data_loader (DataLoader): The DataLoader for validation data.\n",
        "        optimizer (torch.optim): The optimizer for updating model weights.\n",
        "        loss_fn: The loss function.\n",
        "        device (torch.device): The device to perform computations.\n",
        "        num_epochs (int): The number of epochs.\n",
        "        checkpoint (bool, optional): Whether to save model checkpoints.\n",
        "        path (str, optional): The path to save the model.\n",
        "        early_stopping_patience (int, optional): Number of epochs to wait before early stopping.\n",
        "        model_type (str, optional): Type of the model (\"lstm\" or \"transformer\").\n",
        "\n",
        "    Returns:\n",
        "        nn.Module: The best model.\n",
        "\n",
        "    \"\"\"\n",
        "    # Create directory for saving checkpoint model states\n",
        "    if checkpoint:\n",
        "        dirname = path.split(\".\")[0]\n",
        "        checkpoint_path = os.path.join(dirname)\n",
        "        if os.path.exists(checkpoint_path):\n",
        "            shutil.rmtree(checkpoint_path)\n",
        "        os.makedirs(dirname)\n",
        "\n",
        "    best_loss = float('inf')\n",
        "    no_improvement_count = 0\n",
        "    best_model = None\n",
        "\n",
        "    for epoch in range(num_epochs):\n",
        "        # Train Step\n",
        "        model.train()\n",
        "        train_loss = 0.0\n",
        "\n",
        "        progress_bar = tqdm(train_data_loader, desc=f'Epoch {epoch+1}/{num_epochs}')\n",
        "\n",
        "        for batch in progress_bar:\n",
        "            embeddings = batch['embeddings'].to(device, dtype=torch.long, non_blocking=True)\n",
        "            labels = batch['targets'].to(device, dtype=torch.long, non_blocking=True)\n",
        "            seq_lengths = batch[\"original_length\"]\n",
        "\n",
        "            optimizer.zero_grad()\n",
        "\n",
        "            if model_type == \"lstm\":\n",
        "                outputs = model(embeddings, seq_lengths)\n",
        "            elif model_type == \"transformer\":\n",
        "                src_key_padding_mask = batch[\"src_key_padding_mask\"].to(\n",
        "                    device, dtype=torch.float, non_blocking=True\n",
        "                )\n",
        "                outputs = model(embeddings, src_key_padding_mask)\n",
        "\n",
        "            outputs = outputs.view(-1, outputs.shape[-1])\n",
        "            labels = labels.view(-1)\n",
        "            loss = loss_fn(outputs, labels)\n",
        "\n",
        "            loss.backward()\n",
        "            # Apply gradient clipping\n",
        "            torch.nn.utils.clip_grad_norm_(model.parameters(), max_norm=1)\n",
        "\n",
        "            optimizer.step()\n",
        "\n",
        "            train_loss += loss.item() * embeddings.size(1)\n",
        "\n",
        "        train_loss /= len(train_data_loader.dataset)\n",
        "\n",
        "        # Validation Step\n",
        "        model.eval()\n",
        "        valid_loss = 0.0\n",
        "\n",
        "        with torch.no_grad():\n",
        "            for batch in valid_data_loader:\n",
        "                embeddings = batch['embeddings'].to(device, dtype=torch.long, non_blocking=True)\n",
        "                labels = batch['targets'].to(device, dtype=torch.long, non_blocking=True)\n",
        "                seq_lengths = batch[\"original_length\"]\n",
        "\n",
        "                if model_type == \"lstm\":\n",
        "                    outputs = model(embeddings, seq_lengths)\n",
        "                elif model_type == \"transformer\":\n",
        "                    src_key_padding_mask = batch[\"src_key_padding_mask\"].to(\n",
        "                    device, dtype=torch.float, non_blocking=True\n",
        "                )\n",
        "                    outputs = model(embeddings, src_key_padding_mask)\n",
        "\n",
        "                outputs = outputs.view(-1, outputs.shape[-1])\n",
        "                labels = labels.view(-1)\n",
        "                loss = loss_fn(outputs, labels)\n",
        "\n",
        "                valid_loss += loss.item() * embeddings.size(1)\n",
        "\n",
        "            valid_loss /= len(valid_data_loader.dataset)\n",
        "\n",
        "        epoch_log = (\n",
        "            f\"Train Loss : {round(train_loss, 4)},\"\n",
        "            f\" Validation Loss: {round(valid_loss, 4)}\"\n",
        "        )\n",
        "        print(epoch_log)\n",
        "\n",
        "        # Check for improvement in validation loss\n",
        "        if valid_loss < best_loss:\n",
        "            # Save checkpoint if needed\n",
        "            if checkpoint:\n",
        "                cp = os.path.join(checkpoint_path, f\"{dirname}_epoch{epoch+1}_loss{valid_loss:.4f}.pt\")\n",
        "                torch.save(model.state_dict(), cp)\n",
        "                print(f\"Validation loss improved from {best_loss:.4f}--->{valid_loss:.4f}\")\n",
        "                print(f\"Saved Checkpoint to '{cp}'\")\n",
        "\n",
        "            best_loss = valid_loss\n",
        "            best_model = model\n",
        "            no_improvement_count = 0\n",
        "        else:\n",
        "            no_improvement_count += 1\n",
        "\n",
        "            # Early stopping condition\n",
        "            if no_improvement_count >= early_stopping_patience:\n",
        "                print(f\"No improvement for {early_stopping_patience} epochs. Stopping early.\")\n",
        "                break\n",
        "\n",
        "    if checkpoint:\n",
        "        # Save the best model\n",
        "        best_model_path = os.path.join(checkpoint_path, f\"{dirname}-best.pt\")\n",
        "        torch.save(best_model.state_dict(), best_model_path)\n",
        "        print(f\"Saved best model to '{os.path.relpath(best_model_path)}'\")\n",
        "\n",
        "    # Save current model\n",
        "    torch.save(model.state_dict(), path)\n",
        "\n",
        "    return best_model\n",
        "\n",
        "\n",
        "def evaluate_model(model, data_loader, device, model_type=\"lstm\"):\n",
        "    all_preds = []\n",
        "    all_labels = []\n",
        "\n",
        "    model.eval()\n",
        "\n",
        "    with torch.no_grad():\n",
        "        for batch in tqdm(data_loader):\n",
        "            embeddings = batch['embeddings'].to(device, dtype=torch.long, non_blocking=True)\n",
        "            labels = batch['targets'].to(device, dtype=torch.long, non_blocking=True)\n",
        "            seq_lengths = batch[\"original_length\"]\n",
        "\n",
        "            if model_type == \"lstm\":\n",
        "                outputs = model(embeddings, seq_lengths)\n",
        "            elif model_type == \"transformer\":\n",
        "                src_key_padding_mask = batch[\"src_key_padding_mask\"].to(\n",
        "                    device, dtype=torch.float, non_blocking=True\n",
        "                )\n",
        "                outputs = model(embeddings, src_key_padding_mask)\n",
        "\n",
        "            preds = torch.argmax(outputs, dim=2)\n",
        "\n",
        "            preds = preds.detach().cpu().numpy()\n",
        "            labels = labels.detach().cpu().numpy()\n",
        "\n",
        "            for pred, label, length in zip(preds, labels, seq_lengths):\n",
        "                pred = [DatasetConfig.ner_idx2tag.get(p, 'O') for p in pred[:length]]\n",
        "                label = [DatasetConfig.ner_idx2tag.get(l, 'O') for l in label[:length]]\n",
        "                all_preds.append(pred)\n",
        "                all_labels.append(label)\n",
        "\n",
        "    # Evaluate using conlleval\n",
        "    precision, recall, f1 = evaluate(\n",
        "        itertools.chain(*all_labels), itertools.chain(*all_preds)\n",
        "    )\n",
        "\n",
        "    return precision, recall, f1"
      ],
      "metadata": {
        "colab": {
          "base_uri": "https://localhost:8080/",
          "height": 0
        },
        "id": "nt-4lai_TrCw",
        "outputId": "28b299eb-7018-4050-8f90-b6def29509ea"
      },
      "execution_count": 17,
      "outputs": [
        {
          "output_type": "stream",
          "name": "stdout",
          "text": [
            "time: 3.42 ms (started: 2023-11-11 02:59:23 +00:00)\n"
          ]
        }
      ]
    },
    {
      "cell_type": "markdown",
      "source": [
        "# Training Config"
      ],
      "metadata": {
        "id": "jDOeDp4mTivQ"
      }
    },
    {
      "cell_type": "code",
      "source": [
        "TRAIN_BATCH_SIZE = 256\n",
        "VALID_BATCH_SIZE = 64\n",
        "TEST_BATCH_SIZE = 32\n",
        "NUM_EPOCHS = 5"
      ],
      "metadata": {
        "colab": {
          "base_uri": "https://localhost:8080/",
          "height": 0
        },
        "id": "a0OfzGznuSuw",
        "outputId": "000ac694-2176-4f18-dae0-9b7a3007c6a5"
      },
      "execution_count": 18,
      "outputs": [
        {
          "output_type": "stream",
          "name": "stdout",
          "text": [
            "time: 855 µs (started: 2023-11-11 02:59:23 +00:00)\n"
          ]
        }
      ]
    },
    {
      "cell_type": "markdown",
      "source": [
        "# Model Architectures"
      ],
      "metadata": {
        "id": "XOErqbHrUhJh"
      }
    },
    {
      "cell_type": "markdown",
      "source": [
        "## Bidirectional LSTM model"
      ],
      "metadata": {
        "id": "6sYgZyHMcTpx"
      }
    },
    {
      "cell_type": "code",
      "source": [
        "class BiLSTM(nn.Module):\n",
        "    def __init__(\n",
        "        self, vocab_size, embedding_dim, num_tags,\n",
        "        hidden_size, num_layers, lstm_output_size, dropout_val,\n",
        "        embeddings_matrix = None\n",
        "\n",
        "    ):\n",
        "        \"\"\"\n",
        "        Recurrent Neural Network (RNN) model for sequence data processing.\n",
        "\n",
        "        Args:\n",
        "            vocab_size (int): Size of vocabulary\n",
        "            embedding_dim (int): Dimension of the input features.\n",
        "            num_tags (int): Number of output classes.\n",
        "            hidden_size (int): Number of units in the hidden layers.\n",
        "            num_layers (int): Number of recurrent layers.\n",
        "            lstm_output_size (int): Size of the output from the LSTM layer.\n",
        "            dropout_val (float): Dropout probability.\n",
        "            embeddings_matrix (np.array): Pretrained embeddings matrix. Default is None\n",
        "\n",
        "        \"\"\"\n",
        "        super(BiLSTM, self).__init__()\n",
        "\n",
        "        # Model Attributes\n",
        "        self.hidden_size = hidden_size\n",
        "        self.num_layers = num_layers\n",
        "\n",
        "        # Model Layer Definition\n",
        "        if embeddings_matrix is not None:\n",
        "            self.embedding = nn.Embedding.from_pretrained(\n",
        "                torch.from_numpy(embeddings_matrix).float(),\n",
        "                freeze=True\n",
        "            )\n",
        "        else:\n",
        "            self.embedding = nn.Embedding(vocab_size, embedding_dim)\n",
        "\n",
        "        self.lstm = nn.LSTM(\n",
        "            embedding_dim, hidden_size, num_layers, batch_first=True, bidirectional=True\n",
        "        )\n",
        "\n",
        "        self.fc = nn.Linear(hidden_size * 2, lstm_output_size)\n",
        "        self.dropout = nn.Dropout(dropout_val)\n",
        "        self.elu = nn.ELU(alpha=0.01)\n",
        "        self.classifier = nn.Linear(lstm_output_size, num_tags)\n",
        "\n",
        "    def init_hidden(self, batch_size):\n",
        "        hidden = (\n",
        "            torch.zeros(self.num_layers * 2, batch_size, self.hidden_size).to(device),\n",
        "            torch.zeros(self.num_layers * 2, batch_size, self.hidden_size).to(device)\n",
        "        )\n",
        "        return hidden\n",
        "\n",
        "    def forward(self, x, seq_len):\n",
        "        batch_size = x.size(0)\n",
        "        hidden = self.init_hidden(batch_size)\n",
        "\n",
        "        # Embedding Layer\n",
        "        embeds = self.embedding(x).float()\n",
        "\n",
        "        # LSTM layer\n",
        "        packed_embeds = nn.utils.rnn.pack_padded_sequence(\n",
        "            embeds, seq_len, batch_first=True, enforce_sorted=False\n",
        "        )\n",
        "        out, _ = self.lstm(packed_embeds, hidden)\n",
        "        out, _ = nn.utils.rnn.pad_packed_sequence(out, batch_first=True)\n",
        "\n",
        "        # Apply fully connected layer for final prediction\n",
        "        out = self.dropout(out)\n",
        "        out = self.fc(out)\n",
        "        out = self.elu(out)\n",
        "        out = self.classifier(out)\n",
        "\n",
        "        return out"
      ],
      "metadata": {
        "colab": {
          "base_uri": "https://localhost:8080/"
        },
        "id": "jFIWWqElUqfm",
        "outputId": "ed345c97-35e6-464f-a9fd-7312935f4c03"
      },
      "execution_count": null,
      "outputs": [
        {
          "output_type": "stream",
          "name": "stdout",
          "text": [
            "time: 12.7 ms (started: 2023-11-10 22:51:08 +00:00)\n"
          ]
        }
      ]
    },
    {
      "cell_type": "markdown",
      "source": [
        "## Transformer Encoder model"
      ],
      "metadata": {
        "id": "t1XaiD1Gcb_H"
      }
    },
    {
      "cell_type": "code",
      "source": [
        "class PositionalEncoding(nn.Module):\n",
        "    def __init__(self, d_model, dropout: float, max_len=512):\n",
        "        \"\"\"\n",
        "        Positional encoding module for transformer input.\n",
        "\n",
        "        Args:\n",
        "            d_model (int): Dimension of the model.\n",
        "            max_len (int): Maximum length of the input sequence.\n",
        "        \"\"\"\n",
        "        super(PositionalEncoding, self).__init__()\n",
        "\n",
        "        # Create positional encoding matrix\n",
        "        self.encoding = torch.zeros(max_len, d_model)\n",
        "        position = torch.arange(0, max_len).unsqueeze(1).float()\n",
        "        div_term = torch.exp(torch.arange(0, d_model, 2).float() * -(math.log(10000.0) / d_model))\n",
        "\n",
        "        # Compute sine and cosine components of positional encoding\n",
        "        self.encoding[:, 0::2] = torch.sin(position * div_term)\n",
        "        self.encoding[:, 1::2] = torch.cos(position * div_term)\n",
        "\n",
        "        # Add batch dimension\n",
        "        self.encoding = self.encoding.unsqueeze(0)\n",
        "\n",
        "        self.dropout = nn.Dropout(dropout)\n",
        "        self.register_buffer('pos_embedding', self.encoding)\n",
        "\n",
        "    def forward(self, x):\n",
        "        device = x.device\n",
        "        encoding = self.encoding[:, :x.size(1)].detach().to(device)\n",
        "\n",
        "        # Apply dropout to positional embeddings\n",
        "        encoding = self.dropout(encoding)\n",
        "\n",
        "        return x + encoding\n",
        "\n",
        "class TokenEmbedding(nn.Module):\n",
        "    def __init__(self, vocab_size, d_model):\n",
        "        \"\"\"\n",
        "        Token embedding module for transformer input.\n",
        "\n",
        "        Args:\n",
        "            vocab_size (int): Size of the vocabulary.\n",
        "            d_model (int): Dimension of the model.\n",
        "        \"\"\"\n",
        "        super(TokenEmbedding, self).__init__()\n",
        "        self.embedding = nn.Embedding(vocab_size, d_model)\n",
        "\n",
        "    def forward(self, x):\n",
        "        return self.embedding(x)\n",
        "\n",
        "class TransformerNER(nn.Module):\n",
        "    def __init__(self, vocab_size, d_model, nhead, num_encoder_layers, num_classes, max_len=512):\n",
        "        \"\"\"\n",
        "        Transformer-based NER model.\n",
        "\n",
        "        Args:\n",
        "            vocab_size (int): Size of the vocabulary.\n",
        "            d_model (int): Dimension of the model.\n",
        "            nhead (int): Number of attention heads in the transformer.\n",
        "            num_encoder_layers (int): Number of transformer encoder layers.\n",
        "            num_classes (int): Number of output classes.\n",
        "            max_len (int): Maximum length of the input sequence.\n",
        "        \"\"\"\n",
        "        super(TransformerNER, self).__init__()\n",
        "        self.embedding = TokenEmbedding(vocab_size, d_model)\n",
        "        self.positional_encoding = PositionalEncoding(d_model, 0.25, max_len)\n",
        "        self.transformer_encoder = nn.TransformerEncoder(\n",
        "            nn.TransformerEncoderLayer(d_model, nhead),\n",
        "            num_layers=num_encoder_layers\n",
        "        )\n",
        "        self.fc = nn.Linear(d_model, num_classes)\n",
        "\n",
        "    def forward(self, src, src_key_padding_mask=None):\n",
        "        \"\"\"\n",
        "        Forward pass of the model.\n",
        "\n",
        "        Args:\n",
        "            src (torch.Tensor): Input tensor containing token indices.\n",
        "            src_mask (torch.Tensor, optional): Mask to indicate padding in the input sequence.\n",
        "\n",
        "        Returns:\n",
        "            torch.Tensor: Output tensor.\n",
        "        \"\"\"\n",
        "        x = self.embedding(src)\n",
        "        x = self.positional_encoding(x)\n",
        "        x = self.transformer_encoder(x, src_key_padding_mask=src_key_padding_mask)\n",
        "        x = self.fc(x)\n",
        "        return x"
      ],
      "metadata": {
        "colab": {
          "base_uri": "https://localhost:8080/",
          "height": 0
        },
        "id": "8Q9V9u_pcEjY",
        "outputId": "9d1359ca-c9b3-424d-a9fa-0c3f4931fdec"
      },
      "execution_count": 74,
      "outputs": [
        {
          "output_type": "stream",
          "name": "stdout",
          "text": [
            "time: 2.37 ms (started: 2023-11-11 01:15:20 +00:00)\n"
          ]
        }
      ]
    },
    {
      "cell_type": "markdown",
      "source": [
        "# Training & Evaluation of Models\n",
        "\n",
        "- Data Preprocessing Pipeline\n",
        "    - Prepares the data for training, validation, and testing by creating custom datasets (`NERDatasetCustom`) and corresponding data loaders (`DataLoader`).\n",
        "    - Batch size is provided\n",
        "    - Passed a valid tokenizer for converting words to tokens.\n",
        "    - Data Loader is passed a collator function to perform padding and create masks for respective tasks\n",
        "- Training:\n",
        "    - The train_and_evaluate function is called to train and evaluate the Transformer model.\n",
        "    - Training is performed for `N` epochs with early stopping patience set to `P`.\n",
        "    - Model checkpoints are saved during training.\n",
        "- Evaluation:\n",
        "    - Every model is evaluated on validation and test dataset"
      ],
      "metadata": {
        "id": "tJs_vRMsXgDq"
      }
    },
    {
      "cell_type": "markdown",
      "source": [
        "## Bidirectional LSTM model + Custom Embeddings\n",
        "\n",
        ""
      ],
      "metadata": {
        "id": "j40FSCKwfnLu"
      }
    },
    {
      "cell_type": "code",
      "source": [
        "train_dataset = NERDatasetCustom(\n",
        "    dataset = dataset,\n",
        "    split='train',\n",
        "    tokenizer = word2idx,\n",
        "    embedding_type=\"default\",\n",
        ")\n",
        "\n",
        "valid_dataset = NERDatasetCustom(\n",
        "    dataset = dataset,\n",
        "    split='validation',\n",
        "    tokenizer = word2idx,\n",
        "    embedding_type=\"default\",\n",
        ")\n",
        "\n",
        "test_dataset = NERDatasetCustom(\n",
        "    dataset = dataset,\n",
        "    split='test',\n",
        "    tokenizer = word2idx,\n",
        "    embedding_type=\"default\",\n",
        ")\n",
        "\n",
        "train_data_loader = DataLoader(\n",
        "    train_dataset,\n",
        "    batch_size=TRAIN_BATCH_SIZE,\n",
        "    drop_last=True,\n",
        "    shuffle=True,\n",
        "    collate_fn=lambda x: collate_fn(x, word2idx)\n",
        ")\n",
        "\n",
        "valid_data_loader = DataLoader(\n",
        "    valid_dataset,\n",
        "    batch_size=VALID_BATCH_SIZE,\n",
        "    drop_last=False,\n",
        "    shuffle=True,\n",
        "    collate_fn=lambda x: collate_fn(x, word2idx)\n",
        ")\n",
        "\n",
        "test_data_loader = DataLoader(\n",
        "    test_dataset,\n",
        "    batch_size=TEST_BATCH_SIZE,\n",
        "    drop_last=False,\n",
        "    shuffle=False,\n",
        "    collate_fn=lambda x: collate_fn(x, word2idx)\n",
        ")"
      ],
      "metadata": {
        "colab": {
          "base_uri": "https://localhost:8080/"
        },
        "id": "hN9kBFgmBhQj",
        "outputId": "3670c20f-6675-4927-af96-9c9e675c3e68"
      },
      "execution_count": null,
      "outputs": [
        {
          "output_type": "stream",
          "name": "stdout",
          "text": [
            "time: 1.47 ms (started: 2023-11-10 11:17:06 +00:00)\n"
          ]
        }
      ]
    },
    {
      "cell_type": "code",
      "source": [
        "vocab_size = len(word2idx)\n",
        "embedding_dim = 100\n",
        "hidden_size = 256\n",
        "output_size = 128\n",
        "num_layers = 1\n",
        "dropout_val = 0.33\n",
        "num_tags = DatasetConfig.NUM_NER_TAGS\n",
        "\n",
        "net = BiLSTM(\n",
        "    vocab_size, embedding_dim, num_tags,\n",
        "    hidden_size, num_layers, output_size, dropout_val\n",
        ").to(device)\n",
        "\n",
        "criterion = nn.CrossEntropyLoss(ignore_index=DatasetConfig.SPECIAL_TOKEN_TAG).to(device)\n",
        "# optimizer = optim.Adam(net.parameters(), lr=0.001)\n",
        "# optimizer = optim.SGD(net.parameters(), lr=0.001)\n",
        "optimizer = optim.AdamW(net.parameters(), lr=0.001)\n",
        "# scheduler = torch.optim.lr_scheduler.()\n",
        "\n",
        "best_model = train_and_evaluate(\n",
        "    model=net,\n",
        "    train_data_loader=train_data_loader,\n",
        "    valid_data_loader=valid_data_loader,\n",
        "    optimizer=optimizer,\n",
        "    loss_fn=criterion,\n",
        "    device=device,\n",
        "    num_epochs=50,\n",
        "    checkpoint=True,\n",
        "    path=\"bilstm_custom_embeddings_v7.pt\",\n",
        "    early_stopping_patience=15\n",
        ")"
      ],
      "metadata": {
        "id": "YQH3n55nu2y9",
        "colab": {
          "base_uri": "https://localhost:8080/"
        },
        "outputId": "2124ed7f-4f66-42c3-c81f-aa7f01128f41"
      },
      "execution_count": null,
      "outputs": [
        {
          "output_type": "stream",
          "name": "stderr",
          "text": [
            "Epoch 1/50: 100%|██████████| 54/54 [00:07<00:00,  7.43it/s]\n"
          ]
        },
        {
          "output_type": "stream",
          "name": "stdout",
          "text": [
            "Train Loss : 0.1927, Validation Loss: 0.5405\n",
            "Validation loss improved from inf--->0.5405\n",
            "Saved Checkpoint to 'bilstm_custom_embeddings_v7/bilstm_custom_embeddings_v7_epoch0_loss0.5405.pt'\n"
          ]
        },
        {
          "output_type": "stream",
          "name": "stderr",
          "text": [
            "Epoch 2/50: 100%|██████████| 54/54 [00:04<00:00, 11.41it/s]\n"
          ]
        },
        {
          "output_type": "stream",
          "name": "stdout",
          "text": [
            "Train Loss : 0.1216, Validation Loss: 0.4226\n",
            "Validation loss improved from 0.5405--->0.4226\n",
            "Saved Checkpoint to 'bilstm_custom_embeddings_v7/bilstm_custom_embeddings_v7_epoch1_loss0.4226.pt'\n"
          ]
        },
        {
          "output_type": "stream",
          "name": "stderr",
          "text": [
            "Epoch 3/50: 100%|██████████| 54/54 [00:04<00:00, 11.80it/s]\n"
          ]
        },
        {
          "output_type": "stream",
          "name": "stdout",
          "text": [
            "Train Loss : 0.0915, Validation Loss: 0.3165\n",
            "Validation loss improved from 0.4226--->0.3165\n",
            "Saved Checkpoint to 'bilstm_custom_embeddings_v7/bilstm_custom_embeddings_v7_epoch2_loss0.3165.pt'\n"
          ]
        },
        {
          "output_type": "stream",
          "name": "stderr",
          "text": [
            "Epoch 4/50: 100%|██████████| 54/54 [00:05<00:00,  9.00it/s]\n"
          ]
        },
        {
          "output_type": "stream",
          "name": "stdout",
          "text": [
            "Train Loss : 0.0654, Validation Loss: 0.2354\n",
            "Validation loss improved from 0.3165--->0.2354\n",
            "Saved Checkpoint to 'bilstm_custom_embeddings_v7/bilstm_custom_embeddings_v7_epoch3_loss0.2354.pt'\n"
          ]
        },
        {
          "output_type": "stream",
          "name": "stderr",
          "text": [
            "Epoch 5/50: 100%|██████████| 54/54 [00:04<00:00, 11.79it/s]\n"
          ]
        },
        {
          "output_type": "stream",
          "name": "stdout",
          "text": [
            "Train Loss : 0.0479, Validation Loss: 0.1927\n",
            "Validation loss improved from 0.2354--->0.1927\n",
            "Saved Checkpoint to 'bilstm_custom_embeddings_v7/bilstm_custom_embeddings_v7_epoch4_loss0.1927.pt'\n"
          ]
        },
        {
          "output_type": "stream",
          "name": "stderr",
          "text": [
            "Epoch 6/50: 100%|██████████| 54/54 [00:05<00:00,  9.25it/s]\n"
          ]
        },
        {
          "output_type": "stream",
          "name": "stdout",
          "text": [
            "Train Loss : 0.0362, Validation Loss: 0.1682\n",
            "Validation loss improved from 0.1927--->0.1682\n",
            "Saved Checkpoint to 'bilstm_custom_embeddings_v7/bilstm_custom_embeddings_v7_epoch5_loss0.1682.pt'\n"
          ]
        },
        {
          "output_type": "stream",
          "name": "stderr",
          "text": [
            "Epoch 7/50: 100%|██████████| 54/54 [00:04<00:00, 11.42it/s]\n"
          ]
        },
        {
          "output_type": "stream",
          "name": "stdout",
          "text": [
            "Train Loss : 0.0283, Validation Loss: 0.1525\n",
            "Validation loss improved from 0.1682--->0.1525\n",
            "Saved Checkpoint to 'bilstm_custom_embeddings_v7/bilstm_custom_embeddings_v7_epoch6_loss0.1525.pt'\n"
          ]
        },
        {
          "output_type": "stream",
          "name": "stderr",
          "text": [
            "Epoch 8/50: 100%|██████████| 54/54 [00:04<00:00, 11.59it/s]\n"
          ]
        },
        {
          "output_type": "stream",
          "name": "stdout",
          "text": [
            "Train Loss : 0.0222, Validation Loss: 0.1517\n",
            "Validation loss improved from 0.1525--->0.1517\n",
            "Saved Checkpoint to 'bilstm_custom_embeddings_v7/bilstm_custom_embeddings_v7_epoch7_loss0.1517.pt'\n"
          ]
        },
        {
          "output_type": "stream",
          "name": "stderr",
          "text": [
            "Epoch 9/50: 100%|██████████| 54/54 [00:07<00:00,  7.59it/s]\n"
          ]
        },
        {
          "output_type": "stream",
          "name": "stdout",
          "text": [
            "Train Loss : 0.0182, Validation Loss: 0.1475\n",
            "Validation loss improved from 0.1517--->0.1475\n",
            "Saved Checkpoint to 'bilstm_custom_embeddings_v7/bilstm_custom_embeddings_v7_epoch8_loss0.1475.pt'\n"
          ]
        },
        {
          "output_type": "stream",
          "name": "stderr",
          "text": [
            "Epoch 10/50: 100%|██████████| 54/54 [00:04<00:00, 11.64it/s]\n"
          ]
        },
        {
          "output_type": "stream",
          "name": "stdout",
          "text": [
            "Train Loss : 0.0145, Validation Loss: 0.1437\n",
            "Validation loss improved from 0.1475--->0.1437\n",
            "Saved Checkpoint to 'bilstm_custom_embeddings_v7/bilstm_custom_embeddings_v7_epoch9_loss0.1437.pt'\n"
          ]
        },
        {
          "output_type": "stream",
          "name": "stderr",
          "text": [
            "Epoch 11/50: 100%|██████████| 54/54 [00:06<00:00,  8.76it/s]\n"
          ]
        },
        {
          "output_type": "stream",
          "name": "stdout",
          "text": [
            "Train Loss : 0.0122, Validation Loss: 0.1497\n"
          ]
        },
        {
          "output_type": "stream",
          "name": "stderr",
          "text": [
            "Epoch 12/50: 100%|██████████| 54/54 [00:04<00:00, 11.31it/s]\n"
          ]
        },
        {
          "output_type": "stream",
          "name": "stdout",
          "text": [
            "Train Loss : 0.0097, Validation Loss: 0.155\n"
          ]
        },
        {
          "output_type": "stream",
          "name": "stderr",
          "text": [
            "Epoch 13/50: 100%|██████████| 54/54 [00:04<00:00, 11.15it/s]\n"
          ]
        },
        {
          "output_type": "stream",
          "name": "stdout",
          "text": [
            "Train Loss : 0.0082, Validation Loss: 0.1596\n"
          ]
        },
        {
          "output_type": "stream",
          "name": "stderr",
          "text": [
            "Epoch 14/50: 100%|██████████| 54/54 [00:05<00:00,  9.49it/s]\n"
          ]
        },
        {
          "output_type": "stream",
          "name": "stdout",
          "text": [
            "Train Loss : 0.0063, Validation Loss: 0.1621\n"
          ]
        },
        {
          "output_type": "stream",
          "name": "stderr",
          "text": [
            "Epoch 15/50: 100%|██████████| 54/54 [00:04<00:00, 11.74it/s]\n"
          ]
        },
        {
          "output_type": "stream",
          "name": "stdout",
          "text": [
            "Train Loss : 0.0055, Validation Loss: 0.1753\n"
          ]
        },
        {
          "output_type": "stream",
          "name": "stderr",
          "text": [
            "Epoch 16/50: 100%|██████████| 54/54 [00:05<00:00,  9.25it/s]\n"
          ]
        },
        {
          "output_type": "stream",
          "name": "stdout",
          "text": [
            "Train Loss : 0.0048, Validation Loss: 0.1847\n"
          ]
        },
        {
          "output_type": "stream",
          "name": "stderr",
          "text": [
            "Epoch 17/50: 100%|██████████| 54/54 [00:04<00:00, 11.54it/s]\n"
          ]
        },
        {
          "output_type": "stream",
          "name": "stdout",
          "text": [
            "Train Loss : 0.004, Validation Loss: 0.1963\n"
          ]
        },
        {
          "output_type": "stream",
          "name": "stderr",
          "text": [
            "Epoch 18/50: 100%|██████████| 54/54 [00:04<00:00, 11.94it/s]\n"
          ]
        },
        {
          "output_type": "stream",
          "name": "stdout",
          "text": [
            "Train Loss : 0.0034, Validation Loss: 0.2025\n"
          ]
        },
        {
          "output_type": "stream",
          "name": "stderr",
          "text": [
            "Epoch 19/50: 100%|██████████| 54/54 [00:05<00:00,  9.23it/s]\n"
          ]
        },
        {
          "output_type": "stream",
          "name": "stdout",
          "text": [
            "Train Loss : 0.0029, Validation Loss: 0.2086\n"
          ]
        },
        {
          "output_type": "stream",
          "name": "stderr",
          "text": [
            "Epoch 20/50: 100%|██████████| 54/54 [00:04<00:00, 11.94it/s]\n"
          ]
        },
        {
          "output_type": "stream",
          "name": "stdout",
          "text": [
            "Train Loss : 0.0024, Validation Loss: 0.2274\n"
          ]
        },
        {
          "output_type": "stream",
          "name": "stderr",
          "text": [
            "Epoch 21/50: 100%|██████████| 54/54 [00:05<00:00,  9.65it/s]\n"
          ]
        },
        {
          "output_type": "stream",
          "name": "stdout",
          "text": [
            "Train Loss : 0.0022, Validation Loss: 0.2195\n"
          ]
        },
        {
          "output_type": "stream",
          "name": "stderr",
          "text": [
            "Epoch 22/50: 100%|██████████| 54/54 [00:04<00:00, 11.08it/s]\n"
          ]
        },
        {
          "output_type": "stream",
          "name": "stdout",
          "text": [
            "Train Loss : 0.0021, Validation Loss: 0.2279\n"
          ]
        },
        {
          "output_type": "stream",
          "name": "stderr",
          "text": [
            "Epoch 23/50: 100%|██████████| 54/54 [00:04<00:00, 11.91it/s]\n"
          ]
        },
        {
          "output_type": "stream",
          "name": "stdout",
          "text": [
            "Train Loss : 0.0019, Validation Loss: 0.2432\n"
          ]
        },
        {
          "output_type": "stream",
          "name": "stderr",
          "text": [
            "Epoch 24/50: 100%|██████████| 54/54 [00:05<00:00,  9.10it/s]\n"
          ]
        },
        {
          "output_type": "stream",
          "name": "stdout",
          "text": [
            "Train Loss : 0.0018, Validation Loss: 0.2382\n"
          ]
        },
        {
          "output_type": "stream",
          "name": "stderr",
          "text": [
            "Epoch 25/50: 100%|██████████| 54/54 [00:04<00:00, 11.20it/s]\n"
          ]
        },
        {
          "output_type": "stream",
          "name": "stdout",
          "text": [
            "Train Loss : 0.0016, Validation Loss: 0.2442\n",
            "No improvement for 15 epochs. Stopping early.\n",
            "Saved best model to 'bilstm_custom_embeddings_v7/bilstm_custom_embeddings_v7-best.pt'\n",
            "time: 2min 43s (started: 2023-11-10 11:17:06 +00:00)\n"
          ]
        }
      ]
    },
    {
      "cell_type": "markdown",
      "source": [
        "Evaluate model on Validation set"
      ],
      "metadata": {
        "id": "2Yw2wmIC2-1P"
      }
    },
    {
      "cell_type": "code",
      "source": [
        "precision, recall, f1 = evaluate_model(best_model, valid_data_loader, device)\n",
        "print(f'Precision: {precision:.2f}, Recall: {recall:.2f}, F1 Score: {f1:.2f}')"
      ],
      "metadata": {
        "colab": {
          "base_uri": "https://localhost:8080/"
        },
        "id": "8_kDdr1jPcj3",
        "outputId": "10c04104-5a7c-4f4f-a233-ad92a38d1899"
      },
      "execution_count": null,
      "outputs": [
        {
          "output_type": "stream",
          "name": "stderr",
          "text": [
            "100%|██████████| 51/51 [00:00<00:00, 55.44it/s]\n"
          ]
        },
        {
          "output_type": "stream",
          "name": "stdout",
          "text": [
            "processed 51362 tokens with 5942 phrases; found: 5609 phrases; correct: 4468.\n",
            "accuracy:  77.97%; (non-O)\n",
            "accuracy:  95.55%; precision:  79.66%; recall:  75.19%; FB1:  77.36\n",
            "              LOC: precision:  87.41%; recall:  83.94%; FB1:  85.64  1764\n",
            "             MISC: precision:  74.81%; recall:  74.73%; FB1:  74.77  921\n",
            "              ORG: precision:  73.18%; recall:  67.34%; FB1:  70.14  1234\n",
            "              PER: precision:  78.93%; recall:  72.42%; FB1:  75.54  1690\n",
            "Precision: 79.66, Recall: 75.19, F1 Score: 77.36\n",
            "time: 1.03 s (started: 2023-11-10 11:19:49 +00:00)\n"
          ]
        }
      ]
    },
    {
      "cell_type": "markdown",
      "source": [
        "Evaluate model on Test set"
      ],
      "metadata": {
        "id": "PJju-21u3DG2"
      }
    },
    {
      "cell_type": "code",
      "source": [
        "precision, recall, f1 = evaluate_model(best_model, test_data_loader, device)\n",
        "print(f'Precision: {precision:.2f}, Recall: {recall:.2f}, F1 Score: {f1:.2f}')"
      ],
      "metadata": {
        "colab": {
          "base_uri": "https://localhost:8080/"
        },
        "id": "R4ht1ilm4pBo",
        "outputId": "c7270b55-e01f-4f4d-811a-9cae2b74e0f4"
      },
      "execution_count": null,
      "outputs": [
        {
          "output_type": "stream",
          "name": "stderr",
          "text": [
            "100%|██████████| 108/108 [00:01<00:00, 70.05it/s]\n"
          ]
        },
        {
          "output_type": "stream",
          "name": "stdout",
          "text": [
            "processed 46435 tokens with 5648 phrases; found: 5274 phrases; correct: 3732.\n",
            "accuracy:  70.46%; (non-O)\n",
            "accuracy:  93.39%; precision:  70.76%; recall:  66.08%; FB1:  68.34\n",
            "              LOC: precision:  81.46%; recall:  76.68%; FB1:  79.00  1570\n",
            "             MISC: precision:  61.89%; recall:  63.39%; FB1:  62.63  719\n",
            "              ORG: precision:  65.31%; recall:  59.96%; FB1:  62.52  1525\n",
            "              PER: precision:  69.32%; recall:  62.59%; FB1:  65.78  1460\n",
            "Precision: 70.76, Recall: 66.08, F1 Score: 68.34\n",
            "time: 1.71 s (started: 2023-11-10 11:19:50 +00:00)\n"
          ]
        }
      ]
    },
    {
      "cell_type": "markdown",
      "source": [
        "## Bidirectional LSTM Model + Glove Embeddings"
      ],
      "metadata": {
        "id": "vjfXfbX-Ov2Y"
      }
    },
    {
      "cell_type": "code",
      "source": [
        "train_dataset = NERDatasetCustom(\n",
        "    dataset = dataset,\n",
        "    split='train',\n",
        "    tokenizer = glove_word2idx,\n",
        "    embedding_type=\"glove\",\n",
        ")\n",
        "\n",
        "valid_dataset = NERDatasetCustom(\n",
        "    dataset = dataset,\n",
        "    split='validation',\n",
        "    tokenizer = glove_word2idx,\n",
        "    embedding_type=\"glove\",\n",
        ")\n",
        "\n",
        "test_dataset = NERDatasetCustom(\n",
        "    dataset = dataset,\n",
        "    split='test',\n",
        "    tokenizer = glove_word2idx,\n",
        "    embedding_type=\"glove\",\n",
        ")\n",
        "\n",
        "train_data_loader = DataLoader(\n",
        "    train_dataset,\n",
        "    batch_size=TRAIN_BATCH_SIZE,\n",
        "    drop_last=True,\n",
        "    shuffle=True,\n",
        "    collate_fn=lambda x: collate_fn(x, glove_word2idx)\n",
        ")\n",
        "\n",
        "valid_data_loader = DataLoader(\n",
        "    valid_dataset,\n",
        "    batch_size=VALID_BATCH_SIZE,\n",
        "    drop_last=False,\n",
        "    shuffle=True,\n",
        "    collate_fn=lambda x: collate_fn(x, glove_word2idx)\n",
        ")\n",
        "\n",
        "test_data_loader = DataLoader(\n",
        "    test_dataset,\n",
        "    batch_size=TEST_BATCH_SIZE,\n",
        "    drop_last=False,\n",
        "    shuffle=False,\n",
        "    collate_fn=lambda x: collate_fn(x, glove_word2idx)\n",
        ")"
      ],
      "metadata": {
        "colab": {
          "base_uri": "https://localhost:8080/",
          "height": 0
        },
        "id": "pGpZwYaHO4-x",
        "outputId": "f14fc5d0-f640-47b2-ba42-6eb39f3c7d1b"
      },
      "execution_count": 79,
      "outputs": [
        {
          "output_type": "stream",
          "name": "stdout",
          "text": [
            "time: 1.02 ms (started: 2023-11-11 01:31:10 +00:00)\n"
          ]
        }
      ]
    },
    {
      "cell_type": "code",
      "source": [
        "vocab_size = len(glove_word2idx)\n",
        "embedding_dim = 100\n",
        "hidden_size = 256\n",
        "output_size = 128\n",
        "num_layers = 1\n",
        "dropout_val = 0.33\n",
        "num_tags = DatasetConfig.NUM_NER_TAGS\n",
        "\n",
        "net_with_glove = BiLSTM(\n",
        "    vocab_size, embedding_dim, num_tags,\n",
        "    hidden_size, num_layers, output_size, dropout_val,\n",
        "    glove_embedding_matrix\n",
        ").to(device)\n",
        "\n",
        "criterion = nn.CrossEntropyLoss(ignore_index=DatasetConfig.SPECIAL_TOKEN_TAG).to(device)\n",
        "# optimizer = optim.Adam(net_with_glove.parameters(), lr=0.001)\n",
        "# optimizer = optim.SGD(net_with_glove.parameters(), lr=0.001)\n",
        "optimizer = optim.AdamW(net_with_glove.parameters(), lr=0.001)\n",
        "\n",
        "best_model_glove = train_and_evaluate(\n",
        "    model=net_with_glove,\n",
        "    train_data_loader=train_data_loader,\n",
        "    valid_data_loader=valid_data_loader,\n",
        "    optimizer=optimizer,\n",
        "    loss_fn=criterion,\n",
        "    device=device,\n",
        "    num_epochs=50,\n",
        "    checkpoint=True,\n",
        "    path=\"bilstm_glove_embeddings_v2.pt\",\n",
        "    early_stopping_patience=15\n",
        ")"
      ],
      "metadata": {
        "colab": {
          "base_uri": "https://localhost:8080/",
          "height": 0
        },
        "id": "hI2zbU8r2fnF",
        "outputId": "f1a0e1d5-0adf-47b6-fac3-42c7a3ebb8c9"
      },
      "execution_count": 80,
      "outputs": [
        {
          "output_type": "stream",
          "name": "stderr",
          "text": [
            "Epoch 1/50: 100%|██████████| 54/54 [00:06<00:00,  8.13it/s]\n"
          ]
        },
        {
          "output_type": "stream",
          "name": "stdout",
          "text": [
            "Train Loss : 0.1636, Validation Loss: 0.4487\n",
            "Validation loss improved from inf--->0.4487\n",
            "Saved Checkpoint to 'bilstm_glove_embeddings_v2/bilstm_glove_embeddings_v2_epoch0_loss0.4487.pt'\n"
          ]
        },
        {
          "output_type": "stream",
          "name": "stderr",
          "text": [
            "Epoch 2/50: 100%|██████████| 54/54 [00:05<00:00,  9.47it/s]\n"
          ]
        },
        {
          "output_type": "stream",
          "name": "stdout",
          "text": [
            "Train Loss : 0.079, Validation Loss: 0.2262\n",
            "Validation loss improved from 0.4487--->0.2262\n",
            "Saved Checkpoint to 'bilstm_glove_embeddings_v2/bilstm_glove_embeddings_v2_epoch1_loss0.2262.pt'\n"
          ]
        },
        {
          "output_type": "stream",
          "name": "stderr",
          "text": [
            "Epoch 3/50: 100%|██████████| 54/54 [00:05<00:00,  9.78it/s]\n"
          ]
        },
        {
          "output_type": "stream",
          "name": "stdout",
          "text": [
            "Train Loss : 0.0468, Validation Loss: 0.1535\n",
            "Validation loss improved from 0.2262--->0.1535\n",
            "Saved Checkpoint to 'bilstm_glove_embeddings_v2/bilstm_glove_embeddings_v2_epoch2_loss0.1535.pt'\n"
          ]
        },
        {
          "output_type": "stream",
          "name": "stderr",
          "text": [
            "Epoch 4/50: 100%|██████████| 54/54 [00:07<00:00,  7.46it/s]\n"
          ]
        },
        {
          "output_type": "stream",
          "name": "stdout",
          "text": [
            "Train Loss : 0.0348, Validation Loss: 0.1243\n",
            "Validation loss improved from 0.1535--->0.1243\n",
            "Saved Checkpoint to 'bilstm_glove_embeddings_v2/bilstm_glove_embeddings_v2_epoch3_loss0.1243.pt'\n"
          ]
        },
        {
          "output_type": "stream",
          "name": "stderr",
          "text": [
            "Epoch 5/50: 100%|██████████| 54/54 [00:04<00:00, 10.93it/s]\n"
          ]
        },
        {
          "output_type": "stream",
          "name": "stdout",
          "text": [
            "Train Loss : 0.0287, Validation Loss: 0.1087\n",
            "Validation loss improved from 0.1243--->0.1087\n",
            "Saved Checkpoint to 'bilstm_glove_embeddings_v2/bilstm_glove_embeddings_v2_epoch4_loss0.1087.pt'\n"
          ]
        },
        {
          "output_type": "stream",
          "name": "stderr",
          "text": [
            "Epoch 6/50: 100%|██████████| 54/54 [00:07<00:00,  7.29it/s]\n"
          ]
        },
        {
          "output_type": "stream",
          "name": "stdout",
          "text": [
            "Train Loss : 0.0251, Validation Loss: 0.1019\n",
            "Validation loss improved from 0.1087--->0.1019\n",
            "Saved Checkpoint to 'bilstm_glove_embeddings_v2/bilstm_glove_embeddings_v2_epoch5_loss0.1019.pt'\n"
          ]
        },
        {
          "output_type": "stream",
          "name": "stderr",
          "text": [
            "Epoch 7/50: 100%|██████████| 54/54 [00:05<00:00,  9.01it/s]\n"
          ]
        },
        {
          "output_type": "stream",
          "name": "stdout",
          "text": [
            "Train Loss : 0.0221, Validation Loss: 0.0929\n",
            "Validation loss improved from 0.1019--->0.0929\n",
            "Saved Checkpoint to 'bilstm_glove_embeddings_v2/bilstm_glove_embeddings_v2_epoch6_loss0.0929.pt'\n"
          ]
        },
        {
          "output_type": "stream",
          "name": "stderr",
          "text": [
            "Epoch 8/50: 100%|██████████| 54/54 [00:07<00:00,  7.67it/s]\n"
          ]
        },
        {
          "output_type": "stream",
          "name": "stdout",
          "text": [
            "Train Loss : 0.0201, Validation Loss: 0.0911\n",
            "Validation loss improved from 0.0929--->0.0911\n",
            "Saved Checkpoint to 'bilstm_glove_embeddings_v2/bilstm_glove_embeddings_v2_epoch7_loss0.0911.pt'\n"
          ]
        },
        {
          "output_type": "stream",
          "name": "stderr",
          "text": [
            "Epoch 9/50: 100%|██████████| 54/54 [00:05<00:00,  9.50it/s]\n"
          ]
        },
        {
          "output_type": "stream",
          "name": "stdout",
          "text": [
            "Train Loss : 0.0181, Validation Loss: 0.0846\n",
            "Validation loss improved from 0.0911--->0.0846\n",
            "Saved Checkpoint to 'bilstm_glove_embeddings_v2/bilstm_glove_embeddings_v2_epoch8_loss0.0846.pt'\n"
          ]
        },
        {
          "output_type": "stream",
          "name": "stderr",
          "text": [
            "Epoch 10/50: 100%|██████████| 54/54 [00:07<00:00,  7.59it/s]\n"
          ]
        },
        {
          "output_type": "stream",
          "name": "stdout",
          "text": [
            "Train Loss : 0.0167, Validation Loss: 0.0824\n",
            "Validation loss improved from 0.0846--->0.0824\n",
            "Saved Checkpoint to 'bilstm_glove_embeddings_v2/bilstm_glove_embeddings_v2_epoch9_loss0.0824.pt'\n"
          ]
        },
        {
          "output_type": "stream",
          "name": "stderr",
          "text": [
            "Epoch 11/50: 100%|██████████| 54/54 [00:05<00:00,  9.61it/s]\n"
          ]
        },
        {
          "output_type": "stream",
          "name": "stdout",
          "text": [
            "Train Loss : 0.0152, Validation Loss: 0.0789\n",
            "Validation loss improved from 0.0824--->0.0789\n",
            "Saved Checkpoint to 'bilstm_glove_embeddings_v2/bilstm_glove_embeddings_v2_epoch10_loss0.0789.pt'\n"
          ]
        },
        {
          "output_type": "stream",
          "name": "stderr",
          "text": [
            "Epoch 12/50: 100%|██████████| 54/54 [00:06<00:00,  8.10it/s]\n"
          ]
        },
        {
          "output_type": "stream",
          "name": "stdout",
          "text": [
            "Train Loss : 0.0137, Validation Loss: 0.0799\n"
          ]
        },
        {
          "output_type": "stream",
          "name": "stderr",
          "text": [
            "Epoch 13/50: 100%|██████████| 54/54 [00:07<00:00,  6.80it/s]\n"
          ]
        },
        {
          "output_type": "stream",
          "name": "stdout",
          "text": [
            "Train Loss : 0.0124, Validation Loss: 0.0763\n",
            "Validation loss improved from 0.0789--->0.0763\n",
            "Saved Checkpoint to 'bilstm_glove_embeddings_v2/bilstm_glove_embeddings_v2_epoch12_loss0.0763.pt'\n"
          ]
        },
        {
          "output_type": "stream",
          "name": "stderr",
          "text": [
            "Epoch 14/50: 100%|██████████| 54/54 [00:06<00:00,  8.46it/s]\n"
          ]
        },
        {
          "output_type": "stream",
          "name": "stdout",
          "text": [
            "Train Loss : 0.0111, Validation Loss: 0.0793\n"
          ]
        },
        {
          "output_type": "stream",
          "name": "stderr",
          "text": [
            "Epoch 15/50: 100%|██████████| 54/54 [00:05<00:00,  9.05it/s]\n"
          ]
        },
        {
          "output_type": "stream",
          "name": "stdout",
          "text": [
            "Train Loss : 0.0104, Validation Loss: 0.0796\n"
          ]
        },
        {
          "output_type": "stream",
          "name": "stderr",
          "text": [
            "Epoch 16/50: 100%|██████████| 54/54 [00:05<00:00, 10.49it/s]\n"
          ]
        },
        {
          "output_type": "stream",
          "name": "stdout",
          "text": [
            "Train Loss : 0.0089, Validation Loss: 0.0839\n"
          ]
        },
        {
          "output_type": "stream",
          "name": "stderr",
          "text": [
            "Epoch 17/50: 100%|██████████| 54/54 [00:06<00:00,  8.39it/s]\n"
          ]
        },
        {
          "output_type": "stream",
          "name": "stdout",
          "text": [
            "Train Loss : 0.0082, Validation Loss: 0.0807\n"
          ]
        },
        {
          "output_type": "stream",
          "name": "stderr",
          "text": [
            "Epoch 18/50: 100%|██████████| 54/54 [00:04<00:00, 11.08it/s]\n"
          ]
        },
        {
          "output_type": "stream",
          "name": "stdout",
          "text": [
            "Train Loss : 0.0075, Validation Loss: 0.0887\n"
          ]
        },
        {
          "output_type": "stream",
          "name": "stderr",
          "text": [
            "Epoch 19/50: 100%|██████████| 54/54 [00:06<00:00,  8.87it/s]\n"
          ]
        },
        {
          "output_type": "stream",
          "name": "stdout",
          "text": [
            "Train Loss : 0.0065, Validation Loss: 0.0881\n"
          ]
        },
        {
          "output_type": "stream",
          "name": "stderr",
          "text": [
            "Epoch 20/50: 100%|██████████| 54/54 [00:05<00:00, 10.05it/s]\n"
          ]
        },
        {
          "output_type": "stream",
          "name": "stdout",
          "text": [
            "Train Loss : 0.0057, Validation Loss: 0.0902\n"
          ]
        },
        {
          "output_type": "stream",
          "name": "stderr",
          "text": [
            "Epoch 21/50: 100%|██████████| 54/54 [00:04<00:00, 11.49it/s]\n"
          ]
        },
        {
          "output_type": "stream",
          "name": "stdout",
          "text": [
            "Train Loss : 0.0051, Validation Loss: 0.0884\n"
          ]
        },
        {
          "output_type": "stream",
          "name": "stderr",
          "text": [
            "Epoch 22/50: 100%|██████████| 54/54 [00:06<00:00,  8.10it/s]\n"
          ]
        },
        {
          "output_type": "stream",
          "name": "stdout",
          "text": [
            "Train Loss : 0.0045, Validation Loss: 0.0926\n"
          ]
        },
        {
          "output_type": "stream",
          "name": "stderr",
          "text": [
            "Epoch 23/50: 100%|██████████| 54/54 [00:04<00:00, 11.22it/s]\n"
          ]
        },
        {
          "output_type": "stream",
          "name": "stdout",
          "text": [
            "Train Loss : 0.004, Validation Loss: 0.0991\n"
          ]
        },
        {
          "output_type": "stream",
          "name": "stderr",
          "text": [
            "Epoch 24/50: 100%|██████████| 54/54 [00:07<00:00,  7.70it/s]\n"
          ]
        },
        {
          "output_type": "stream",
          "name": "stdout",
          "text": [
            "Train Loss : 0.0038, Validation Loss: 0.1022\n"
          ]
        },
        {
          "output_type": "stream",
          "name": "stderr",
          "text": [
            "Epoch 25/50: 100%|██████████| 54/54 [00:06<00:00,  7.92it/s]\n"
          ]
        },
        {
          "output_type": "stream",
          "name": "stdout",
          "text": [
            "Train Loss : 0.0036, Validation Loss: 0.0987\n"
          ]
        },
        {
          "output_type": "stream",
          "name": "stderr",
          "text": [
            "Epoch 26/50: 100%|██████████| 54/54 [00:04<00:00, 11.25it/s]\n"
          ]
        },
        {
          "output_type": "stream",
          "name": "stdout",
          "text": [
            "Train Loss : 0.0033, Validation Loss: 0.1046\n"
          ]
        },
        {
          "output_type": "stream",
          "name": "stderr",
          "text": [
            "Epoch 27/50: 100%|██████████| 54/54 [00:06<00:00,  8.92it/s]\n"
          ]
        },
        {
          "output_type": "stream",
          "name": "stdout",
          "text": [
            "Train Loss : 0.0027, Validation Loss: 0.1069\n"
          ]
        },
        {
          "output_type": "stream",
          "name": "stderr",
          "text": [
            "Epoch 28/50: 100%|██████████| 54/54 [00:05<00:00, 10.06it/s]\n"
          ]
        },
        {
          "output_type": "stream",
          "name": "stdout",
          "text": [
            "Train Loss : 0.0023, Validation Loss: 0.1173\n",
            "No improvement for 15 epochs. Stopping early.\n",
            "Saved best model to 'bilstm_glove_embeddings_v2/bilstm_glove_embeddings_v2-best.pt'\n",
            "time: 3min 28s (started: 2023-11-11 01:31:21 +00:00)\n"
          ]
        }
      ]
    },
    {
      "cell_type": "markdown",
      "source": [
        "Evaluate model on Validation set"
      ],
      "metadata": {
        "id": "QPmfe8Jv3KaY"
      }
    },
    {
      "cell_type": "code",
      "source": [
        "precision, recall, f1 = evaluate_model(best_model_glove, valid_data_loader, device)\n",
        "print(f'Precision: {precision:.2f}, Recall: {recall:.2f}, F1 Score: {f1:.2f}')"
      ],
      "metadata": {
        "colab": {
          "base_uri": "https://localhost:8080/",
          "height": 0
        },
        "outputId": "bff6f99d-f0bf-40cd-887b-f50aeace1d25",
        "id": "jNBgkyyU3Kae"
      },
      "execution_count": 81,
      "outputs": [
        {
          "output_type": "stream",
          "name": "stderr",
          "text": [
            "100%|██████████| 51/51 [00:01<00:00, 36.51it/s]\n"
          ]
        },
        {
          "output_type": "stream",
          "name": "stdout",
          "text": [
            "processed 51362 tokens with 5942 phrases; found: 5939 phrases; correct: 5201.\n",
            "accuracy:  87.32%; (non-O)\n",
            "accuracy:  97.41%; precision:  87.57%; recall:  87.53%; FB1:  87.55\n",
            "              LOC: precision:  90.43%; recall:  93.14%; FB1:  91.77  1892\n",
            "             MISC: precision:  81.57%; recall:  77.77%; FB1:  79.62  879\n",
            "              ORG: precision:  79.33%; recall:  77.85%; FB1:  78.58  1316\n",
            "              PER: precision:  93.36%; recall:  93.87%; FB1:  93.61  1852\n",
            "Precision: 87.57, Recall: 87.53, F1 Score: 87.55\n",
            "time: 1.59 s (started: 2023-11-11 01:36:07 +00:00)\n"
          ]
        }
      ]
    },
    {
      "cell_type": "markdown",
      "source": [
        "Evaluate model on Test set"
      ],
      "metadata": {
        "id": "SziOsxdO3Kaf"
      }
    },
    {
      "cell_type": "code",
      "source": [
        "precision, recall, f1 = evaluate_model(best_model_glove, test_data_loader, device)\n",
        "print(f'Precision: {precision:.2f}, Recall: {recall:.2f}, F1 Score: {f1:.2f}')"
      ],
      "metadata": {
        "colab": {
          "base_uri": "https://localhost:8080/",
          "height": 0
        },
        "outputId": "607cf564-c2db-466c-b316-d55551544bd6",
        "id": "XjmIOw203Kaf"
      },
      "execution_count": 82,
      "outputs": [
        {
          "output_type": "stream",
          "name": "stderr",
          "text": [
            "100%|██████████| 108/108 [00:01<00:00, 91.99it/s] \n"
          ]
        },
        {
          "output_type": "stream",
          "name": "stdout",
          "text": [
            "processed 46435 tokens with 5648 phrases; found: 5700 phrases; correct: 4727.\n",
            "accuracy:  85.22%; (non-O)\n",
            "accuracy:  96.53%; precision:  82.93%; recall:  83.69%; FB1:  83.31\n",
            "              LOC: precision:  83.96%; recall:  89.75%; FB1:  86.76  1783\n",
            "             MISC: precision:  70.70%; recall:  69.09%; FB1:  69.88  686\n",
            "              ORG: precision:  78.51%; recall:  77.42%; FB1:  77.96  1638\n",
            "              PER: precision:  91.59%; recall:  90.23%; FB1:  90.90  1593\n",
            "Precision: 82.93, Recall: 83.69, F1 Score: 83.31\n",
            "time: 1.28 s (started: 2023-11-11 01:36:14 +00:00)\n"
          ]
        }
      ]
    },
    {
      "cell_type": "markdown",
      "source": [
        "## Transformer Encoder + Custom Embeddings"
      ],
      "metadata": {
        "id": "yTcK2PzWh64U"
      }
    },
    {
      "cell_type": "code",
      "source": [
        "train_dataset = NERDatasetCustom(\n",
        "    dataset = dataset,\n",
        "    split='train',\n",
        "    tokenizer = word2idx,\n",
        "    embedding_type=\"transformer\",\n",
        ")\n",
        "\n",
        "valid_dataset = NERDatasetCustom(\n",
        "    dataset = dataset,\n",
        "    split='validation',\n",
        "    tokenizer = word2idx,\n",
        "    embedding_type=\"transformer\",\n",
        ")\n",
        "\n",
        "test_dataset = NERDatasetCustom(\n",
        "    dataset = dataset,\n",
        "    split='test',\n",
        "    tokenizer = word2idx,\n",
        "    embedding_type=\"transformer\",\n",
        ")\n",
        "\n",
        "train_data_loader = DataLoader(\n",
        "    train_dataset,\n",
        "    batch_size=TRAIN_BATCH_SIZE,\n",
        "    drop_last=True,\n",
        "    shuffle=True,\n",
        "    collate_fn=lambda x: collate_fn_transformer(x, word2idx)\n",
        ")\n",
        "\n",
        "valid_data_loader = DataLoader(\n",
        "    valid_dataset,\n",
        "    batch_size=VALID_BATCH_SIZE,\n",
        "    drop_last=False,\n",
        "    shuffle=True,\n",
        "    collate_fn=lambda x: collate_fn_transformer(x, word2idx)\n",
        ")\n",
        "\n",
        "test_data_loader = DataLoader(\n",
        "    test_dataset,\n",
        "    batch_size=TEST_BATCH_SIZE,\n",
        "    drop_last=False,\n",
        "    shuffle=False,\n",
        "    collate_fn=lambda x: collate_fn_transformer(x, word2idx)\n",
        ")"
      ],
      "metadata": {
        "colab": {
          "base_uri": "https://localhost:8080/",
          "height": 0
        },
        "id": "C5P0ZXunb0sA",
        "outputId": "26d46f52-8f94-4013-b6e7-a7d126d5199a"
      },
      "execution_count": 83,
      "outputs": [
        {
          "output_type": "stream",
          "name": "stdout",
          "text": [
            "time: 1.4 ms (started: 2023-11-11 01:37:02 +00:00)\n"
          ]
        }
      ]
    },
    {
      "cell_type": "code",
      "source": [
        "vocab_size = len(word2idx)\n",
        "embedding_dim = 128\n",
        "num_attention_heads = 8\n",
        "num_encoder_layers = 6\n",
        "num_classes = DatasetConfig.NUM_NER_TAGS\n",
        "max_len = 128  # Sequence max length\n",
        "\n",
        "net_with_transformer = TransformerNER(\n",
        "    vocab_size, embedding_dim, num_attention_heads,\n",
        "    num_encoder_layers, num_classes, max_len\n",
        ").to(device)\n",
        "\n",
        "# Define the loss function and optimizer\n",
        "criterion = nn.CrossEntropyLoss(ignore_index=DatasetConfig.SPECIAL_TOKEN_TAG).to(device)\n",
        "optimizer = optim.AdamW(net_with_transformer.parameters(), lr=0.0001, betas=(0.9, 0.98), eps=1e-9)\n",
        "\n",
        "# Train the Transformer model\n",
        "best_model_transformer = train_and_evaluate(\n",
        "    model=net_with_transformer,\n",
        "    train_data_loader=train_data_loader,\n",
        "    valid_data_loader=valid_data_loader,\n",
        "    optimizer=optimizer,\n",
        "    loss_fn=criterion,\n",
        "    device=device,\n",
        "    num_epochs=100,\n",
        "    checkpoint=True,\n",
        "    path=\"transformer_enc_model_v2.pt\",\n",
        "    early_stopping_patience=15,\n",
        "    model_type=\"transformer\"\n",
        ")"
      ],
      "metadata": {
        "id": "-TbPIRT8hhvt",
        "colab": {
          "base_uri": "https://localhost:8080/",
          "height": 0
        },
        "outputId": "e9e4adbb-f2ee-4dc4-e360-b35e396e72b7"
      },
      "execution_count": 84,
      "outputs": [
        {
          "output_type": "stream",
          "name": "stderr",
          "text": [
            "Epoch 1/100: 100%|██████████| 54/54 [00:12<00:00,  4.22it/s]\n"
          ]
        },
        {
          "output_type": "stream",
          "name": "stdout",
          "text": [
            "Train Loss : 0.1591, Validation Loss: 0.5736\n",
            "Validation loss improved from inf--->0.5736\n",
            "Saved Checkpoint to 'transformer_enc_model_v2/transformer_enc_model_v2_epoch0_loss0.5736.pt'\n"
          ]
        },
        {
          "output_type": "stream",
          "name": "stderr",
          "text": [
            "Epoch 2/100: 100%|██████████| 54/54 [00:13<00:00,  4.13it/s]\n"
          ]
        },
        {
          "output_type": "stream",
          "name": "stdout",
          "text": [
            "Train Loss : 0.1417, Validation Loss: 0.5256\n",
            "Validation loss improved from 0.5736--->0.5256\n",
            "Saved Checkpoint to 'transformer_enc_model_v2/transformer_enc_model_v2_epoch1_loss0.5256.pt'\n"
          ]
        },
        {
          "output_type": "stream",
          "name": "stderr",
          "text": [
            "Epoch 3/100: 100%|██████████| 54/54 [00:13<00:00,  4.11it/s]\n"
          ]
        },
        {
          "output_type": "stream",
          "name": "stdout",
          "text": [
            "Train Loss : 0.1292, Validation Loss: 0.4898\n",
            "Validation loss improved from 0.5256--->0.4898\n",
            "Saved Checkpoint to 'transformer_enc_model_v2/transformer_enc_model_v2_epoch2_loss0.4898.pt'\n"
          ]
        },
        {
          "output_type": "stream",
          "name": "stderr",
          "text": [
            "Epoch 4/100: 100%|██████████| 54/54 [00:13<00:00,  4.12it/s]\n"
          ]
        },
        {
          "output_type": "stream",
          "name": "stdout",
          "text": [
            "Train Loss : 0.116, Validation Loss: 0.4313\n",
            "Validation loss improved from 0.4898--->0.4313\n",
            "Saved Checkpoint to 'transformer_enc_model_v2/transformer_enc_model_v2_epoch3_loss0.4313.pt'\n"
          ]
        },
        {
          "output_type": "stream",
          "name": "stderr",
          "text": [
            "Epoch 5/100: 100%|██████████| 54/54 [00:13<00:00,  4.12it/s]\n"
          ]
        },
        {
          "output_type": "stream",
          "name": "stdout",
          "text": [
            "Train Loss : 0.1075, Validation Loss: 0.4164\n",
            "Validation loss improved from 0.4313--->0.4164\n",
            "Saved Checkpoint to 'transformer_enc_model_v2/transformer_enc_model_v2_epoch4_loss0.4164.pt'\n"
          ]
        },
        {
          "output_type": "stream",
          "name": "stderr",
          "text": [
            "Epoch 6/100: 100%|██████████| 54/54 [00:12<00:00,  4.19it/s]\n"
          ]
        },
        {
          "output_type": "stream",
          "name": "stdout",
          "text": [
            "Train Loss : 0.1008, Validation Loss: 0.3844\n",
            "Validation loss improved from 0.4164--->0.3844\n",
            "Saved Checkpoint to 'transformer_enc_model_v2/transformer_enc_model_v2_epoch5_loss0.3844.pt'\n"
          ]
        },
        {
          "output_type": "stream",
          "name": "stderr",
          "text": [
            "Epoch 7/100: 100%|██████████| 54/54 [00:12<00:00,  4.27it/s]\n"
          ]
        },
        {
          "output_type": "stream",
          "name": "stdout",
          "text": [
            "Train Loss : 0.0943, Validation Loss: 0.3598\n",
            "Validation loss improved from 0.3844--->0.3598\n",
            "Saved Checkpoint to 'transformer_enc_model_v2/transformer_enc_model_v2_epoch6_loss0.3598.pt'\n"
          ]
        },
        {
          "output_type": "stream",
          "name": "stderr",
          "text": [
            "Epoch 8/100: 100%|██████████| 54/54 [00:12<00:00,  4.20it/s]\n"
          ]
        },
        {
          "output_type": "stream",
          "name": "stdout",
          "text": [
            "Train Loss : 0.0901, Validation Loss: 0.3574\n",
            "Validation loss improved from 0.3598--->0.3574\n",
            "Saved Checkpoint to 'transformer_enc_model_v2/transformer_enc_model_v2_epoch7_loss0.3574.pt'\n"
          ]
        },
        {
          "output_type": "stream",
          "name": "stderr",
          "text": [
            "Epoch 9/100: 100%|██████████| 54/54 [00:13<00:00,  4.05it/s]\n"
          ]
        },
        {
          "output_type": "stream",
          "name": "stdout",
          "text": [
            "Train Loss : 0.0839, Validation Loss: 0.334\n",
            "Validation loss improved from 0.3574--->0.3340\n",
            "Saved Checkpoint to 'transformer_enc_model_v2/transformer_enc_model_v2_epoch8_loss0.3340.pt'\n"
          ]
        },
        {
          "output_type": "stream",
          "name": "stderr",
          "text": [
            "Epoch 10/100: 100%|██████████| 54/54 [00:13<00:00,  3.91it/s]\n"
          ]
        },
        {
          "output_type": "stream",
          "name": "stdout",
          "text": [
            "Train Loss : 0.0808, Validation Loss: 0.3261\n",
            "Validation loss improved from 0.3340--->0.3261\n",
            "Saved Checkpoint to 'transformer_enc_model_v2/transformer_enc_model_v2_epoch9_loss0.3261.pt'\n"
          ]
        },
        {
          "output_type": "stream",
          "name": "stderr",
          "text": [
            "Epoch 11/100: 100%|██████████| 54/54 [00:13<00:00,  4.13it/s]\n"
          ]
        },
        {
          "output_type": "stream",
          "name": "stdout",
          "text": [
            "Train Loss : 0.0762, Validation Loss: 0.3111\n",
            "Validation loss improved from 0.3261--->0.3111\n",
            "Saved Checkpoint to 'transformer_enc_model_v2/transformer_enc_model_v2_epoch10_loss0.3111.pt'\n"
          ]
        },
        {
          "output_type": "stream",
          "name": "stderr",
          "text": [
            "Epoch 12/100: 100%|██████████| 54/54 [00:12<00:00,  4.23it/s]\n"
          ]
        },
        {
          "output_type": "stream",
          "name": "stdout",
          "text": [
            "Train Loss : 0.0722, Validation Loss: 0.2996\n",
            "Validation loss improved from 0.3111--->0.2996\n",
            "Saved Checkpoint to 'transformer_enc_model_v2/transformer_enc_model_v2_epoch11_loss0.2996.pt'\n"
          ]
        },
        {
          "output_type": "stream",
          "name": "stderr",
          "text": [
            "Epoch 13/100: 100%|██████████| 54/54 [00:12<00:00,  4.25it/s]\n"
          ]
        },
        {
          "output_type": "stream",
          "name": "stdout",
          "text": [
            "Train Loss : 0.0697, Validation Loss: 0.2951\n",
            "Validation loss improved from 0.2996--->0.2951\n",
            "Saved Checkpoint to 'transformer_enc_model_v2/transformer_enc_model_v2_epoch12_loss0.2951.pt'\n"
          ]
        },
        {
          "output_type": "stream",
          "name": "stderr",
          "text": [
            "Epoch 14/100: 100%|██████████| 54/54 [00:12<00:00,  4.22it/s]\n"
          ]
        },
        {
          "output_type": "stream",
          "name": "stdout",
          "text": [
            "Train Loss : 0.0667, Validation Loss: 0.2875\n",
            "Validation loss improved from 0.2951--->0.2875\n",
            "Saved Checkpoint to 'transformer_enc_model_v2/transformer_enc_model_v2_epoch13_loss0.2875.pt'\n"
          ]
        },
        {
          "output_type": "stream",
          "name": "stderr",
          "text": [
            "Epoch 15/100: 100%|██████████| 54/54 [00:14<00:00,  3.81it/s]\n"
          ]
        },
        {
          "output_type": "stream",
          "name": "stdout",
          "text": [
            "Train Loss : 0.0631, Validation Loss: 0.2806\n",
            "Validation loss improved from 0.2875--->0.2806\n",
            "Saved Checkpoint to 'transformer_enc_model_v2/transformer_enc_model_v2_epoch14_loss0.2806.pt'\n"
          ]
        },
        {
          "output_type": "stream",
          "name": "stderr",
          "text": [
            "Epoch 16/100: 100%|██████████| 54/54 [00:13<00:00,  4.12it/s]\n"
          ]
        },
        {
          "output_type": "stream",
          "name": "stdout",
          "text": [
            "Train Loss : 0.0606, Validation Loss: 0.2704\n",
            "Validation loss improved from 0.2806--->0.2704\n",
            "Saved Checkpoint to 'transformer_enc_model_v2/transformer_enc_model_v2_epoch15_loss0.2704.pt'\n"
          ]
        },
        {
          "output_type": "stream",
          "name": "stderr",
          "text": [
            "Epoch 17/100: 100%|██████████| 54/54 [00:12<00:00,  4.25it/s]\n"
          ]
        },
        {
          "output_type": "stream",
          "name": "stdout",
          "text": [
            "Train Loss : 0.0581, Validation Loss: 0.2639\n",
            "Validation loss improved from 0.2704--->0.2639\n",
            "Saved Checkpoint to 'transformer_enc_model_v2/transformer_enc_model_v2_epoch16_loss0.2639.pt'\n"
          ]
        },
        {
          "output_type": "stream",
          "name": "stderr",
          "text": [
            "Epoch 18/100: 100%|██████████| 54/54 [00:12<00:00,  4.27it/s]\n"
          ]
        },
        {
          "output_type": "stream",
          "name": "stdout",
          "text": [
            "Train Loss : 0.0562, Validation Loss: 0.2658\n"
          ]
        },
        {
          "output_type": "stream",
          "name": "stderr",
          "text": [
            "Epoch 19/100: 100%|██████████| 54/54 [00:12<00:00,  4.20it/s]\n"
          ]
        },
        {
          "output_type": "stream",
          "name": "stdout",
          "text": [
            "Train Loss : 0.0544, Validation Loss: 0.2652\n"
          ]
        },
        {
          "output_type": "stream",
          "name": "stderr",
          "text": [
            "Epoch 20/100: 100%|██████████| 54/54 [00:13<00:00,  4.10it/s]\n"
          ]
        },
        {
          "output_type": "stream",
          "name": "stdout",
          "text": [
            "Train Loss : 0.0521, Validation Loss: 0.2476\n",
            "Validation loss improved from 0.2639--->0.2476\n",
            "Saved Checkpoint to 'transformer_enc_model_v2/transformer_enc_model_v2_epoch19_loss0.2476.pt'\n"
          ]
        },
        {
          "output_type": "stream",
          "name": "stderr",
          "text": [
            "Epoch 21/100: 100%|██████████| 54/54 [00:13<00:00,  4.09it/s]\n"
          ]
        },
        {
          "output_type": "stream",
          "name": "stdout",
          "text": [
            "Train Loss : 0.0511, Validation Loss: 0.2509\n"
          ]
        },
        {
          "output_type": "stream",
          "name": "stderr",
          "text": [
            "Epoch 22/100: 100%|██████████| 54/54 [00:13<00:00,  4.13it/s]\n"
          ]
        },
        {
          "output_type": "stream",
          "name": "stdout",
          "text": [
            "Train Loss : 0.0489, Validation Loss: 0.254\n"
          ]
        },
        {
          "output_type": "stream",
          "name": "stderr",
          "text": [
            "Epoch 23/100: 100%|██████████| 54/54 [00:12<00:00,  4.25it/s]\n"
          ]
        },
        {
          "output_type": "stream",
          "name": "stdout",
          "text": [
            "Train Loss : 0.0478, Validation Loss: 0.2507\n"
          ]
        },
        {
          "output_type": "stream",
          "name": "stderr",
          "text": [
            "Epoch 24/100: 100%|██████████| 54/54 [00:13<00:00,  3.96it/s]\n"
          ]
        },
        {
          "output_type": "stream",
          "name": "stdout",
          "text": [
            "Train Loss : 0.0471, Validation Loss: 0.2478\n"
          ]
        },
        {
          "output_type": "stream",
          "name": "stderr",
          "text": [
            "Epoch 25/100: 100%|██████████| 54/54 [00:12<00:00,  4.22it/s]\n"
          ]
        },
        {
          "output_type": "stream",
          "name": "stdout",
          "text": [
            "Train Loss : 0.0457, Validation Loss: 0.2485\n"
          ]
        },
        {
          "output_type": "stream",
          "name": "stderr",
          "text": [
            "Epoch 26/100: 100%|██████████| 54/54 [00:13<00:00,  4.10it/s]\n"
          ]
        },
        {
          "output_type": "stream",
          "name": "stdout",
          "text": [
            "Train Loss : 0.0459, Validation Loss: 0.2486\n"
          ]
        },
        {
          "output_type": "stream",
          "name": "stderr",
          "text": [
            "Epoch 27/100: 100%|██████████| 54/54 [00:13<00:00,  4.12it/s]\n"
          ]
        },
        {
          "output_type": "stream",
          "name": "stdout",
          "text": [
            "Train Loss : 0.0443, Validation Loss: 0.2381\n",
            "Validation loss improved from 0.2476--->0.2381\n",
            "Saved Checkpoint to 'transformer_enc_model_v2/transformer_enc_model_v2_epoch26_loss0.2381.pt'\n"
          ]
        },
        {
          "output_type": "stream",
          "name": "stderr",
          "text": [
            "Epoch 28/100: 100%|██████████| 54/54 [00:13<00:00,  4.09it/s]\n"
          ]
        },
        {
          "output_type": "stream",
          "name": "stdout",
          "text": [
            "Train Loss : 0.0439, Validation Loss: 0.2476\n"
          ]
        },
        {
          "output_type": "stream",
          "name": "stderr",
          "text": [
            "Epoch 29/100: 100%|██████████| 54/54 [00:13<00:00,  3.91it/s]\n"
          ]
        },
        {
          "output_type": "stream",
          "name": "stdout",
          "text": [
            "Train Loss : 0.0433, Validation Loss: 0.2404\n"
          ]
        },
        {
          "output_type": "stream",
          "name": "stderr",
          "text": [
            "Epoch 30/100: 100%|██████████| 54/54 [00:12<00:00,  4.28it/s]\n"
          ]
        },
        {
          "output_type": "stream",
          "name": "stdout",
          "text": [
            "Train Loss : 0.0426, Validation Loss: 0.2395\n"
          ]
        },
        {
          "output_type": "stream",
          "name": "stderr",
          "text": [
            "Epoch 31/100: 100%|██████████| 54/54 [00:12<00:00,  4.21it/s]\n"
          ]
        },
        {
          "output_type": "stream",
          "name": "stdout",
          "text": [
            "Train Loss : 0.042, Validation Loss: 0.2418\n"
          ]
        },
        {
          "output_type": "stream",
          "name": "stderr",
          "text": [
            "Epoch 32/100: 100%|██████████| 54/54 [00:13<00:00,  4.11it/s]\n"
          ]
        },
        {
          "output_type": "stream",
          "name": "stdout",
          "text": [
            "Train Loss : 0.0415, Validation Loss: 0.2432\n"
          ]
        },
        {
          "output_type": "stream",
          "name": "stderr",
          "text": [
            "Epoch 33/100: 100%|██████████| 54/54 [00:13<00:00,  4.11it/s]\n"
          ]
        },
        {
          "output_type": "stream",
          "name": "stdout",
          "text": [
            "Train Loss : 0.0411, Validation Loss: 0.2345\n",
            "Validation loss improved from 0.2381--->0.2345\n",
            "Saved Checkpoint to 'transformer_enc_model_v2/transformer_enc_model_v2_epoch32_loss0.2345.pt'\n"
          ]
        },
        {
          "output_type": "stream",
          "name": "stderr",
          "text": [
            "Epoch 34/100: 100%|██████████| 54/54 [00:13<00:00,  4.09it/s]\n"
          ]
        },
        {
          "output_type": "stream",
          "name": "stdout",
          "text": [
            "Train Loss : 0.0413, Validation Loss: 0.2455\n"
          ]
        },
        {
          "output_type": "stream",
          "name": "stderr",
          "text": [
            "Epoch 35/100: 100%|██████████| 54/54 [00:12<00:00,  4.29it/s]\n"
          ]
        },
        {
          "output_type": "stream",
          "name": "stdout",
          "text": [
            "Train Loss : 0.0401, Validation Loss: 0.2391\n"
          ]
        },
        {
          "output_type": "stream",
          "name": "stderr",
          "text": [
            "Epoch 36/100: 100%|██████████| 54/54 [00:12<00:00,  4.27it/s]\n"
          ]
        },
        {
          "output_type": "stream",
          "name": "stdout",
          "text": [
            "Train Loss : 0.0405, Validation Loss: 0.2445\n"
          ]
        },
        {
          "output_type": "stream",
          "name": "stderr",
          "text": [
            "Epoch 37/100: 100%|██████████| 54/54 [00:12<00:00,  4.16it/s]\n"
          ]
        },
        {
          "output_type": "stream",
          "name": "stdout",
          "text": [
            "Train Loss : 0.0402, Validation Loss: 0.2394\n"
          ]
        },
        {
          "output_type": "stream",
          "name": "stderr",
          "text": [
            "Epoch 38/100: 100%|██████████| 54/54 [00:12<00:00,  4.17it/s]\n"
          ]
        },
        {
          "output_type": "stream",
          "name": "stdout",
          "text": [
            "Train Loss : 0.0389, Validation Loss: 0.2452\n"
          ]
        },
        {
          "output_type": "stream",
          "name": "stderr",
          "text": [
            "Epoch 39/100: 100%|██████████| 54/54 [00:14<00:00,  3.84it/s]\n"
          ]
        },
        {
          "output_type": "stream",
          "name": "stdout",
          "text": [
            "Train Loss : 0.0394, Validation Loss: 0.2358\n"
          ]
        },
        {
          "output_type": "stream",
          "name": "stderr",
          "text": [
            "Epoch 40/100: 100%|██████████| 54/54 [00:12<00:00,  4.16it/s]\n"
          ]
        },
        {
          "output_type": "stream",
          "name": "stdout",
          "text": [
            "Train Loss : 0.039, Validation Loss: 0.2428\n"
          ]
        },
        {
          "output_type": "stream",
          "name": "stderr",
          "text": [
            "Epoch 41/100: 100%|██████████| 54/54 [00:12<00:00,  4.25it/s]\n"
          ]
        },
        {
          "output_type": "stream",
          "name": "stdout",
          "text": [
            "Train Loss : 0.0392, Validation Loss: 0.2422\n"
          ]
        },
        {
          "output_type": "stream",
          "name": "stderr",
          "text": [
            "Epoch 42/100: 100%|██████████| 54/54 [00:12<00:00,  4.28it/s]\n"
          ]
        },
        {
          "output_type": "stream",
          "name": "stdout",
          "text": [
            "Train Loss : 0.0384, Validation Loss: 0.2378\n"
          ]
        },
        {
          "output_type": "stream",
          "name": "stderr",
          "text": [
            "Epoch 43/100: 100%|██████████| 54/54 [00:12<00:00,  4.17it/s]\n"
          ]
        },
        {
          "output_type": "stream",
          "name": "stdout",
          "text": [
            "Train Loss : 0.0386, Validation Loss: 0.2403\n"
          ]
        },
        {
          "output_type": "stream",
          "name": "stderr",
          "text": [
            "Epoch 44/100: 100%|██████████| 54/54 [00:14<00:00,  3.72it/s]\n"
          ]
        },
        {
          "output_type": "stream",
          "name": "stdout",
          "text": [
            "Train Loss : 0.0382, Validation Loss: 0.2356\n"
          ]
        },
        {
          "output_type": "stream",
          "name": "stderr",
          "text": [
            "Epoch 45/100: 100%|██████████| 54/54 [00:12<00:00,  4.22it/s]\n"
          ]
        },
        {
          "output_type": "stream",
          "name": "stdout",
          "text": [
            "Train Loss : 0.0376, Validation Loss: 0.2382\n"
          ]
        },
        {
          "output_type": "stream",
          "name": "stderr",
          "text": [
            "Epoch 46/100: 100%|██████████| 54/54 [00:12<00:00,  4.26it/s]\n"
          ]
        },
        {
          "output_type": "stream",
          "name": "stdout",
          "text": [
            "Train Loss : 0.0381, Validation Loss: 0.2428\n"
          ]
        },
        {
          "output_type": "stream",
          "name": "stderr",
          "text": [
            "Epoch 47/100: 100%|██████████| 54/54 [00:12<00:00,  4.30it/s]\n"
          ]
        },
        {
          "output_type": "stream",
          "name": "stdout",
          "text": [
            "Train Loss : 0.0373, Validation Loss: 0.2379\n"
          ]
        },
        {
          "output_type": "stream",
          "name": "stderr",
          "text": [
            "Epoch 48/100: 100%|██████████| 54/54 [00:13<00:00,  4.12it/s]\n"
          ]
        },
        {
          "output_type": "stream",
          "name": "stdout",
          "text": [
            "Train Loss : 0.0377, Validation Loss: 0.2447\n",
            "No improvement for 15 epochs. Stopping early.\n",
            "Saved best model to 'transformer_enc_model_v2/transformer_enc_model_v2-best.pt'\n",
            "time: 11min 30s (started: 2023-11-11 01:37:49 +00:00)\n"
          ]
        }
      ]
    },
    {
      "cell_type": "markdown",
      "source": [
        "Evaluate model on Validation set"
      ],
      "metadata": {
        "id": "zQVIrsKx2-8H"
      }
    },
    {
      "cell_type": "code",
      "source": [
        "precision, recall, f1 = evaluate_model(\n",
        "    best_model_transformer, valid_data_loader, device, model_type=\"transformer\"\n",
        ")\n",
        "print(f'Precision: {precision:.2f}, Recall: {recall:.2f}, F1 Score: {f1:.2f}')"
      ],
      "metadata": {
        "colab": {
          "base_uri": "https://localhost:8080/",
          "height": 0
        },
        "id": "6A_u60qI2-k9",
        "outputId": "1ffd21c4-3151-47d5-e1b1-8efa2f92ebb3"
      },
      "execution_count": 85,
      "outputs": [
        {
          "output_type": "stream",
          "name": "stderr",
          "text": [
            "100%|██████████| 51/51 [00:02<00:00, 22.68it/s]\n"
          ]
        },
        {
          "output_type": "stream",
          "name": "stdout",
          "text": [
            "processed 51362 tokens with 5942 phrases; found: 4857 phrases; correct: 3132.\n",
            "accuracy:  53.28%; (non-O)\n",
            "accuracy:  92.05%; precision:  64.48%; recall:  52.71%; FB1:  58.01\n",
            "              LOC: precision:  81.53%; recall:  73.27%; FB1:  77.18  1651\n",
            "             MISC: precision:  71.82%; recall:  64.97%; FB1:  68.22  834\n",
            "              ORG: precision:  55.45%; recall:  47.80%; FB1:  51.34  1156\n",
            "              PER: precision:  44.90%; recall:  29.64%; FB1:  35.71  1216\n",
            "Precision: 64.48, Recall: 52.71, F1 Score: 58.01\n",
            "time: 2.45 s (started: 2023-11-11 01:50:22 +00:00)\n"
          ]
        }
      ]
    },
    {
      "cell_type": "markdown",
      "source": [
        "Evaluate model on Test set"
      ],
      "metadata": {
        "id": "WvMh1-Ru3DNe"
      }
    },
    {
      "cell_type": "code",
      "source": [
        "precision, recall, f1 = evaluate_model(\n",
        "    best_model_transformer, test_data_loader, device, model_type=\"transformer\"\n",
        ")\n",
        "print(f'Precision: {precision:.2f}, Recall: {recall:.2f}, F1 Score: {f1:.2f}')"
      ],
      "metadata": {
        "colab": {
          "base_uri": "https://localhost:8080/",
          "height": 0
        },
        "id": "d8ZcwNN42-T6",
        "outputId": "2d04504f-a980-45d3-bb3f-e6b0d784a38f"
      },
      "execution_count": 86,
      "outputs": [
        {
          "output_type": "stream",
          "name": "stderr",
          "text": [
            "100%|██████████| 108/108 [00:02<00:00, 50.06it/s]\n"
          ]
        },
        {
          "output_type": "stream",
          "name": "stdout",
          "text": [
            "processed 46435 tokens with 5648 phrases; found: 4029 phrases; correct: 2242.\n",
            "accuracy:  41.62%; (non-O)\n",
            "accuracy:  89.46%; precision:  55.65%; recall:  39.70%; FB1:  46.34\n",
            "              LOC: precision:  73.55%; recall:  65.53%; FB1:  69.31  1486\n",
            "             MISC: precision:  61.25%; recall:  57.41%; FB1:  59.26  658\n",
            "              ORG: precision:  49.25%; recall:  33.71%; FB1:  40.03  1137\n",
            "              PER: precision:  24.87%; recall:  11.50%; FB1:  15.73  748\n",
            "Precision: 55.65, Recall: 39.70, F1 Score: 46.34\n",
            "time: 2.34 s (started: 2023-11-11 01:50:32 +00:00)\n"
          ]
        }
      ]
    },
    {
      "cell_type": "markdown",
      "source": [
        "# References\n",
        "\n",
        "1. https://huggingface.co/datasets/conll2003\n",
        "2. https://huggingface.co/docs/datasets/installation\n",
        "3. https://huggingface.co/docs/transformers/installation\n",
        "4. https://stackoverflow.com/questions/37793118/load-pretrained-glove-vectors-in-python\n",
        "5. https://stackoverflow.com/a/52070223/12639940\n",
        "6. https://github.com/sighsmile/conlleval\n",
        "7. https://nlp.stanford.edu/data/glove.6B.zip\n",
        "8. https://stats.stackexchange.com/questions/248715/selection-of-values-for-padding-tokens-in-sentence-classification-with-word-embe\n",
        "9. https://pytorch.org/tutorials/beginner/translation_transformer.html\n",
        "\n"
      ],
      "metadata": {
        "id": "wSY-BBYUmqV0"
      }
    },
    {
      "cell_type": "markdown",
      "source": [
        "# THE END"
      ],
      "metadata": {
        "id": "XHYrQl4FS4U-"
      }
    }
  ]
}